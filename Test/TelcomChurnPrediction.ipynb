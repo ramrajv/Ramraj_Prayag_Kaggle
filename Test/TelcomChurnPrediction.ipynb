{
  "cells": [
    {
      "cell_type": "markdown",
      "metadata": {
        "id": "view-in-github",
        "colab_type": "text"
      },
      "source": [
        "<a href=\"https://colab.research.google.com/github/ramrajv/Ramraj_Prayag_Kaggle/blob/main/Test/TelcomChurnPrediction.ipynb\" target=\"_parent\"><img src=\"https://colab.research.google.com/assets/colab-badge.svg\" alt=\"Open In Colab\"/></a>"
      ]
    },
    {
      "cell_type": "markdown",
      "metadata": {
        "id": "dr4VvLkkNgM0"
      },
      "source": [
        "# Telecom churn case study"
      ]
    },
    {
      "cell_type": "markdown",
      "metadata": {
        "id": "Gk01gb2uNgM2"
      },
      "source": [
        "## Business problem\n",
        "\n",
        "In the telecom industry, customers are able to choose from multiple service providers and actively switch from one operator to another. In this highly competitive market, the telecommunications industry experiences an average of 15-25% annual churn rate. Given the fact that it costs 5-10 times more to acquire a new customer than to retain an existing one, customer retention has now become even more important than customer acquisition.\n",
        "\n",
        "So we need to analyse telecom industry data and predict high value customers who are at high risk of churn and identify main indicators of churn"
      ]
    },
    {
      "cell_type": "code",
      "execution_count": 1,
      "metadata": {
        "id": "pJNnizY3NgM3"
      },
      "outputs": [],
      "source": [
        "# Load libraries\n",
        "import numpy as np\n",
        "import pandas as pd\n",
        "\n",
        "import datetime as dt\n",
        "\n",
        "import matplotlib.pyplot as plt\n",
        "from matplotlib.gridspec import GridSpec\n",
        "import seaborn as sns\n",
        "sns.set(style=\"ticks\")\n",
        "%matplotlib inline\n",
        "\n",
        "from scipy.stats import norm\n",
        "from scipy import stats\n",
        "\n",
        "import sklearn\n",
        "from sklearn import metrics\n",
        "from sklearn.metrics import classification_report\n",
        "from sklearn.metrics import confusion_matrix\n",
        "from sklearn.metrics import roc_curve, auc\n",
        "\n",
        "pd.set_option('display.max_rows', None)\n",
        "pd.set_option('display.max_columns', None)\n",
        "\n",
        "import warnings\n",
        "warnings.filterwarnings(\"ignore\")"
      ]
    },
    {
      "cell_type": "markdown",
      "metadata": {
        "id": "lL4UrhhfNgM4"
      },
      "source": [
        "## Load the data"
      ]
    },
    {
      "cell_type": "code",
      "source": [
        "train = pd.read_csv('train.csv', on_bad_lines = 'skip')\n",
        "test = pd.read_csv('test (1).csv', on_bad_lines = 'skip')"
      ],
      "metadata": {
        "id": "NTCao089WYpZ"
      },
      "execution_count": 5,
      "outputs": []
    },
    {
      "cell_type": "code",
      "source": [
        "train.columns"
      ],
      "metadata": {
        "colab": {
          "base_uri": "https://localhost:8080/"
        },
        "id": "JfrO2iLQXxAQ",
        "outputId": "315aefcd-43c0-4df9-f2e4-dc748c5f70f3"
      },
      "execution_count": 10,
      "outputs": [
        {
          "output_type": "execute_result",
          "data": {
            "text/plain": [
              "Index(['id', 'circle_id', 'loc_og_t2o_mou', 'std_og_t2o_mou', 'loc_ic_t2o_mou',\n",
              "       'last_date_of_month_6', 'last_date_of_month_7', 'last_date_of_month_8',\n",
              "       'arpu_6', 'arpu_7',\n",
              "       ...\n",
              "       'sachet_3g_7', 'sachet_3g_8', 'fb_user_6', 'fb_user_7', 'fb_user_8',\n",
              "       'aon', 'aug_vbc_3g', 'jul_vbc_3g', 'jun_vbc_3g', 'churn_probability'],\n",
              "      dtype='object', length=172)"
            ]
          },
          "metadata": {},
          "execution_count": 10
        }
      ]
    },
    {
      "cell_type": "code",
      "source": [
        "test.columns"
      ],
      "metadata": {
        "colab": {
          "base_uri": "https://localhost:8080/"
        },
        "id": "0vAcV3gcZ9eK",
        "outputId": "14f1762e-6011-4a17-a1a7-573d4e78dc0e"
      },
      "execution_count": 11,
      "outputs": [
        {
          "output_type": "execute_result",
          "data": {
            "text/plain": [
              "Index(['id', 'circle_id', 'loc_og_t2o_mou', 'std_og_t2o_mou', 'loc_ic_t2o_mou',\n",
              "       'last_date_of_month_6', 'last_date_of_month_7', 'last_date_of_month_8',\n",
              "       'arpu_6', 'arpu_7',\n",
              "       ...\n",
              "       'sachet_3g_6', 'sachet_3g_7', 'sachet_3g_8', 'fb_user_6', 'fb_user_7',\n",
              "       'fb_user_8', 'aon', 'aug_vbc_3g', 'jul_vbc_3g', 'jun_vbc_3g'],\n",
              "      dtype='object', length=171)"
            ]
          },
          "metadata": {},
          "execution_count": 11
        }
      ]
    },
    {
      "cell_type": "code",
      "source": [
        "frames = [train, test]\n",
        "data = pd.concat(frames)"
      ],
      "metadata": {
        "id": "cwCqsaGjaUSu"
      },
      "execution_count": 12,
      "outputs": []
    },
    {
      "cell_type": "code",
      "execution_count": 13,
      "metadata": {
        "colab": {
          "base_uri": "https://localhost:8080/"
        },
        "id": "zdekgOEZNgM4",
        "outputId": "3b34750f-20b6-4038-a3c4-7bb8d23b0846"
      },
      "outputs": [
        {
          "output_type": "stream",
          "name": "stdout",
          "text": [
            "<class 'pandas.core.frame.DataFrame'>\n",
            "Int64Index: 194113 entries, 0 to 57070\n",
            "Columns: 172 entries, id to churn_probability\n",
            "dtypes: float64(83), object(89)\n",
            "memory usage: 256.2+ MB\n"
          ]
        }
      ],
      "source": [
        "data.info()"
      ]
    },
    {
      "cell_type": "code",
      "execution_count": 14,
      "metadata": {
        "colab": {
          "base_uri": "https://localhost:8080/",
          "height": 270
        },
        "id": "Il1Redx_NgM5",
        "outputId": "722a6b7b-2f7f-4caa-808c-c47f4146b76b"
      },
      "outputs": [
        {
          "output_type": "execute_result",
          "data": {
            "text/plain": [
              "    id circle_id  loc_og_t2o_mou  std_og_t2o_mou  loc_ic_t2o_mou  \\\n",
              "0  0.0       109             0.0             0.0             0.0   \n",
              "1  1.0       109             0.0             0.0             0.0   \n",
              "2  2.0       109             0.0             0.0             0.0   \n",
              "3  3.0       109             0.0             0.0             0.0   \n",
              "4  4.0       109             0.0             0.0             0.0   \n",
              "\n",
              "  last_date_of_month_6 last_date_of_month_7 last_date_of_month_8   arpu_6  \\\n",
              "0            6/30/2014            7/31/2014            8/31/2014   31.277   \n",
              "1            6/30/2014            7/31/2014            8/31/2014    0.000   \n",
              "2            6/30/2014            7/31/2014            8/31/2014   60.806   \n",
              "3            6/30/2014            7/31/2014            8/31/2014  156.362   \n",
              "4            6/30/2014            7/31/2014            8/31/2014  240.708   \n",
              "\n",
              "    arpu_7   arpu_8  onnet_mou_6  onnet_mou_7  onnet_mou_8 offnet_mou_6  \\\n",
              "0   87.009    7.527        48.58       124.38         1.29        32.24   \n",
              "1  122.787   42.953         0.00         0.00         0.00          0.0   \n",
              "2  103.176    0.000         0.53        15.93         0.00        53.99   \n",
              "3  205.260  111.095         7.26        16.01         0.00        68.76   \n",
              "4  128.191  101.565        21.28         4.83         6.13        56.99   \n",
              "\n",
              "   offnet_mou_7  offnet_mou_8  roam_ic_mou_6  roam_ic_mou_7  roam_ic_mou_8  \\\n",
              "0         96.68          2.33           0.00            0.0            0.0   \n",
              "1         25.99         30.89           0.00            0.0            0.0   \n",
              "2         82.05          0.00           0.00            0.0            0.0   \n",
              "3         78.48         50.23           0.00            0.0            0.0   \n",
              "4         38.11          9.63          53.64            0.0            0.0   \n",
              "\n",
              "   roam_og_mou_6 roam_og_mou_7 roam_og_mou_8 loc_og_t2t_mou_6  \\\n",
              "0           0.00           0.0           0.0             2.23   \n",
              "1           0.00           0.0           0.0              0.0   \n",
              "2           0.00           0.0           0.0             0.53   \n",
              "3           0.00           0.0          1.63             6.99   \n",
              "4          15.73           0.0           0.0            10.16   \n",
              "\n",
              "  loc_og_t2t_mou_7  loc_og_t2t_mou_8  loc_og_t2m_mou_6  loc_og_t2m_mou_7  \\\n",
              "0              0.0              0.28              5.29             16.04   \n",
              "1              0.0              0.00              0.00              0.00   \n",
              "2            12.98              0.00             24.11              0.00   \n",
              "3             3.94              0.00             37.91             44.89   \n",
              "4             4.83              6.13             36.74             19.88   \n",
              "\n",
              "   loc_og_t2m_mou_8  loc_og_t2f_mou_6 loc_og_t2f_mou_7 loc_og_t2f_mou_8  \\\n",
              "0              2.33              0.00              0.0              0.0   \n",
              "1              0.00              0.00              0.0              0.0   \n",
              "2              0.00              0.00              0.0              0.0   \n",
              "3             23.63              0.00              0.0              0.0   \n",
              "4              4.61             11.99             1.23             5.01   \n",
              "\n",
              "  loc_og_t2c_mou_6  loc_og_t2c_mou_7 loc_og_t2c_mou_8 loc_og_mou_6  \\\n",
              "0              0.0              0.00              0.0         7.53   \n",
              "1              0.0             22.01            29.79          0.0   \n",
              "2             2.14              0.00              0.0        24.64   \n",
              "3              0.0              0.00             8.03        44.91   \n",
              "4              0.0              9.85              0.0        58.91   \n",
              "\n",
              "  loc_og_mou_7 loc_og_mou_8 std_og_t2t_mou_6  std_og_t2t_mou_7  \\\n",
              "0        16.04         2.61            46.34            124.38   \n",
              "1          0.0          0.0              0.0              0.00   \n",
              "2        12.98          0.0              0.0              2.94   \n",
              "3        48.84        23.63             0.26             12.06   \n",
              "4        25.94        15.76              0.0              0.00   \n",
              "\n",
              "   std_og_t2t_mou_8  std_og_t2m_mou_6 std_og_t2m_mou_7 std_og_t2m_mou_8  \\\n",
              "0              1.01             18.75            80.61              0.0   \n",
              "1              0.00              0.00              0.0              0.0   \n",
              "2              0.00             28.94            82.05              0.0   \n",
              "3              0.00             15.33            25.93              4.6   \n",
              "4              0.00              4.35              0.0              0.0   \n",
              "\n",
              "  std_og_t2f_mou_6 std_og_t2f_mou_7  std_og_t2f_mou_8 std_og_t2c_mou_6  \\\n",
              "0              0.0              0.0               0.0              0.0   \n",
              "1              0.0              0.0               0.0              0.0   \n",
              "2              0.0              0.0               0.0              0.0   \n",
              "3             0.56              0.0               0.0              0.0   \n",
              "4              0.0              0.0               0.0              0.0   \n",
              "\n",
              "  std_og_t2c_mou_7 std_og_t2c_mou_8 std_og_mou_6 std_og_mou_7 std_og_mou_8  \\\n",
              "0              0.0              0.0        65.09       204.99         1.01   \n",
              "1              0.0              0.0          0.0          0.0          0.0   \n",
              "2              0.0              0.0        28.94        84.99          0.0   \n",
              "3              0.0              0.0        16.16        37.99          4.6   \n",
              "4              0.0              0.0         4.35          0.0          0.0   \n",
              "\n",
              "  isd_og_mou_6 isd_og_mou_7 isd_og_mou_8 spl_og_mou_6 spl_og_mou_7  \\\n",
              "0          0.0          0.0          0.0          8.2         0.63   \n",
              "1          0.0          0.0          0.0          0.0        30.73   \n",
              "2          0.0          0.0          0.0         2.89         1.38   \n",
              "3          0.0          0.0          0.0        14.95         9.13   \n",
              "4          0.0          0.0          0.0          0.0         17.0   \n",
              "\n",
              "  spl_og_mou_8 og_others_6 og_others_7 og_others_8 total_og_mou_6  \\\n",
              "0          0.0        0.38         0.0         0.0          81.21   \n",
              "1        31.66         0.0         0.0         0.0            0.0   \n",
              "2          0.0         0.0         0.0         0.0          56.49   \n",
              "3        25.61         0.0         0.0         0.0          76.03   \n",
              "4          0.0         0.0         0.0         0.0          63.26   \n",
              "\n",
              "   total_og_mou_7 total_og_mou_8 loc_ic_t2t_mou_6 loc_ic_t2t_mou_7  \\\n",
              "0          221.68           3.63             2.43             3.68   \n",
              "1           30.73          31.66             1.68            19.09   \n",
              "2           99.36            0.0             4.51             6.16   \n",
              "3           95.98          53.84            24.98             4.84   \n",
              "4           42.94          15.76             5.44             1.39   \n",
              "\n",
              "  loc_ic_t2t_mou_8  loc_ic_t2m_mou_6  loc_ic_t2m_mou_7 loc_ic_t2m_mou_8  \\\n",
              "0             7.79              0.83             21.08            16.91   \n",
              "1            10.53              1.41             18.68            11.09   \n",
              "2             6.49             89.86             25.18            23.51   \n",
              "3            23.88             53.99             44.23            57.14   \n",
              "4             2.66             10.58              4.33            19.49   \n",
              "\n",
              "  loc_ic_t2f_mou_6 loc_ic_t2f_mou_7 loc_ic_t2f_mou_8 loc_ic_mou_6  \\\n",
              "0              0.0              0.0              0.0         3.26   \n",
              "1             0.35             1.66              3.4         3.44   \n",
              "2              0.0              0.0              0.0        94.38   \n",
              "3             7.23             0.81              0.0        86.21   \n",
              "4             5.51             3.63             6.14        21.54   \n",
              "\n",
              "  loc_ic_mou_7 loc_ic_mou_8 std_ic_t2t_mou_6 std_ic_t2t_mou_7  \\\n",
              "0        24.76        24.71              0.0             7.61   \n",
              "1        39.44        25.03              0.0              0.0   \n",
              "2        31.34        30.01            11.69              0.0   \n",
              "3        49.89        81.03              0.0              0.0   \n",
              "4         9.36        28.31              0.0              0.0   \n",
              "\n",
              "  std_ic_t2t_mou_8 std_ic_t2m_mou_6  std_ic_t2m_mou_7 std_ic_t2m_mou_8  \\\n",
              "0             0.21             7.46             19.96            14.96   \n",
              "1              0.0              0.0              0.00              0.0   \n",
              "2              0.0            18.21              2.48             6.38   \n",
              "3              0.0             8.89              0.28             2.81   \n",
              "4              0.0              0.0              0.00              0.0   \n",
              "\n",
              "  std_ic_t2f_mou_6 std_ic_t2f_mou_7 std_ic_t2f_mou_8 std_ic_t2o_mou_6  \\\n",
              "0              0.0              0.0              0.0              0.0   \n",
              "1              0.0              0.0              0.0              0.0   \n",
              "2              0.0              0.0              0.0              0.0   \n",
              "3              0.0              0.0              0.0              0.0   \n",
              "4              0.0              0.0              0.0              0.0   \n",
              "\n",
              "  std_ic_t2o_mou_7 std_ic_t2o_mou_8 std_ic_mou_6 std_ic_mou_7 std_ic_mou_8  \\\n",
              "0              0.0              0.0         7.46        27.58        15.18   \n",
              "1              0.0              0.0          0.0          0.0          0.0   \n",
              "2              0.0              0.0        29.91         2.48         6.38   \n",
              "3              0.0              0.0         8.89         0.28         2.81   \n",
              "4              0.0              0.0          0.0          0.0          0.0   \n",
              "\n",
              "  total_ic_mou_6 total_ic_mou_7 total_ic_mou_8 spl_ic_mou_6 spl_ic_mou_7  \\\n",
              "0          11.84          53.04          40.56          0.0          0.0   \n",
              "1           3.44          39.44          25.04          0.0          0.0   \n",
              "2         124.29          33.83          36.64          0.0          0.0   \n",
              "3          95.11          50.18          83.84          0.0          0.0   \n",
              "4          21.54           9.36          28.31          0.0          0.0   \n",
              "\n",
              "  spl_ic_mou_8 isd_ic_mou_6 isd_ic_mou_7 isd_ic_mou_8 ic_others_6 ic_others_7  \\\n",
              "0         0.66          0.0          0.0          0.0        1.11        0.69   \n",
              "1         0.01          0.0          0.0          0.0         0.0         0.0   \n",
              "2          0.0          0.0          0.0          0.0         0.0         0.0   \n",
              "3          0.0          0.0          0.0          0.0         0.0         0.0   \n",
              "4          0.0          0.0          0.0          0.0         0.0         0.0   \n",
              "\n",
              "  ic_others_8 total_rech_num_6 total_rech_num_7 total_rech_num_8  \\\n",
              "0         0.0              3.0              2.0              2.0   \n",
              "1         0.0              3.0              4.0              5.0   \n",
              "2        0.25              2.0              4.0              2.0   \n",
              "3         0.0              2.0              4.0              3.0   \n",
              "4         0.0             13.0             10.0              8.0   \n",
              "\n",
              "   total_rech_amt_6 total_rech_amt_7 total_rech_amt_8 max_rech_amt_6  \\\n",
              "0              77.0             65.0             10.0           65.0   \n",
              "1               0.0            145.0             50.0            0.0   \n",
              "2              70.0            120.0              0.0           70.0   \n",
              "3             160.0            240.0            130.0          110.0   \n",
              "4             290.0            136.0            122.0           50.0   \n",
              "\n",
              "  max_rech_amt_7 max_rech_amt_8 date_of_last_rech_6 date_of_last_rech_7  \\\n",
              "0           65.0           10.0           6/22/2014           7/10/2014   \n",
              "1          145.0           50.0           6/12/2014           7/10/2014   \n",
              "2           70.0            0.0           6/11/2014           7/22/2014   \n",
              "3          110.0           50.0           6/15/2014           7/21/2014   \n",
              "4           41.0           30.0           6/25/2014           7/26/2014   \n",
              "\n",
              "  date_of_last_rech_8  last_day_rch_amt_6  last_day_rch_amt_7  \\\n",
              "0           8/24/2014                65.0                65.0   \n",
              "1           8/26/2014                 0.0                 0.0   \n",
              "2           8/24/2014                70.0                50.0   \n",
              "3           8/25/2014               110.0               110.0   \n",
              "4           8/30/2014                25.0                10.0   \n",
              "\n",
              "  last_day_rch_amt_8 date_of_last_rech_data_6 date_of_last_rech_data_7  \\\n",
              "0                0.0                      NaN                      NaN   \n",
              "1                0.0                      NaN                 7/8/2014   \n",
              "2                0.0                      NaN                      NaN   \n",
              "3               50.0                      NaN                      NaN   \n",
              "4               30.0                6/25/2014                7/23/2014   \n",
              "\n",
              "  date_of_last_rech_data_8  total_rech_data_6  total_rech_data_7  \\\n",
              "0                      NaN                NaN                NaN   \n",
              "1                      NaN                NaN                1.0   \n",
              "2                      NaN                NaN                NaN   \n",
              "3                      NaN                NaN                NaN   \n",
              "4                8/20/2014                7.0                7.0   \n",
              "\n",
              "   total_rech_data_8  max_rech_data_6  max_rech_data_7  max_rech_data_8  \\\n",
              "0                NaN              NaN              NaN              NaN   \n",
              "1                NaN              NaN            145.0              NaN   \n",
              "2                NaN              NaN              NaN              NaN   \n",
              "3                NaN              NaN              NaN              NaN   \n",
              "4                6.0             25.0             41.0             25.0   \n",
              "\n",
              "   count_rech_2g_6  count_rech_2g_7  count_rech_2g_8  count_rech_3g_6  \\\n",
              "0              NaN              NaN              NaN              NaN   \n",
              "1              NaN              0.0              NaN              NaN   \n",
              "2              NaN              NaN              NaN              NaN   \n",
              "3              NaN              NaN              NaN              NaN   \n",
              "4              7.0              6.0              6.0              0.0   \n",
              "\n",
              "   count_rech_3g_7  count_rech_3g_8  av_rech_amt_data_6  av_rech_amt_data_7  \\\n",
              "0              NaN              NaN                 NaN                 NaN   \n",
              "1              1.0              NaN                 NaN               145.0   \n",
              "2              NaN              NaN                 NaN                 NaN   \n",
              "3              NaN              NaN                 NaN                 NaN   \n",
              "4              1.0              0.0               175.0               191.0   \n",
              "\n",
              "   av_rech_amt_data_8  vol_2g_mb_6  vol_2g_mb_7  vol_2g_mb_8  vol_3g_mb_6  \\\n",
              "0                 NaN          0.0         0.00         0.00          0.0   \n",
              "1                 NaN          0.0       352.91         0.00          0.0   \n",
              "2                 NaN          0.0         0.00         0.00          0.0   \n",
              "3                 NaN          0.0         0.00         0.00          0.0   \n",
              "4               142.0        390.8       308.89       213.47          0.0   \n",
              "\n",
              "   vol_3g_mb_7  vol_3g_mb_8  arpu_3g_6  arpu_3g_7  arpu_3g_8  arpu_2g_6  \\\n",
              "0         0.00          0.0        NaN        NaN        NaN        NaN   \n",
              "1         3.96          0.0        NaN     122.07        NaN        NaN   \n",
              "2         0.00          0.0        NaN        NaN        NaN        NaN   \n",
              "3         0.00          0.0        NaN        NaN        NaN        NaN   \n",
              "4         0.00          0.0        0.0      35.00        0.0        0.0   \n",
              "\n",
              "   arpu_2g_7  arpu_2g_8  night_pck_user_6  night_pck_user_7  night_pck_user_8  \\\n",
              "0        NaN        NaN               NaN               NaN               NaN   \n",
              "1     122.08        NaN               NaN               0.0               NaN   \n",
              "2        NaN        NaN               NaN               NaN               NaN   \n",
              "3        NaN        NaN               NaN               NaN               NaN   \n",
              "4      35.12        0.0               0.0               0.0               0.0   \n",
              "\n",
              "   monthly_2g_6  monthly_2g_7  monthly_2g_8  sachet_2g_6  sachet_2g_7  \\\n",
              "0           0.0           0.0           0.0          0.0          0.0   \n",
              "1           0.0           0.0           0.0          0.0          0.0   \n",
              "2           0.0           0.0           0.0          0.0          0.0   \n",
              "3           0.0           0.0           0.0          0.0          0.0   \n",
              "4           0.0           0.0           0.0          7.0          6.0   \n",
              "\n",
              "   sachet_2g_8  monthly_3g_6  monthly_3g_7  monthly_3g_8  sachet_3g_6  \\\n",
              "0          0.0           0.0           0.0           0.0          0.0   \n",
              "1          0.0           0.0           1.0           0.0          0.0   \n",
              "2          0.0           0.0           0.0           0.0          0.0   \n",
              "3          0.0           0.0           0.0           0.0          0.0   \n",
              "4          6.0           0.0           0.0           0.0          0.0   \n",
              "\n",
              "   sachet_3g_7  sachet_3g_8  fb_user_6  fb_user_7  fb_user_8     aon  \\\n",
              "0          0.0          0.0        NaN        NaN        NaN  1958.0   \n",
              "1          0.0          0.0        NaN        1.0        NaN   710.0   \n",
              "2          0.0          0.0        NaN        NaN        NaN   882.0   \n",
              "3          0.0          0.0        NaN        NaN        NaN   982.0   \n",
              "4          1.0          0.0        1.0        1.0        1.0   647.0   \n",
              "\n",
              "   aug_vbc_3g  jul_vbc_3g  jun_vbc_3g  churn_probability  \n",
              "0         0.0         0.0         0.0                0.0  \n",
              "1         0.0         0.0         0.0                0.0  \n",
              "2         0.0         0.0         0.0                0.0  \n",
              "3         0.0         0.0         0.0                0.0  \n",
              "4         0.0         0.0         0.0                0.0  "
            ],
            "text/html": [
              "\n",
              "  <div id=\"df-ab564d5f-2073-44d4-bf68-dd9120a9be3e\">\n",
              "    <div class=\"colab-df-container\">\n",
              "      <div>\n",
              "<style scoped>\n",
              "    .dataframe tbody tr th:only-of-type {\n",
              "        vertical-align: middle;\n",
              "    }\n",
              "\n",
              "    .dataframe tbody tr th {\n",
              "        vertical-align: top;\n",
              "    }\n",
              "\n",
              "    .dataframe thead th {\n",
              "        text-align: right;\n",
              "    }\n",
              "</style>\n",
              "<table border=\"1\" class=\"dataframe\">\n",
              "  <thead>\n",
              "    <tr style=\"text-align: right;\">\n",
              "      <th></th>\n",
              "      <th>id</th>\n",
              "      <th>circle_id</th>\n",
              "      <th>loc_og_t2o_mou</th>\n",
              "      <th>std_og_t2o_mou</th>\n",
              "      <th>loc_ic_t2o_mou</th>\n",
              "      <th>last_date_of_month_6</th>\n",
              "      <th>last_date_of_month_7</th>\n",
              "      <th>last_date_of_month_8</th>\n",
              "      <th>arpu_6</th>\n",
              "      <th>arpu_7</th>\n",
              "      <th>arpu_8</th>\n",
              "      <th>onnet_mou_6</th>\n",
              "      <th>onnet_mou_7</th>\n",
              "      <th>onnet_mou_8</th>\n",
              "      <th>offnet_mou_6</th>\n",
              "      <th>offnet_mou_7</th>\n",
              "      <th>offnet_mou_8</th>\n",
              "      <th>roam_ic_mou_6</th>\n",
              "      <th>roam_ic_mou_7</th>\n",
              "      <th>roam_ic_mou_8</th>\n",
              "      <th>roam_og_mou_6</th>\n",
              "      <th>roam_og_mou_7</th>\n",
              "      <th>roam_og_mou_8</th>\n",
              "      <th>loc_og_t2t_mou_6</th>\n",
              "      <th>loc_og_t2t_mou_7</th>\n",
              "      <th>loc_og_t2t_mou_8</th>\n",
              "      <th>loc_og_t2m_mou_6</th>\n",
              "      <th>loc_og_t2m_mou_7</th>\n",
              "      <th>loc_og_t2m_mou_8</th>\n",
              "      <th>loc_og_t2f_mou_6</th>\n",
              "      <th>loc_og_t2f_mou_7</th>\n",
              "      <th>loc_og_t2f_mou_8</th>\n",
              "      <th>loc_og_t2c_mou_6</th>\n",
              "      <th>loc_og_t2c_mou_7</th>\n",
              "      <th>loc_og_t2c_mou_8</th>\n",
              "      <th>loc_og_mou_6</th>\n",
              "      <th>loc_og_mou_7</th>\n",
              "      <th>loc_og_mou_8</th>\n",
              "      <th>std_og_t2t_mou_6</th>\n",
              "      <th>std_og_t2t_mou_7</th>\n",
              "      <th>std_og_t2t_mou_8</th>\n",
              "      <th>std_og_t2m_mou_6</th>\n",
              "      <th>std_og_t2m_mou_7</th>\n",
              "      <th>std_og_t2m_mou_8</th>\n",
              "      <th>std_og_t2f_mou_6</th>\n",
              "      <th>std_og_t2f_mou_7</th>\n",
              "      <th>std_og_t2f_mou_8</th>\n",
              "      <th>std_og_t2c_mou_6</th>\n",
              "      <th>std_og_t2c_mou_7</th>\n",
              "      <th>std_og_t2c_mou_8</th>\n",
              "      <th>std_og_mou_6</th>\n",
              "      <th>std_og_mou_7</th>\n",
              "      <th>std_og_mou_8</th>\n",
              "      <th>isd_og_mou_6</th>\n",
              "      <th>isd_og_mou_7</th>\n",
              "      <th>isd_og_mou_8</th>\n",
              "      <th>spl_og_mou_6</th>\n",
              "      <th>spl_og_mou_7</th>\n",
              "      <th>spl_og_mou_8</th>\n",
              "      <th>og_others_6</th>\n",
              "      <th>og_others_7</th>\n",
              "      <th>og_others_8</th>\n",
              "      <th>total_og_mou_6</th>\n",
              "      <th>total_og_mou_7</th>\n",
              "      <th>total_og_mou_8</th>\n",
              "      <th>loc_ic_t2t_mou_6</th>\n",
              "      <th>loc_ic_t2t_mou_7</th>\n",
              "      <th>loc_ic_t2t_mou_8</th>\n",
              "      <th>loc_ic_t2m_mou_6</th>\n",
              "      <th>loc_ic_t2m_mou_7</th>\n",
              "      <th>loc_ic_t2m_mou_8</th>\n",
              "      <th>loc_ic_t2f_mou_6</th>\n",
              "      <th>loc_ic_t2f_mou_7</th>\n",
              "      <th>loc_ic_t2f_mou_8</th>\n",
              "      <th>loc_ic_mou_6</th>\n",
              "      <th>loc_ic_mou_7</th>\n",
              "      <th>loc_ic_mou_8</th>\n",
              "      <th>std_ic_t2t_mou_6</th>\n",
              "      <th>std_ic_t2t_mou_7</th>\n",
              "      <th>std_ic_t2t_mou_8</th>\n",
              "      <th>std_ic_t2m_mou_6</th>\n",
              "      <th>std_ic_t2m_mou_7</th>\n",
              "      <th>std_ic_t2m_mou_8</th>\n",
              "      <th>std_ic_t2f_mou_6</th>\n",
              "      <th>std_ic_t2f_mou_7</th>\n",
              "      <th>std_ic_t2f_mou_8</th>\n",
              "      <th>std_ic_t2o_mou_6</th>\n",
              "      <th>std_ic_t2o_mou_7</th>\n",
              "      <th>std_ic_t2o_mou_8</th>\n",
              "      <th>std_ic_mou_6</th>\n",
              "      <th>std_ic_mou_7</th>\n",
              "      <th>std_ic_mou_8</th>\n",
              "      <th>total_ic_mou_6</th>\n",
              "      <th>total_ic_mou_7</th>\n",
              "      <th>total_ic_mou_8</th>\n",
              "      <th>spl_ic_mou_6</th>\n",
              "      <th>spl_ic_mou_7</th>\n",
              "      <th>spl_ic_mou_8</th>\n",
              "      <th>isd_ic_mou_6</th>\n",
              "      <th>isd_ic_mou_7</th>\n",
              "      <th>isd_ic_mou_8</th>\n",
              "      <th>ic_others_6</th>\n",
              "      <th>ic_others_7</th>\n",
              "      <th>ic_others_8</th>\n",
              "      <th>total_rech_num_6</th>\n",
              "      <th>total_rech_num_7</th>\n",
              "      <th>total_rech_num_8</th>\n",
              "      <th>total_rech_amt_6</th>\n",
              "      <th>total_rech_amt_7</th>\n",
              "      <th>total_rech_amt_8</th>\n",
              "      <th>max_rech_amt_6</th>\n",
              "      <th>max_rech_amt_7</th>\n",
              "      <th>max_rech_amt_8</th>\n",
              "      <th>date_of_last_rech_6</th>\n",
              "      <th>date_of_last_rech_7</th>\n",
              "      <th>date_of_last_rech_8</th>\n",
              "      <th>last_day_rch_amt_6</th>\n",
              "      <th>last_day_rch_amt_7</th>\n",
              "      <th>last_day_rch_amt_8</th>\n",
              "      <th>date_of_last_rech_data_6</th>\n",
              "      <th>date_of_last_rech_data_7</th>\n",
              "      <th>date_of_last_rech_data_8</th>\n",
              "      <th>total_rech_data_6</th>\n",
              "      <th>total_rech_data_7</th>\n",
              "      <th>total_rech_data_8</th>\n",
              "      <th>max_rech_data_6</th>\n",
              "      <th>max_rech_data_7</th>\n",
              "      <th>max_rech_data_8</th>\n",
              "      <th>count_rech_2g_6</th>\n",
              "      <th>count_rech_2g_7</th>\n",
              "      <th>count_rech_2g_8</th>\n",
              "      <th>count_rech_3g_6</th>\n",
              "      <th>count_rech_3g_7</th>\n",
              "      <th>count_rech_3g_8</th>\n",
              "      <th>av_rech_amt_data_6</th>\n",
              "      <th>av_rech_amt_data_7</th>\n",
              "      <th>av_rech_amt_data_8</th>\n",
              "      <th>vol_2g_mb_6</th>\n",
              "      <th>vol_2g_mb_7</th>\n",
              "      <th>vol_2g_mb_8</th>\n",
              "      <th>vol_3g_mb_6</th>\n",
              "      <th>vol_3g_mb_7</th>\n",
              "      <th>vol_3g_mb_8</th>\n",
              "      <th>arpu_3g_6</th>\n",
              "      <th>arpu_3g_7</th>\n",
              "      <th>arpu_3g_8</th>\n",
              "      <th>arpu_2g_6</th>\n",
              "      <th>arpu_2g_7</th>\n",
              "      <th>arpu_2g_8</th>\n",
              "      <th>night_pck_user_6</th>\n",
              "      <th>night_pck_user_7</th>\n",
              "      <th>night_pck_user_8</th>\n",
              "      <th>monthly_2g_6</th>\n",
              "      <th>monthly_2g_7</th>\n",
              "      <th>monthly_2g_8</th>\n",
              "      <th>sachet_2g_6</th>\n",
              "      <th>sachet_2g_7</th>\n",
              "      <th>sachet_2g_8</th>\n",
              "      <th>monthly_3g_6</th>\n",
              "      <th>monthly_3g_7</th>\n",
              "      <th>monthly_3g_8</th>\n",
              "      <th>sachet_3g_6</th>\n",
              "      <th>sachet_3g_7</th>\n",
              "      <th>sachet_3g_8</th>\n",
              "      <th>fb_user_6</th>\n",
              "      <th>fb_user_7</th>\n",
              "      <th>fb_user_8</th>\n",
              "      <th>aon</th>\n",
              "      <th>aug_vbc_3g</th>\n",
              "      <th>jul_vbc_3g</th>\n",
              "      <th>jun_vbc_3g</th>\n",
              "      <th>churn_probability</th>\n",
              "    </tr>\n",
              "  </thead>\n",
              "  <tbody>\n",
              "    <tr>\n",
              "      <th>0</th>\n",
              "      <td>0.0</td>\n",
              "      <td>109</td>\n",
              "      <td>0.0</td>\n",
              "      <td>0.0</td>\n",
              "      <td>0.0</td>\n",
              "      <td>6/30/2014</td>\n",
              "      <td>7/31/2014</td>\n",
              "      <td>8/31/2014</td>\n",
              "      <td>31.277</td>\n",
              "      <td>87.009</td>\n",
              "      <td>7.527</td>\n",
              "      <td>48.58</td>\n",
              "      <td>124.38</td>\n",
              "      <td>1.29</td>\n",
              "      <td>32.24</td>\n",
              "      <td>96.68</td>\n",
              "      <td>2.33</td>\n",
              "      <td>0.00</td>\n",
              "      <td>0.0</td>\n",
              "      <td>0.0</td>\n",
              "      <td>0.00</td>\n",
              "      <td>0.0</td>\n",
              "      <td>0.0</td>\n",
              "      <td>2.23</td>\n",
              "      <td>0.0</td>\n",
              "      <td>0.28</td>\n",
              "      <td>5.29</td>\n",
              "      <td>16.04</td>\n",
              "      <td>2.33</td>\n",
              "      <td>0.00</td>\n",
              "      <td>0.0</td>\n",
              "      <td>0.0</td>\n",
              "      <td>0.0</td>\n",
              "      <td>0.00</td>\n",
              "      <td>0.0</td>\n",
              "      <td>7.53</td>\n",
              "      <td>16.04</td>\n",
              "      <td>2.61</td>\n",
              "      <td>46.34</td>\n",
              "      <td>124.38</td>\n",
              "      <td>1.01</td>\n",
              "      <td>18.75</td>\n",
              "      <td>80.61</td>\n",
              "      <td>0.0</td>\n",
              "      <td>0.0</td>\n",
              "      <td>0.0</td>\n",
              "      <td>0.0</td>\n",
              "      <td>0.0</td>\n",
              "      <td>0.0</td>\n",
              "      <td>0.0</td>\n",
              "      <td>65.09</td>\n",
              "      <td>204.99</td>\n",
              "      <td>1.01</td>\n",
              "      <td>0.0</td>\n",
              "      <td>0.0</td>\n",
              "      <td>0.0</td>\n",
              "      <td>8.2</td>\n",
              "      <td>0.63</td>\n",
              "      <td>0.0</td>\n",
              "      <td>0.38</td>\n",
              "      <td>0.0</td>\n",
              "      <td>0.0</td>\n",
              "      <td>81.21</td>\n",
              "      <td>221.68</td>\n",
              "      <td>3.63</td>\n",
              "      <td>2.43</td>\n",
              "      <td>3.68</td>\n",
              "      <td>7.79</td>\n",
              "      <td>0.83</td>\n",
              "      <td>21.08</td>\n",
              "      <td>16.91</td>\n",
              "      <td>0.0</td>\n",
              "      <td>0.0</td>\n",
              "      <td>0.0</td>\n",
              "      <td>3.26</td>\n",
              "      <td>24.76</td>\n",
              "      <td>24.71</td>\n",
              "      <td>0.0</td>\n",
              "      <td>7.61</td>\n",
              "      <td>0.21</td>\n",
              "      <td>7.46</td>\n",
              "      <td>19.96</td>\n",
              "      <td>14.96</td>\n",
              "      <td>0.0</td>\n",
              "      <td>0.0</td>\n",
              "      <td>0.0</td>\n",
              "      <td>0.0</td>\n",
              "      <td>0.0</td>\n",
              "      <td>0.0</td>\n",
              "      <td>7.46</td>\n",
              "      <td>27.58</td>\n",
              "      <td>15.18</td>\n",
              "      <td>11.84</td>\n",
              "      <td>53.04</td>\n",
              "      <td>40.56</td>\n",
              "      <td>0.0</td>\n",
              "      <td>0.0</td>\n",
              "      <td>0.66</td>\n",
              "      <td>0.0</td>\n",
              "      <td>0.0</td>\n",
              "      <td>0.0</td>\n",
              "      <td>1.11</td>\n",
              "      <td>0.69</td>\n",
              "      <td>0.0</td>\n",
              "      <td>3.0</td>\n",
              "      <td>2.0</td>\n",
              "      <td>2.0</td>\n",
              "      <td>77.0</td>\n",
              "      <td>65.0</td>\n",
              "      <td>10.0</td>\n",
              "      <td>65.0</td>\n",
              "      <td>65.0</td>\n",
              "      <td>10.0</td>\n",
              "      <td>6/22/2014</td>\n",
              "      <td>7/10/2014</td>\n",
              "      <td>8/24/2014</td>\n",
              "      <td>65.0</td>\n",
              "      <td>65.0</td>\n",
              "      <td>0.0</td>\n",
              "      <td>NaN</td>\n",
              "      <td>NaN</td>\n",
              "      <td>NaN</td>\n",
              "      <td>NaN</td>\n",
              "      <td>NaN</td>\n",
              "      <td>NaN</td>\n",
              "      <td>NaN</td>\n",
              "      <td>NaN</td>\n",
              "      <td>NaN</td>\n",
              "      <td>NaN</td>\n",
              "      <td>NaN</td>\n",
              "      <td>NaN</td>\n",
              "      <td>NaN</td>\n",
              "      <td>NaN</td>\n",
              "      <td>NaN</td>\n",
              "      <td>NaN</td>\n",
              "      <td>NaN</td>\n",
              "      <td>NaN</td>\n",
              "      <td>0.0</td>\n",
              "      <td>0.00</td>\n",
              "      <td>0.00</td>\n",
              "      <td>0.0</td>\n",
              "      <td>0.00</td>\n",
              "      <td>0.0</td>\n",
              "      <td>NaN</td>\n",
              "      <td>NaN</td>\n",
              "      <td>NaN</td>\n",
              "      <td>NaN</td>\n",
              "      <td>NaN</td>\n",
              "      <td>NaN</td>\n",
              "      <td>NaN</td>\n",
              "      <td>NaN</td>\n",
              "      <td>NaN</td>\n",
              "      <td>0.0</td>\n",
              "      <td>0.0</td>\n",
              "      <td>0.0</td>\n",
              "      <td>0.0</td>\n",
              "      <td>0.0</td>\n",
              "      <td>0.0</td>\n",
              "      <td>0.0</td>\n",
              "      <td>0.0</td>\n",
              "      <td>0.0</td>\n",
              "      <td>0.0</td>\n",
              "      <td>0.0</td>\n",
              "      <td>0.0</td>\n",
              "      <td>NaN</td>\n",
              "      <td>NaN</td>\n",
              "      <td>NaN</td>\n",
              "      <td>1958.0</td>\n",
              "      <td>0.0</td>\n",
              "      <td>0.0</td>\n",
              "      <td>0.0</td>\n",
              "      <td>0.0</td>\n",
              "    </tr>\n",
              "    <tr>\n",
              "      <th>1</th>\n",
              "      <td>1.0</td>\n",
              "      <td>109</td>\n",
              "      <td>0.0</td>\n",
              "      <td>0.0</td>\n",
              "      <td>0.0</td>\n",
              "      <td>6/30/2014</td>\n",
              "      <td>7/31/2014</td>\n",
              "      <td>8/31/2014</td>\n",
              "      <td>0.000</td>\n",
              "      <td>122.787</td>\n",
              "      <td>42.953</td>\n",
              "      <td>0.00</td>\n",
              "      <td>0.00</td>\n",
              "      <td>0.00</td>\n",
              "      <td>0.0</td>\n",
              "      <td>25.99</td>\n",
              "      <td>30.89</td>\n",
              "      <td>0.00</td>\n",
              "      <td>0.0</td>\n",
              "      <td>0.0</td>\n",
              "      <td>0.00</td>\n",
              "      <td>0.0</td>\n",
              "      <td>0.0</td>\n",
              "      <td>0.0</td>\n",
              "      <td>0.0</td>\n",
              "      <td>0.00</td>\n",
              "      <td>0.00</td>\n",
              "      <td>0.00</td>\n",
              "      <td>0.00</td>\n",
              "      <td>0.00</td>\n",
              "      <td>0.0</td>\n",
              "      <td>0.0</td>\n",
              "      <td>0.0</td>\n",
              "      <td>22.01</td>\n",
              "      <td>29.79</td>\n",
              "      <td>0.0</td>\n",
              "      <td>0.0</td>\n",
              "      <td>0.0</td>\n",
              "      <td>0.0</td>\n",
              "      <td>0.00</td>\n",
              "      <td>0.00</td>\n",
              "      <td>0.00</td>\n",
              "      <td>0.0</td>\n",
              "      <td>0.0</td>\n",
              "      <td>0.0</td>\n",
              "      <td>0.0</td>\n",
              "      <td>0.0</td>\n",
              "      <td>0.0</td>\n",
              "      <td>0.0</td>\n",
              "      <td>0.0</td>\n",
              "      <td>0.0</td>\n",
              "      <td>0.0</td>\n",
              "      <td>0.0</td>\n",
              "      <td>0.0</td>\n",
              "      <td>0.0</td>\n",
              "      <td>0.0</td>\n",
              "      <td>0.0</td>\n",
              "      <td>30.73</td>\n",
              "      <td>31.66</td>\n",
              "      <td>0.0</td>\n",
              "      <td>0.0</td>\n",
              "      <td>0.0</td>\n",
              "      <td>0.0</td>\n",
              "      <td>30.73</td>\n",
              "      <td>31.66</td>\n",
              "      <td>1.68</td>\n",
              "      <td>19.09</td>\n",
              "      <td>10.53</td>\n",
              "      <td>1.41</td>\n",
              "      <td>18.68</td>\n",
              "      <td>11.09</td>\n",
              "      <td>0.35</td>\n",
              "      <td>1.66</td>\n",
              "      <td>3.4</td>\n",
              "      <td>3.44</td>\n",
              "      <td>39.44</td>\n",
              "      <td>25.03</td>\n",
              "      <td>0.0</td>\n",
              "      <td>0.0</td>\n",
              "      <td>0.0</td>\n",
              "      <td>0.0</td>\n",
              "      <td>0.00</td>\n",
              "      <td>0.0</td>\n",
              "      <td>0.0</td>\n",
              "      <td>0.0</td>\n",
              "      <td>0.0</td>\n",
              "      <td>0.0</td>\n",
              "      <td>0.0</td>\n",
              "      <td>0.0</td>\n",
              "      <td>0.0</td>\n",
              "      <td>0.0</td>\n",
              "      <td>0.0</td>\n",
              "      <td>3.44</td>\n",
              "      <td>39.44</td>\n",
              "      <td>25.04</td>\n",
              "      <td>0.0</td>\n",
              "      <td>0.0</td>\n",
              "      <td>0.01</td>\n",
              "      <td>0.0</td>\n",
              "      <td>0.0</td>\n",
              "      <td>0.0</td>\n",
              "      <td>0.0</td>\n",
              "      <td>0.0</td>\n",
              "      <td>0.0</td>\n",
              "      <td>3.0</td>\n",
              "      <td>4.0</td>\n",
              "      <td>5.0</td>\n",
              "      <td>0.0</td>\n",
              "      <td>145.0</td>\n",
              "      <td>50.0</td>\n",
              "      <td>0.0</td>\n",
              "      <td>145.0</td>\n",
              "      <td>50.0</td>\n",
              "      <td>6/12/2014</td>\n",
              "      <td>7/10/2014</td>\n",
              "      <td>8/26/2014</td>\n",
              "      <td>0.0</td>\n",
              "      <td>0.0</td>\n",
              "      <td>0.0</td>\n",
              "      <td>NaN</td>\n",
              "      <td>7/8/2014</td>\n",
              "      <td>NaN</td>\n",
              "      <td>NaN</td>\n",
              "      <td>1.0</td>\n",
              "      <td>NaN</td>\n",
              "      <td>NaN</td>\n",
              "      <td>145.0</td>\n",
              "      <td>NaN</td>\n",
              "      <td>NaN</td>\n",
              "      <td>0.0</td>\n",
              "      <td>NaN</td>\n",
              "      <td>NaN</td>\n",
              "      <td>1.0</td>\n",
              "      <td>NaN</td>\n",
              "      <td>NaN</td>\n",
              "      <td>145.0</td>\n",
              "      <td>NaN</td>\n",
              "      <td>0.0</td>\n",
              "      <td>352.91</td>\n",
              "      <td>0.00</td>\n",
              "      <td>0.0</td>\n",
              "      <td>3.96</td>\n",
              "      <td>0.0</td>\n",
              "      <td>NaN</td>\n",
              "      <td>122.07</td>\n",
              "      <td>NaN</td>\n",
              "      <td>NaN</td>\n",
              "      <td>122.08</td>\n",
              "      <td>NaN</td>\n",
              "      <td>NaN</td>\n",
              "      <td>0.0</td>\n",
              "      <td>NaN</td>\n",
              "      <td>0.0</td>\n",
              "      <td>0.0</td>\n",
              "      <td>0.0</td>\n",
              "      <td>0.0</td>\n",
              "      <td>0.0</td>\n",
              "      <td>0.0</td>\n",
              "      <td>0.0</td>\n",
              "      <td>1.0</td>\n",
              "      <td>0.0</td>\n",
              "      <td>0.0</td>\n",
              "      <td>0.0</td>\n",
              "      <td>0.0</td>\n",
              "      <td>NaN</td>\n",
              "      <td>1.0</td>\n",
              "      <td>NaN</td>\n",
              "      <td>710.0</td>\n",
              "      <td>0.0</td>\n",
              "      <td>0.0</td>\n",
              "      <td>0.0</td>\n",
              "      <td>0.0</td>\n",
              "    </tr>\n",
              "    <tr>\n",
              "      <th>2</th>\n",
              "      <td>2.0</td>\n",
              "      <td>109</td>\n",
              "      <td>0.0</td>\n",
              "      <td>0.0</td>\n",
              "      <td>0.0</td>\n",
              "      <td>6/30/2014</td>\n",
              "      <td>7/31/2014</td>\n",
              "      <td>8/31/2014</td>\n",
              "      <td>60.806</td>\n",
              "      <td>103.176</td>\n",
              "      <td>0.000</td>\n",
              "      <td>0.53</td>\n",
              "      <td>15.93</td>\n",
              "      <td>0.00</td>\n",
              "      <td>53.99</td>\n",
              "      <td>82.05</td>\n",
              "      <td>0.00</td>\n",
              "      <td>0.00</td>\n",
              "      <td>0.0</td>\n",
              "      <td>0.0</td>\n",
              "      <td>0.00</td>\n",
              "      <td>0.0</td>\n",
              "      <td>0.0</td>\n",
              "      <td>0.53</td>\n",
              "      <td>12.98</td>\n",
              "      <td>0.00</td>\n",
              "      <td>24.11</td>\n",
              "      <td>0.00</td>\n",
              "      <td>0.00</td>\n",
              "      <td>0.00</td>\n",
              "      <td>0.0</td>\n",
              "      <td>0.0</td>\n",
              "      <td>2.14</td>\n",
              "      <td>0.00</td>\n",
              "      <td>0.0</td>\n",
              "      <td>24.64</td>\n",
              "      <td>12.98</td>\n",
              "      <td>0.0</td>\n",
              "      <td>0.0</td>\n",
              "      <td>2.94</td>\n",
              "      <td>0.00</td>\n",
              "      <td>28.94</td>\n",
              "      <td>82.05</td>\n",
              "      <td>0.0</td>\n",
              "      <td>0.0</td>\n",
              "      <td>0.0</td>\n",
              "      <td>0.0</td>\n",
              "      <td>0.0</td>\n",
              "      <td>0.0</td>\n",
              "      <td>0.0</td>\n",
              "      <td>28.94</td>\n",
              "      <td>84.99</td>\n",
              "      <td>0.0</td>\n",
              "      <td>0.0</td>\n",
              "      <td>0.0</td>\n",
              "      <td>0.0</td>\n",
              "      <td>2.89</td>\n",
              "      <td>1.38</td>\n",
              "      <td>0.0</td>\n",
              "      <td>0.0</td>\n",
              "      <td>0.0</td>\n",
              "      <td>0.0</td>\n",
              "      <td>56.49</td>\n",
              "      <td>99.36</td>\n",
              "      <td>0.0</td>\n",
              "      <td>4.51</td>\n",
              "      <td>6.16</td>\n",
              "      <td>6.49</td>\n",
              "      <td>89.86</td>\n",
              "      <td>25.18</td>\n",
              "      <td>23.51</td>\n",
              "      <td>0.0</td>\n",
              "      <td>0.0</td>\n",
              "      <td>0.0</td>\n",
              "      <td>94.38</td>\n",
              "      <td>31.34</td>\n",
              "      <td>30.01</td>\n",
              "      <td>11.69</td>\n",
              "      <td>0.0</td>\n",
              "      <td>0.0</td>\n",
              "      <td>18.21</td>\n",
              "      <td>2.48</td>\n",
              "      <td>6.38</td>\n",
              "      <td>0.0</td>\n",
              "      <td>0.0</td>\n",
              "      <td>0.0</td>\n",
              "      <td>0.0</td>\n",
              "      <td>0.0</td>\n",
              "      <td>0.0</td>\n",
              "      <td>29.91</td>\n",
              "      <td>2.48</td>\n",
              "      <td>6.38</td>\n",
              "      <td>124.29</td>\n",
              "      <td>33.83</td>\n",
              "      <td>36.64</td>\n",
              "      <td>0.0</td>\n",
              "      <td>0.0</td>\n",
              "      <td>0.0</td>\n",
              "      <td>0.0</td>\n",
              "      <td>0.0</td>\n",
              "      <td>0.0</td>\n",
              "      <td>0.0</td>\n",
              "      <td>0.0</td>\n",
              "      <td>0.25</td>\n",
              "      <td>2.0</td>\n",
              "      <td>4.0</td>\n",
              "      <td>2.0</td>\n",
              "      <td>70.0</td>\n",
              "      <td>120.0</td>\n",
              "      <td>0.0</td>\n",
              "      <td>70.0</td>\n",
              "      <td>70.0</td>\n",
              "      <td>0.0</td>\n",
              "      <td>6/11/2014</td>\n",
              "      <td>7/22/2014</td>\n",
              "      <td>8/24/2014</td>\n",
              "      <td>70.0</td>\n",
              "      <td>50.0</td>\n",
              "      <td>0.0</td>\n",
              "      <td>NaN</td>\n",
              "      <td>NaN</td>\n",
              "      <td>NaN</td>\n",
              "      <td>NaN</td>\n",
              "      <td>NaN</td>\n",
              "      <td>NaN</td>\n",
              "      <td>NaN</td>\n",
              "      <td>NaN</td>\n",
              "      <td>NaN</td>\n",
              "      <td>NaN</td>\n",
              "      <td>NaN</td>\n",
              "      <td>NaN</td>\n",
              "      <td>NaN</td>\n",
              "      <td>NaN</td>\n",
              "      <td>NaN</td>\n",
              "      <td>NaN</td>\n",
              "      <td>NaN</td>\n",
              "      <td>NaN</td>\n",
              "      <td>0.0</td>\n",
              "      <td>0.00</td>\n",
              "      <td>0.00</td>\n",
              "      <td>0.0</td>\n",
              "      <td>0.00</td>\n",
              "      <td>0.0</td>\n",
              "      <td>NaN</td>\n",
              "      <td>NaN</td>\n",
              "      <td>NaN</td>\n",
              "      <td>NaN</td>\n",
              "      <td>NaN</td>\n",
              "      <td>NaN</td>\n",
              "      <td>NaN</td>\n",
              "      <td>NaN</td>\n",
              "      <td>NaN</td>\n",
              "      <td>0.0</td>\n",
              "      <td>0.0</td>\n",
              "      <td>0.0</td>\n",
              "      <td>0.0</td>\n",
              "      <td>0.0</td>\n",
              "      <td>0.0</td>\n",
              "      <td>0.0</td>\n",
              "      <td>0.0</td>\n",
              "      <td>0.0</td>\n",
              "      <td>0.0</td>\n",
              "      <td>0.0</td>\n",
              "      <td>0.0</td>\n",
              "      <td>NaN</td>\n",
              "      <td>NaN</td>\n",
              "      <td>NaN</td>\n",
              "      <td>882.0</td>\n",
              "      <td>0.0</td>\n",
              "      <td>0.0</td>\n",
              "      <td>0.0</td>\n",
              "      <td>0.0</td>\n",
              "    </tr>\n",
              "    <tr>\n",
              "      <th>3</th>\n",
              "      <td>3.0</td>\n",
              "      <td>109</td>\n",
              "      <td>0.0</td>\n",
              "      <td>0.0</td>\n",
              "      <td>0.0</td>\n",
              "      <td>6/30/2014</td>\n",
              "      <td>7/31/2014</td>\n",
              "      <td>8/31/2014</td>\n",
              "      <td>156.362</td>\n",
              "      <td>205.260</td>\n",
              "      <td>111.095</td>\n",
              "      <td>7.26</td>\n",
              "      <td>16.01</td>\n",
              "      <td>0.00</td>\n",
              "      <td>68.76</td>\n",
              "      <td>78.48</td>\n",
              "      <td>50.23</td>\n",
              "      <td>0.00</td>\n",
              "      <td>0.0</td>\n",
              "      <td>0.0</td>\n",
              "      <td>0.00</td>\n",
              "      <td>0.0</td>\n",
              "      <td>1.63</td>\n",
              "      <td>6.99</td>\n",
              "      <td>3.94</td>\n",
              "      <td>0.00</td>\n",
              "      <td>37.91</td>\n",
              "      <td>44.89</td>\n",
              "      <td>23.63</td>\n",
              "      <td>0.00</td>\n",
              "      <td>0.0</td>\n",
              "      <td>0.0</td>\n",
              "      <td>0.0</td>\n",
              "      <td>0.00</td>\n",
              "      <td>8.03</td>\n",
              "      <td>44.91</td>\n",
              "      <td>48.84</td>\n",
              "      <td>23.63</td>\n",
              "      <td>0.26</td>\n",
              "      <td>12.06</td>\n",
              "      <td>0.00</td>\n",
              "      <td>15.33</td>\n",
              "      <td>25.93</td>\n",
              "      <td>4.6</td>\n",
              "      <td>0.56</td>\n",
              "      <td>0.0</td>\n",
              "      <td>0.0</td>\n",
              "      <td>0.0</td>\n",
              "      <td>0.0</td>\n",
              "      <td>0.0</td>\n",
              "      <td>16.16</td>\n",
              "      <td>37.99</td>\n",
              "      <td>4.6</td>\n",
              "      <td>0.0</td>\n",
              "      <td>0.0</td>\n",
              "      <td>0.0</td>\n",
              "      <td>14.95</td>\n",
              "      <td>9.13</td>\n",
              "      <td>25.61</td>\n",
              "      <td>0.0</td>\n",
              "      <td>0.0</td>\n",
              "      <td>0.0</td>\n",
              "      <td>76.03</td>\n",
              "      <td>95.98</td>\n",
              "      <td>53.84</td>\n",
              "      <td>24.98</td>\n",
              "      <td>4.84</td>\n",
              "      <td>23.88</td>\n",
              "      <td>53.99</td>\n",
              "      <td>44.23</td>\n",
              "      <td>57.14</td>\n",
              "      <td>7.23</td>\n",
              "      <td>0.81</td>\n",
              "      <td>0.0</td>\n",
              "      <td>86.21</td>\n",
              "      <td>49.89</td>\n",
              "      <td>81.03</td>\n",
              "      <td>0.0</td>\n",
              "      <td>0.0</td>\n",
              "      <td>0.0</td>\n",
              "      <td>8.89</td>\n",
              "      <td>0.28</td>\n",
              "      <td>2.81</td>\n",
              "      <td>0.0</td>\n",
              "      <td>0.0</td>\n",
              "      <td>0.0</td>\n",
              "      <td>0.0</td>\n",
              "      <td>0.0</td>\n",
              "      <td>0.0</td>\n",
              "      <td>8.89</td>\n",
              "      <td>0.28</td>\n",
              "      <td>2.81</td>\n",
              "      <td>95.11</td>\n",
              "      <td>50.18</td>\n",
              "      <td>83.84</td>\n",
              "      <td>0.0</td>\n",
              "      <td>0.0</td>\n",
              "      <td>0.0</td>\n",
              "      <td>0.0</td>\n",
              "      <td>0.0</td>\n",
              "      <td>0.0</td>\n",
              "      <td>0.0</td>\n",
              "      <td>0.0</td>\n",
              "      <td>0.0</td>\n",
              "      <td>2.0</td>\n",
              "      <td>4.0</td>\n",
              "      <td>3.0</td>\n",
              "      <td>160.0</td>\n",
              "      <td>240.0</td>\n",
              "      <td>130.0</td>\n",
              "      <td>110.0</td>\n",
              "      <td>110.0</td>\n",
              "      <td>50.0</td>\n",
              "      <td>6/15/2014</td>\n",
              "      <td>7/21/2014</td>\n",
              "      <td>8/25/2014</td>\n",
              "      <td>110.0</td>\n",
              "      <td>110.0</td>\n",
              "      <td>50.0</td>\n",
              "      <td>NaN</td>\n",
              "      <td>NaN</td>\n",
              "      <td>NaN</td>\n",
              "      <td>NaN</td>\n",
              "      <td>NaN</td>\n",
              "      <td>NaN</td>\n",
              "      <td>NaN</td>\n",
              "      <td>NaN</td>\n",
              "      <td>NaN</td>\n",
              "      <td>NaN</td>\n",
              "      <td>NaN</td>\n",
              "      <td>NaN</td>\n",
              "      <td>NaN</td>\n",
              "      <td>NaN</td>\n",
              "      <td>NaN</td>\n",
              "      <td>NaN</td>\n",
              "      <td>NaN</td>\n",
              "      <td>NaN</td>\n",
              "      <td>0.0</td>\n",
              "      <td>0.00</td>\n",
              "      <td>0.00</td>\n",
              "      <td>0.0</td>\n",
              "      <td>0.00</td>\n",
              "      <td>0.0</td>\n",
              "      <td>NaN</td>\n",
              "      <td>NaN</td>\n",
              "      <td>NaN</td>\n",
              "      <td>NaN</td>\n",
              "      <td>NaN</td>\n",
              "      <td>NaN</td>\n",
              "      <td>NaN</td>\n",
              "      <td>NaN</td>\n",
              "      <td>NaN</td>\n",
              "      <td>0.0</td>\n",
              "      <td>0.0</td>\n",
              "      <td>0.0</td>\n",
              "      <td>0.0</td>\n",
              "      <td>0.0</td>\n",
              "      <td>0.0</td>\n",
              "      <td>0.0</td>\n",
              "      <td>0.0</td>\n",
              "      <td>0.0</td>\n",
              "      <td>0.0</td>\n",
              "      <td>0.0</td>\n",
              "      <td>0.0</td>\n",
              "      <td>NaN</td>\n",
              "      <td>NaN</td>\n",
              "      <td>NaN</td>\n",
              "      <td>982.0</td>\n",
              "      <td>0.0</td>\n",
              "      <td>0.0</td>\n",
              "      <td>0.0</td>\n",
              "      <td>0.0</td>\n",
              "    </tr>\n",
              "    <tr>\n",
              "      <th>4</th>\n",
              "      <td>4.0</td>\n",
              "      <td>109</td>\n",
              "      <td>0.0</td>\n",
              "      <td>0.0</td>\n",
              "      <td>0.0</td>\n",
              "      <td>6/30/2014</td>\n",
              "      <td>7/31/2014</td>\n",
              "      <td>8/31/2014</td>\n",
              "      <td>240.708</td>\n",
              "      <td>128.191</td>\n",
              "      <td>101.565</td>\n",
              "      <td>21.28</td>\n",
              "      <td>4.83</td>\n",
              "      <td>6.13</td>\n",
              "      <td>56.99</td>\n",
              "      <td>38.11</td>\n",
              "      <td>9.63</td>\n",
              "      <td>53.64</td>\n",
              "      <td>0.0</td>\n",
              "      <td>0.0</td>\n",
              "      <td>15.73</td>\n",
              "      <td>0.0</td>\n",
              "      <td>0.0</td>\n",
              "      <td>10.16</td>\n",
              "      <td>4.83</td>\n",
              "      <td>6.13</td>\n",
              "      <td>36.74</td>\n",
              "      <td>19.88</td>\n",
              "      <td>4.61</td>\n",
              "      <td>11.99</td>\n",
              "      <td>1.23</td>\n",
              "      <td>5.01</td>\n",
              "      <td>0.0</td>\n",
              "      <td>9.85</td>\n",
              "      <td>0.0</td>\n",
              "      <td>58.91</td>\n",
              "      <td>25.94</td>\n",
              "      <td>15.76</td>\n",
              "      <td>0.0</td>\n",
              "      <td>0.00</td>\n",
              "      <td>0.00</td>\n",
              "      <td>4.35</td>\n",
              "      <td>0.0</td>\n",
              "      <td>0.0</td>\n",
              "      <td>0.0</td>\n",
              "      <td>0.0</td>\n",
              "      <td>0.0</td>\n",
              "      <td>0.0</td>\n",
              "      <td>0.0</td>\n",
              "      <td>0.0</td>\n",
              "      <td>4.35</td>\n",
              "      <td>0.0</td>\n",
              "      <td>0.0</td>\n",
              "      <td>0.0</td>\n",
              "      <td>0.0</td>\n",
              "      <td>0.0</td>\n",
              "      <td>0.0</td>\n",
              "      <td>17.0</td>\n",
              "      <td>0.0</td>\n",
              "      <td>0.0</td>\n",
              "      <td>0.0</td>\n",
              "      <td>0.0</td>\n",
              "      <td>63.26</td>\n",
              "      <td>42.94</td>\n",
              "      <td>15.76</td>\n",
              "      <td>5.44</td>\n",
              "      <td>1.39</td>\n",
              "      <td>2.66</td>\n",
              "      <td>10.58</td>\n",
              "      <td>4.33</td>\n",
              "      <td>19.49</td>\n",
              "      <td>5.51</td>\n",
              "      <td>3.63</td>\n",
              "      <td>6.14</td>\n",
              "      <td>21.54</td>\n",
              "      <td>9.36</td>\n",
              "      <td>28.31</td>\n",
              "      <td>0.0</td>\n",
              "      <td>0.0</td>\n",
              "      <td>0.0</td>\n",
              "      <td>0.0</td>\n",
              "      <td>0.00</td>\n",
              "      <td>0.0</td>\n",
              "      <td>0.0</td>\n",
              "      <td>0.0</td>\n",
              "      <td>0.0</td>\n",
              "      <td>0.0</td>\n",
              "      <td>0.0</td>\n",
              "      <td>0.0</td>\n",
              "      <td>0.0</td>\n",
              "      <td>0.0</td>\n",
              "      <td>0.0</td>\n",
              "      <td>21.54</td>\n",
              "      <td>9.36</td>\n",
              "      <td>28.31</td>\n",
              "      <td>0.0</td>\n",
              "      <td>0.0</td>\n",
              "      <td>0.0</td>\n",
              "      <td>0.0</td>\n",
              "      <td>0.0</td>\n",
              "      <td>0.0</td>\n",
              "      <td>0.0</td>\n",
              "      <td>0.0</td>\n",
              "      <td>0.0</td>\n",
              "      <td>13.0</td>\n",
              "      <td>10.0</td>\n",
              "      <td>8.0</td>\n",
              "      <td>290.0</td>\n",
              "      <td>136.0</td>\n",
              "      <td>122.0</td>\n",
              "      <td>50.0</td>\n",
              "      <td>41.0</td>\n",
              "      <td>30.0</td>\n",
              "      <td>6/25/2014</td>\n",
              "      <td>7/26/2014</td>\n",
              "      <td>8/30/2014</td>\n",
              "      <td>25.0</td>\n",
              "      <td>10.0</td>\n",
              "      <td>30.0</td>\n",
              "      <td>6/25/2014</td>\n",
              "      <td>7/23/2014</td>\n",
              "      <td>8/20/2014</td>\n",
              "      <td>7.0</td>\n",
              "      <td>7.0</td>\n",
              "      <td>6.0</td>\n",
              "      <td>25.0</td>\n",
              "      <td>41.0</td>\n",
              "      <td>25.0</td>\n",
              "      <td>7.0</td>\n",
              "      <td>6.0</td>\n",
              "      <td>6.0</td>\n",
              "      <td>0.0</td>\n",
              "      <td>1.0</td>\n",
              "      <td>0.0</td>\n",
              "      <td>175.0</td>\n",
              "      <td>191.0</td>\n",
              "      <td>142.0</td>\n",
              "      <td>390.8</td>\n",
              "      <td>308.89</td>\n",
              "      <td>213.47</td>\n",
              "      <td>0.0</td>\n",
              "      <td>0.00</td>\n",
              "      <td>0.0</td>\n",
              "      <td>0.0</td>\n",
              "      <td>35.00</td>\n",
              "      <td>0.0</td>\n",
              "      <td>0.0</td>\n",
              "      <td>35.12</td>\n",
              "      <td>0.0</td>\n",
              "      <td>0.0</td>\n",
              "      <td>0.0</td>\n",
              "      <td>0.0</td>\n",
              "      <td>0.0</td>\n",
              "      <td>0.0</td>\n",
              "      <td>0.0</td>\n",
              "      <td>7.0</td>\n",
              "      <td>6.0</td>\n",
              "      <td>6.0</td>\n",
              "      <td>0.0</td>\n",
              "      <td>0.0</td>\n",
              "      <td>0.0</td>\n",
              "      <td>0.0</td>\n",
              "      <td>1.0</td>\n",
              "      <td>0.0</td>\n",
              "      <td>1.0</td>\n",
              "      <td>1.0</td>\n",
              "      <td>1.0</td>\n",
              "      <td>647.0</td>\n",
              "      <td>0.0</td>\n",
              "      <td>0.0</td>\n",
              "      <td>0.0</td>\n",
              "      <td>0.0</td>\n",
              "    </tr>\n",
              "  </tbody>\n",
              "</table>\n",
              "</div>\n",
              "      <button class=\"colab-df-convert\" onclick=\"convertToInteractive('df-ab564d5f-2073-44d4-bf68-dd9120a9be3e')\"\n",
              "              title=\"Convert this dataframe to an interactive table.\"\n",
              "              style=\"display:none;\">\n",
              "        \n",
              "  <svg xmlns=\"http://www.w3.org/2000/svg\" height=\"24px\"viewBox=\"0 0 24 24\"\n",
              "       width=\"24px\">\n",
              "    <path d=\"M0 0h24v24H0V0z\" fill=\"none\"/>\n",
              "    <path d=\"M18.56 5.44l.94 2.06.94-2.06 2.06-.94-2.06-.94-.94-2.06-.94 2.06-2.06.94zm-11 1L8.5 8.5l.94-2.06 2.06-.94-2.06-.94L8.5 2.5l-.94 2.06-2.06.94zm10 10l.94 2.06.94-2.06 2.06-.94-2.06-.94-.94-2.06-.94 2.06-2.06.94z\"/><path d=\"M17.41 7.96l-1.37-1.37c-.4-.4-.92-.59-1.43-.59-.52 0-1.04.2-1.43.59L10.3 9.45l-7.72 7.72c-.78.78-.78 2.05 0 2.83L4 21.41c.39.39.9.59 1.41.59.51 0 1.02-.2 1.41-.59l7.78-7.78 2.81-2.81c.8-.78.8-2.07 0-2.86zM5.41 20L4 18.59l7.72-7.72 1.47 1.35L5.41 20z\"/>\n",
              "  </svg>\n",
              "      </button>\n",
              "      \n",
              "  <style>\n",
              "    .colab-df-container {\n",
              "      display:flex;\n",
              "      flex-wrap:wrap;\n",
              "      gap: 12px;\n",
              "    }\n",
              "\n",
              "    .colab-df-convert {\n",
              "      background-color: #E8F0FE;\n",
              "      border: none;\n",
              "      border-radius: 50%;\n",
              "      cursor: pointer;\n",
              "      display: none;\n",
              "      fill: #1967D2;\n",
              "      height: 32px;\n",
              "      padding: 0 0 0 0;\n",
              "      width: 32px;\n",
              "    }\n",
              "\n",
              "    .colab-df-convert:hover {\n",
              "      background-color: #E2EBFA;\n",
              "      box-shadow: 0px 1px 2px rgba(60, 64, 67, 0.3), 0px 1px 3px 1px rgba(60, 64, 67, 0.15);\n",
              "      fill: #174EA6;\n",
              "    }\n",
              "\n",
              "    [theme=dark] .colab-df-convert {\n",
              "      background-color: #3B4455;\n",
              "      fill: #D2E3FC;\n",
              "    }\n",
              "\n",
              "    [theme=dark] .colab-df-convert:hover {\n",
              "      background-color: #434B5C;\n",
              "      box-shadow: 0px 1px 3px 1px rgba(0, 0, 0, 0.15);\n",
              "      filter: drop-shadow(0px 1px 2px rgba(0, 0, 0, 0.3));\n",
              "      fill: #FFFFFF;\n",
              "    }\n",
              "  </style>\n",
              "\n",
              "      <script>\n",
              "        const buttonEl =\n",
              "          document.querySelector('#df-ab564d5f-2073-44d4-bf68-dd9120a9be3e button.colab-df-convert');\n",
              "        buttonEl.style.display =\n",
              "          google.colab.kernel.accessAllowed ? 'block' : 'none';\n",
              "\n",
              "        async function convertToInteractive(key) {\n",
              "          const element = document.querySelector('#df-ab564d5f-2073-44d4-bf68-dd9120a9be3e');\n",
              "          const dataTable =\n",
              "            await google.colab.kernel.invokeFunction('convertToInteractive',\n",
              "                                                     [key], {});\n",
              "          if (!dataTable) return;\n",
              "\n",
              "          const docLinkHtml = 'Like what you see? Visit the ' +\n",
              "            '<a target=\"_blank\" href=https://colab.research.google.com/notebooks/data_table.ipynb>data table notebook</a>'\n",
              "            + ' to learn more about interactive tables.';\n",
              "          element.innerHTML = '';\n",
              "          dataTable['output_type'] = 'display_data';\n",
              "          await google.colab.output.renderOutput(dataTable, element);\n",
              "          const docLink = document.createElement('div');\n",
              "          docLink.innerHTML = docLinkHtml;\n",
              "          element.appendChild(docLink);\n",
              "        }\n",
              "      </script>\n",
              "    </div>\n",
              "  </div>\n",
              "  "
            ]
          },
          "metadata": {},
          "execution_count": 14
        }
      ],
      "source": [
        "data.head()"
      ]
    },
    {
      "cell_type": "markdown",
      "metadata": {
        "id": "U1UGittANgM5"
      },
      "source": [
        "## Churn definition\n",
        "\n",
        "Customers who have not done any usage, either incoming or outgoing - in terms of calls, internet etc. over a period of time.\n",
        "In our analysis we are concentrating on high value customers, as approximately 80% of revenue comes from the top 20% customers. Thus, if we can reduce churn of the high-value customers, we will be able to reduce significant revenue leakage. <br>\n",
        "\n",
        "Our dataset is divided into 3 phases: <br>\n",
        "Good phase wherein the customer is happy with the service <br>\n",
        "Action pase wherein the customer wasn't happy with service or got a better offer from competitor etc. In this phase, the customer usually shows different behaviour than the good phase. Also, it is crucial to identify high-churn-risk customers in this phase, so that some corrective actions can be taken at this point to prevet churn <br>\n",
        "Churn phase wherein the customer would have churned"
      ]
    },
    {
      "cell_type": "markdown",
      "metadata": {
        "id": "oHehCDgANgM5"
      },
      "source": [
        "High-value customers are those who have recharged with an amount more than or equal to X, where X is the 70th percentile of the average recharge amount in the first two months (the good phase). <br>\n",
        "After identifying high value customers, we will tag churn customers based on those who have not made any calls (either incoming or outgoing) and have not used mobile internet even once in the churn phase. <br>\n",
        "\n",
        "Let's first identify high-value customers"
      ]
    },
    {
      "cell_type": "code",
      "execution_count": 15,
      "metadata": {
        "id": "wArpX9-MNgM6"
      },
      "outputs": [],
      "source": [
        "data['total_data_rech_6'] = data['total_rech_data_6'] * data['av_rech_amt_data_6']\n",
        "data['total_data_rech_7'] = data['total_rech_data_7'] * data['av_rech_amt_data_7']\n",
        "\n",
        "data['amt_data_6'] = data[['total_rech_amt_6','total_data_rech_6']].sum(axis=1)\n",
        "data['amt_data_7'] = data[['total_rech_amt_7','total_data_rech_7']].sum(axis=1)\n",
        "\n",
        "data['AVG_amt_data_6_7'] = data[['amt_data_6','amt_data_7']].mean(axis=1)"
      ]
    },
    {
      "cell_type": "code",
      "execution_count": 16,
      "metadata": {
        "colab": {
          "base_uri": "https://localhost:8080/",
          "height": 270
        },
        "id": "rmYZ_oOaNgM6",
        "outputId": "3ba0bdca-6eec-4f50-ac5e-e6ae705c4921"
      },
      "outputs": [
        {
          "output_type": "execute_result",
          "data": {
            "text/plain": [
              "    id circle_id  loc_og_t2o_mou  std_og_t2o_mou  loc_ic_t2o_mou  \\\n",
              "0  0.0       109             0.0             0.0             0.0   \n",
              "1  1.0       109             0.0             0.0             0.0   \n",
              "2  2.0       109             0.0             0.0             0.0   \n",
              "3  3.0       109             0.0             0.0             0.0   \n",
              "4  4.0       109             0.0             0.0             0.0   \n",
              "\n",
              "  last_date_of_month_6 last_date_of_month_7 last_date_of_month_8   arpu_6  \\\n",
              "0            6/30/2014            7/31/2014            8/31/2014   31.277   \n",
              "1            6/30/2014            7/31/2014            8/31/2014    0.000   \n",
              "2            6/30/2014            7/31/2014            8/31/2014   60.806   \n",
              "3            6/30/2014            7/31/2014            8/31/2014  156.362   \n",
              "4            6/30/2014            7/31/2014            8/31/2014  240.708   \n",
              "\n",
              "    arpu_7   arpu_8  onnet_mou_6  onnet_mou_7  onnet_mou_8 offnet_mou_6  \\\n",
              "0   87.009    7.527        48.58       124.38         1.29        32.24   \n",
              "1  122.787   42.953         0.00         0.00         0.00          0.0   \n",
              "2  103.176    0.000         0.53        15.93         0.00        53.99   \n",
              "3  205.260  111.095         7.26        16.01         0.00        68.76   \n",
              "4  128.191  101.565        21.28         4.83         6.13        56.99   \n",
              "\n",
              "   offnet_mou_7  offnet_mou_8  roam_ic_mou_6  roam_ic_mou_7  roam_ic_mou_8  \\\n",
              "0         96.68          2.33           0.00            0.0            0.0   \n",
              "1         25.99         30.89           0.00            0.0            0.0   \n",
              "2         82.05          0.00           0.00            0.0            0.0   \n",
              "3         78.48         50.23           0.00            0.0            0.0   \n",
              "4         38.11          9.63          53.64            0.0            0.0   \n",
              "\n",
              "   roam_og_mou_6 roam_og_mou_7 roam_og_mou_8 loc_og_t2t_mou_6  \\\n",
              "0           0.00           0.0           0.0             2.23   \n",
              "1           0.00           0.0           0.0              0.0   \n",
              "2           0.00           0.0           0.0             0.53   \n",
              "3           0.00           0.0          1.63             6.99   \n",
              "4          15.73           0.0           0.0            10.16   \n",
              "\n",
              "  loc_og_t2t_mou_7  loc_og_t2t_mou_8  loc_og_t2m_mou_6  loc_og_t2m_mou_7  \\\n",
              "0              0.0              0.28              5.29             16.04   \n",
              "1              0.0              0.00              0.00              0.00   \n",
              "2            12.98              0.00             24.11              0.00   \n",
              "3             3.94              0.00             37.91             44.89   \n",
              "4             4.83              6.13             36.74             19.88   \n",
              "\n",
              "   loc_og_t2m_mou_8  loc_og_t2f_mou_6 loc_og_t2f_mou_7 loc_og_t2f_mou_8  \\\n",
              "0              2.33              0.00              0.0              0.0   \n",
              "1              0.00              0.00              0.0              0.0   \n",
              "2              0.00              0.00              0.0              0.0   \n",
              "3             23.63              0.00              0.0              0.0   \n",
              "4              4.61             11.99             1.23             5.01   \n",
              "\n",
              "  loc_og_t2c_mou_6  loc_og_t2c_mou_7 loc_og_t2c_mou_8 loc_og_mou_6  \\\n",
              "0              0.0              0.00              0.0         7.53   \n",
              "1              0.0             22.01            29.79          0.0   \n",
              "2             2.14              0.00              0.0        24.64   \n",
              "3              0.0              0.00             8.03        44.91   \n",
              "4              0.0              9.85              0.0        58.91   \n",
              "\n",
              "  loc_og_mou_7 loc_og_mou_8 std_og_t2t_mou_6  std_og_t2t_mou_7  \\\n",
              "0        16.04         2.61            46.34            124.38   \n",
              "1          0.0          0.0              0.0              0.00   \n",
              "2        12.98          0.0              0.0              2.94   \n",
              "3        48.84        23.63             0.26             12.06   \n",
              "4        25.94        15.76              0.0              0.00   \n",
              "\n",
              "   std_og_t2t_mou_8  std_og_t2m_mou_6 std_og_t2m_mou_7 std_og_t2m_mou_8  \\\n",
              "0              1.01             18.75            80.61              0.0   \n",
              "1              0.00              0.00              0.0              0.0   \n",
              "2              0.00             28.94            82.05              0.0   \n",
              "3              0.00             15.33            25.93              4.6   \n",
              "4              0.00              4.35              0.0              0.0   \n",
              "\n",
              "  std_og_t2f_mou_6 std_og_t2f_mou_7  std_og_t2f_mou_8 std_og_t2c_mou_6  \\\n",
              "0              0.0              0.0               0.0              0.0   \n",
              "1              0.0              0.0               0.0              0.0   \n",
              "2              0.0              0.0               0.0              0.0   \n",
              "3             0.56              0.0               0.0              0.0   \n",
              "4              0.0              0.0               0.0              0.0   \n",
              "\n",
              "  std_og_t2c_mou_7 std_og_t2c_mou_8 std_og_mou_6 std_og_mou_7 std_og_mou_8  \\\n",
              "0              0.0              0.0        65.09       204.99         1.01   \n",
              "1              0.0              0.0          0.0          0.0          0.0   \n",
              "2              0.0              0.0        28.94        84.99          0.0   \n",
              "3              0.0              0.0        16.16        37.99          4.6   \n",
              "4              0.0              0.0         4.35          0.0          0.0   \n",
              "\n",
              "  isd_og_mou_6 isd_og_mou_7 isd_og_mou_8 spl_og_mou_6 spl_og_mou_7  \\\n",
              "0          0.0          0.0          0.0          8.2         0.63   \n",
              "1          0.0          0.0          0.0          0.0        30.73   \n",
              "2          0.0          0.0          0.0         2.89         1.38   \n",
              "3          0.0          0.0          0.0        14.95         9.13   \n",
              "4          0.0          0.0          0.0          0.0         17.0   \n",
              "\n",
              "  spl_og_mou_8 og_others_6 og_others_7 og_others_8 total_og_mou_6  \\\n",
              "0          0.0        0.38         0.0         0.0          81.21   \n",
              "1        31.66         0.0         0.0         0.0            0.0   \n",
              "2          0.0         0.0         0.0         0.0          56.49   \n",
              "3        25.61         0.0         0.0         0.0          76.03   \n",
              "4          0.0         0.0         0.0         0.0          63.26   \n",
              "\n",
              "   total_og_mou_7 total_og_mou_8 loc_ic_t2t_mou_6 loc_ic_t2t_mou_7  \\\n",
              "0          221.68           3.63             2.43             3.68   \n",
              "1           30.73          31.66             1.68            19.09   \n",
              "2           99.36            0.0             4.51             6.16   \n",
              "3           95.98          53.84            24.98             4.84   \n",
              "4           42.94          15.76             5.44             1.39   \n",
              "\n",
              "  loc_ic_t2t_mou_8  loc_ic_t2m_mou_6  loc_ic_t2m_mou_7 loc_ic_t2m_mou_8  \\\n",
              "0             7.79              0.83             21.08            16.91   \n",
              "1            10.53              1.41             18.68            11.09   \n",
              "2             6.49             89.86             25.18            23.51   \n",
              "3            23.88             53.99             44.23            57.14   \n",
              "4             2.66             10.58              4.33            19.49   \n",
              "\n",
              "  loc_ic_t2f_mou_6 loc_ic_t2f_mou_7 loc_ic_t2f_mou_8 loc_ic_mou_6  \\\n",
              "0              0.0              0.0              0.0         3.26   \n",
              "1             0.35             1.66              3.4         3.44   \n",
              "2              0.0              0.0              0.0        94.38   \n",
              "3             7.23             0.81              0.0        86.21   \n",
              "4             5.51             3.63             6.14        21.54   \n",
              "\n",
              "  loc_ic_mou_7 loc_ic_mou_8 std_ic_t2t_mou_6 std_ic_t2t_mou_7  \\\n",
              "0        24.76        24.71              0.0             7.61   \n",
              "1        39.44        25.03              0.0              0.0   \n",
              "2        31.34        30.01            11.69              0.0   \n",
              "3        49.89        81.03              0.0              0.0   \n",
              "4         9.36        28.31              0.0              0.0   \n",
              "\n",
              "  std_ic_t2t_mou_8 std_ic_t2m_mou_6  std_ic_t2m_mou_7 std_ic_t2m_mou_8  \\\n",
              "0             0.21             7.46             19.96            14.96   \n",
              "1              0.0              0.0              0.00              0.0   \n",
              "2              0.0            18.21              2.48             6.38   \n",
              "3              0.0             8.89              0.28             2.81   \n",
              "4              0.0              0.0              0.00              0.0   \n",
              "\n",
              "  std_ic_t2f_mou_6 std_ic_t2f_mou_7 std_ic_t2f_mou_8 std_ic_t2o_mou_6  \\\n",
              "0              0.0              0.0              0.0              0.0   \n",
              "1              0.0              0.0              0.0              0.0   \n",
              "2              0.0              0.0              0.0              0.0   \n",
              "3              0.0              0.0              0.0              0.0   \n",
              "4              0.0              0.0              0.0              0.0   \n",
              "\n",
              "  std_ic_t2o_mou_7 std_ic_t2o_mou_8 std_ic_mou_6 std_ic_mou_7 std_ic_mou_8  \\\n",
              "0              0.0              0.0         7.46        27.58        15.18   \n",
              "1              0.0              0.0          0.0          0.0          0.0   \n",
              "2              0.0              0.0        29.91         2.48         6.38   \n",
              "3              0.0              0.0         8.89         0.28         2.81   \n",
              "4              0.0              0.0          0.0          0.0          0.0   \n",
              "\n",
              "  total_ic_mou_6 total_ic_mou_7 total_ic_mou_8 spl_ic_mou_6 spl_ic_mou_7  \\\n",
              "0          11.84          53.04          40.56          0.0          0.0   \n",
              "1           3.44          39.44          25.04          0.0          0.0   \n",
              "2         124.29          33.83          36.64          0.0          0.0   \n",
              "3          95.11          50.18          83.84          0.0          0.0   \n",
              "4          21.54           9.36          28.31          0.0          0.0   \n",
              "\n",
              "  spl_ic_mou_8 isd_ic_mou_6 isd_ic_mou_7 isd_ic_mou_8 ic_others_6 ic_others_7  \\\n",
              "0         0.66          0.0          0.0          0.0        1.11        0.69   \n",
              "1         0.01          0.0          0.0          0.0         0.0         0.0   \n",
              "2          0.0          0.0          0.0          0.0         0.0         0.0   \n",
              "3          0.0          0.0          0.0          0.0         0.0         0.0   \n",
              "4          0.0          0.0          0.0          0.0         0.0         0.0   \n",
              "\n",
              "  ic_others_8 total_rech_num_6 total_rech_num_7 total_rech_num_8  \\\n",
              "0         0.0              3.0              2.0              2.0   \n",
              "1         0.0              3.0              4.0              5.0   \n",
              "2        0.25              2.0              4.0              2.0   \n",
              "3         0.0              2.0              4.0              3.0   \n",
              "4         0.0             13.0             10.0              8.0   \n",
              "\n",
              "   total_rech_amt_6 total_rech_amt_7 total_rech_amt_8 max_rech_amt_6  \\\n",
              "0              77.0             65.0             10.0           65.0   \n",
              "1               0.0            145.0             50.0            0.0   \n",
              "2              70.0            120.0              0.0           70.0   \n",
              "3             160.0            240.0            130.0          110.0   \n",
              "4             290.0            136.0            122.0           50.0   \n",
              "\n",
              "  max_rech_amt_7 max_rech_amt_8 date_of_last_rech_6 date_of_last_rech_7  \\\n",
              "0           65.0           10.0           6/22/2014           7/10/2014   \n",
              "1          145.0           50.0           6/12/2014           7/10/2014   \n",
              "2           70.0            0.0           6/11/2014           7/22/2014   \n",
              "3          110.0           50.0           6/15/2014           7/21/2014   \n",
              "4           41.0           30.0           6/25/2014           7/26/2014   \n",
              "\n",
              "  date_of_last_rech_8  last_day_rch_amt_6  last_day_rch_amt_7  \\\n",
              "0           8/24/2014                65.0                65.0   \n",
              "1           8/26/2014                 0.0                 0.0   \n",
              "2           8/24/2014                70.0                50.0   \n",
              "3           8/25/2014               110.0               110.0   \n",
              "4           8/30/2014                25.0                10.0   \n",
              "\n",
              "  last_day_rch_amt_8 date_of_last_rech_data_6 date_of_last_rech_data_7  \\\n",
              "0                0.0                      NaN                      NaN   \n",
              "1                0.0                      NaN                 7/8/2014   \n",
              "2                0.0                      NaN                      NaN   \n",
              "3               50.0                      NaN                      NaN   \n",
              "4               30.0                6/25/2014                7/23/2014   \n",
              "\n",
              "  date_of_last_rech_data_8  total_rech_data_6  total_rech_data_7  \\\n",
              "0                      NaN                NaN                NaN   \n",
              "1                      NaN                NaN                1.0   \n",
              "2                      NaN                NaN                NaN   \n",
              "3                      NaN                NaN                NaN   \n",
              "4                8/20/2014                7.0                7.0   \n",
              "\n",
              "   total_rech_data_8  max_rech_data_6  max_rech_data_7  max_rech_data_8  \\\n",
              "0                NaN              NaN              NaN              NaN   \n",
              "1                NaN              NaN            145.0              NaN   \n",
              "2                NaN              NaN              NaN              NaN   \n",
              "3                NaN              NaN              NaN              NaN   \n",
              "4                6.0             25.0             41.0             25.0   \n",
              "\n",
              "   count_rech_2g_6  count_rech_2g_7  count_rech_2g_8  count_rech_3g_6  \\\n",
              "0              NaN              NaN              NaN              NaN   \n",
              "1              NaN              0.0              NaN              NaN   \n",
              "2              NaN              NaN              NaN              NaN   \n",
              "3              NaN              NaN              NaN              NaN   \n",
              "4              7.0              6.0              6.0              0.0   \n",
              "\n",
              "   count_rech_3g_7  count_rech_3g_8  av_rech_amt_data_6  av_rech_amt_data_7  \\\n",
              "0              NaN              NaN                 NaN                 NaN   \n",
              "1              1.0              NaN                 NaN               145.0   \n",
              "2              NaN              NaN                 NaN                 NaN   \n",
              "3              NaN              NaN                 NaN                 NaN   \n",
              "4              1.0              0.0               175.0               191.0   \n",
              "\n",
              "   av_rech_amt_data_8  vol_2g_mb_6  vol_2g_mb_7  vol_2g_mb_8  vol_3g_mb_6  \\\n",
              "0                 NaN          0.0         0.00         0.00          0.0   \n",
              "1                 NaN          0.0       352.91         0.00          0.0   \n",
              "2                 NaN          0.0         0.00         0.00          0.0   \n",
              "3                 NaN          0.0         0.00         0.00          0.0   \n",
              "4               142.0        390.8       308.89       213.47          0.0   \n",
              "\n",
              "   vol_3g_mb_7  vol_3g_mb_8  arpu_3g_6  arpu_3g_7  arpu_3g_8  arpu_2g_6  \\\n",
              "0         0.00          0.0        NaN        NaN        NaN        NaN   \n",
              "1         3.96          0.0        NaN     122.07        NaN        NaN   \n",
              "2         0.00          0.0        NaN        NaN        NaN        NaN   \n",
              "3         0.00          0.0        NaN        NaN        NaN        NaN   \n",
              "4         0.00          0.0        0.0      35.00        0.0        0.0   \n",
              "\n",
              "   arpu_2g_7  arpu_2g_8  night_pck_user_6  night_pck_user_7  night_pck_user_8  \\\n",
              "0        NaN        NaN               NaN               NaN               NaN   \n",
              "1     122.08        NaN               NaN               0.0               NaN   \n",
              "2        NaN        NaN               NaN               NaN               NaN   \n",
              "3        NaN        NaN               NaN               NaN               NaN   \n",
              "4      35.12        0.0               0.0               0.0               0.0   \n",
              "\n",
              "   monthly_2g_6  monthly_2g_7  monthly_2g_8  sachet_2g_6  sachet_2g_7  \\\n",
              "0           0.0           0.0           0.0          0.0          0.0   \n",
              "1           0.0           0.0           0.0          0.0          0.0   \n",
              "2           0.0           0.0           0.0          0.0          0.0   \n",
              "3           0.0           0.0           0.0          0.0          0.0   \n",
              "4           0.0           0.0           0.0          7.0          6.0   \n",
              "\n",
              "   sachet_2g_8  monthly_3g_6  monthly_3g_7  monthly_3g_8  sachet_3g_6  \\\n",
              "0          0.0           0.0           0.0           0.0          0.0   \n",
              "1          0.0           0.0           1.0           0.0          0.0   \n",
              "2          0.0           0.0           0.0           0.0          0.0   \n",
              "3          0.0           0.0           0.0           0.0          0.0   \n",
              "4          6.0           0.0           0.0           0.0          0.0   \n",
              "\n",
              "   sachet_3g_7  sachet_3g_8  fb_user_6  fb_user_7  fb_user_8     aon  \\\n",
              "0          0.0          0.0        NaN        NaN        NaN  1958.0   \n",
              "1          0.0          0.0        NaN        1.0        NaN   710.0   \n",
              "2          0.0          0.0        NaN        NaN        NaN   882.0   \n",
              "3          0.0          0.0        NaN        NaN        NaN   982.0   \n",
              "4          1.0          0.0        1.0        1.0        1.0   647.0   \n",
              "\n",
              "   aug_vbc_3g  jul_vbc_3g  jun_vbc_3g  churn_probability  total_data_rech_6  \\\n",
              "0         0.0         0.0         0.0                0.0                NaN   \n",
              "1         0.0         0.0         0.0                0.0                NaN   \n",
              "2         0.0         0.0         0.0                0.0                NaN   \n",
              "3         0.0         0.0         0.0                0.0                NaN   \n",
              "4         0.0         0.0         0.0                0.0             1225.0   \n",
              "\n",
              "   total_data_rech_7  amt_data_6  amt_data_7  AVG_amt_data_6_7  \n",
              "0                NaN        77.0         0.0              38.5  \n",
              "1              145.0         0.0       145.0              72.5  \n",
              "2                NaN        70.0         0.0              35.0  \n",
              "3                NaN       160.0         0.0              80.0  \n",
              "4             1337.0      1515.0      1337.0            1426.0  "
            ],
            "text/html": [
              "\n",
              "  <div id=\"df-73c7ad46-afa2-4755-b097-2ae4bc81963d\">\n",
              "    <div class=\"colab-df-container\">\n",
              "      <div>\n",
              "<style scoped>\n",
              "    .dataframe tbody tr th:only-of-type {\n",
              "        vertical-align: middle;\n",
              "    }\n",
              "\n",
              "    .dataframe tbody tr th {\n",
              "        vertical-align: top;\n",
              "    }\n",
              "\n",
              "    .dataframe thead th {\n",
              "        text-align: right;\n",
              "    }\n",
              "</style>\n",
              "<table border=\"1\" class=\"dataframe\">\n",
              "  <thead>\n",
              "    <tr style=\"text-align: right;\">\n",
              "      <th></th>\n",
              "      <th>id</th>\n",
              "      <th>circle_id</th>\n",
              "      <th>loc_og_t2o_mou</th>\n",
              "      <th>std_og_t2o_mou</th>\n",
              "      <th>loc_ic_t2o_mou</th>\n",
              "      <th>last_date_of_month_6</th>\n",
              "      <th>last_date_of_month_7</th>\n",
              "      <th>last_date_of_month_8</th>\n",
              "      <th>arpu_6</th>\n",
              "      <th>arpu_7</th>\n",
              "      <th>arpu_8</th>\n",
              "      <th>onnet_mou_6</th>\n",
              "      <th>onnet_mou_7</th>\n",
              "      <th>onnet_mou_8</th>\n",
              "      <th>offnet_mou_6</th>\n",
              "      <th>offnet_mou_7</th>\n",
              "      <th>offnet_mou_8</th>\n",
              "      <th>roam_ic_mou_6</th>\n",
              "      <th>roam_ic_mou_7</th>\n",
              "      <th>roam_ic_mou_8</th>\n",
              "      <th>roam_og_mou_6</th>\n",
              "      <th>roam_og_mou_7</th>\n",
              "      <th>roam_og_mou_8</th>\n",
              "      <th>loc_og_t2t_mou_6</th>\n",
              "      <th>loc_og_t2t_mou_7</th>\n",
              "      <th>loc_og_t2t_mou_8</th>\n",
              "      <th>loc_og_t2m_mou_6</th>\n",
              "      <th>loc_og_t2m_mou_7</th>\n",
              "      <th>loc_og_t2m_mou_8</th>\n",
              "      <th>loc_og_t2f_mou_6</th>\n",
              "      <th>loc_og_t2f_mou_7</th>\n",
              "      <th>loc_og_t2f_mou_8</th>\n",
              "      <th>loc_og_t2c_mou_6</th>\n",
              "      <th>loc_og_t2c_mou_7</th>\n",
              "      <th>loc_og_t2c_mou_8</th>\n",
              "      <th>loc_og_mou_6</th>\n",
              "      <th>loc_og_mou_7</th>\n",
              "      <th>loc_og_mou_8</th>\n",
              "      <th>std_og_t2t_mou_6</th>\n",
              "      <th>std_og_t2t_mou_7</th>\n",
              "      <th>std_og_t2t_mou_8</th>\n",
              "      <th>std_og_t2m_mou_6</th>\n",
              "      <th>std_og_t2m_mou_7</th>\n",
              "      <th>std_og_t2m_mou_8</th>\n",
              "      <th>std_og_t2f_mou_6</th>\n",
              "      <th>std_og_t2f_mou_7</th>\n",
              "      <th>std_og_t2f_mou_8</th>\n",
              "      <th>std_og_t2c_mou_6</th>\n",
              "      <th>std_og_t2c_mou_7</th>\n",
              "      <th>std_og_t2c_mou_8</th>\n",
              "      <th>std_og_mou_6</th>\n",
              "      <th>std_og_mou_7</th>\n",
              "      <th>std_og_mou_8</th>\n",
              "      <th>isd_og_mou_6</th>\n",
              "      <th>isd_og_mou_7</th>\n",
              "      <th>isd_og_mou_8</th>\n",
              "      <th>spl_og_mou_6</th>\n",
              "      <th>spl_og_mou_7</th>\n",
              "      <th>spl_og_mou_8</th>\n",
              "      <th>og_others_6</th>\n",
              "      <th>og_others_7</th>\n",
              "      <th>og_others_8</th>\n",
              "      <th>total_og_mou_6</th>\n",
              "      <th>total_og_mou_7</th>\n",
              "      <th>total_og_mou_8</th>\n",
              "      <th>loc_ic_t2t_mou_6</th>\n",
              "      <th>loc_ic_t2t_mou_7</th>\n",
              "      <th>loc_ic_t2t_mou_8</th>\n",
              "      <th>loc_ic_t2m_mou_6</th>\n",
              "      <th>loc_ic_t2m_mou_7</th>\n",
              "      <th>loc_ic_t2m_mou_8</th>\n",
              "      <th>loc_ic_t2f_mou_6</th>\n",
              "      <th>loc_ic_t2f_mou_7</th>\n",
              "      <th>loc_ic_t2f_mou_8</th>\n",
              "      <th>loc_ic_mou_6</th>\n",
              "      <th>loc_ic_mou_7</th>\n",
              "      <th>loc_ic_mou_8</th>\n",
              "      <th>std_ic_t2t_mou_6</th>\n",
              "      <th>std_ic_t2t_mou_7</th>\n",
              "      <th>std_ic_t2t_mou_8</th>\n",
              "      <th>std_ic_t2m_mou_6</th>\n",
              "      <th>std_ic_t2m_mou_7</th>\n",
              "      <th>std_ic_t2m_mou_8</th>\n",
              "      <th>std_ic_t2f_mou_6</th>\n",
              "      <th>std_ic_t2f_mou_7</th>\n",
              "      <th>std_ic_t2f_mou_8</th>\n",
              "      <th>std_ic_t2o_mou_6</th>\n",
              "      <th>std_ic_t2o_mou_7</th>\n",
              "      <th>std_ic_t2o_mou_8</th>\n",
              "      <th>std_ic_mou_6</th>\n",
              "      <th>std_ic_mou_7</th>\n",
              "      <th>std_ic_mou_8</th>\n",
              "      <th>total_ic_mou_6</th>\n",
              "      <th>total_ic_mou_7</th>\n",
              "      <th>total_ic_mou_8</th>\n",
              "      <th>spl_ic_mou_6</th>\n",
              "      <th>spl_ic_mou_7</th>\n",
              "      <th>spl_ic_mou_8</th>\n",
              "      <th>isd_ic_mou_6</th>\n",
              "      <th>isd_ic_mou_7</th>\n",
              "      <th>isd_ic_mou_8</th>\n",
              "      <th>ic_others_6</th>\n",
              "      <th>ic_others_7</th>\n",
              "      <th>ic_others_8</th>\n",
              "      <th>total_rech_num_6</th>\n",
              "      <th>total_rech_num_7</th>\n",
              "      <th>total_rech_num_8</th>\n",
              "      <th>total_rech_amt_6</th>\n",
              "      <th>total_rech_amt_7</th>\n",
              "      <th>total_rech_amt_8</th>\n",
              "      <th>max_rech_amt_6</th>\n",
              "      <th>max_rech_amt_7</th>\n",
              "      <th>max_rech_amt_8</th>\n",
              "      <th>date_of_last_rech_6</th>\n",
              "      <th>date_of_last_rech_7</th>\n",
              "      <th>date_of_last_rech_8</th>\n",
              "      <th>last_day_rch_amt_6</th>\n",
              "      <th>last_day_rch_amt_7</th>\n",
              "      <th>last_day_rch_amt_8</th>\n",
              "      <th>date_of_last_rech_data_6</th>\n",
              "      <th>date_of_last_rech_data_7</th>\n",
              "      <th>date_of_last_rech_data_8</th>\n",
              "      <th>total_rech_data_6</th>\n",
              "      <th>total_rech_data_7</th>\n",
              "      <th>total_rech_data_8</th>\n",
              "      <th>max_rech_data_6</th>\n",
              "      <th>max_rech_data_7</th>\n",
              "      <th>max_rech_data_8</th>\n",
              "      <th>count_rech_2g_6</th>\n",
              "      <th>count_rech_2g_7</th>\n",
              "      <th>count_rech_2g_8</th>\n",
              "      <th>count_rech_3g_6</th>\n",
              "      <th>count_rech_3g_7</th>\n",
              "      <th>count_rech_3g_8</th>\n",
              "      <th>av_rech_amt_data_6</th>\n",
              "      <th>av_rech_amt_data_7</th>\n",
              "      <th>av_rech_amt_data_8</th>\n",
              "      <th>vol_2g_mb_6</th>\n",
              "      <th>vol_2g_mb_7</th>\n",
              "      <th>vol_2g_mb_8</th>\n",
              "      <th>vol_3g_mb_6</th>\n",
              "      <th>vol_3g_mb_7</th>\n",
              "      <th>vol_3g_mb_8</th>\n",
              "      <th>arpu_3g_6</th>\n",
              "      <th>arpu_3g_7</th>\n",
              "      <th>arpu_3g_8</th>\n",
              "      <th>arpu_2g_6</th>\n",
              "      <th>arpu_2g_7</th>\n",
              "      <th>arpu_2g_8</th>\n",
              "      <th>night_pck_user_6</th>\n",
              "      <th>night_pck_user_7</th>\n",
              "      <th>night_pck_user_8</th>\n",
              "      <th>monthly_2g_6</th>\n",
              "      <th>monthly_2g_7</th>\n",
              "      <th>monthly_2g_8</th>\n",
              "      <th>sachet_2g_6</th>\n",
              "      <th>sachet_2g_7</th>\n",
              "      <th>sachet_2g_8</th>\n",
              "      <th>monthly_3g_6</th>\n",
              "      <th>monthly_3g_7</th>\n",
              "      <th>monthly_3g_8</th>\n",
              "      <th>sachet_3g_6</th>\n",
              "      <th>sachet_3g_7</th>\n",
              "      <th>sachet_3g_8</th>\n",
              "      <th>fb_user_6</th>\n",
              "      <th>fb_user_7</th>\n",
              "      <th>fb_user_8</th>\n",
              "      <th>aon</th>\n",
              "      <th>aug_vbc_3g</th>\n",
              "      <th>jul_vbc_3g</th>\n",
              "      <th>jun_vbc_3g</th>\n",
              "      <th>churn_probability</th>\n",
              "      <th>total_data_rech_6</th>\n",
              "      <th>total_data_rech_7</th>\n",
              "      <th>amt_data_6</th>\n",
              "      <th>amt_data_7</th>\n",
              "      <th>AVG_amt_data_6_7</th>\n",
              "    </tr>\n",
              "  </thead>\n",
              "  <tbody>\n",
              "    <tr>\n",
              "      <th>0</th>\n",
              "      <td>0.0</td>\n",
              "      <td>109</td>\n",
              "      <td>0.0</td>\n",
              "      <td>0.0</td>\n",
              "      <td>0.0</td>\n",
              "      <td>6/30/2014</td>\n",
              "      <td>7/31/2014</td>\n",
              "      <td>8/31/2014</td>\n",
              "      <td>31.277</td>\n",
              "      <td>87.009</td>\n",
              "      <td>7.527</td>\n",
              "      <td>48.58</td>\n",
              "      <td>124.38</td>\n",
              "      <td>1.29</td>\n",
              "      <td>32.24</td>\n",
              "      <td>96.68</td>\n",
              "      <td>2.33</td>\n",
              "      <td>0.00</td>\n",
              "      <td>0.0</td>\n",
              "      <td>0.0</td>\n",
              "      <td>0.00</td>\n",
              "      <td>0.0</td>\n",
              "      <td>0.0</td>\n",
              "      <td>2.23</td>\n",
              "      <td>0.0</td>\n",
              "      <td>0.28</td>\n",
              "      <td>5.29</td>\n",
              "      <td>16.04</td>\n",
              "      <td>2.33</td>\n",
              "      <td>0.00</td>\n",
              "      <td>0.0</td>\n",
              "      <td>0.0</td>\n",
              "      <td>0.0</td>\n",
              "      <td>0.00</td>\n",
              "      <td>0.0</td>\n",
              "      <td>7.53</td>\n",
              "      <td>16.04</td>\n",
              "      <td>2.61</td>\n",
              "      <td>46.34</td>\n",
              "      <td>124.38</td>\n",
              "      <td>1.01</td>\n",
              "      <td>18.75</td>\n",
              "      <td>80.61</td>\n",
              "      <td>0.0</td>\n",
              "      <td>0.0</td>\n",
              "      <td>0.0</td>\n",
              "      <td>0.0</td>\n",
              "      <td>0.0</td>\n",
              "      <td>0.0</td>\n",
              "      <td>0.0</td>\n",
              "      <td>65.09</td>\n",
              "      <td>204.99</td>\n",
              "      <td>1.01</td>\n",
              "      <td>0.0</td>\n",
              "      <td>0.0</td>\n",
              "      <td>0.0</td>\n",
              "      <td>8.2</td>\n",
              "      <td>0.63</td>\n",
              "      <td>0.0</td>\n",
              "      <td>0.38</td>\n",
              "      <td>0.0</td>\n",
              "      <td>0.0</td>\n",
              "      <td>81.21</td>\n",
              "      <td>221.68</td>\n",
              "      <td>3.63</td>\n",
              "      <td>2.43</td>\n",
              "      <td>3.68</td>\n",
              "      <td>7.79</td>\n",
              "      <td>0.83</td>\n",
              "      <td>21.08</td>\n",
              "      <td>16.91</td>\n",
              "      <td>0.0</td>\n",
              "      <td>0.0</td>\n",
              "      <td>0.0</td>\n",
              "      <td>3.26</td>\n",
              "      <td>24.76</td>\n",
              "      <td>24.71</td>\n",
              "      <td>0.0</td>\n",
              "      <td>7.61</td>\n",
              "      <td>0.21</td>\n",
              "      <td>7.46</td>\n",
              "      <td>19.96</td>\n",
              "      <td>14.96</td>\n",
              "      <td>0.0</td>\n",
              "      <td>0.0</td>\n",
              "      <td>0.0</td>\n",
              "      <td>0.0</td>\n",
              "      <td>0.0</td>\n",
              "      <td>0.0</td>\n",
              "      <td>7.46</td>\n",
              "      <td>27.58</td>\n",
              "      <td>15.18</td>\n",
              "      <td>11.84</td>\n",
              "      <td>53.04</td>\n",
              "      <td>40.56</td>\n",
              "      <td>0.0</td>\n",
              "      <td>0.0</td>\n",
              "      <td>0.66</td>\n",
              "      <td>0.0</td>\n",
              "      <td>0.0</td>\n",
              "      <td>0.0</td>\n",
              "      <td>1.11</td>\n",
              "      <td>0.69</td>\n",
              "      <td>0.0</td>\n",
              "      <td>3.0</td>\n",
              "      <td>2.0</td>\n",
              "      <td>2.0</td>\n",
              "      <td>77.0</td>\n",
              "      <td>65.0</td>\n",
              "      <td>10.0</td>\n",
              "      <td>65.0</td>\n",
              "      <td>65.0</td>\n",
              "      <td>10.0</td>\n",
              "      <td>6/22/2014</td>\n",
              "      <td>7/10/2014</td>\n",
              "      <td>8/24/2014</td>\n",
              "      <td>65.0</td>\n",
              "      <td>65.0</td>\n",
              "      <td>0.0</td>\n",
              "      <td>NaN</td>\n",
              "      <td>NaN</td>\n",
              "      <td>NaN</td>\n",
              "      <td>NaN</td>\n",
              "      <td>NaN</td>\n",
              "      <td>NaN</td>\n",
              "      <td>NaN</td>\n",
              "      <td>NaN</td>\n",
              "      <td>NaN</td>\n",
              "      <td>NaN</td>\n",
              "      <td>NaN</td>\n",
              "      <td>NaN</td>\n",
              "      <td>NaN</td>\n",
              "      <td>NaN</td>\n",
              "      <td>NaN</td>\n",
              "      <td>NaN</td>\n",
              "      <td>NaN</td>\n",
              "      <td>NaN</td>\n",
              "      <td>0.0</td>\n",
              "      <td>0.00</td>\n",
              "      <td>0.00</td>\n",
              "      <td>0.0</td>\n",
              "      <td>0.00</td>\n",
              "      <td>0.0</td>\n",
              "      <td>NaN</td>\n",
              "      <td>NaN</td>\n",
              "      <td>NaN</td>\n",
              "      <td>NaN</td>\n",
              "      <td>NaN</td>\n",
              "      <td>NaN</td>\n",
              "      <td>NaN</td>\n",
              "      <td>NaN</td>\n",
              "      <td>NaN</td>\n",
              "      <td>0.0</td>\n",
              "      <td>0.0</td>\n",
              "      <td>0.0</td>\n",
              "      <td>0.0</td>\n",
              "      <td>0.0</td>\n",
              "      <td>0.0</td>\n",
              "      <td>0.0</td>\n",
              "      <td>0.0</td>\n",
              "      <td>0.0</td>\n",
              "      <td>0.0</td>\n",
              "      <td>0.0</td>\n",
              "      <td>0.0</td>\n",
              "      <td>NaN</td>\n",
              "      <td>NaN</td>\n",
              "      <td>NaN</td>\n",
              "      <td>1958.0</td>\n",
              "      <td>0.0</td>\n",
              "      <td>0.0</td>\n",
              "      <td>0.0</td>\n",
              "      <td>0.0</td>\n",
              "      <td>NaN</td>\n",
              "      <td>NaN</td>\n",
              "      <td>77.0</td>\n",
              "      <td>0.0</td>\n",
              "      <td>38.5</td>\n",
              "    </tr>\n",
              "    <tr>\n",
              "      <th>1</th>\n",
              "      <td>1.0</td>\n",
              "      <td>109</td>\n",
              "      <td>0.0</td>\n",
              "      <td>0.0</td>\n",
              "      <td>0.0</td>\n",
              "      <td>6/30/2014</td>\n",
              "      <td>7/31/2014</td>\n",
              "      <td>8/31/2014</td>\n",
              "      <td>0.000</td>\n",
              "      <td>122.787</td>\n",
              "      <td>42.953</td>\n",
              "      <td>0.00</td>\n",
              "      <td>0.00</td>\n",
              "      <td>0.00</td>\n",
              "      <td>0.0</td>\n",
              "      <td>25.99</td>\n",
              "      <td>30.89</td>\n",
              "      <td>0.00</td>\n",
              "      <td>0.0</td>\n",
              "      <td>0.0</td>\n",
              "      <td>0.00</td>\n",
              "      <td>0.0</td>\n",
              "      <td>0.0</td>\n",
              "      <td>0.0</td>\n",
              "      <td>0.0</td>\n",
              "      <td>0.00</td>\n",
              "      <td>0.00</td>\n",
              "      <td>0.00</td>\n",
              "      <td>0.00</td>\n",
              "      <td>0.00</td>\n",
              "      <td>0.0</td>\n",
              "      <td>0.0</td>\n",
              "      <td>0.0</td>\n",
              "      <td>22.01</td>\n",
              "      <td>29.79</td>\n",
              "      <td>0.0</td>\n",
              "      <td>0.0</td>\n",
              "      <td>0.0</td>\n",
              "      <td>0.0</td>\n",
              "      <td>0.00</td>\n",
              "      <td>0.00</td>\n",
              "      <td>0.00</td>\n",
              "      <td>0.0</td>\n",
              "      <td>0.0</td>\n",
              "      <td>0.0</td>\n",
              "      <td>0.0</td>\n",
              "      <td>0.0</td>\n",
              "      <td>0.0</td>\n",
              "      <td>0.0</td>\n",
              "      <td>0.0</td>\n",
              "      <td>0.0</td>\n",
              "      <td>0.0</td>\n",
              "      <td>0.0</td>\n",
              "      <td>0.0</td>\n",
              "      <td>0.0</td>\n",
              "      <td>0.0</td>\n",
              "      <td>0.0</td>\n",
              "      <td>30.73</td>\n",
              "      <td>31.66</td>\n",
              "      <td>0.0</td>\n",
              "      <td>0.0</td>\n",
              "      <td>0.0</td>\n",
              "      <td>0.0</td>\n",
              "      <td>30.73</td>\n",
              "      <td>31.66</td>\n",
              "      <td>1.68</td>\n",
              "      <td>19.09</td>\n",
              "      <td>10.53</td>\n",
              "      <td>1.41</td>\n",
              "      <td>18.68</td>\n",
              "      <td>11.09</td>\n",
              "      <td>0.35</td>\n",
              "      <td>1.66</td>\n",
              "      <td>3.4</td>\n",
              "      <td>3.44</td>\n",
              "      <td>39.44</td>\n",
              "      <td>25.03</td>\n",
              "      <td>0.0</td>\n",
              "      <td>0.0</td>\n",
              "      <td>0.0</td>\n",
              "      <td>0.0</td>\n",
              "      <td>0.00</td>\n",
              "      <td>0.0</td>\n",
              "      <td>0.0</td>\n",
              "      <td>0.0</td>\n",
              "      <td>0.0</td>\n",
              "      <td>0.0</td>\n",
              "      <td>0.0</td>\n",
              "      <td>0.0</td>\n",
              "      <td>0.0</td>\n",
              "      <td>0.0</td>\n",
              "      <td>0.0</td>\n",
              "      <td>3.44</td>\n",
              "      <td>39.44</td>\n",
              "      <td>25.04</td>\n",
              "      <td>0.0</td>\n",
              "      <td>0.0</td>\n",
              "      <td>0.01</td>\n",
              "      <td>0.0</td>\n",
              "      <td>0.0</td>\n",
              "      <td>0.0</td>\n",
              "      <td>0.0</td>\n",
              "      <td>0.0</td>\n",
              "      <td>0.0</td>\n",
              "      <td>3.0</td>\n",
              "      <td>4.0</td>\n",
              "      <td>5.0</td>\n",
              "      <td>0.0</td>\n",
              "      <td>145.0</td>\n",
              "      <td>50.0</td>\n",
              "      <td>0.0</td>\n",
              "      <td>145.0</td>\n",
              "      <td>50.0</td>\n",
              "      <td>6/12/2014</td>\n",
              "      <td>7/10/2014</td>\n",
              "      <td>8/26/2014</td>\n",
              "      <td>0.0</td>\n",
              "      <td>0.0</td>\n",
              "      <td>0.0</td>\n",
              "      <td>NaN</td>\n",
              "      <td>7/8/2014</td>\n",
              "      <td>NaN</td>\n",
              "      <td>NaN</td>\n",
              "      <td>1.0</td>\n",
              "      <td>NaN</td>\n",
              "      <td>NaN</td>\n",
              "      <td>145.0</td>\n",
              "      <td>NaN</td>\n",
              "      <td>NaN</td>\n",
              "      <td>0.0</td>\n",
              "      <td>NaN</td>\n",
              "      <td>NaN</td>\n",
              "      <td>1.0</td>\n",
              "      <td>NaN</td>\n",
              "      <td>NaN</td>\n",
              "      <td>145.0</td>\n",
              "      <td>NaN</td>\n",
              "      <td>0.0</td>\n",
              "      <td>352.91</td>\n",
              "      <td>0.00</td>\n",
              "      <td>0.0</td>\n",
              "      <td>3.96</td>\n",
              "      <td>0.0</td>\n",
              "      <td>NaN</td>\n",
              "      <td>122.07</td>\n",
              "      <td>NaN</td>\n",
              "      <td>NaN</td>\n",
              "      <td>122.08</td>\n",
              "      <td>NaN</td>\n",
              "      <td>NaN</td>\n",
              "      <td>0.0</td>\n",
              "      <td>NaN</td>\n",
              "      <td>0.0</td>\n",
              "      <td>0.0</td>\n",
              "      <td>0.0</td>\n",
              "      <td>0.0</td>\n",
              "      <td>0.0</td>\n",
              "      <td>0.0</td>\n",
              "      <td>0.0</td>\n",
              "      <td>1.0</td>\n",
              "      <td>0.0</td>\n",
              "      <td>0.0</td>\n",
              "      <td>0.0</td>\n",
              "      <td>0.0</td>\n",
              "      <td>NaN</td>\n",
              "      <td>1.0</td>\n",
              "      <td>NaN</td>\n",
              "      <td>710.0</td>\n",
              "      <td>0.0</td>\n",
              "      <td>0.0</td>\n",
              "      <td>0.0</td>\n",
              "      <td>0.0</td>\n",
              "      <td>NaN</td>\n",
              "      <td>145.0</td>\n",
              "      <td>0.0</td>\n",
              "      <td>145.0</td>\n",
              "      <td>72.5</td>\n",
              "    </tr>\n",
              "    <tr>\n",
              "      <th>2</th>\n",
              "      <td>2.0</td>\n",
              "      <td>109</td>\n",
              "      <td>0.0</td>\n",
              "      <td>0.0</td>\n",
              "      <td>0.0</td>\n",
              "      <td>6/30/2014</td>\n",
              "      <td>7/31/2014</td>\n",
              "      <td>8/31/2014</td>\n",
              "      <td>60.806</td>\n",
              "      <td>103.176</td>\n",
              "      <td>0.000</td>\n",
              "      <td>0.53</td>\n",
              "      <td>15.93</td>\n",
              "      <td>0.00</td>\n",
              "      <td>53.99</td>\n",
              "      <td>82.05</td>\n",
              "      <td>0.00</td>\n",
              "      <td>0.00</td>\n",
              "      <td>0.0</td>\n",
              "      <td>0.0</td>\n",
              "      <td>0.00</td>\n",
              "      <td>0.0</td>\n",
              "      <td>0.0</td>\n",
              "      <td>0.53</td>\n",
              "      <td>12.98</td>\n",
              "      <td>0.00</td>\n",
              "      <td>24.11</td>\n",
              "      <td>0.00</td>\n",
              "      <td>0.00</td>\n",
              "      <td>0.00</td>\n",
              "      <td>0.0</td>\n",
              "      <td>0.0</td>\n",
              "      <td>2.14</td>\n",
              "      <td>0.00</td>\n",
              "      <td>0.0</td>\n",
              "      <td>24.64</td>\n",
              "      <td>12.98</td>\n",
              "      <td>0.0</td>\n",
              "      <td>0.0</td>\n",
              "      <td>2.94</td>\n",
              "      <td>0.00</td>\n",
              "      <td>28.94</td>\n",
              "      <td>82.05</td>\n",
              "      <td>0.0</td>\n",
              "      <td>0.0</td>\n",
              "      <td>0.0</td>\n",
              "      <td>0.0</td>\n",
              "      <td>0.0</td>\n",
              "      <td>0.0</td>\n",
              "      <td>0.0</td>\n",
              "      <td>28.94</td>\n",
              "      <td>84.99</td>\n",
              "      <td>0.0</td>\n",
              "      <td>0.0</td>\n",
              "      <td>0.0</td>\n",
              "      <td>0.0</td>\n",
              "      <td>2.89</td>\n",
              "      <td>1.38</td>\n",
              "      <td>0.0</td>\n",
              "      <td>0.0</td>\n",
              "      <td>0.0</td>\n",
              "      <td>0.0</td>\n",
              "      <td>56.49</td>\n",
              "      <td>99.36</td>\n",
              "      <td>0.0</td>\n",
              "      <td>4.51</td>\n",
              "      <td>6.16</td>\n",
              "      <td>6.49</td>\n",
              "      <td>89.86</td>\n",
              "      <td>25.18</td>\n",
              "      <td>23.51</td>\n",
              "      <td>0.0</td>\n",
              "      <td>0.0</td>\n",
              "      <td>0.0</td>\n",
              "      <td>94.38</td>\n",
              "      <td>31.34</td>\n",
              "      <td>30.01</td>\n",
              "      <td>11.69</td>\n",
              "      <td>0.0</td>\n",
              "      <td>0.0</td>\n",
              "      <td>18.21</td>\n",
              "      <td>2.48</td>\n",
              "      <td>6.38</td>\n",
              "      <td>0.0</td>\n",
              "      <td>0.0</td>\n",
              "      <td>0.0</td>\n",
              "      <td>0.0</td>\n",
              "      <td>0.0</td>\n",
              "      <td>0.0</td>\n",
              "      <td>29.91</td>\n",
              "      <td>2.48</td>\n",
              "      <td>6.38</td>\n",
              "      <td>124.29</td>\n",
              "      <td>33.83</td>\n",
              "      <td>36.64</td>\n",
              "      <td>0.0</td>\n",
              "      <td>0.0</td>\n",
              "      <td>0.0</td>\n",
              "      <td>0.0</td>\n",
              "      <td>0.0</td>\n",
              "      <td>0.0</td>\n",
              "      <td>0.0</td>\n",
              "      <td>0.0</td>\n",
              "      <td>0.25</td>\n",
              "      <td>2.0</td>\n",
              "      <td>4.0</td>\n",
              "      <td>2.0</td>\n",
              "      <td>70.0</td>\n",
              "      <td>120.0</td>\n",
              "      <td>0.0</td>\n",
              "      <td>70.0</td>\n",
              "      <td>70.0</td>\n",
              "      <td>0.0</td>\n",
              "      <td>6/11/2014</td>\n",
              "      <td>7/22/2014</td>\n",
              "      <td>8/24/2014</td>\n",
              "      <td>70.0</td>\n",
              "      <td>50.0</td>\n",
              "      <td>0.0</td>\n",
              "      <td>NaN</td>\n",
              "      <td>NaN</td>\n",
              "      <td>NaN</td>\n",
              "      <td>NaN</td>\n",
              "      <td>NaN</td>\n",
              "      <td>NaN</td>\n",
              "      <td>NaN</td>\n",
              "      <td>NaN</td>\n",
              "      <td>NaN</td>\n",
              "      <td>NaN</td>\n",
              "      <td>NaN</td>\n",
              "      <td>NaN</td>\n",
              "      <td>NaN</td>\n",
              "      <td>NaN</td>\n",
              "      <td>NaN</td>\n",
              "      <td>NaN</td>\n",
              "      <td>NaN</td>\n",
              "      <td>NaN</td>\n",
              "      <td>0.0</td>\n",
              "      <td>0.00</td>\n",
              "      <td>0.00</td>\n",
              "      <td>0.0</td>\n",
              "      <td>0.00</td>\n",
              "      <td>0.0</td>\n",
              "      <td>NaN</td>\n",
              "      <td>NaN</td>\n",
              "      <td>NaN</td>\n",
              "      <td>NaN</td>\n",
              "      <td>NaN</td>\n",
              "      <td>NaN</td>\n",
              "      <td>NaN</td>\n",
              "      <td>NaN</td>\n",
              "      <td>NaN</td>\n",
              "      <td>0.0</td>\n",
              "      <td>0.0</td>\n",
              "      <td>0.0</td>\n",
              "      <td>0.0</td>\n",
              "      <td>0.0</td>\n",
              "      <td>0.0</td>\n",
              "      <td>0.0</td>\n",
              "      <td>0.0</td>\n",
              "      <td>0.0</td>\n",
              "      <td>0.0</td>\n",
              "      <td>0.0</td>\n",
              "      <td>0.0</td>\n",
              "      <td>NaN</td>\n",
              "      <td>NaN</td>\n",
              "      <td>NaN</td>\n",
              "      <td>882.0</td>\n",
              "      <td>0.0</td>\n",
              "      <td>0.0</td>\n",
              "      <td>0.0</td>\n",
              "      <td>0.0</td>\n",
              "      <td>NaN</td>\n",
              "      <td>NaN</td>\n",
              "      <td>70.0</td>\n",
              "      <td>0.0</td>\n",
              "      <td>35.0</td>\n",
              "    </tr>\n",
              "    <tr>\n",
              "      <th>3</th>\n",
              "      <td>3.0</td>\n",
              "      <td>109</td>\n",
              "      <td>0.0</td>\n",
              "      <td>0.0</td>\n",
              "      <td>0.0</td>\n",
              "      <td>6/30/2014</td>\n",
              "      <td>7/31/2014</td>\n",
              "      <td>8/31/2014</td>\n",
              "      <td>156.362</td>\n",
              "      <td>205.260</td>\n",
              "      <td>111.095</td>\n",
              "      <td>7.26</td>\n",
              "      <td>16.01</td>\n",
              "      <td>0.00</td>\n",
              "      <td>68.76</td>\n",
              "      <td>78.48</td>\n",
              "      <td>50.23</td>\n",
              "      <td>0.00</td>\n",
              "      <td>0.0</td>\n",
              "      <td>0.0</td>\n",
              "      <td>0.00</td>\n",
              "      <td>0.0</td>\n",
              "      <td>1.63</td>\n",
              "      <td>6.99</td>\n",
              "      <td>3.94</td>\n",
              "      <td>0.00</td>\n",
              "      <td>37.91</td>\n",
              "      <td>44.89</td>\n",
              "      <td>23.63</td>\n",
              "      <td>0.00</td>\n",
              "      <td>0.0</td>\n",
              "      <td>0.0</td>\n",
              "      <td>0.0</td>\n",
              "      <td>0.00</td>\n",
              "      <td>8.03</td>\n",
              "      <td>44.91</td>\n",
              "      <td>48.84</td>\n",
              "      <td>23.63</td>\n",
              "      <td>0.26</td>\n",
              "      <td>12.06</td>\n",
              "      <td>0.00</td>\n",
              "      <td>15.33</td>\n",
              "      <td>25.93</td>\n",
              "      <td>4.6</td>\n",
              "      <td>0.56</td>\n",
              "      <td>0.0</td>\n",
              "      <td>0.0</td>\n",
              "      <td>0.0</td>\n",
              "      <td>0.0</td>\n",
              "      <td>0.0</td>\n",
              "      <td>16.16</td>\n",
              "      <td>37.99</td>\n",
              "      <td>4.6</td>\n",
              "      <td>0.0</td>\n",
              "      <td>0.0</td>\n",
              "      <td>0.0</td>\n",
              "      <td>14.95</td>\n",
              "      <td>9.13</td>\n",
              "      <td>25.61</td>\n",
              "      <td>0.0</td>\n",
              "      <td>0.0</td>\n",
              "      <td>0.0</td>\n",
              "      <td>76.03</td>\n",
              "      <td>95.98</td>\n",
              "      <td>53.84</td>\n",
              "      <td>24.98</td>\n",
              "      <td>4.84</td>\n",
              "      <td>23.88</td>\n",
              "      <td>53.99</td>\n",
              "      <td>44.23</td>\n",
              "      <td>57.14</td>\n",
              "      <td>7.23</td>\n",
              "      <td>0.81</td>\n",
              "      <td>0.0</td>\n",
              "      <td>86.21</td>\n",
              "      <td>49.89</td>\n",
              "      <td>81.03</td>\n",
              "      <td>0.0</td>\n",
              "      <td>0.0</td>\n",
              "      <td>0.0</td>\n",
              "      <td>8.89</td>\n",
              "      <td>0.28</td>\n",
              "      <td>2.81</td>\n",
              "      <td>0.0</td>\n",
              "      <td>0.0</td>\n",
              "      <td>0.0</td>\n",
              "      <td>0.0</td>\n",
              "      <td>0.0</td>\n",
              "      <td>0.0</td>\n",
              "      <td>8.89</td>\n",
              "      <td>0.28</td>\n",
              "      <td>2.81</td>\n",
              "      <td>95.11</td>\n",
              "      <td>50.18</td>\n",
              "      <td>83.84</td>\n",
              "      <td>0.0</td>\n",
              "      <td>0.0</td>\n",
              "      <td>0.0</td>\n",
              "      <td>0.0</td>\n",
              "      <td>0.0</td>\n",
              "      <td>0.0</td>\n",
              "      <td>0.0</td>\n",
              "      <td>0.0</td>\n",
              "      <td>0.0</td>\n",
              "      <td>2.0</td>\n",
              "      <td>4.0</td>\n",
              "      <td>3.0</td>\n",
              "      <td>160.0</td>\n",
              "      <td>240.0</td>\n",
              "      <td>130.0</td>\n",
              "      <td>110.0</td>\n",
              "      <td>110.0</td>\n",
              "      <td>50.0</td>\n",
              "      <td>6/15/2014</td>\n",
              "      <td>7/21/2014</td>\n",
              "      <td>8/25/2014</td>\n",
              "      <td>110.0</td>\n",
              "      <td>110.0</td>\n",
              "      <td>50.0</td>\n",
              "      <td>NaN</td>\n",
              "      <td>NaN</td>\n",
              "      <td>NaN</td>\n",
              "      <td>NaN</td>\n",
              "      <td>NaN</td>\n",
              "      <td>NaN</td>\n",
              "      <td>NaN</td>\n",
              "      <td>NaN</td>\n",
              "      <td>NaN</td>\n",
              "      <td>NaN</td>\n",
              "      <td>NaN</td>\n",
              "      <td>NaN</td>\n",
              "      <td>NaN</td>\n",
              "      <td>NaN</td>\n",
              "      <td>NaN</td>\n",
              "      <td>NaN</td>\n",
              "      <td>NaN</td>\n",
              "      <td>NaN</td>\n",
              "      <td>0.0</td>\n",
              "      <td>0.00</td>\n",
              "      <td>0.00</td>\n",
              "      <td>0.0</td>\n",
              "      <td>0.00</td>\n",
              "      <td>0.0</td>\n",
              "      <td>NaN</td>\n",
              "      <td>NaN</td>\n",
              "      <td>NaN</td>\n",
              "      <td>NaN</td>\n",
              "      <td>NaN</td>\n",
              "      <td>NaN</td>\n",
              "      <td>NaN</td>\n",
              "      <td>NaN</td>\n",
              "      <td>NaN</td>\n",
              "      <td>0.0</td>\n",
              "      <td>0.0</td>\n",
              "      <td>0.0</td>\n",
              "      <td>0.0</td>\n",
              "      <td>0.0</td>\n",
              "      <td>0.0</td>\n",
              "      <td>0.0</td>\n",
              "      <td>0.0</td>\n",
              "      <td>0.0</td>\n",
              "      <td>0.0</td>\n",
              "      <td>0.0</td>\n",
              "      <td>0.0</td>\n",
              "      <td>NaN</td>\n",
              "      <td>NaN</td>\n",
              "      <td>NaN</td>\n",
              "      <td>982.0</td>\n",
              "      <td>0.0</td>\n",
              "      <td>0.0</td>\n",
              "      <td>0.0</td>\n",
              "      <td>0.0</td>\n",
              "      <td>NaN</td>\n",
              "      <td>NaN</td>\n",
              "      <td>160.0</td>\n",
              "      <td>0.0</td>\n",
              "      <td>80.0</td>\n",
              "    </tr>\n",
              "    <tr>\n",
              "      <th>4</th>\n",
              "      <td>4.0</td>\n",
              "      <td>109</td>\n",
              "      <td>0.0</td>\n",
              "      <td>0.0</td>\n",
              "      <td>0.0</td>\n",
              "      <td>6/30/2014</td>\n",
              "      <td>7/31/2014</td>\n",
              "      <td>8/31/2014</td>\n",
              "      <td>240.708</td>\n",
              "      <td>128.191</td>\n",
              "      <td>101.565</td>\n",
              "      <td>21.28</td>\n",
              "      <td>4.83</td>\n",
              "      <td>6.13</td>\n",
              "      <td>56.99</td>\n",
              "      <td>38.11</td>\n",
              "      <td>9.63</td>\n",
              "      <td>53.64</td>\n",
              "      <td>0.0</td>\n",
              "      <td>0.0</td>\n",
              "      <td>15.73</td>\n",
              "      <td>0.0</td>\n",
              "      <td>0.0</td>\n",
              "      <td>10.16</td>\n",
              "      <td>4.83</td>\n",
              "      <td>6.13</td>\n",
              "      <td>36.74</td>\n",
              "      <td>19.88</td>\n",
              "      <td>4.61</td>\n",
              "      <td>11.99</td>\n",
              "      <td>1.23</td>\n",
              "      <td>5.01</td>\n",
              "      <td>0.0</td>\n",
              "      <td>9.85</td>\n",
              "      <td>0.0</td>\n",
              "      <td>58.91</td>\n",
              "      <td>25.94</td>\n",
              "      <td>15.76</td>\n",
              "      <td>0.0</td>\n",
              "      <td>0.00</td>\n",
              "      <td>0.00</td>\n",
              "      <td>4.35</td>\n",
              "      <td>0.0</td>\n",
              "      <td>0.0</td>\n",
              "      <td>0.0</td>\n",
              "      <td>0.0</td>\n",
              "      <td>0.0</td>\n",
              "      <td>0.0</td>\n",
              "      <td>0.0</td>\n",
              "      <td>0.0</td>\n",
              "      <td>4.35</td>\n",
              "      <td>0.0</td>\n",
              "      <td>0.0</td>\n",
              "      <td>0.0</td>\n",
              "      <td>0.0</td>\n",
              "      <td>0.0</td>\n",
              "      <td>0.0</td>\n",
              "      <td>17.0</td>\n",
              "      <td>0.0</td>\n",
              "      <td>0.0</td>\n",
              "      <td>0.0</td>\n",
              "      <td>0.0</td>\n",
              "      <td>63.26</td>\n",
              "      <td>42.94</td>\n",
              "      <td>15.76</td>\n",
              "      <td>5.44</td>\n",
              "      <td>1.39</td>\n",
              "      <td>2.66</td>\n",
              "      <td>10.58</td>\n",
              "      <td>4.33</td>\n",
              "      <td>19.49</td>\n",
              "      <td>5.51</td>\n",
              "      <td>3.63</td>\n",
              "      <td>6.14</td>\n",
              "      <td>21.54</td>\n",
              "      <td>9.36</td>\n",
              "      <td>28.31</td>\n",
              "      <td>0.0</td>\n",
              "      <td>0.0</td>\n",
              "      <td>0.0</td>\n",
              "      <td>0.0</td>\n",
              "      <td>0.00</td>\n",
              "      <td>0.0</td>\n",
              "      <td>0.0</td>\n",
              "      <td>0.0</td>\n",
              "      <td>0.0</td>\n",
              "      <td>0.0</td>\n",
              "      <td>0.0</td>\n",
              "      <td>0.0</td>\n",
              "      <td>0.0</td>\n",
              "      <td>0.0</td>\n",
              "      <td>0.0</td>\n",
              "      <td>21.54</td>\n",
              "      <td>9.36</td>\n",
              "      <td>28.31</td>\n",
              "      <td>0.0</td>\n",
              "      <td>0.0</td>\n",
              "      <td>0.0</td>\n",
              "      <td>0.0</td>\n",
              "      <td>0.0</td>\n",
              "      <td>0.0</td>\n",
              "      <td>0.0</td>\n",
              "      <td>0.0</td>\n",
              "      <td>0.0</td>\n",
              "      <td>13.0</td>\n",
              "      <td>10.0</td>\n",
              "      <td>8.0</td>\n",
              "      <td>290.0</td>\n",
              "      <td>136.0</td>\n",
              "      <td>122.0</td>\n",
              "      <td>50.0</td>\n",
              "      <td>41.0</td>\n",
              "      <td>30.0</td>\n",
              "      <td>6/25/2014</td>\n",
              "      <td>7/26/2014</td>\n",
              "      <td>8/30/2014</td>\n",
              "      <td>25.0</td>\n",
              "      <td>10.0</td>\n",
              "      <td>30.0</td>\n",
              "      <td>6/25/2014</td>\n",
              "      <td>7/23/2014</td>\n",
              "      <td>8/20/2014</td>\n",
              "      <td>7.0</td>\n",
              "      <td>7.0</td>\n",
              "      <td>6.0</td>\n",
              "      <td>25.0</td>\n",
              "      <td>41.0</td>\n",
              "      <td>25.0</td>\n",
              "      <td>7.0</td>\n",
              "      <td>6.0</td>\n",
              "      <td>6.0</td>\n",
              "      <td>0.0</td>\n",
              "      <td>1.0</td>\n",
              "      <td>0.0</td>\n",
              "      <td>175.0</td>\n",
              "      <td>191.0</td>\n",
              "      <td>142.0</td>\n",
              "      <td>390.8</td>\n",
              "      <td>308.89</td>\n",
              "      <td>213.47</td>\n",
              "      <td>0.0</td>\n",
              "      <td>0.00</td>\n",
              "      <td>0.0</td>\n",
              "      <td>0.0</td>\n",
              "      <td>35.00</td>\n",
              "      <td>0.0</td>\n",
              "      <td>0.0</td>\n",
              "      <td>35.12</td>\n",
              "      <td>0.0</td>\n",
              "      <td>0.0</td>\n",
              "      <td>0.0</td>\n",
              "      <td>0.0</td>\n",
              "      <td>0.0</td>\n",
              "      <td>0.0</td>\n",
              "      <td>0.0</td>\n",
              "      <td>7.0</td>\n",
              "      <td>6.0</td>\n",
              "      <td>6.0</td>\n",
              "      <td>0.0</td>\n",
              "      <td>0.0</td>\n",
              "      <td>0.0</td>\n",
              "      <td>0.0</td>\n",
              "      <td>1.0</td>\n",
              "      <td>0.0</td>\n",
              "      <td>1.0</td>\n",
              "      <td>1.0</td>\n",
              "      <td>1.0</td>\n",
              "      <td>647.0</td>\n",
              "      <td>0.0</td>\n",
              "      <td>0.0</td>\n",
              "      <td>0.0</td>\n",
              "      <td>0.0</td>\n",
              "      <td>1225.0</td>\n",
              "      <td>1337.0</td>\n",
              "      <td>1515.0</td>\n",
              "      <td>1337.0</td>\n",
              "      <td>1426.0</td>\n",
              "    </tr>\n",
              "  </tbody>\n",
              "</table>\n",
              "</div>\n",
              "      <button class=\"colab-df-convert\" onclick=\"convertToInteractive('df-73c7ad46-afa2-4755-b097-2ae4bc81963d')\"\n",
              "              title=\"Convert this dataframe to an interactive table.\"\n",
              "              style=\"display:none;\">\n",
              "        \n",
              "  <svg xmlns=\"http://www.w3.org/2000/svg\" height=\"24px\"viewBox=\"0 0 24 24\"\n",
              "       width=\"24px\">\n",
              "    <path d=\"M0 0h24v24H0V0z\" fill=\"none\"/>\n",
              "    <path d=\"M18.56 5.44l.94 2.06.94-2.06 2.06-.94-2.06-.94-.94-2.06-.94 2.06-2.06.94zm-11 1L8.5 8.5l.94-2.06 2.06-.94-2.06-.94L8.5 2.5l-.94 2.06-2.06.94zm10 10l.94 2.06.94-2.06 2.06-.94-2.06-.94-.94-2.06-.94 2.06-2.06.94z\"/><path d=\"M17.41 7.96l-1.37-1.37c-.4-.4-.92-.59-1.43-.59-.52 0-1.04.2-1.43.59L10.3 9.45l-7.72 7.72c-.78.78-.78 2.05 0 2.83L4 21.41c.39.39.9.59 1.41.59.51 0 1.02-.2 1.41-.59l7.78-7.78 2.81-2.81c.8-.78.8-2.07 0-2.86zM5.41 20L4 18.59l7.72-7.72 1.47 1.35L5.41 20z\"/>\n",
              "  </svg>\n",
              "      </button>\n",
              "      \n",
              "  <style>\n",
              "    .colab-df-container {\n",
              "      display:flex;\n",
              "      flex-wrap:wrap;\n",
              "      gap: 12px;\n",
              "    }\n",
              "\n",
              "    .colab-df-convert {\n",
              "      background-color: #E8F0FE;\n",
              "      border: none;\n",
              "      border-radius: 50%;\n",
              "      cursor: pointer;\n",
              "      display: none;\n",
              "      fill: #1967D2;\n",
              "      height: 32px;\n",
              "      padding: 0 0 0 0;\n",
              "      width: 32px;\n",
              "    }\n",
              "\n",
              "    .colab-df-convert:hover {\n",
              "      background-color: #E2EBFA;\n",
              "      box-shadow: 0px 1px 2px rgba(60, 64, 67, 0.3), 0px 1px 3px 1px rgba(60, 64, 67, 0.15);\n",
              "      fill: #174EA6;\n",
              "    }\n",
              "\n",
              "    [theme=dark] .colab-df-convert {\n",
              "      background-color: #3B4455;\n",
              "      fill: #D2E3FC;\n",
              "    }\n",
              "\n",
              "    [theme=dark] .colab-df-convert:hover {\n",
              "      background-color: #434B5C;\n",
              "      box-shadow: 0px 1px 3px 1px rgba(0, 0, 0, 0.15);\n",
              "      filter: drop-shadow(0px 1px 2px rgba(0, 0, 0, 0.3));\n",
              "      fill: #FFFFFF;\n",
              "    }\n",
              "  </style>\n",
              "\n",
              "      <script>\n",
              "        const buttonEl =\n",
              "          document.querySelector('#df-73c7ad46-afa2-4755-b097-2ae4bc81963d button.colab-df-convert');\n",
              "        buttonEl.style.display =\n",
              "          google.colab.kernel.accessAllowed ? 'block' : 'none';\n",
              "\n",
              "        async function convertToInteractive(key) {\n",
              "          const element = document.querySelector('#df-73c7ad46-afa2-4755-b097-2ae4bc81963d');\n",
              "          const dataTable =\n",
              "            await google.colab.kernel.invokeFunction('convertToInteractive',\n",
              "                                                     [key], {});\n",
              "          if (!dataTable) return;\n",
              "\n",
              "          const docLinkHtml = 'Like what you see? Visit the ' +\n",
              "            '<a target=\"_blank\" href=https://colab.research.google.com/notebooks/data_table.ipynb>data table notebook</a>'\n",
              "            + ' to learn more about interactive tables.';\n",
              "          element.innerHTML = '';\n",
              "          dataTable['output_type'] = 'display_data';\n",
              "          await google.colab.output.renderOutput(dataTable, element);\n",
              "          const docLink = document.createElement('div');\n",
              "          docLink.innerHTML = docLinkHtml;\n",
              "          element.appendChild(docLink);\n",
              "        }\n",
              "      </script>\n",
              "    </div>\n",
              "  </div>\n",
              "  "
            ]
          },
          "metadata": {},
          "execution_count": 16
        }
      ],
      "source": [
        "data.head()"
      ]
    },
    {
      "cell_type": "code",
      "execution_count": 17,
      "metadata": {
        "colab": {
          "base_uri": "https://localhost:8080/",
          "height": 331
        },
        "id": "uWSC-dL3NgM6",
        "outputId": "e5a12a57-1a1d-404b-d7ff-298b882cfb8d"
      },
      "outputs": [
        {
          "output_type": "execute_result",
          "data": {
            "text/plain": [
              "     total_rech_amt_6  AVG_amt_data_6_7\n",
              "0.1               0.0              10.0\n",
              "0.2              80.0              50.0\n",
              "0.3             120.0              75.0\n",
              "0.4             170.0             110.0\n",
              "0.5             230.0             148.0\n",
              "0.6             290.0             202.0\n",
              "0.7             378.0             276.0\n",
              "0.8             504.0             402.0\n",
              "0.9             733.0             680.0"
            ],
            "text/html": [
              "\n",
              "  <div id=\"df-b295c861-8d63-4c1e-99c1-064e1d6d06ce\">\n",
              "    <div class=\"colab-df-container\">\n",
              "      <div>\n",
              "<style scoped>\n",
              "    .dataframe tbody tr th:only-of-type {\n",
              "        vertical-align: middle;\n",
              "    }\n",
              "\n",
              "    .dataframe tbody tr th {\n",
              "        vertical-align: top;\n",
              "    }\n",
              "\n",
              "    .dataframe thead th {\n",
              "        text-align: right;\n",
              "    }\n",
              "</style>\n",
              "<table border=\"1\" class=\"dataframe\">\n",
              "  <thead>\n",
              "    <tr style=\"text-align: right;\">\n",
              "      <th></th>\n",
              "      <th>total_rech_amt_6</th>\n",
              "      <th>AVG_amt_data_6_7</th>\n",
              "    </tr>\n",
              "  </thead>\n",
              "  <tbody>\n",
              "    <tr>\n",
              "      <th>0.1</th>\n",
              "      <td>0.0</td>\n",
              "      <td>10.0</td>\n",
              "    </tr>\n",
              "    <tr>\n",
              "      <th>0.2</th>\n",
              "      <td>80.0</td>\n",
              "      <td>50.0</td>\n",
              "    </tr>\n",
              "    <tr>\n",
              "      <th>0.3</th>\n",
              "      <td>120.0</td>\n",
              "      <td>75.0</td>\n",
              "    </tr>\n",
              "    <tr>\n",
              "      <th>0.4</th>\n",
              "      <td>170.0</td>\n",
              "      <td>110.0</td>\n",
              "    </tr>\n",
              "    <tr>\n",
              "      <th>0.5</th>\n",
              "      <td>230.0</td>\n",
              "      <td>148.0</td>\n",
              "    </tr>\n",
              "    <tr>\n",
              "      <th>0.6</th>\n",
              "      <td>290.0</td>\n",
              "      <td>202.0</td>\n",
              "    </tr>\n",
              "    <tr>\n",
              "      <th>0.7</th>\n",
              "      <td>378.0</td>\n",
              "      <td>276.0</td>\n",
              "    </tr>\n",
              "    <tr>\n",
              "      <th>0.8</th>\n",
              "      <td>504.0</td>\n",
              "      <td>402.0</td>\n",
              "    </tr>\n",
              "    <tr>\n",
              "      <th>0.9</th>\n",
              "      <td>733.0</td>\n",
              "      <td>680.0</td>\n",
              "    </tr>\n",
              "  </tbody>\n",
              "</table>\n",
              "</div>\n",
              "      <button class=\"colab-df-convert\" onclick=\"convertToInteractive('df-b295c861-8d63-4c1e-99c1-064e1d6d06ce')\"\n",
              "              title=\"Convert this dataframe to an interactive table.\"\n",
              "              style=\"display:none;\">\n",
              "        \n",
              "  <svg xmlns=\"http://www.w3.org/2000/svg\" height=\"24px\"viewBox=\"0 0 24 24\"\n",
              "       width=\"24px\">\n",
              "    <path d=\"M0 0h24v24H0V0z\" fill=\"none\"/>\n",
              "    <path d=\"M18.56 5.44l.94 2.06.94-2.06 2.06-.94-2.06-.94-.94-2.06-.94 2.06-2.06.94zm-11 1L8.5 8.5l.94-2.06 2.06-.94-2.06-.94L8.5 2.5l-.94 2.06-2.06.94zm10 10l.94 2.06.94-2.06 2.06-.94-2.06-.94-.94-2.06-.94 2.06-2.06.94z\"/><path d=\"M17.41 7.96l-1.37-1.37c-.4-.4-.92-.59-1.43-.59-.52 0-1.04.2-1.43.59L10.3 9.45l-7.72 7.72c-.78.78-.78 2.05 0 2.83L4 21.41c.39.39.9.59 1.41.59.51 0 1.02-.2 1.41-.59l7.78-7.78 2.81-2.81c.8-.78.8-2.07 0-2.86zM5.41 20L4 18.59l7.72-7.72 1.47 1.35L5.41 20z\"/>\n",
              "  </svg>\n",
              "      </button>\n",
              "      \n",
              "  <style>\n",
              "    .colab-df-container {\n",
              "      display:flex;\n",
              "      flex-wrap:wrap;\n",
              "      gap: 12px;\n",
              "    }\n",
              "\n",
              "    .colab-df-convert {\n",
              "      background-color: #E8F0FE;\n",
              "      border: none;\n",
              "      border-radius: 50%;\n",
              "      cursor: pointer;\n",
              "      display: none;\n",
              "      fill: #1967D2;\n",
              "      height: 32px;\n",
              "      padding: 0 0 0 0;\n",
              "      width: 32px;\n",
              "    }\n",
              "\n",
              "    .colab-df-convert:hover {\n",
              "      background-color: #E2EBFA;\n",
              "      box-shadow: 0px 1px 2px rgba(60, 64, 67, 0.3), 0px 1px 3px 1px rgba(60, 64, 67, 0.15);\n",
              "      fill: #174EA6;\n",
              "    }\n",
              "\n",
              "    [theme=dark] .colab-df-convert {\n",
              "      background-color: #3B4455;\n",
              "      fill: #D2E3FC;\n",
              "    }\n",
              "\n",
              "    [theme=dark] .colab-df-convert:hover {\n",
              "      background-color: #434B5C;\n",
              "      box-shadow: 0px 1px 3px 1px rgba(0, 0, 0, 0.15);\n",
              "      filter: drop-shadow(0px 1px 2px rgba(0, 0, 0, 0.3));\n",
              "      fill: #FFFFFF;\n",
              "    }\n",
              "  </style>\n",
              "\n",
              "      <script>\n",
              "        const buttonEl =\n",
              "          document.querySelector('#df-b295c861-8d63-4c1e-99c1-064e1d6d06ce button.colab-df-convert');\n",
              "        buttonEl.style.display =\n",
              "          google.colab.kernel.accessAllowed ? 'block' : 'none';\n",
              "\n",
              "        async function convertToInteractive(key) {\n",
              "          const element = document.querySelector('#df-b295c861-8d63-4c1e-99c1-064e1d6d06ce');\n",
              "          const dataTable =\n",
              "            await google.colab.kernel.invokeFunction('convertToInteractive',\n",
              "                                                     [key], {});\n",
              "          if (!dataTable) return;\n",
              "\n",
              "          const docLinkHtml = 'Like what you see? Visit the ' +\n",
              "            '<a target=\"_blank\" href=https://colab.research.google.com/notebooks/data_table.ipynb>data table notebook</a>'\n",
              "            + ' to learn more about interactive tables.';\n",
              "          element.innerHTML = '';\n",
              "          dataTable['output_type'] = 'display_data';\n",
              "          await google.colab.output.renderOutput(dataTable, element);\n",
              "          const docLink = document.createElement('div');\n",
              "          docLink.innerHTML = docLinkHtml;\n",
              "          element.appendChild(docLink);\n",
              "        }\n",
              "      </script>\n",
              "    </div>\n",
              "  </div>\n",
              "  "
            ]
          },
          "metadata": {},
          "execution_count": 17
        }
      ],
      "source": [
        "data[['total_rech_amt_6','total_rech_amt_7','AVG_amt_data_6_7']].quantile(np.linspace(.1, 1, 9, 0))"
      ]
    },
    {
      "cell_type": "markdown",
      "metadata": {
        "id": "AVup2TN-NgM7"
      },
      "source": [
        "As per the definition of high value customers are those whose recharge amount should be more than or equal to 70th percentile. <br>\n",
        "\n",
        "But if we use greater than or equal to, we end up getting a little above 30K records as against to 29.9K records. <br>\n",
        "So, if we conisder only  greater than, then we get 29.9K records. <br>\n",
        "Therefore we have considered greater than to filter high value customers"
      ]
    },
    {
      "cell_type": "code",
      "execution_count": 18,
      "metadata": {
        "colab": {
          "base_uri": "https://localhost:8080/"
        },
        "id": "zEIOMhqpNgM7",
        "outputId": "03ff4dae-01ce-4cac-bbbf-7c35d95e4c1b"
      },
      "outputs": [
        {
          "output_type": "stream",
          "name": "stdout",
          "text": [
            "<class 'pandas.core.frame.DataFrame'>\n",
            "Int64Index: 58226 entries, 4 to 57070\n",
            "Columns: 177 entries, id to AVG_amt_data_6_7\n",
            "dtypes: float64(88), object(89)\n",
            "memory usage: 79.1+ MB\n"
          ]
        }
      ],
      "source": [
        "df = data[(data['AVG_amt_data_6_7']> data['AVG_amt_data_6_7'].quantile(0.7))]\n",
        "df.info()"
      ]
    },
    {
      "cell_type": "markdown",
      "metadata": {
        "id": "Td2GVCvgNgM8"
      },
      "source": [
        "## Churn customers\n",
        "<br>\n",
        "Identifying churn high value customers based on the last month i.e. month 9"
      ]
    },
    {
      "cell_type": "code",
      "source": [
        "df.columns"
      ],
      "metadata": {
        "colab": {
          "base_uri": "https://localhost:8080/"
        },
        "id": "KRItBnK7fKOr",
        "outputId": "30db41c2-5585-4ec4-e21b-9d878b235fd0"
      },
      "execution_count": 34,
      "outputs": [
        {
          "output_type": "execute_result",
          "data": {
            "text/plain": [
              "Index(['id', 'circle_id', 'arpu_6', 'arpu_7', 'arpu_8', 'onnet_mou_6',\n",
              "       'onnet_mou_7', 'onnet_mou_8', 'offnet_mou_6', 'offnet_mou_7',\n",
              "       ...\n",
              "       'aon', 'aug_vbc_3g', 'jul_vbc_3g', 'jun_vbc_3g', 'churn_probability',\n",
              "       'total_data_rech_6', 'total_data_rech_7', 'amt_data_6', 'amt_data_7',\n",
              "       'AVG_amt_data_6_7'],\n",
              "      dtype='object', length=171)"
            ]
          },
          "metadata": {},
          "execution_count": 34
        }
      ]
    },
    {
      "cell_type": "code",
      "source": [
        "dfcols = df.columns"
      ],
      "metadata": {
        "id": "1tnqmyvUgTKR"
      },
      "execution_count": 38,
      "outputs": []
    },
    {
      "cell_type": "code",
      "source": [
        "dfcols.to_list()"
      ],
      "metadata": {
        "colab": {
          "base_uri": "https://localhost:8080/"
        },
        "id": "6TE6MWjUgnl5",
        "outputId": "f49022db-ea01-40f2-cf31-cc53e29cadab"
      },
      "execution_count": 40,
      "outputs": [
        {
          "output_type": "execute_result",
          "data": {
            "text/plain": [
              "['id',\n",
              " 'circle_id',\n",
              " 'arpu_6',\n",
              " 'arpu_7',\n",
              " 'arpu_8',\n",
              " 'onnet_mou_6',\n",
              " 'onnet_mou_7',\n",
              " 'onnet_mou_8',\n",
              " 'offnet_mou_6',\n",
              " 'offnet_mou_7',\n",
              " 'offnet_mou_8',\n",
              " 'roam_ic_mou_6',\n",
              " 'roam_ic_mou_7',\n",
              " 'roam_ic_mou_8',\n",
              " 'roam_og_mou_6',\n",
              " 'roam_og_mou_7',\n",
              " 'roam_og_mou_8',\n",
              " 'loc_og_t2t_mou_6',\n",
              " 'loc_og_t2t_mou_7',\n",
              " 'loc_og_t2t_mou_8',\n",
              " 'loc_og_t2m_mou_6',\n",
              " 'loc_og_t2m_mou_7',\n",
              " 'loc_og_t2m_mou_8',\n",
              " 'loc_og_t2f_mou_6',\n",
              " 'loc_og_t2f_mou_7',\n",
              " 'loc_og_t2f_mou_8',\n",
              " 'loc_og_t2c_mou_6',\n",
              " 'loc_og_t2c_mou_7',\n",
              " 'loc_og_t2c_mou_8',\n",
              " 'loc_og_mou_6',\n",
              " 'loc_og_mou_7',\n",
              " 'loc_og_mou_8',\n",
              " 'std_og_t2t_mou_6',\n",
              " 'std_og_t2t_mou_7',\n",
              " 'std_og_t2t_mou_8',\n",
              " 'std_og_t2m_mou_6',\n",
              " 'std_og_t2m_mou_7',\n",
              " 'std_og_t2m_mou_8',\n",
              " 'std_og_t2f_mou_6',\n",
              " 'std_og_t2f_mou_7',\n",
              " 'std_og_t2f_mou_8',\n",
              " 'std_og_t2c_mou_6',\n",
              " 'std_og_t2c_mou_7',\n",
              " 'std_og_t2c_mou_8',\n",
              " 'std_og_mou_6',\n",
              " 'std_og_mou_7',\n",
              " 'std_og_mou_8',\n",
              " 'isd_og_mou_6',\n",
              " 'isd_og_mou_7',\n",
              " 'isd_og_mou_8',\n",
              " 'spl_og_mou_6',\n",
              " 'spl_og_mou_7',\n",
              " 'spl_og_mou_8',\n",
              " 'og_others_6',\n",
              " 'og_others_7',\n",
              " 'og_others_8',\n",
              " 'total_og_mou_6',\n",
              " 'total_og_mou_7',\n",
              " 'total_og_mou_8',\n",
              " 'loc_ic_t2t_mou_6',\n",
              " 'loc_ic_t2t_mou_7',\n",
              " 'loc_ic_t2t_mou_8',\n",
              " 'loc_ic_t2m_mou_6',\n",
              " 'loc_ic_t2m_mou_7',\n",
              " 'loc_ic_t2m_mou_8',\n",
              " 'loc_ic_t2f_mou_6',\n",
              " 'loc_ic_t2f_mou_7',\n",
              " 'loc_ic_t2f_mou_8',\n",
              " 'loc_ic_mou_6',\n",
              " 'loc_ic_mou_7',\n",
              " 'loc_ic_mou_8',\n",
              " 'std_ic_t2t_mou_6',\n",
              " 'std_ic_t2t_mou_7',\n",
              " 'std_ic_t2t_mou_8',\n",
              " 'std_ic_t2m_mou_6',\n",
              " 'std_ic_t2m_mou_7',\n",
              " 'std_ic_t2m_mou_8',\n",
              " 'std_ic_t2f_mou_6',\n",
              " 'std_ic_t2f_mou_7',\n",
              " 'std_ic_t2f_mou_8',\n",
              " 'std_ic_t2o_mou_6',\n",
              " 'std_ic_t2o_mou_7',\n",
              " 'std_ic_t2o_mou_8',\n",
              " 'std_ic_mou_6',\n",
              " 'std_ic_mou_7',\n",
              " 'std_ic_mou_8',\n",
              " 'total_ic_mou_6',\n",
              " 'total_ic_mou_7',\n",
              " 'total_ic_mou_8',\n",
              " 'spl_ic_mou_6',\n",
              " 'spl_ic_mou_7',\n",
              " 'spl_ic_mou_8',\n",
              " 'isd_ic_mou_6',\n",
              " 'isd_ic_mou_7',\n",
              " 'isd_ic_mou_8',\n",
              " 'ic_others_6',\n",
              " 'ic_others_7',\n",
              " 'ic_others_8',\n",
              " 'total_rech_num_6',\n",
              " 'total_rech_num_7',\n",
              " 'total_rech_num_8',\n",
              " 'total_rech_amt_6',\n",
              " 'total_rech_amt_7',\n",
              " 'total_rech_amt_8',\n",
              " 'max_rech_amt_6',\n",
              " 'max_rech_amt_7',\n",
              " 'max_rech_amt_8',\n",
              " 'date_of_last_rech_6',\n",
              " 'date_of_last_rech_7',\n",
              " 'date_of_last_rech_8',\n",
              " 'last_day_rch_amt_6',\n",
              " 'last_day_rch_amt_7',\n",
              " 'last_day_rch_amt_8',\n",
              " 'date_of_last_rech_data_6',\n",
              " 'date_of_last_rech_data_7',\n",
              " 'date_of_last_rech_data_8',\n",
              " 'total_rech_data_6',\n",
              " 'total_rech_data_7',\n",
              " 'total_rech_data_8',\n",
              " 'max_rech_data_6',\n",
              " 'max_rech_data_7',\n",
              " 'max_rech_data_8',\n",
              " 'count_rech_2g_6',\n",
              " 'count_rech_2g_7',\n",
              " 'count_rech_2g_8',\n",
              " 'count_rech_3g_6',\n",
              " 'count_rech_3g_7',\n",
              " 'count_rech_3g_8',\n",
              " 'av_rech_amt_data_6',\n",
              " 'av_rech_amt_data_7',\n",
              " 'av_rech_amt_data_8',\n",
              " 'vol_2g_mb_6',\n",
              " 'vol_2g_mb_7',\n",
              " 'vol_2g_mb_8',\n",
              " 'vol_3g_mb_6',\n",
              " 'vol_3g_mb_7',\n",
              " 'vol_3g_mb_8',\n",
              " 'arpu_3g_6',\n",
              " 'arpu_3g_7',\n",
              " 'arpu_3g_8',\n",
              " 'arpu_2g_6',\n",
              " 'arpu_2g_7',\n",
              " 'arpu_2g_8',\n",
              " 'night_pck_user_6',\n",
              " 'night_pck_user_7',\n",
              " 'night_pck_user_8',\n",
              " 'monthly_2g_6',\n",
              " 'monthly_2g_7',\n",
              " 'monthly_2g_8',\n",
              " 'sachet_2g_6',\n",
              " 'sachet_2g_7',\n",
              " 'sachet_2g_8',\n",
              " 'monthly_3g_6',\n",
              " 'monthly_3g_7',\n",
              " 'monthly_3g_8',\n",
              " 'sachet_3g_6',\n",
              " 'sachet_3g_7',\n",
              " 'sachet_3g_8',\n",
              " 'fb_user_6',\n",
              " 'fb_user_7',\n",
              " 'fb_user_8',\n",
              " 'aon',\n",
              " 'aug_vbc_3g',\n",
              " 'jul_vbc_3g',\n",
              " 'jun_vbc_3g',\n",
              " 'churn_probability',\n",
              " 'total_data_rech_6',\n",
              " 'total_data_rech_7',\n",
              " 'amt_data_6',\n",
              " 'amt_data_7',\n",
              " 'AVG_amt_data_6_7']"
            ]
          },
          "metadata": {},
          "execution_count": 40
        }
      ]
    },
    {
      "cell_type": "code",
      "execution_count": 19,
      "metadata": {
        "colab": {
          "base_uri": "https://localhost:8080/",
          "height": 502
        },
        "id": "cIiO7mpaNgM8",
        "outputId": "5d67732f-1462-4fb2-d501-2f80b5648215"
      },
      "outputs": [
        {
          "output_type": "error",
          "ename": "KeyError",
          "evalue": "ignored",
          "traceback": [
            "\u001b[0;31m---------------------------------------------------------------------------\u001b[0m",
            "\u001b[0;31mKeyError\u001b[0m                                  Traceback (most recent call last)",
            "\u001b[0;32m/usr/local/lib/python3.7/dist-packages/pandas/core/indexes/base.py\u001b[0m in \u001b[0;36mget_loc\u001b[0;34m(self, key, method, tolerance)\u001b[0m\n\u001b[1;32m   3360\u001b[0m             \u001b[0;32mtry\u001b[0m\u001b[0;34m:\u001b[0m\u001b[0;34m\u001b[0m\u001b[0;34m\u001b[0m\u001b[0m\n\u001b[0;32m-> 3361\u001b[0;31m                 \u001b[0;32mreturn\u001b[0m \u001b[0mself\u001b[0m\u001b[0;34m.\u001b[0m\u001b[0m_engine\u001b[0m\u001b[0;34m.\u001b[0m\u001b[0mget_loc\u001b[0m\u001b[0;34m(\u001b[0m\u001b[0mcasted_key\u001b[0m\u001b[0;34m)\u001b[0m\u001b[0;34m\u001b[0m\u001b[0;34m\u001b[0m\u001b[0m\n\u001b[0m\u001b[1;32m   3362\u001b[0m             \u001b[0;32mexcept\u001b[0m \u001b[0mKeyError\u001b[0m \u001b[0;32mas\u001b[0m \u001b[0merr\u001b[0m\u001b[0;34m:\u001b[0m\u001b[0;34m\u001b[0m\u001b[0;34m\u001b[0m\u001b[0m\n",
            "\u001b[0;32m/usr/local/lib/python3.7/dist-packages/pandas/_libs/index.pyx\u001b[0m in \u001b[0;36mpandas._libs.index.IndexEngine.get_loc\u001b[0;34m()\u001b[0m\n",
            "\u001b[0;32m/usr/local/lib/python3.7/dist-packages/pandas/_libs/index.pyx\u001b[0m in \u001b[0;36mpandas._libs.index.IndexEngine.get_loc\u001b[0;34m()\u001b[0m\n",
            "\u001b[0;32mpandas/_libs/hashtable_class_helper.pxi\u001b[0m in \u001b[0;36mpandas._libs.hashtable.PyObjectHashTable.get_item\u001b[0;34m()\u001b[0m\n",
            "\u001b[0;32mpandas/_libs/hashtable_class_helper.pxi\u001b[0m in \u001b[0;36mpandas._libs.hashtable.PyObjectHashTable.get_item\u001b[0;34m()\u001b[0m\n",
            "\u001b[0;31mKeyError\u001b[0m: 'total_ic_mou_9'",
            "\nThe above exception was the direct cause of the following exception:\n",
            "\u001b[0;31mKeyError\u001b[0m                                  Traceback (most recent call last)",
            "\u001b[0;32m<ipython-input-19-4267f5ffe359>\u001b[0m in \u001b[0;36m<module>\u001b[0;34m()\u001b[0m\n\u001b[1;32m      1\u001b[0m df['churn_flag'] = np.where(\n\u001b[0;32m----> 2\u001b[0;31m                             \u001b[0;34m(\u001b[0m\u001b[0;34m(\u001b[0m\u001b[0mdf\u001b[0m\u001b[0;34m[\u001b[0m\u001b[0;34m'total_ic_mou_9'\u001b[0m\u001b[0;34m]\u001b[0m \u001b[0;34m==\u001b[0m \u001b[0;36m0.00\u001b[0m\u001b[0;34m)\u001b[0m \u001b[0;34m|\u001b[0m \u001b[0;34m(\u001b[0m\u001b[0mdf\u001b[0m\u001b[0;34m[\u001b[0m\u001b[0;34m'total_og_mou_9'\u001b[0m\u001b[0;34m]\u001b[0m \u001b[0;34m==\u001b[0m \u001b[0;36m0.00\u001b[0m\u001b[0;34m)\u001b[0m\u001b[0;34m)\u001b[0m\u001b[0;34m\u001b[0m\u001b[0;34m\u001b[0m\u001b[0m\n\u001b[0m\u001b[1;32m      3\u001b[0m                             \u001b[0;34m&\u001b[0m \u001b[0;34m(\u001b[0m\u001b[0;34m(\u001b[0m\u001b[0mdf\u001b[0m\u001b[0;34m[\u001b[0m\u001b[0;34m'vol_2g_mb_9'\u001b[0m\u001b[0;34m]\u001b[0m \u001b[0;34m==\u001b[0m \u001b[0;36m0.00\u001b[0m\u001b[0;34m)\u001b[0m \u001b[0;34m|\u001b[0m \u001b[0;34m(\u001b[0m\u001b[0mdf\u001b[0m\u001b[0;34m[\u001b[0m\u001b[0;34m'vol_3g_mb_9'\u001b[0m\u001b[0;34m]\u001b[0m \u001b[0;34m==\u001b[0m \u001b[0;36m0.00\u001b[0m\u001b[0;34m)\u001b[0m\u001b[0;34m)\u001b[0m\u001b[0;34m\u001b[0m\u001b[0;34m\u001b[0m\u001b[0m\n\u001b[1;32m      4\u001b[0m                             \u001b[0;34m,\u001b[0m \u001b[0;36m1\u001b[0m\u001b[0;34m,\u001b[0m \u001b[0;36m0\u001b[0m\u001b[0;34m\u001b[0m\u001b[0;34m\u001b[0m\u001b[0m\n\u001b[1;32m      5\u001b[0m                            )\n",
            "\u001b[0;32m/usr/local/lib/python3.7/dist-packages/pandas/core/frame.py\u001b[0m in \u001b[0;36m__getitem__\u001b[0;34m(self, key)\u001b[0m\n\u001b[1;32m   3456\u001b[0m             \u001b[0;32mif\u001b[0m \u001b[0mself\u001b[0m\u001b[0;34m.\u001b[0m\u001b[0mcolumns\u001b[0m\u001b[0;34m.\u001b[0m\u001b[0mnlevels\u001b[0m \u001b[0;34m>\u001b[0m \u001b[0;36m1\u001b[0m\u001b[0;34m:\u001b[0m\u001b[0;34m\u001b[0m\u001b[0;34m\u001b[0m\u001b[0m\n\u001b[1;32m   3457\u001b[0m                 \u001b[0;32mreturn\u001b[0m \u001b[0mself\u001b[0m\u001b[0;34m.\u001b[0m\u001b[0m_getitem_multilevel\u001b[0m\u001b[0;34m(\u001b[0m\u001b[0mkey\u001b[0m\u001b[0;34m)\u001b[0m\u001b[0;34m\u001b[0m\u001b[0;34m\u001b[0m\u001b[0m\n\u001b[0;32m-> 3458\u001b[0;31m             \u001b[0mindexer\u001b[0m \u001b[0;34m=\u001b[0m \u001b[0mself\u001b[0m\u001b[0;34m.\u001b[0m\u001b[0mcolumns\u001b[0m\u001b[0;34m.\u001b[0m\u001b[0mget_loc\u001b[0m\u001b[0;34m(\u001b[0m\u001b[0mkey\u001b[0m\u001b[0;34m)\u001b[0m\u001b[0;34m\u001b[0m\u001b[0;34m\u001b[0m\u001b[0m\n\u001b[0m\u001b[1;32m   3459\u001b[0m             \u001b[0;32mif\u001b[0m \u001b[0mis_integer\u001b[0m\u001b[0;34m(\u001b[0m\u001b[0mindexer\u001b[0m\u001b[0;34m)\u001b[0m\u001b[0;34m:\u001b[0m\u001b[0;34m\u001b[0m\u001b[0;34m\u001b[0m\u001b[0m\n\u001b[1;32m   3460\u001b[0m                 \u001b[0mindexer\u001b[0m \u001b[0;34m=\u001b[0m \u001b[0;34m[\u001b[0m\u001b[0mindexer\u001b[0m\u001b[0;34m]\u001b[0m\u001b[0;34m\u001b[0m\u001b[0;34m\u001b[0m\u001b[0m\n",
            "\u001b[0;32m/usr/local/lib/python3.7/dist-packages/pandas/core/indexes/base.py\u001b[0m in \u001b[0;36mget_loc\u001b[0;34m(self, key, method, tolerance)\u001b[0m\n\u001b[1;32m   3361\u001b[0m                 \u001b[0;32mreturn\u001b[0m \u001b[0mself\u001b[0m\u001b[0;34m.\u001b[0m\u001b[0m_engine\u001b[0m\u001b[0;34m.\u001b[0m\u001b[0mget_loc\u001b[0m\u001b[0;34m(\u001b[0m\u001b[0mcasted_key\u001b[0m\u001b[0;34m)\u001b[0m\u001b[0;34m\u001b[0m\u001b[0;34m\u001b[0m\u001b[0m\n\u001b[1;32m   3362\u001b[0m             \u001b[0;32mexcept\u001b[0m \u001b[0mKeyError\u001b[0m \u001b[0;32mas\u001b[0m \u001b[0merr\u001b[0m\u001b[0;34m:\u001b[0m\u001b[0;34m\u001b[0m\u001b[0;34m\u001b[0m\u001b[0m\n\u001b[0;32m-> 3363\u001b[0;31m                 \u001b[0;32mraise\u001b[0m \u001b[0mKeyError\u001b[0m\u001b[0;34m(\u001b[0m\u001b[0mkey\u001b[0m\u001b[0;34m)\u001b[0m \u001b[0;32mfrom\u001b[0m \u001b[0merr\u001b[0m\u001b[0;34m\u001b[0m\u001b[0;34m\u001b[0m\u001b[0m\n\u001b[0m\u001b[1;32m   3364\u001b[0m \u001b[0;34m\u001b[0m\u001b[0m\n\u001b[1;32m   3365\u001b[0m         \u001b[0;32mif\u001b[0m \u001b[0mis_scalar\u001b[0m\u001b[0;34m(\u001b[0m\u001b[0mkey\u001b[0m\u001b[0;34m)\u001b[0m \u001b[0;32mand\u001b[0m \u001b[0misna\u001b[0m\u001b[0;34m(\u001b[0m\u001b[0mkey\u001b[0m\u001b[0;34m)\u001b[0m \u001b[0;32mand\u001b[0m \u001b[0;32mnot\u001b[0m \u001b[0mself\u001b[0m\u001b[0;34m.\u001b[0m\u001b[0mhasnans\u001b[0m\u001b[0;34m:\u001b[0m\u001b[0;34m\u001b[0m\u001b[0;34m\u001b[0m\u001b[0m\n",
            "\u001b[0;31mKeyError\u001b[0m: 'total_ic_mou_9'"
          ]
        }
      ],
      "source": [
        "df['churn_flag'] = np.where(\n",
        "                            ((df['total_ic_mou_9'] == 0.00) | (df['total_og_mou_9'] == 0.00))\n",
        "                            & ((df['vol_2g_mb_9'] == 0.00) | (df['vol_3g_mb_9'] == 0.00))\n",
        "                            , 1, 0\n",
        "                           )"
      ]
    },
    {
      "cell_type": "code",
      "execution_count": null,
      "metadata": {
        "id": "Eadc6ByENgM8"
      },
      "outputs": [],
      "source": [
        "print(df['churn_flag'].value_counts())\n",
        "print(df['churn_flag'].value_counts()/df.shape[0])"
      ]
    },
    {
      "cell_type": "markdown",
      "metadata": {
        "id": "qR0sp8VGNgM8"
      },
      "source": [
        "Let's drop all features related to churn phase i.e. 9th month"
      ]
    },
    {
      "cell_type": "code",
      "execution_count": null,
      "metadata": {
        "id": "1YdopC9TNgM9"
      },
      "outputs": [],
      "source": [
        "df = df.drop(df.filter(regex='_9|sep', axis = 1).columns, axis=1)"
      ]
    },
    {
      "cell_type": "code",
      "execution_count": null,
      "metadata": {
        "id": "bQo7JPP6NgM9"
      },
      "outputs": [],
      "source": [
        "df.info(verbose=True, null_counts=True)"
      ]
    },
    {
      "cell_type": "markdown",
      "metadata": {
        "id": "nvzGiSh8NgM9"
      },
      "source": [
        "Let's check if we have missing values in the dataset?"
      ]
    },
    {
      "cell_type": "code",
      "execution_count": null,
      "metadata": {
        "id": "l0c-QHo6NgM9"
      },
      "outputs": [],
      "source": [
        "df.isna().sum()"
      ]
    },
    {
      "cell_type": "code",
      "execution_count": 20,
      "metadata": {
        "colab": {
          "base_uri": "https://localhost:8080/",
          "height": 1000
        },
        "id": "FJLaJSe1NgM-",
        "outputId": "89d2688e-2eb6-4fad-db47-109e04fd4e60"
      },
      "outputs": [
        {
          "output_type": "execute_result",
          "data": {
            "text/plain": [
              "                      feature  Missing%\n",
              "151          night_pck_user_8     43.82\n",
              "148                 arpu_2g_8     43.82\n",
              "166                 fb_user_8     43.82\n",
              "145                 arpu_3g_8     43.82\n",
              "133           count_rech_3g_8     43.82\n",
              "136        av_rech_amt_data_8     43.82\n",
              "127           max_rech_data_8     43.82\n",
              "130           count_rech_2g_8     43.82\n",
              "124         total_rech_data_8     43.82\n",
              "121  date_of_last_rech_data_8     43.82\n",
              "150          night_pck_user_7     39.43\n",
              "165                 fb_user_7     39.43\n",
              "144                 arpu_3g_7     39.43\n",
              "147                 arpu_2g_7     39.43\n",
              "120  date_of_last_rech_data_7     39.42\n",
              "126           max_rech_data_7     39.42\n",
              "129           count_rech_2g_7     39.42\n",
              "123         total_rech_data_7     39.42\n",
              "173         total_data_rech_7     39.42\n",
              "132           count_rech_3g_7     39.42\n",
              "135        av_rech_amt_data_7     39.42\n",
              "143                 arpu_3g_6     37.48\n",
              "149          night_pck_user_6     37.48\n",
              "146                 arpu_2g_6     37.48\n",
              "164                 fb_user_6     37.48\n",
              "128           count_rech_2g_6     37.48\n",
              "119  date_of_last_rech_data_6     37.48\n",
              "131           count_rech_3g_6     37.48\n",
              "172         total_data_rech_6     37.48\n",
              "134        av_rech_amt_data_6     37.48\n",
              "125           max_rech_data_6     37.48\n",
              "122         total_rech_data_6     37.48\n",
              "171         churn_probability     29.37\n",
              "55               isd_og_mou_8      5.44\n",
              "58               spl_og_mou_8      5.44\n",
              "61                og_others_8      5.44\n",
              "67           loc_ic_t2t_mou_8      5.44\n",
              "70           loc_ic_t2m_mou_8      5.44\n",
              "73           loc_ic_t2f_mou_8      5.44\n",
              "79           std_ic_t2t_mou_8      5.44\n",
              "76               loc_ic_mou_8      5.44\n",
              "82           std_ic_t2m_mou_8      5.44\n",
              "85           std_ic_t2f_mou_8      5.44\n",
              "91               std_ic_mou_8      5.44\n",
              "49           std_og_t2c_mou_8      5.44\n",
              "97               spl_ic_mou_8      5.44\n",
              "100              isd_ic_mou_8      5.44\n",
              "103               ic_others_8      5.44\n",
              "52               std_og_mou_8      5.44\n",
              "88           std_ic_t2o_mou_8      5.44\n",
              "31           loc_og_t2f_mou_8      5.44\n",
              "46           std_og_t2f_mou_8      5.44\n",
              "40           std_og_t2t_mou_8      5.44\n",
              "34           loc_og_t2c_mou_8      5.44\n",
              "43           std_og_t2m_mou_8      5.44\n",
              "25           loc_og_t2t_mou_8      5.44\n",
              "22              roam_og_mou_8      5.44\n",
              "28           loc_og_t2m_mou_8      5.44\n",
              "19              roam_ic_mou_8      5.44\n",
              "16               offnet_mou_8      5.44\n",
              "13                onnet_mou_8      5.44\n",
              "37               loc_og_mou_8      5.44\n",
              "24           loc_og_t2t_mou_7      2.74\n",
              "33           loc_og_t2c_mou_7      2.74\n",
              "84           std_ic_t2f_mou_7      2.74\n",
              "36               loc_og_mou_7      2.74\n",
              "12                onnet_mou_7      2.74\n",
              "87           std_ic_t2o_mou_7      2.74\n",
              "90               std_ic_mou_7      2.74\n",
              "18              roam_ic_mou_7      2.74\n",
              "96               spl_ic_mou_7      2.74\n",
              "27           loc_og_t2m_mou_7      2.74\n",
              "99               isd_ic_mou_7      2.74\n",
              "21              roam_og_mou_7      2.74\n",
              "15               offnet_mou_7      2.74\n",
              "102               ic_others_7      2.74\n",
              "30           loc_og_t2f_mou_7      2.74\n",
              "81           std_ic_t2m_mou_7      2.74\n",
              "51               std_og_mou_7      2.74\n",
              "75               loc_ic_mou_7      2.74\n",
              "57               spl_og_mou_7      2.74\n",
              "72           loc_ic_t2f_mou_7      2.74\n",
              "78           std_ic_t2t_mou_7      2.74\n",
              "66           loc_ic_t2t_mou_7      2.74\n",
              "48           std_og_t2c_mou_7      2.74\n",
              "39           std_og_t2t_mou_7      2.74\n",
              "45           std_og_t2f_mou_7      2.74\n",
              "69           loc_ic_t2m_mou_7      2.74\n",
              "54               isd_og_mou_7      2.74\n",
              "60                og_others_7      2.74\n",
              "42           std_og_t2m_mou_7      2.74\n",
              "115       date_of_last_rech_8      2.61\n",
              "38           std_og_t2t_mou_6      1.81\n",
              "56               spl_og_mou_6      1.81\n",
              "20              roam_og_mou_6      1.81\n",
              "59                og_others_6      1.81\n",
              "17              roam_ic_mou_6      1.81\n",
              "47           std_og_t2c_mou_6      1.81\n",
              "23           loc_og_t2t_mou_6      1.81\n",
              "14               offnet_mou_6      1.81\n",
              "53               isd_og_mou_6      1.81\n",
              "44           std_og_t2f_mou_6      1.81\n",
              "11                onnet_mou_6      1.81\n",
              "26           loc_og_t2m_mou_6      1.81\n",
              "80           std_ic_t2m_mou_6      1.81\n",
              "50               std_og_mou_6      1.81\n",
              "86           std_ic_t2o_mou_6      1.81\n",
              "77           std_ic_t2t_mou_6      1.81\n",
              "89               std_ic_mou_6      1.81\n",
              "41           std_og_t2m_mou_6      1.81\n",
              "35               loc_og_mou_6      1.81\n",
              "83           std_ic_t2f_mou_6      1.81\n",
              "71           loc_ic_t2f_mou_6      1.81\n",
              "95               spl_ic_mou_6      1.81\n",
              "32           loc_og_t2c_mou_6      1.81\n",
              "98               isd_ic_mou_6      1.81\n",
              "68           loc_ic_t2m_mou_6      1.81\n",
              "101               ic_others_6      1.81\n",
              "65           loc_ic_t2t_mou_6      1.81\n",
              "74               loc_ic_mou_6      1.81\n",
              "29           loc_og_t2f_mou_6      1.81\n",
              "4              loc_ic_t2o_mou      0.92\n",
              "3              std_og_t2o_mou      0.92\n",
              "2              loc_og_t2o_mou      0.92\n",
              "114       date_of_last_rech_7      0.85\n",
              "7        last_date_of_month_8      0.83\n",
              "6        last_date_of_month_7      0.25\n",
              "113       date_of_last_rech_6      0.14\n",
              "153              monthly_2g_7      0.00\n",
              "139               vol_2g_mb_8      0.00\n",
              "140               vol_3g_mb_6      0.00\n",
              "141               vol_3g_mb_7      0.00\n",
              "142               vol_3g_mb_8      0.00\n",
              "152              monthly_2g_6      0.00\n",
              "163               sachet_3g_8      0.00\n",
              "168                aug_vbc_3g      0.00\n",
              "162               sachet_3g_7      0.00\n",
              "170                jun_vbc_3g      0.00\n",
              "169                jul_vbc_3g      0.00\n",
              "154              monthly_2g_8      0.00\n",
              "155               sachet_2g_6      0.00\n",
              "156               sachet_2g_7      0.00\n",
              "157               sachet_2g_8      0.00\n",
              "158              monthly_3g_6      0.00\n",
              "159              monthly_3g_7      0.00\n",
              "160              monthly_3g_8      0.00\n",
              "161               sachet_3g_6      0.00\n",
              "167                       aon      0.00\n",
              "118        last_day_rch_amt_8      0.00\n",
              "174                amt_data_6      0.00\n",
              "175                amt_data_7      0.00\n",
              "0                          id      0.00\n",
              "138               vol_2g_mb_7      0.00\n",
              "94             total_ic_mou_8      0.00\n",
              "5        last_date_of_month_6      0.00\n",
              "8                      arpu_6      0.00\n",
              "9                      arpu_7      0.00\n",
              "10                     arpu_8      0.00\n",
              "62             total_og_mou_6      0.00\n",
              "63             total_og_mou_7      0.00\n",
              "64             total_og_mou_8      0.00\n",
              "1                   circle_id      0.00\n",
              "92             total_ic_mou_6      0.00\n",
              "93             total_ic_mou_7      0.00\n",
              "104          total_rech_num_6      0.00\n",
              "137               vol_2g_mb_6      0.00\n",
              "105          total_rech_num_7      0.00\n",
              "106          total_rech_num_8      0.00\n",
              "107          total_rech_amt_6      0.00\n",
              "108          total_rech_amt_7      0.00\n",
              "109          total_rech_amt_8      0.00\n",
              "110            max_rech_amt_6      0.00\n",
              "111            max_rech_amt_7      0.00\n",
              "112            max_rech_amt_8      0.00\n",
              "116        last_day_rch_amt_6      0.00\n",
              "117        last_day_rch_amt_7      0.00\n",
              "176          AVG_amt_data_6_7      0.00"
            ],
            "text/html": [
              "\n",
              "  <div id=\"df-29e247ad-8067-4d72-a198-746d257cd1ab\">\n",
              "    <div class=\"colab-df-container\">\n",
              "      <div>\n",
              "<style scoped>\n",
              "    .dataframe tbody tr th:only-of-type {\n",
              "        vertical-align: middle;\n",
              "    }\n",
              "\n",
              "    .dataframe tbody tr th {\n",
              "        vertical-align: top;\n",
              "    }\n",
              "\n",
              "    .dataframe thead th {\n",
              "        text-align: right;\n",
              "    }\n",
              "</style>\n",
              "<table border=\"1\" class=\"dataframe\">\n",
              "  <thead>\n",
              "    <tr style=\"text-align: right;\">\n",
              "      <th></th>\n",
              "      <th>feature</th>\n",
              "      <th>Missing%</th>\n",
              "    </tr>\n",
              "  </thead>\n",
              "  <tbody>\n",
              "    <tr>\n",
              "      <th>151</th>\n",
              "      <td>night_pck_user_8</td>\n",
              "      <td>43.82</td>\n",
              "    </tr>\n",
              "    <tr>\n",
              "      <th>148</th>\n",
              "      <td>arpu_2g_8</td>\n",
              "      <td>43.82</td>\n",
              "    </tr>\n",
              "    <tr>\n",
              "      <th>166</th>\n",
              "      <td>fb_user_8</td>\n",
              "      <td>43.82</td>\n",
              "    </tr>\n",
              "    <tr>\n",
              "      <th>145</th>\n",
              "      <td>arpu_3g_8</td>\n",
              "      <td>43.82</td>\n",
              "    </tr>\n",
              "    <tr>\n",
              "      <th>133</th>\n",
              "      <td>count_rech_3g_8</td>\n",
              "      <td>43.82</td>\n",
              "    </tr>\n",
              "    <tr>\n",
              "      <th>136</th>\n",
              "      <td>av_rech_amt_data_8</td>\n",
              "      <td>43.82</td>\n",
              "    </tr>\n",
              "    <tr>\n",
              "      <th>127</th>\n",
              "      <td>max_rech_data_8</td>\n",
              "      <td>43.82</td>\n",
              "    </tr>\n",
              "    <tr>\n",
              "      <th>130</th>\n",
              "      <td>count_rech_2g_8</td>\n",
              "      <td>43.82</td>\n",
              "    </tr>\n",
              "    <tr>\n",
              "      <th>124</th>\n",
              "      <td>total_rech_data_8</td>\n",
              "      <td>43.82</td>\n",
              "    </tr>\n",
              "    <tr>\n",
              "      <th>121</th>\n",
              "      <td>date_of_last_rech_data_8</td>\n",
              "      <td>43.82</td>\n",
              "    </tr>\n",
              "    <tr>\n",
              "      <th>150</th>\n",
              "      <td>night_pck_user_7</td>\n",
              "      <td>39.43</td>\n",
              "    </tr>\n",
              "    <tr>\n",
              "      <th>165</th>\n",
              "      <td>fb_user_7</td>\n",
              "      <td>39.43</td>\n",
              "    </tr>\n",
              "    <tr>\n",
              "      <th>144</th>\n",
              "      <td>arpu_3g_7</td>\n",
              "      <td>39.43</td>\n",
              "    </tr>\n",
              "    <tr>\n",
              "      <th>147</th>\n",
              "      <td>arpu_2g_7</td>\n",
              "      <td>39.43</td>\n",
              "    </tr>\n",
              "    <tr>\n",
              "      <th>120</th>\n",
              "      <td>date_of_last_rech_data_7</td>\n",
              "      <td>39.42</td>\n",
              "    </tr>\n",
              "    <tr>\n",
              "      <th>126</th>\n",
              "      <td>max_rech_data_7</td>\n",
              "      <td>39.42</td>\n",
              "    </tr>\n",
              "    <tr>\n",
              "      <th>129</th>\n",
              "      <td>count_rech_2g_7</td>\n",
              "      <td>39.42</td>\n",
              "    </tr>\n",
              "    <tr>\n",
              "      <th>123</th>\n",
              "      <td>total_rech_data_7</td>\n",
              "      <td>39.42</td>\n",
              "    </tr>\n",
              "    <tr>\n",
              "      <th>173</th>\n",
              "      <td>total_data_rech_7</td>\n",
              "      <td>39.42</td>\n",
              "    </tr>\n",
              "    <tr>\n",
              "      <th>132</th>\n",
              "      <td>count_rech_3g_7</td>\n",
              "      <td>39.42</td>\n",
              "    </tr>\n",
              "    <tr>\n",
              "      <th>135</th>\n",
              "      <td>av_rech_amt_data_7</td>\n",
              "      <td>39.42</td>\n",
              "    </tr>\n",
              "    <tr>\n",
              "      <th>143</th>\n",
              "      <td>arpu_3g_6</td>\n",
              "      <td>37.48</td>\n",
              "    </tr>\n",
              "    <tr>\n",
              "      <th>149</th>\n",
              "      <td>night_pck_user_6</td>\n",
              "      <td>37.48</td>\n",
              "    </tr>\n",
              "    <tr>\n",
              "      <th>146</th>\n",
              "      <td>arpu_2g_6</td>\n",
              "      <td>37.48</td>\n",
              "    </tr>\n",
              "    <tr>\n",
              "      <th>164</th>\n",
              "      <td>fb_user_6</td>\n",
              "      <td>37.48</td>\n",
              "    </tr>\n",
              "    <tr>\n",
              "      <th>128</th>\n",
              "      <td>count_rech_2g_6</td>\n",
              "      <td>37.48</td>\n",
              "    </tr>\n",
              "    <tr>\n",
              "      <th>119</th>\n",
              "      <td>date_of_last_rech_data_6</td>\n",
              "      <td>37.48</td>\n",
              "    </tr>\n",
              "    <tr>\n",
              "      <th>131</th>\n",
              "      <td>count_rech_3g_6</td>\n",
              "      <td>37.48</td>\n",
              "    </tr>\n",
              "    <tr>\n",
              "      <th>172</th>\n",
              "      <td>total_data_rech_6</td>\n",
              "      <td>37.48</td>\n",
              "    </tr>\n",
              "    <tr>\n",
              "      <th>134</th>\n",
              "      <td>av_rech_amt_data_6</td>\n",
              "      <td>37.48</td>\n",
              "    </tr>\n",
              "    <tr>\n",
              "      <th>125</th>\n",
              "      <td>max_rech_data_6</td>\n",
              "      <td>37.48</td>\n",
              "    </tr>\n",
              "    <tr>\n",
              "      <th>122</th>\n",
              "      <td>total_rech_data_6</td>\n",
              "      <td>37.48</td>\n",
              "    </tr>\n",
              "    <tr>\n",
              "      <th>171</th>\n",
              "      <td>churn_probability</td>\n",
              "      <td>29.37</td>\n",
              "    </tr>\n",
              "    <tr>\n",
              "      <th>55</th>\n",
              "      <td>isd_og_mou_8</td>\n",
              "      <td>5.44</td>\n",
              "    </tr>\n",
              "    <tr>\n",
              "      <th>58</th>\n",
              "      <td>spl_og_mou_8</td>\n",
              "      <td>5.44</td>\n",
              "    </tr>\n",
              "    <tr>\n",
              "      <th>61</th>\n",
              "      <td>og_others_8</td>\n",
              "      <td>5.44</td>\n",
              "    </tr>\n",
              "    <tr>\n",
              "      <th>67</th>\n",
              "      <td>loc_ic_t2t_mou_8</td>\n",
              "      <td>5.44</td>\n",
              "    </tr>\n",
              "    <tr>\n",
              "      <th>70</th>\n",
              "      <td>loc_ic_t2m_mou_8</td>\n",
              "      <td>5.44</td>\n",
              "    </tr>\n",
              "    <tr>\n",
              "      <th>73</th>\n",
              "      <td>loc_ic_t2f_mou_8</td>\n",
              "      <td>5.44</td>\n",
              "    </tr>\n",
              "    <tr>\n",
              "      <th>79</th>\n",
              "      <td>std_ic_t2t_mou_8</td>\n",
              "      <td>5.44</td>\n",
              "    </tr>\n",
              "    <tr>\n",
              "      <th>76</th>\n",
              "      <td>loc_ic_mou_8</td>\n",
              "      <td>5.44</td>\n",
              "    </tr>\n",
              "    <tr>\n",
              "      <th>82</th>\n",
              "      <td>std_ic_t2m_mou_8</td>\n",
              "      <td>5.44</td>\n",
              "    </tr>\n",
              "    <tr>\n",
              "      <th>85</th>\n",
              "      <td>std_ic_t2f_mou_8</td>\n",
              "      <td>5.44</td>\n",
              "    </tr>\n",
              "    <tr>\n",
              "      <th>91</th>\n",
              "      <td>std_ic_mou_8</td>\n",
              "      <td>5.44</td>\n",
              "    </tr>\n",
              "    <tr>\n",
              "      <th>49</th>\n",
              "      <td>std_og_t2c_mou_8</td>\n",
              "      <td>5.44</td>\n",
              "    </tr>\n",
              "    <tr>\n",
              "      <th>97</th>\n",
              "      <td>spl_ic_mou_8</td>\n",
              "      <td>5.44</td>\n",
              "    </tr>\n",
              "    <tr>\n",
              "      <th>100</th>\n",
              "      <td>isd_ic_mou_8</td>\n",
              "      <td>5.44</td>\n",
              "    </tr>\n",
              "    <tr>\n",
              "      <th>103</th>\n",
              "      <td>ic_others_8</td>\n",
              "      <td>5.44</td>\n",
              "    </tr>\n",
              "    <tr>\n",
              "      <th>52</th>\n",
              "      <td>std_og_mou_8</td>\n",
              "      <td>5.44</td>\n",
              "    </tr>\n",
              "    <tr>\n",
              "      <th>88</th>\n",
              "      <td>std_ic_t2o_mou_8</td>\n",
              "      <td>5.44</td>\n",
              "    </tr>\n",
              "    <tr>\n",
              "      <th>31</th>\n",
              "      <td>loc_og_t2f_mou_8</td>\n",
              "      <td>5.44</td>\n",
              "    </tr>\n",
              "    <tr>\n",
              "      <th>46</th>\n",
              "      <td>std_og_t2f_mou_8</td>\n",
              "      <td>5.44</td>\n",
              "    </tr>\n",
              "    <tr>\n",
              "      <th>40</th>\n",
              "      <td>std_og_t2t_mou_8</td>\n",
              "      <td>5.44</td>\n",
              "    </tr>\n",
              "    <tr>\n",
              "      <th>34</th>\n",
              "      <td>loc_og_t2c_mou_8</td>\n",
              "      <td>5.44</td>\n",
              "    </tr>\n",
              "    <tr>\n",
              "      <th>43</th>\n",
              "      <td>std_og_t2m_mou_8</td>\n",
              "      <td>5.44</td>\n",
              "    </tr>\n",
              "    <tr>\n",
              "      <th>25</th>\n",
              "      <td>loc_og_t2t_mou_8</td>\n",
              "      <td>5.44</td>\n",
              "    </tr>\n",
              "    <tr>\n",
              "      <th>22</th>\n",
              "      <td>roam_og_mou_8</td>\n",
              "      <td>5.44</td>\n",
              "    </tr>\n",
              "    <tr>\n",
              "      <th>28</th>\n",
              "      <td>loc_og_t2m_mou_8</td>\n",
              "      <td>5.44</td>\n",
              "    </tr>\n",
              "    <tr>\n",
              "      <th>19</th>\n",
              "      <td>roam_ic_mou_8</td>\n",
              "      <td>5.44</td>\n",
              "    </tr>\n",
              "    <tr>\n",
              "      <th>16</th>\n",
              "      <td>offnet_mou_8</td>\n",
              "      <td>5.44</td>\n",
              "    </tr>\n",
              "    <tr>\n",
              "      <th>13</th>\n",
              "      <td>onnet_mou_8</td>\n",
              "      <td>5.44</td>\n",
              "    </tr>\n",
              "    <tr>\n",
              "      <th>37</th>\n",
              "      <td>loc_og_mou_8</td>\n",
              "      <td>5.44</td>\n",
              "    </tr>\n",
              "    <tr>\n",
              "      <th>24</th>\n",
              "      <td>loc_og_t2t_mou_7</td>\n",
              "      <td>2.74</td>\n",
              "    </tr>\n",
              "    <tr>\n",
              "      <th>33</th>\n",
              "      <td>loc_og_t2c_mou_7</td>\n",
              "      <td>2.74</td>\n",
              "    </tr>\n",
              "    <tr>\n",
              "      <th>84</th>\n",
              "      <td>std_ic_t2f_mou_7</td>\n",
              "      <td>2.74</td>\n",
              "    </tr>\n",
              "    <tr>\n",
              "      <th>36</th>\n",
              "      <td>loc_og_mou_7</td>\n",
              "      <td>2.74</td>\n",
              "    </tr>\n",
              "    <tr>\n",
              "      <th>12</th>\n",
              "      <td>onnet_mou_7</td>\n",
              "      <td>2.74</td>\n",
              "    </tr>\n",
              "    <tr>\n",
              "      <th>87</th>\n",
              "      <td>std_ic_t2o_mou_7</td>\n",
              "      <td>2.74</td>\n",
              "    </tr>\n",
              "    <tr>\n",
              "      <th>90</th>\n",
              "      <td>std_ic_mou_7</td>\n",
              "      <td>2.74</td>\n",
              "    </tr>\n",
              "    <tr>\n",
              "      <th>18</th>\n",
              "      <td>roam_ic_mou_7</td>\n",
              "      <td>2.74</td>\n",
              "    </tr>\n",
              "    <tr>\n",
              "      <th>96</th>\n",
              "      <td>spl_ic_mou_7</td>\n",
              "      <td>2.74</td>\n",
              "    </tr>\n",
              "    <tr>\n",
              "      <th>27</th>\n",
              "      <td>loc_og_t2m_mou_7</td>\n",
              "      <td>2.74</td>\n",
              "    </tr>\n",
              "    <tr>\n",
              "      <th>99</th>\n",
              "      <td>isd_ic_mou_7</td>\n",
              "      <td>2.74</td>\n",
              "    </tr>\n",
              "    <tr>\n",
              "      <th>21</th>\n",
              "      <td>roam_og_mou_7</td>\n",
              "      <td>2.74</td>\n",
              "    </tr>\n",
              "    <tr>\n",
              "      <th>15</th>\n",
              "      <td>offnet_mou_7</td>\n",
              "      <td>2.74</td>\n",
              "    </tr>\n",
              "    <tr>\n",
              "      <th>102</th>\n",
              "      <td>ic_others_7</td>\n",
              "      <td>2.74</td>\n",
              "    </tr>\n",
              "    <tr>\n",
              "      <th>30</th>\n",
              "      <td>loc_og_t2f_mou_7</td>\n",
              "      <td>2.74</td>\n",
              "    </tr>\n",
              "    <tr>\n",
              "      <th>81</th>\n",
              "      <td>std_ic_t2m_mou_7</td>\n",
              "      <td>2.74</td>\n",
              "    </tr>\n",
              "    <tr>\n",
              "      <th>51</th>\n",
              "      <td>std_og_mou_7</td>\n",
              "      <td>2.74</td>\n",
              "    </tr>\n",
              "    <tr>\n",
              "      <th>75</th>\n",
              "      <td>loc_ic_mou_7</td>\n",
              "      <td>2.74</td>\n",
              "    </tr>\n",
              "    <tr>\n",
              "      <th>57</th>\n",
              "      <td>spl_og_mou_7</td>\n",
              "      <td>2.74</td>\n",
              "    </tr>\n",
              "    <tr>\n",
              "      <th>72</th>\n",
              "      <td>loc_ic_t2f_mou_7</td>\n",
              "      <td>2.74</td>\n",
              "    </tr>\n",
              "    <tr>\n",
              "      <th>78</th>\n",
              "      <td>std_ic_t2t_mou_7</td>\n",
              "      <td>2.74</td>\n",
              "    </tr>\n",
              "    <tr>\n",
              "      <th>66</th>\n",
              "      <td>loc_ic_t2t_mou_7</td>\n",
              "      <td>2.74</td>\n",
              "    </tr>\n",
              "    <tr>\n",
              "      <th>48</th>\n",
              "      <td>std_og_t2c_mou_7</td>\n",
              "      <td>2.74</td>\n",
              "    </tr>\n",
              "    <tr>\n",
              "      <th>39</th>\n",
              "      <td>std_og_t2t_mou_7</td>\n",
              "      <td>2.74</td>\n",
              "    </tr>\n",
              "    <tr>\n",
              "      <th>45</th>\n",
              "      <td>std_og_t2f_mou_7</td>\n",
              "      <td>2.74</td>\n",
              "    </tr>\n",
              "    <tr>\n",
              "      <th>69</th>\n",
              "      <td>loc_ic_t2m_mou_7</td>\n",
              "      <td>2.74</td>\n",
              "    </tr>\n",
              "    <tr>\n",
              "      <th>54</th>\n",
              "      <td>isd_og_mou_7</td>\n",
              "      <td>2.74</td>\n",
              "    </tr>\n",
              "    <tr>\n",
              "      <th>60</th>\n",
              "      <td>og_others_7</td>\n",
              "      <td>2.74</td>\n",
              "    </tr>\n",
              "    <tr>\n",
              "      <th>42</th>\n",
              "      <td>std_og_t2m_mou_7</td>\n",
              "      <td>2.74</td>\n",
              "    </tr>\n",
              "    <tr>\n",
              "      <th>115</th>\n",
              "      <td>date_of_last_rech_8</td>\n",
              "      <td>2.61</td>\n",
              "    </tr>\n",
              "    <tr>\n",
              "      <th>38</th>\n",
              "      <td>std_og_t2t_mou_6</td>\n",
              "      <td>1.81</td>\n",
              "    </tr>\n",
              "    <tr>\n",
              "      <th>56</th>\n",
              "      <td>spl_og_mou_6</td>\n",
              "      <td>1.81</td>\n",
              "    </tr>\n",
              "    <tr>\n",
              "      <th>20</th>\n",
              "      <td>roam_og_mou_6</td>\n",
              "      <td>1.81</td>\n",
              "    </tr>\n",
              "    <tr>\n",
              "      <th>59</th>\n",
              "      <td>og_others_6</td>\n",
              "      <td>1.81</td>\n",
              "    </tr>\n",
              "    <tr>\n",
              "      <th>17</th>\n",
              "      <td>roam_ic_mou_6</td>\n",
              "      <td>1.81</td>\n",
              "    </tr>\n",
              "    <tr>\n",
              "      <th>47</th>\n",
              "      <td>std_og_t2c_mou_6</td>\n",
              "      <td>1.81</td>\n",
              "    </tr>\n",
              "    <tr>\n",
              "      <th>23</th>\n",
              "      <td>loc_og_t2t_mou_6</td>\n",
              "      <td>1.81</td>\n",
              "    </tr>\n",
              "    <tr>\n",
              "      <th>14</th>\n",
              "      <td>offnet_mou_6</td>\n",
              "      <td>1.81</td>\n",
              "    </tr>\n",
              "    <tr>\n",
              "      <th>53</th>\n",
              "      <td>isd_og_mou_6</td>\n",
              "      <td>1.81</td>\n",
              "    </tr>\n",
              "    <tr>\n",
              "      <th>44</th>\n",
              "      <td>std_og_t2f_mou_6</td>\n",
              "      <td>1.81</td>\n",
              "    </tr>\n",
              "    <tr>\n",
              "      <th>11</th>\n",
              "      <td>onnet_mou_6</td>\n",
              "      <td>1.81</td>\n",
              "    </tr>\n",
              "    <tr>\n",
              "      <th>26</th>\n",
              "      <td>loc_og_t2m_mou_6</td>\n",
              "      <td>1.81</td>\n",
              "    </tr>\n",
              "    <tr>\n",
              "      <th>80</th>\n",
              "      <td>std_ic_t2m_mou_6</td>\n",
              "      <td>1.81</td>\n",
              "    </tr>\n",
              "    <tr>\n",
              "      <th>50</th>\n",
              "      <td>std_og_mou_6</td>\n",
              "      <td>1.81</td>\n",
              "    </tr>\n",
              "    <tr>\n",
              "      <th>86</th>\n",
              "      <td>std_ic_t2o_mou_6</td>\n",
              "      <td>1.81</td>\n",
              "    </tr>\n",
              "    <tr>\n",
              "      <th>77</th>\n",
              "      <td>std_ic_t2t_mou_6</td>\n",
              "      <td>1.81</td>\n",
              "    </tr>\n",
              "    <tr>\n",
              "      <th>89</th>\n",
              "      <td>std_ic_mou_6</td>\n",
              "      <td>1.81</td>\n",
              "    </tr>\n",
              "    <tr>\n",
              "      <th>41</th>\n",
              "      <td>std_og_t2m_mou_6</td>\n",
              "      <td>1.81</td>\n",
              "    </tr>\n",
              "    <tr>\n",
              "      <th>35</th>\n",
              "      <td>loc_og_mou_6</td>\n",
              "      <td>1.81</td>\n",
              "    </tr>\n",
              "    <tr>\n",
              "      <th>83</th>\n",
              "      <td>std_ic_t2f_mou_6</td>\n",
              "      <td>1.81</td>\n",
              "    </tr>\n",
              "    <tr>\n",
              "      <th>71</th>\n",
              "      <td>loc_ic_t2f_mou_6</td>\n",
              "      <td>1.81</td>\n",
              "    </tr>\n",
              "    <tr>\n",
              "      <th>95</th>\n",
              "      <td>spl_ic_mou_6</td>\n",
              "      <td>1.81</td>\n",
              "    </tr>\n",
              "    <tr>\n",
              "      <th>32</th>\n",
              "      <td>loc_og_t2c_mou_6</td>\n",
              "      <td>1.81</td>\n",
              "    </tr>\n",
              "    <tr>\n",
              "      <th>98</th>\n",
              "      <td>isd_ic_mou_6</td>\n",
              "      <td>1.81</td>\n",
              "    </tr>\n",
              "    <tr>\n",
              "      <th>68</th>\n",
              "      <td>loc_ic_t2m_mou_6</td>\n",
              "      <td>1.81</td>\n",
              "    </tr>\n",
              "    <tr>\n",
              "      <th>101</th>\n",
              "      <td>ic_others_6</td>\n",
              "      <td>1.81</td>\n",
              "    </tr>\n",
              "    <tr>\n",
              "      <th>65</th>\n",
              "      <td>loc_ic_t2t_mou_6</td>\n",
              "      <td>1.81</td>\n",
              "    </tr>\n",
              "    <tr>\n",
              "      <th>74</th>\n",
              "      <td>loc_ic_mou_6</td>\n",
              "      <td>1.81</td>\n",
              "    </tr>\n",
              "    <tr>\n",
              "      <th>29</th>\n",
              "      <td>loc_og_t2f_mou_6</td>\n",
              "      <td>1.81</td>\n",
              "    </tr>\n",
              "    <tr>\n",
              "      <th>4</th>\n",
              "      <td>loc_ic_t2o_mou</td>\n",
              "      <td>0.92</td>\n",
              "    </tr>\n",
              "    <tr>\n",
              "      <th>3</th>\n",
              "      <td>std_og_t2o_mou</td>\n",
              "      <td>0.92</td>\n",
              "    </tr>\n",
              "    <tr>\n",
              "      <th>2</th>\n",
              "      <td>loc_og_t2o_mou</td>\n",
              "      <td>0.92</td>\n",
              "    </tr>\n",
              "    <tr>\n",
              "      <th>114</th>\n",
              "      <td>date_of_last_rech_7</td>\n",
              "      <td>0.85</td>\n",
              "    </tr>\n",
              "    <tr>\n",
              "      <th>7</th>\n",
              "      <td>last_date_of_month_8</td>\n",
              "      <td>0.83</td>\n",
              "    </tr>\n",
              "    <tr>\n",
              "      <th>6</th>\n",
              "      <td>last_date_of_month_7</td>\n",
              "      <td>0.25</td>\n",
              "    </tr>\n",
              "    <tr>\n",
              "      <th>113</th>\n",
              "      <td>date_of_last_rech_6</td>\n",
              "      <td>0.14</td>\n",
              "    </tr>\n",
              "    <tr>\n",
              "      <th>153</th>\n",
              "      <td>monthly_2g_7</td>\n",
              "      <td>0.00</td>\n",
              "    </tr>\n",
              "    <tr>\n",
              "      <th>139</th>\n",
              "      <td>vol_2g_mb_8</td>\n",
              "      <td>0.00</td>\n",
              "    </tr>\n",
              "    <tr>\n",
              "      <th>140</th>\n",
              "      <td>vol_3g_mb_6</td>\n",
              "      <td>0.00</td>\n",
              "    </tr>\n",
              "    <tr>\n",
              "      <th>141</th>\n",
              "      <td>vol_3g_mb_7</td>\n",
              "      <td>0.00</td>\n",
              "    </tr>\n",
              "    <tr>\n",
              "      <th>142</th>\n",
              "      <td>vol_3g_mb_8</td>\n",
              "      <td>0.00</td>\n",
              "    </tr>\n",
              "    <tr>\n",
              "      <th>152</th>\n",
              "      <td>monthly_2g_6</td>\n",
              "      <td>0.00</td>\n",
              "    </tr>\n",
              "    <tr>\n",
              "      <th>163</th>\n",
              "      <td>sachet_3g_8</td>\n",
              "      <td>0.00</td>\n",
              "    </tr>\n",
              "    <tr>\n",
              "      <th>168</th>\n",
              "      <td>aug_vbc_3g</td>\n",
              "      <td>0.00</td>\n",
              "    </tr>\n",
              "    <tr>\n",
              "      <th>162</th>\n",
              "      <td>sachet_3g_7</td>\n",
              "      <td>0.00</td>\n",
              "    </tr>\n",
              "    <tr>\n",
              "      <th>170</th>\n",
              "      <td>jun_vbc_3g</td>\n",
              "      <td>0.00</td>\n",
              "    </tr>\n",
              "    <tr>\n",
              "      <th>169</th>\n",
              "      <td>jul_vbc_3g</td>\n",
              "      <td>0.00</td>\n",
              "    </tr>\n",
              "    <tr>\n",
              "      <th>154</th>\n",
              "      <td>monthly_2g_8</td>\n",
              "      <td>0.00</td>\n",
              "    </tr>\n",
              "    <tr>\n",
              "      <th>155</th>\n",
              "      <td>sachet_2g_6</td>\n",
              "      <td>0.00</td>\n",
              "    </tr>\n",
              "    <tr>\n",
              "      <th>156</th>\n",
              "      <td>sachet_2g_7</td>\n",
              "      <td>0.00</td>\n",
              "    </tr>\n",
              "    <tr>\n",
              "      <th>157</th>\n",
              "      <td>sachet_2g_8</td>\n",
              "      <td>0.00</td>\n",
              "    </tr>\n",
              "    <tr>\n",
              "      <th>158</th>\n",
              "      <td>monthly_3g_6</td>\n",
              "      <td>0.00</td>\n",
              "    </tr>\n",
              "    <tr>\n",
              "      <th>159</th>\n",
              "      <td>monthly_3g_7</td>\n",
              "      <td>0.00</td>\n",
              "    </tr>\n",
              "    <tr>\n",
              "      <th>160</th>\n",
              "      <td>monthly_3g_8</td>\n",
              "      <td>0.00</td>\n",
              "    </tr>\n",
              "    <tr>\n",
              "      <th>161</th>\n",
              "      <td>sachet_3g_6</td>\n",
              "      <td>0.00</td>\n",
              "    </tr>\n",
              "    <tr>\n",
              "      <th>167</th>\n",
              "      <td>aon</td>\n",
              "      <td>0.00</td>\n",
              "    </tr>\n",
              "    <tr>\n",
              "      <th>118</th>\n",
              "      <td>last_day_rch_amt_8</td>\n",
              "      <td>0.00</td>\n",
              "    </tr>\n",
              "    <tr>\n",
              "      <th>174</th>\n",
              "      <td>amt_data_6</td>\n",
              "      <td>0.00</td>\n",
              "    </tr>\n",
              "    <tr>\n",
              "      <th>175</th>\n",
              "      <td>amt_data_7</td>\n",
              "      <td>0.00</td>\n",
              "    </tr>\n",
              "    <tr>\n",
              "      <th>0</th>\n",
              "      <td>id</td>\n",
              "      <td>0.00</td>\n",
              "    </tr>\n",
              "    <tr>\n",
              "      <th>138</th>\n",
              "      <td>vol_2g_mb_7</td>\n",
              "      <td>0.00</td>\n",
              "    </tr>\n",
              "    <tr>\n",
              "      <th>94</th>\n",
              "      <td>total_ic_mou_8</td>\n",
              "      <td>0.00</td>\n",
              "    </tr>\n",
              "    <tr>\n",
              "      <th>5</th>\n",
              "      <td>last_date_of_month_6</td>\n",
              "      <td>0.00</td>\n",
              "    </tr>\n",
              "    <tr>\n",
              "      <th>8</th>\n",
              "      <td>arpu_6</td>\n",
              "      <td>0.00</td>\n",
              "    </tr>\n",
              "    <tr>\n",
              "      <th>9</th>\n",
              "      <td>arpu_7</td>\n",
              "      <td>0.00</td>\n",
              "    </tr>\n",
              "    <tr>\n",
              "      <th>10</th>\n",
              "      <td>arpu_8</td>\n",
              "      <td>0.00</td>\n",
              "    </tr>\n",
              "    <tr>\n",
              "      <th>62</th>\n",
              "      <td>total_og_mou_6</td>\n",
              "      <td>0.00</td>\n",
              "    </tr>\n",
              "    <tr>\n",
              "      <th>63</th>\n",
              "      <td>total_og_mou_7</td>\n",
              "      <td>0.00</td>\n",
              "    </tr>\n",
              "    <tr>\n",
              "      <th>64</th>\n",
              "      <td>total_og_mou_8</td>\n",
              "      <td>0.00</td>\n",
              "    </tr>\n",
              "    <tr>\n",
              "      <th>1</th>\n",
              "      <td>circle_id</td>\n",
              "      <td>0.00</td>\n",
              "    </tr>\n",
              "    <tr>\n",
              "      <th>92</th>\n",
              "      <td>total_ic_mou_6</td>\n",
              "      <td>0.00</td>\n",
              "    </tr>\n",
              "    <tr>\n",
              "      <th>93</th>\n",
              "      <td>total_ic_mou_7</td>\n",
              "      <td>0.00</td>\n",
              "    </tr>\n",
              "    <tr>\n",
              "      <th>104</th>\n",
              "      <td>total_rech_num_6</td>\n",
              "      <td>0.00</td>\n",
              "    </tr>\n",
              "    <tr>\n",
              "      <th>137</th>\n",
              "      <td>vol_2g_mb_6</td>\n",
              "      <td>0.00</td>\n",
              "    </tr>\n",
              "    <tr>\n",
              "      <th>105</th>\n",
              "      <td>total_rech_num_7</td>\n",
              "      <td>0.00</td>\n",
              "    </tr>\n",
              "    <tr>\n",
              "      <th>106</th>\n",
              "      <td>total_rech_num_8</td>\n",
              "      <td>0.00</td>\n",
              "    </tr>\n",
              "    <tr>\n",
              "      <th>107</th>\n",
              "      <td>total_rech_amt_6</td>\n",
              "      <td>0.00</td>\n",
              "    </tr>\n",
              "    <tr>\n",
              "      <th>108</th>\n",
              "      <td>total_rech_amt_7</td>\n",
              "      <td>0.00</td>\n",
              "    </tr>\n",
              "    <tr>\n",
              "      <th>109</th>\n",
              "      <td>total_rech_amt_8</td>\n",
              "      <td>0.00</td>\n",
              "    </tr>\n",
              "    <tr>\n",
              "      <th>110</th>\n",
              "      <td>max_rech_amt_6</td>\n",
              "      <td>0.00</td>\n",
              "    </tr>\n",
              "    <tr>\n",
              "      <th>111</th>\n",
              "      <td>max_rech_amt_7</td>\n",
              "      <td>0.00</td>\n",
              "    </tr>\n",
              "    <tr>\n",
              "      <th>112</th>\n",
              "      <td>max_rech_amt_8</td>\n",
              "      <td>0.00</td>\n",
              "    </tr>\n",
              "    <tr>\n",
              "      <th>116</th>\n",
              "      <td>last_day_rch_amt_6</td>\n",
              "      <td>0.00</td>\n",
              "    </tr>\n",
              "    <tr>\n",
              "      <th>117</th>\n",
              "      <td>last_day_rch_amt_7</td>\n",
              "      <td>0.00</td>\n",
              "    </tr>\n",
              "    <tr>\n",
              "      <th>176</th>\n",
              "      <td>AVG_amt_data_6_7</td>\n",
              "      <td>0.00</td>\n",
              "    </tr>\n",
              "  </tbody>\n",
              "</table>\n",
              "</div>\n",
              "      <button class=\"colab-df-convert\" onclick=\"convertToInteractive('df-29e247ad-8067-4d72-a198-746d257cd1ab')\"\n",
              "              title=\"Convert this dataframe to an interactive table.\"\n",
              "              style=\"display:none;\">\n",
              "        \n",
              "  <svg xmlns=\"http://www.w3.org/2000/svg\" height=\"24px\"viewBox=\"0 0 24 24\"\n",
              "       width=\"24px\">\n",
              "    <path d=\"M0 0h24v24H0V0z\" fill=\"none\"/>\n",
              "    <path d=\"M18.56 5.44l.94 2.06.94-2.06 2.06-.94-2.06-.94-.94-2.06-.94 2.06-2.06.94zm-11 1L8.5 8.5l.94-2.06 2.06-.94-2.06-.94L8.5 2.5l-.94 2.06-2.06.94zm10 10l.94 2.06.94-2.06 2.06-.94-2.06-.94-.94-2.06-.94 2.06-2.06.94z\"/><path d=\"M17.41 7.96l-1.37-1.37c-.4-.4-.92-.59-1.43-.59-.52 0-1.04.2-1.43.59L10.3 9.45l-7.72 7.72c-.78.78-.78 2.05 0 2.83L4 21.41c.39.39.9.59 1.41.59.51 0 1.02-.2 1.41-.59l7.78-7.78 2.81-2.81c.8-.78.8-2.07 0-2.86zM5.41 20L4 18.59l7.72-7.72 1.47 1.35L5.41 20z\"/>\n",
              "  </svg>\n",
              "      </button>\n",
              "      \n",
              "  <style>\n",
              "    .colab-df-container {\n",
              "      display:flex;\n",
              "      flex-wrap:wrap;\n",
              "      gap: 12px;\n",
              "    }\n",
              "\n",
              "    .colab-df-convert {\n",
              "      background-color: #E8F0FE;\n",
              "      border: none;\n",
              "      border-radius: 50%;\n",
              "      cursor: pointer;\n",
              "      display: none;\n",
              "      fill: #1967D2;\n",
              "      height: 32px;\n",
              "      padding: 0 0 0 0;\n",
              "      width: 32px;\n",
              "    }\n",
              "\n",
              "    .colab-df-convert:hover {\n",
              "      background-color: #E2EBFA;\n",
              "      box-shadow: 0px 1px 2px rgba(60, 64, 67, 0.3), 0px 1px 3px 1px rgba(60, 64, 67, 0.15);\n",
              "      fill: #174EA6;\n",
              "    }\n",
              "\n",
              "    [theme=dark] .colab-df-convert {\n",
              "      background-color: #3B4455;\n",
              "      fill: #D2E3FC;\n",
              "    }\n",
              "\n",
              "    [theme=dark] .colab-df-convert:hover {\n",
              "      background-color: #434B5C;\n",
              "      box-shadow: 0px 1px 3px 1px rgba(0, 0, 0, 0.15);\n",
              "      filter: drop-shadow(0px 1px 2px rgba(0, 0, 0, 0.3));\n",
              "      fill: #FFFFFF;\n",
              "    }\n",
              "  </style>\n",
              "\n",
              "      <script>\n",
              "        const buttonEl =\n",
              "          document.querySelector('#df-29e247ad-8067-4d72-a198-746d257cd1ab button.colab-df-convert');\n",
              "        buttonEl.style.display =\n",
              "          google.colab.kernel.accessAllowed ? 'block' : 'none';\n",
              "\n",
              "        async function convertToInteractive(key) {\n",
              "          const element = document.querySelector('#df-29e247ad-8067-4d72-a198-746d257cd1ab');\n",
              "          const dataTable =\n",
              "            await google.colab.kernel.invokeFunction('convertToInteractive',\n",
              "                                                     [key], {});\n",
              "          if (!dataTable) return;\n",
              "\n",
              "          const docLinkHtml = 'Like what you see? Visit the ' +\n",
              "            '<a target=\"_blank\" href=https://colab.research.google.com/notebooks/data_table.ipynb>data table notebook</a>'\n",
              "            + ' to learn more about interactive tables.';\n",
              "          element.innerHTML = '';\n",
              "          dataTable['output_type'] = 'display_data';\n",
              "          await google.colab.output.renderOutput(dataTable, element);\n",
              "          const docLink = document.createElement('div');\n",
              "          docLink.innerHTML = docLinkHtml;\n",
              "          element.appendChild(docLink);\n",
              "        }\n",
              "      </script>\n",
              "    </div>\n",
              "  </div>\n",
              "  "
            ]
          },
          "metadata": {},
          "execution_count": 20
        }
      ],
      "source": [
        "# Let's have a look at missing values - how many are there & also get their percencentages\n",
        "pd.options.display.float_format = '{:.2f}'.format\n",
        "missing_values = pd.DataFrame((df.isnull().sum()/len(df))*100).reset_index().rename(columns = {'index': 'feature', 0: 'Missing%'}).sort_values('Missing%',ascending = False)\n",
        "missing_values"
      ]
    },
    {
      "cell_type": "markdown",
      "metadata": {
        "id": "nuK0NsycNgM-"
      },
      "source": [
        "We can observe good amount of missing values in the dataset.<br>\n",
        "Let's treat them <br>\n",
        "Before that let's identify features with single or unique value, because they won't be significant. Drop them"
      ]
    },
    {
      "cell_type": "code",
      "execution_count": 21,
      "metadata": {
        "colab": {
          "base_uri": "https://localhost:8080/"
        },
        "id": "71z9JYTYNgM-",
        "outputId": "18b57f3b-fc98-40e7-8561-33bfa16c1835"
      },
      "outputs": [
        {
          "output_type": "stream",
          "name": "stdout",
          "text": [
            "                feature  nunique\n",
            "2        loc_og_t2o_mou        1\n",
            "3        std_og_t2o_mou        1\n",
            "4        loc_ic_t2o_mou        1\n",
            "5  last_date_of_month_6        1\n",
            "6  last_date_of_month_7        1\n",
            "7  last_date_of_month_8        1\n",
            "6 features with a single unique value.\n",
            "\n"
          ]
        }
      ],
      "source": [
        "unique_stats = pd.DataFrame(df.nunique()).reset_index().rename(columns = {'index': 'feature', 0: 'nunique'})\n",
        "print(unique_stats[unique_stats['nunique'] == 1])\n",
        "\n",
        "print('%d features with a single unique value.\\n' % len(unique_stats[unique_stats['nunique'] == 1]))"
      ]
    },
    {
      "cell_type": "code",
      "execution_count": 22,
      "metadata": {
        "id": "6X8SFFZcNgM-"
      },
      "outputs": [],
      "source": [
        "df = df.drop(columns = list(unique_stats[unique_stats['nunique'] == 1]['feature']))"
      ]
    },
    {
      "cell_type": "markdown",
      "metadata": {
        "id": "OtUsNqN7NgM-"
      },
      "source": [
        "### Missing value treatment"
      ]
    },
    {
      "cell_type": "markdown",
      "metadata": {
        "id": "F4zQ-qGlNgM-"
      },
      "source": [
        "Let's start with one of the highest missing feature arpu_3g_8"
      ]
    },
    {
      "cell_type": "code",
      "execution_count": 23,
      "metadata": {
        "colab": {
          "base_uri": "https://localhost:8080/"
        },
        "id": "UfSWSXSkNgM_",
        "outputId": "394fd523-694a-40ca-c3a6-ad28f3c5459c"
      },
      "outputs": [
        {
          "output_type": "execute_result",
          "data": {
            "text/plain": [
              "25516"
            ]
          },
          "metadata": {},
          "execution_count": 23
        }
      ],
      "source": [
        "df['arpu_3g_8'].isna().sum()"
      ]
    },
    {
      "cell_type": "markdown",
      "metadata": {
        "id": "AbTFv9lpNgM_"
      },
      "source": [
        "~46% of the data is missing. <br> How can we impute them? using mean or median etc; <br> Let's check them"
      ]
    },
    {
      "cell_type": "code",
      "execution_count": 24,
      "metadata": {
        "colab": {
          "base_uri": "https://localhost:8080/"
        },
        "id": "LRanoJBGNgM_",
        "outputId": "148ae273-1b25-4b2c-d8e0-c1ef1fdd2435"
      },
      "outputs": [
        {
          "output_type": "execute_result",
          "data": {
            "text/plain": [
              "count   32710.00\n",
              "mean      113.84\n",
              "std       214.18\n",
              "min       -24.49\n",
              "25%         0.00\n",
              "50%         8.27\n",
              "75%       160.09\n",
              "max      3716.90\n",
              "Name: arpu_3g_8, dtype: float64"
            ]
          },
          "metadata": {},
          "execution_count": 24
        }
      ],
      "source": [
        "df['arpu_3g_8'].describe()"
      ]
    },
    {
      "cell_type": "markdown",
      "metadata": {
        "id": "pdiDApIONgM_"
      },
      "source": [
        "We can observe that the range is huge. <br> We can't go with either mean or median as they can skew/distort the whole scenario. <br> Let's check data related variables of 8th month to decide on filling up the missing values"
      ]
    },
    {
      "cell_type": "code",
      "execution_count": 25,
      "metadata": {
        "colab": {
          "base_uri": "https://localhost:8080/"
        },
        "id": "9Y7YAAUHNgM_",
        "outputId": "659e75fb-2535-4b8f-c48f-bfebcb995218"
      },
      "outputs": [
        {
          "output_type": "execute_result",
          "data": {
            "text/plain": [
              "date_of_last_rech_data_8    2\n",
              "total_rech_data_8           2\n",
              "max_rech_data_8             2\n",
              "count_rech_2g_8             2\n",
              "count_rech_3g_8             1\n",
              "av_rech_amt_data_8          2\n",
              "vol_2g_mb_8                 1\n",
              "vol_3g_mb_8                 1\n",
              "arpu_2g_8                   0\n",
              "night_pck_user_8            0\n",
              "monthly_2g_8                1\n",
              "sachet_2g_8                 1\n",
              "monthly_3g_8                1\n",
              "sachet_3g_8                 1\n",
              "fb_user_8                   0\n",
              "dtype: int64"
            ]
          },
          "metadata": {},
          "execution_count": 25
        }
      ],
      "source": [
        "df[df['arpu_3g_8'].isna()][['date_of_last_rech_data_8','total_rech_data_8','max_rech_data_8','count_rech_2g_8', \n",
        "                            'count_rech_3g_8', 'av_rech_amt_data_8', 'vol_2g_mb_8', 'vol_3g_mb_8', 'arpu_2g_8',\n",
        "                            'night_pck_user_8', 'monthly_2g_8', 'sachet_2g_8', 'monthly_3g_8', 'sachet_3g_8',\n",
        "                            'fb_user_8'\n",
        "                           ]].nunique()"
      ]
    },
    {
      "cell_type": "code",
      "execution_count": 26,
      "metadata": {
        "colab": {
          "base_uri": "https://localhost:8080/",
          "height": 0
        },
        "id": "wb43NAJONgM_",
        "outputId": "3d0f2c77-a797-4d32-8379-7d761138bff2"
      },
      "outputs": [
        {
          "output_type": "execute_result",
          "data": {
            "text/plain": [
              "   date_of_last_rech_data_8  total_rech_data_8  max_rech_data_8  \\\n",
              "23                      NaN                NaN              NaN   \n",
              "54                      NaN                NaN              NaN   \n",
              "58                      NaN                NaN              NaN   \n",
              "68                      NaN                NaN              NaN   \n",
              "75                      NaN                NaN              NaN   \n",
              "\n",
              "    count_rech_2g_8  count_rech_3g_8  av_rech_amt_data_8  vol_2g_mb_8  \\\n",
              "23              NaN              NaN                 NaN         0.00   \n",
              "54              NaN              NaN                 NaN         0.00   \n",
              "58              NaN              NaN                 NaN         0.00   \n",
              "68              NaN              NaN                 NaN         0.00   \n",
              "75              NaN              NaN                 NaN         0.00   \n",
              "\n",
              "    vol_3g_mb_8  arpu_2g_8  night_pck_user_8  monthly_2g_8  sachet_2g_8  \\\n",
              "23         0.00        NaN               NaN          0.00         0.00   \n",
              "54         0.00        NaN               NaN          0.00         0.00   \n",
              "58         0.00        NaN               NaN          0.00         0.00   \n",
              "68         0.00        NaN               NaN          0.00         0.00   \n",
              "75         0.00        NaN               NaN          0.00         0.00   \n",
              "\n",
              "    monthly_3g_8  sachet_3g_8  fb_user_8  \n",
              "23          0.00         0.00        NaN  \n",
              "54          0.00         0.00        NaN  \n",
              "58          0.00         0.00        NaN  \n",
              "68          0.00         0.00        NaN  \n",
              "75          0.00         0.00        NaN  "
            ],
            "text/html": [
              "\n",
              "  <div id=\"df-7399a443-a4a0-486c-bbbd-4a8639daba32\">\n",
              "    <div class=\"colab-df-container\">\n",
              "      <div>\n",
              "<style scoped>\n",
              "    .dataframe tbody tr th:only-of-type {\n",
              "        vertical-align: middle;\n",
              "    }\n",
              "\n",
              "    .dataframe tbody tr th {\n",
              "        vertical-align: top;\n",
              "    }\n",
              "\n",
              "    .dataframe thead th {\n",
              "        text-align: right;\n",
              "    }\n",
              "</style>\n",
              "<table border=\"1\" class=\"dataframe\">\n",
              "  <thead>\n",
              "    <tr style=\"text-align: right;\">\n",
              "      <th></th>\n",
              "      <th>date_of_last_rech_data_8</th>\n",
              "      <th>total_rech_data_8</th>\n",
              "      <th>max_rech_data_8</th>\n",
              "      <th>count_rech_2g_8</th>\n",
              "      <th>count_rech_3g_8</th>\n",
              "      <th>av_rech_amt_data_8</th>\n",
              "      <th>vol_2g_mb_8</th>\n",
              "      <th>vol_3g_mb_8</th>\n",
              "      <th>arpu_2g_8</th>\n",
              "      <th>night_pck_user_8</th>\n",
              "      <th>monthly_2g_8</th>\n",
              "      <th>sachet_2g_8</th>\n",
              "      <th>monthly_3g_8</th>\n",
              "      <th>sachet_3g_8</th>\n",
              "      <th>fb_user_8</th>\n",
              "    </tr>\n",
              "  </thead>\n",
              "  <tbody>\n",
              "    <tr>\n",
              "      <th>23</th>\n",
              "      <td>NaN</td>\n",
              "      <td>NaN</td>\n",
              "      <td>NaN</td>\n",
              "      <td>NaN</td>\n",
              "      <td>NaN</td>\n",
              "      <td>NaN</td>\n",
              "      <td>0.00</td>\n",
              "      <td>0.00</td>\n",
              "      <td>NaN</td>\n",
              "      <td>NaN</td>\n",
              "      <td>0.00</td>\n",
              "      <td>0.00</td>\n",
              "      <td>0.00</td>\n",
              "      <td>0.00</td>\n",
              "      <td>NaN</td>\n",
              "    </tr>\n",
              "    <tr>\n",
              "      <th>54</th>\n",
              "      <td>NaN</td>\n",
              "      <td>NaN</td>\n",
              "      <td>NaN</td>\n",
              "      <td>NaN</td>\n",
              "      <td>NaN</td>\n",
              "      <td>NaN</td>\n",
              "      <td>0.00</td>\n",
              "      <td>0.00</td>\n",
              "      <td>NaN</td>\n",
              "      <td>NaN</td>\n",
              "      <td>0.00</td>\n",
              "      <td>0.00</td>\n",
              "      <td>0.00</td>\n",
              "      <td>0.00</td>\n",
              "      <td>NaN</td>\n",
              "    </tr>\n",
              "    <tr>\n",
              "      <th>58</th>\n",
              "      <td>NaN</td>\n",
              "      <td>NaN</td>\n",
              "      <td>NaN</td>\n",
              "      <td>NaN</td>\n",
              "      <td>NaN</td>\n",
              "      <td>NaN</td>\n",
              "      <td>0.00</td>\n",
              "      <td>0.00</td>\n",
              "      <td>NaN</td>\n",
              "      <td>NaN</td>\n",
              "      <td>0.00</td>\n",
              "      <td>0.00</td>\n",
              "      <td>0.00</td>\n",
              "      <td>0.00</td>\n",
              "      <td>NaN</td>\n",
              "    </tr>\n",
              "    <tr>\n",
              "      <th>68</th>\n",
              "      <td>NaN</td>\n",
              "      <td>NaN</td>\n",
              "      <td>NaN</td>\n",
              "      <td>NaN</td>\n",
              "      <td>NaN</td>\n",
              "      <td>NaN</td>\n",
              "      <td>0.00</td>\n",
              "      <td>0.00</td>\n",
              "      <td>NaN</td>\n",
              "      <td>NaN</td>\n",
              "      <td>0.00</td>\n",
              "      <td>0.00</td>\n",
              "      <td>0.00</td>\n",
              "      <td>0.00</td>\n",
              "      <td>NaN</td>\n",
              "    </tr>\n",
              "    <tr>\n",
              "      <th>75</th>\n",
              "      <td>NaN</td>\n",
              "      <td>NaN</td>\n",
              "      <td>NaN</td>\n",
              "      <td>NaN</td>\n",
              "      <td>NaN</td>\n",
              "      <td>NaN</td>\n",
              "      <td>0.00</td>\n",
              "      <td>0.00</td>\n",
              "      <td>NaN</td>\n",
              "      <td>NaN</td>\n",
              "      <td>0.00</td>\n",
              "      <td>0.00</td>\n",
              "      <td>0.00</td>\n",
              "      <td>0.00</td>\n",
              "      <td>NaN</td>\n",
              "    </tr>\n",
              "  </tbody>\n",
              "</table>\n",
              "</div>\n",
              "      <button class=\"colab-df-convert\" onclick=\"convertToInteractive('df-7399a443-a4a0-486c-bbbd-4a8639daba32')\"\n",
              "              title=\"Convert this dataframe to an interactive table.\"\n",
              "              style=\"display:none;\">\n",
              "        \n",
              "  <svg xmlns=\"http://www.w3.org/2000/svg\" height=\"24px\"viewBox=\"0 0 24 24\"\n",
              "       width=\"24px\">\n",
              "    <path d=\"M0 0h24v24H0V0z\" fill=\"none\"/>\n",
              "    <path d=\"M18.56 5.44l.94 2.06.94-2.06 2.06-.94-2.06-.94-.94-2.06-.94 2.06-2.06.94zm-11 1L8.5 8.5l.94-2.06 2.06-.94-2.06-.94L8.5 2.5l-.94 2.06-2.06.94zm10 10l.94 2.06.94-2.06 2.06-.94-2.06-.94-.94-2.06-.94 2.06-2.06.94z\"/><path d=\"M17.41 7.96l-1.37-1.37c-.4-.4-.92-.59-1.43-.59-.52 0-1.04.2-1.43.59L10.3 9.45l-7.72 7.72c-.78.78-.78 2.05 0 2.83L4 21.41c.39.39.9.59 1.41.59.51 0 1.02-.2 1.41-.59l7.78-7.78 2.81-2.81c.8-.78.8-2.07 0-2.86zM5.41 20L4 18.59l7.72-7.72 1.47 1.35L5.41 20z\"/>\n",
              "  </svg>\n",
              "      </button>\n",
              "      \n",
              "  <style>\n",
              "    .colab-df-container {\n",
              "      display:flex;\n",
              "      flex-wrap:wrap;\n",
              "      gap: 12px;\n",
              "    }\n",
              "\n",
              "    .colab-df-convert {\n",
              "      background-color: #E8F0FE;\n",
              "      border: none;\n",
              "      border-radius: 50%;\n",
              "      cursor: pointer;\n",
              "      display: none;\n",
              "      fill: #1967D2;\n",
              "      height: 32px;\n",
              "      padding: 0 0 0 0;\n",
              "      width: 32px;\n",
              "    }\n",
              "\n",
              "    .colab-df-convert:hover {\n",
              "      background-color: #E2EBFA;\n",
              "      box-shadow: 0px 1px 2px rgba(60, 64, 67, 0.3), 0px 1px 3px 1px rgba(60, 64, 67, 0.15);\n",
              "      fill: #174EA6;\n",
              "    }\n",
              "\n",
              "    [theme=dark] .colab-df-convert {\n",
              "      background-color: #3B4455;\n",
              "      fill: #D2E3FC;\n",
              "    }\n",
              "\n",
              "    [theme=dark] .colab-df-convert:hover {\n",
              "      background-color: #434B5C;\n",
              "      box-shadow: 0px 1px 3px 1px rgba(0, 0, 0, 0.15);\n",
              "      filter: drop-shadow(0px 1px 2px rgba(0, 0, 0, 0.3));\n",
              "      fill: #FFFFFF;\n",
              "    }\n",
              "  </style>\n",
              "\n",
              "      <script>\n",
              "        const buttonEl =\n",
              "          document.querySelector('#df-7399a443-a4a0-486c-bbbd-4a8639daba32 button.colab-df-convert');\n",
              "        buttonEl.style.display =\n",
              "          google.colab.kernel.accessAllowed ? 'block' : 'none';\n",
              "\n",
              "        async function convertToInteractive(key) {\n",
              "          const element = document.querySelector('#df-7399a443-a4a0-486c-bbbd-4a8639daba32');\n",
              "          const dataTable =\n",
              "            await google.colab.kernel.invokeFunction('convertToInteractive',\n",
              "                                                     [key], {});\n",
              "          if (!dataTable) return;\n",
              "\n",
              "          const docLinkHtml = 'Like what you see? Visit the ' +\n",
              "            '<a target=\"_blank\" href=https://colab.research.google.com/notebooks/data_table.ipynb>data table notebook</a>'\n",
              "            + ' to learn more about interactive tables.';\n",
              "          element.innerHTML = '';\n",
              "          dataTable['output_type'] = 'display_data';\n",
              "          await google.colab.output.renderOutput(dataTable, element);\n",
              "          const docLink = document.createElement('div');\n",
              "          docLink.innerHTML = docLinkHtml;\n",
              "          element.appendChild(docLink);\n",
              "        }\n",
              "      </script>\n",
              "    </div>\n",
              "  </div>\n",
              "  "
            ]
          },
          "metadata": {},
          "execution_count": 26
        }
      ],
      "source": [
        "df[df['arpu_3g_8'].isna()][['date_of_last_rech_data_8','total_rech_data_8','max_rech_data_8','count_rech_2g_8', \n",
        "                            'count_rech_3g_8', 'av_rech_amt_data_8', 'vol_2g_mb_8', 'vol_3g_mb_8', 'arpu_2g_8',\n",
        "                            'night_pck_user_8', 'monthly_2g_8', 'sachet_2g_8', 'monthly_3g_8', 'sachet_3g_8',\n",
        "                            'fb_user_8'\n",
        "                           ]].head()"
      ]
    },
    {
      "cell_type": "markdown",
      "metadata": {
        "id": "N88TWED1NgM_"
      },
      "source": [
        "We can infer that the customers hasn't bought the data at all in 8th month. <br>\n",
        "Let's fill the gap as 0"
      ]
    },
    {
      "cell_type": "code",
      "execution_count": 27,
      "metadata": {
        "id": "CoMxtj0ANgM_"
      },
      "outputs": [],
      "source": [
        "df['arpu_3g_8'].fillna(0,inplace=True)"
      ]
    },
    {
      "cell_type": "code",
      "execution_count": 28,
      "metadata": {
        "colab": {
          "base_uri": "https://localhost:8080/"
        },
        "id": "hGUh03s_NgNA",
        "outputId": "6d2d33b0-ae00-48ed-92f4-9544d730581e"
      },
      "outputs": [
        {
          "output_type": "execute_result",
          "data": {
            "text/plain": [
              "0"
            ]
          },
          "metadata": {},
          "execution_count": 28
        }
      ],
      "source": [
        "df['arpu_3g_8'].isna().sum()"
      ]
    },
    {
      "cell_type": "markdown",
      "metadata": {
        "id": "ddKVbXUANgNA"
      },
      "source": [
        "It's clearly evident from the above table that most of the missing values are from mobile data related only. We can follow the same approach and fill the gap."
      ]
    },
    {
      "cell_type": "markdown",
      "metadata": {
        "id": "LQiGrUZZNgNA"
      },
      "source": [
        "Let's check the other missing feature 'isd_og_mou_8'"
      ]
    },
    {
      "cell_type": "code",
      "execution_count": 29,
      "metadata": {
        "colab": {
          "base_uri": "https://localhost:8080/"
        },
        "id": "bv0cd_0CNgNA",
        "outputId": "36593124-6c8b-4f85-c3f6-9db6e59f6632"
      },
      "outputs": [
        {
          "output_type": "execute_result",
          "data": {
            "text/plain": [
              "3168"
            ]
          },
          "metadata": {},
          "execution_count": 29
        }
      ],
      "source": [
        "df['isd_og_mou_8'].isna().sum()"
      ]
    },
    {
      "cell_type": "code",
      "execution_count": 30,
      "metadata": {
        "colab": {
          "base_uri": "https://localhost:8080/"
        },
        "id": "bmIqrh36NgNA",
        "outputId": "5c9dcf2c-2776-478f-9143-8172200490c3"
      },
      "outputs": [
        {
          "output_type": "execute_result",
          "data": {
            "text/plain": [
              "count    55058.00\n",
              "unique     932.00\n",
              "top          0.00\n",
              "freq     49572.00\n",
              "Name: isd_og_mou_8, dtype: float64"
            ]
          },
          "metadata": {},
          "execution_count": 30
        }
      ],
      "source": [
        "df['isd_og_mou_8'].describe()"
      ]
    },
    {
      "cell_type": "markdown",
      "metadata": {
        "id": "iGb3uVvTNgNA"
      },
      "source": [
        "We can clearly evident the range varies from 0.0 to 5681.54 <br>\n",
        "It looks like the presence of outliers <br>\n",
        "Let's check the all outgoing related features of 8th month"
      ]
    },
    {
      "cell_type": "code",
      "execution_count": 31,
      "metadata": {
        "colab": {
          "base_uri": "https://localhost:8080/"
        },
        "id": "SJ-mjvrMNgNA",
        "outputId": "c23579ea-9074-4eb5-e5ce-3916e75092df"
      },
      "outputs": [
        {
          "output_type": "execute_result",
          "data": {
            "text/plain": [
              "loc_og_mou_8      0\n",
              "std_og_mou_8      0\n",
              "spl_og_mou_8      0\n",
              "og_others_8       0\n",
              "total_og_mou_8    2\n",
              "dtype: int64"
            ]
          },
          "metadata": {},
          "execution_count": 31
        }
      ],
      "source": [
        "df[df['isd_og_mou_8'].isna()][['loc_og_mou_8', 'std_og_mou_8', 'spl_og_mou_8', 'og_others_8', 'total_og_mou_8']].nunique()"
      ]
    },
    {
      "cell_type": "code",
      "execution_count": 32,
      "metadata": {
        "colab": {
          "base_uri": "https://localhost:8080/",
          "height": 0
        },
        "id": "rREUDYgNNgNB",
        "outputId": "f90927b9-96b5-4586-ad39-ac8a72701ce0"
      },
      "outputs": [
        {
          "output_type": "execute_result",
          "data": {
            "text/plain": [
              "    loc_og_mou_8 std_og_mou_8 spl_og_mou_8 og_others_8 total_og_mou_8\n",
              "76           NaN          NaN          NaN         NaN           0.00\n",
              "101          NaN          NaN          NaN         NaN           0.00\n",
              "177          NaN          NaN          NaN         NaN           0.00\n",
              "183          NaN          NaN          NaN         NaN           0.00\n",
              "217          NaN          NaN          NaN         NaN           0.00"
            ],
            "text/html": [
              "\n",
              "  <div id=\"df-47c040d7-d64f-468d-a9c4-4bab5c6a9372\">\n",
              "    <div class=\"colab-df-container\">\n",
              "      <div>\n",
              "<style scoped>\n",
              "    .dataframe tbody tr th:only-of-type {\n",
              "        vertical-align: middle;\n",
              "    }\n",
              "\n",
              "    .dataframe tbody tr th {\n",
              "        vertical-align: top;\n",
              "    }\n",
              "\n",
              "    .dataframe thead th {\n",
              "        text-align: right;\n",
              "    }\n",
              "</style>\n",
              "<table border=\"1\" class=\"dataframe\">\n",
              "  <thead>\n",
              "    <tr style=\"text-align: right;\">\n",
              "      <th></th>\n",
              "      <th>loc_og_mou_8</th>\n",
              "      <th>std_og_mou_8</th>\n",
              "      <th>spl_og_mou_8</th>\n",
              "      <th>og_others_8</th>\n",
              "      <th>total_og_mou_8</th>\n",
              "    </tr>\n",
              "  </thead>\n",
              "  <tbody>\n",
              "    <tr>\n",
              "      <th>76</th>\n",
              "      <td>NaN</td>\n",
              "      <td>NaN</td>\n",
              "      <td>NaN</td>\n",
              "      <td>NaN</td>\n",
              "      <td>0.00</td>\n",
              "    </tr>\n",
              "    <tr>\n",
              "      <th>101</th>\n",
              "      <td>NaN</td>\n",
              "      <td>NaN</td>\n",
              "      <td>NaN</td>\n",
              "      <td>NaN</td>\n",
              "      <td>0.00</td>\n",
              "    </tr>\n",
              "    <tr>\n",
              "      <th>177</th>\n",
              "      <td>NaN</td>\n",
              "      <td>NaN</td>\n",
              "      <td>NaN</td>\n",
              "      <td>NaN</td>\n",
              "      <td>0.00</td>\n",
              "    </tr>\n",
              "    <tr>\n",
              "      <th>183</th>\n",
              "      <td>NaN</td>\n",
              "      <td>NaN</td>\n",
              "      <td>NaN</td>\n",
              "      <td>NaN</td>\n",
              "      <td>0.00</td>\n",
              "    </tr>\n",
              "    <tr>\n",
              "      <th>217</th>\n",
              "      <td>NaN</td>\n",
              "      <td>NaN</td>\n",
              "      <td>NaN</td>\n",
              "      <td>NaN</td>\n",
              "      <td>0.00</td>\n",
              "    </tr>\n",
              "  </tbody>\n",
              "</table>\n",
              "</div>\n",
              "      <button class=\"colab-df-convert\" onclick=\"convertToInteractive('df-47c040d7-d64f-468d-a9c4-4bab5c6a9372')\"\n",
              "              title=\"Convert this dataframe to an interactive table.\"\n",
              "              style=\"display:none;\">\n",
              "        \n",
              "  <svg xmlns=\"http://www.w3.org/2000/svg\" height=\"24px\"viewBox=\"0 0 24 24\"\n",
              "       width=\"24px\">\n",
              "    <path d=\"M0 0h24v24H0V0z\" fill=\"none\"/>\n",
              "    <path d=\"M18.56 5.44l.94 2.06.94-2.06 2.06-.94-2.06-.94-.94-2.06-.94 2.06-2.06.94zm-11 1L8.5 8.5l.94-2.06 2.06-.94-2.06-.94L8.5 2.5l-.94 2.06-2.06.94zm10 10l.94 2.06.94-2.06 2.06-.94-2.06-.94-.94-2.06-.94 2.06-2.06.94z\"/><path d=\"M17.41 7.96l-1.37-1.37c-.4-.4-.92-.59-1.43-.59-.52 0-1.04.2-1.43.59L10.3 9.45l-7.72 7.72c-.78.78-.78 2.05 0 2.83L4 21.41c.39.39.9.59 1.41.59.51 0 1.02-.2 1.41-.59l7.78-7.78 2.81-2.81c.8-.78.8-2.07 0-2.86zM5.41 20L4 18.59l7.72-7.72 1.47 1.35L5.41 20z\"/>\n",
              "  </svg>\n",
              "      </button>\n",
              "      \n",
              "  <style>\n",
              "    .colab-df-container {\n",
              "      display:flex;\n",
              "      flex-wrap:wrap;\n",
              "      gap: 12px;\n",
              "    }\n",
              "\n",
              "    .colab-df-convert {\n",
              "      background-color: #E8F0FE;\n",
              "      border: none;\n",
              "      border-radius: 50%;\n",
              "      cursor: pointer;\n",
              "      display: none;\n",
              "      fill: #1967D2;\n",
              "      height: 32px;\n",
              "      padding: 0 0 0 0;\n",
              "      width: 32px;\n",
              "    }\n",
              "\n",
              "    .colab-df-convert:hover {\n",
              "      background-color: #E2EBFA;\n",
              "      box-shadow: 0px 1px 2px rgba(60, 64, 67, 0.3), 0px 1px 3px 1px rgba(60, 64, 67, 0.15);\n",
              "      fill: #174EA6;\n",
              "    }\n",
              "\n",
              "    [theme=dark] .colab-df-convert {\n",
              "      background-color: #3B4455;\n",
              "      fill: #D2E3FC;\n",
              "    }\n",
              "\n",
              "    [theme=dark] .colab-df-convert:hover {\n",
              "      background-color: #434B5C;\n",
              "      box-shadow: 0px 1px 3px 1px rgba(0, 0, 0, 0.15);\n",
              "      filter: drop-shadow(0px 1px 2px rgba(0, 0, 0, 0.3));\n",
              "      fill: #FFFFFF;\n",
              "    }\n",
              "  </style>\n",
              "\n",
              "      <script>\n",
              "        const buttonEl =\n",
              "          document.querySelector('#df-47c040d7-d64f-468d-a9c4-4bab5c6a9372 button.colab-df-convert');\n",
              "        buttonEl.style.display =\n",
              "          google.colab.kernel.accessAllowed ? 'block' : 'none';\n",
              "\n",
              "        async function convertToInteractive(key) {\n",
              "          const element = document.querySelector('#df-47c040d7-d64f-468d-a9c4-4bab5c6a9372');\n",
              "          const dataTable =\n",
              "            await google.colab.kernel.invokeFunction('convertToInteractive',\n",
              "                                                     [key], {});\n",
              "          if (!dataTable) return;\n",
              "\n",
              "          const docLinkHtml = 'Like what you see? Visit the ' +\n",
              "            '<a target=\"_blank\" href=https://colab.research.google.com/notebooks/data_table.ipynb>data table notebook</a>'\n",
              "            + ' to learn more about interactive tables.';\n",
              "          element.innerHTML = '';\n",
              "          dataTable['output_type'] = 'display_data';\n",
              "          await google.colab.output.renderOutput(dataTable, element);\n",
              "          const docLink = document.createElement('div');\n",
              "          docLink.innerHTML = docLinkHtml;\n",
              "          element.appendChild(docLink);\n",
              "        }\n",
              "      </script>\n",
              "    </div>\n",
              "  </div>\n",
              "  "
            ]
          },
          "metadata": {},
          "execution_count": 32
        }
      ],
      "source": [
        "df[df['isd_og_mou_8'].isna()][['loc_og_mou_8', 'std_og_mou_8', 'spl_og_mou_8', 'og_others_8', 'total_og_mou_8']].head()"
      ]
    },
    {
      "cell_type": "markdown",
      "metadata": {
        "id": "fK3OMg_bNgNB"
      },
      "source": [
        "From the above we can impute the missing values of isd_og_mou_8 with 0"
      ]
    },
    {
      "cell_type": "markdown",
      "metadata": {
        "id": "292kaWIKNgNB"
      },
      "source": [
        "We have carried out the study for the rest of features as well and concluded that the missing values can be imputed with 0 values."
      ]
    },
    {
      "cell_type": "markdown",
      "metadata": {
        "id": "OQNEq3IUNgNB"
      },
      "source": [
        "# Exploratory Analysis"
      ]
    },
    {
      "cell_type": "markdown",
      "metadata": {
        "id": "B2LaJ7VNNgNB"
      },
      "source": [
        "The goal of EDA is to determine what our data can tell us!!! \n",
        "In this section, we make plots and find patterns, relationships etc. \n",
        "\n",
        "We will start with our target variable i.e. 'churn_flag'\n",
        "\n",
        "Let's start"
      ]
    },
    {
      "cell_type": "code",
      "execution_count": 33,
      "metadata": {
        "colab": {
          "base_uri": "https://localhost:8080/",
          "height": 502
        },
        "id": "_7RhcHnhNgNB",
        "outputId": "7a648d0d-bfbc-43c8-f3e4-218405cdfb98"
      },
      "outputs": [
        {
          "output_type": "error",
          "ename": "KeyError",
          "evalue": "ignored",
          "traceback": [
            "\u001b[0;31m---------------------------------------------------------------------------\u001b[0m",
            "\u001b[0;31mKeyError\u001b[0m                                  Traceback (most recent call last)",
            "\u001b[0;32m/usr/local/lib/python3.7/dist-packages/pandas/core/indexes/base.py\u001b[0m in \u001b[0;36mget_loc\u001b[0;34m(self, key, method, tolerance)\u001b[0m\n\u001b[1;32m   3360\u001b[0m             \u001b[0;32mtry\u001b[0m\u001b[0;34m:\u001b[0m\u001b[0;34m\u001b[0m\u001b[0;34m\u001b[0m\u001b[0m\n\u001b[0;32m-> 3361\u001b[0;31m                 \u001b[0;32mreturn\u001b[0m \u001b[0mself\u001b[0m\u001b[0;34m.\u001b[0m\u001b[0m_engine\u001b[0m\u001b[0;34m.\u001b[0m\u001b[0mget_loc\u001b[0m\u001b[0;34m(\u001b[0m\u001b[0mcasted_key\u001b[0m\u001b[0;34m)\u001b[0m\u001b[0;34m\u001b[0m\u001b[0;34m\u001b[0m\u001b[0m\n\u001b[0m\u001b[1;32m   3362\u001b[0m             \u001b[0;32mexcept\u001b[0m \u001b[0mKeyError\u001b[0m \u001b[0;32mas\u001b[0m \u001b[0merr\u001b[0m\u001b[0;34m:\u001b[0m\u001b[0;34m\u001b[0m\u001b[0;34m\u001b[0m\u001b[0m\n",
            "\u001b[0;32m/usr/local/lib/python3.7/dist-packages/pandas/_libs/index.pyx\u001b[0m in \u001b[0;36mpandas._libs.index.IndexEngine.get_loc\u001b[0;34m()\u001b[0m\n",
            "\u001b[0;32m/usr/local/lib/python3.7/dist-packages/pandas/_libs/index.pyx\u001b[0m in \u001b[0;36mpandas._libs.index.IndexEngine.get_loc\u001b[0;34m()\u001b[0m\n",
            "\u001b[0;32mpandas/_libs/hashtable_class_helper.pxi\u001b[0m in \u001b[0;36mpandas._libs.hashtable.PyObjectHashTable.get_item\u001b[0;34m()\u001b[0m\n",
            "\u001b[0;32mpandas/_libs/hashtable_class_helper.pxi\u001b[0m in \u001b[0;36mpandas._libs.hashtable.PyObjectHashTable.get_item\u001b[0;34m()\u001b[0m\n",
            "\u001b[0;31mKeyError\u001b[0m: 'churn_flag'",
            "\nThe above exception was the direct cause of the following exception:\n",
            "\u001b[0;31mKeyError\u001b[0m                                  Traceback (most recent call last)",
            "\u001b[0;32m<ipython-input-33-69dfaf4696be>\u001b[0m in \u001b[0;36m<module>\u001b[0;34m()\u001b[0m\n\u001b[0;32m----> 1\u001b[0;31m \u001b[0mdf\u001b[0m\u001b[0;34m[\u001b[0m\u001b[0;34m'churn_flag'\u001b[0m\u001b[0;34m]\u001b[0m\u001b[0;34m.\u001b[0m\u001b[0mvalue_counts\u001b[0m\u001b[0;34m(\u001b[0m\u001b[0;34m)\u001b[0m\u001b[0;34m\u001b[0m\u001b[0;34m\u001b[0m\u001b[0m\n\u001b[0m",
            "\u001b[0;32m/usr/local/lib/python3.7/dist-packages/pandas/core/frame.py\u001b[0m in \u001b[0;36m__getitem__\u001b[0;34m(self, key)\u001b[0m\n\u001b[1;32m   3456\u001b[0m             \u001b[0;32mif\u001b[0m \u001b[0mself\u001b[0m\u001b[0;34m.\u001b[0m\u001b[0mcolumns\u001b[0m\u001b[0;34m.\u001b[0m\u001b[0mnlevels\u001b[0m \u001b[0;34m>\u001b[0m \u001b[0;36m1\u001b[0m\u001b[0;34m:\u001b[0m\u001b[0;34m\u001b[0m\u001b[0;34m\u001b[0m\u001b[0m\n\u001b[1;32m   3457\u001b[0m                 \u001b[0;32mreturn\u001b[0m \u001b[0mself\u001b[0m\u001b[0;34m.\u001b[0m\u001b[0m_getitem_multilevel\u001b[0m\u001b[0;34m(\u001b[0m\u001b[0mkey\u001b[0m\u001b[0;34m)\u001b[0m\u001b[0;34m\u001b[0m\u001b[0;34m\u001b[0m\u001b[0m\n\u001b[0;32m-> 3458\u001b[0;31m             \u001b[0mindexer\u001b[0m \u001b[0;34m=\u001b[0m \u001b[0mself\u001b[0m\u001b[0;34m.\u001b[0m\u001b[0mcolumns\u001b[0m\u001b[0;34m.\u001b[0m\u001b[0mget_loc\u001b[0m\u001b[0;34m(\u001b[0m\u001b[0mkey\u001b[0m\u001b[0;34m)\u001b[0m\u001b[0;34m\u001b[0m\u001b[0;34m\u001b[0m\u001b[0m\n\u001b[0m\u001b[1;32m   3459\u001b[0m             \u001b[0;32mif\u001b[0m \u001b[0mis_integer\u001b[0m\u001b[0;34m(\u001b[0m\u001b[0mindexer\u001b[0m\u001b[0;34m)\u001b[0m\u001b[0;34m:\u001b[0m\u001b[0;34m\u001b[0m\u001b[0;34m\u001b[0m\u001b[0m\n\u001b[1;32m   3460\u001b[0m                 \u001b[0mindexer\u001b[0m \u001b[0;34m=\u001b[0m \u001b[0;34m[\u001b[0m\u001b[0mindexer\u001b[0m\u001b[0;34m]\u001b[0m\u001b[0;34m\u001b[0m\u001b[0;34m\u001b[0m\u001b[0m\n",
            "\u001b[0;32m/usr/local/lib/python3.7/dist-packages/pandas/core/indexes/base.py\u001b[0m in \u001b[0;36mget_loc\u001b[0;34m(self, key, method, tolerance)\u001b[0m\n\u001b[1;32m   3361\u001b[0m                 \u001b[0;32mreturn\u001b[0m \u001b[0mself\u001b[0m\u001b[0;34m.\u001b[0m\u001b[0m_engine\u001b[0m\u001b[0;34m.\u001b[0m\u001b[0mget_loc\u001b[0m\u001b[0;34m(\u001b[0m\u001b[0mcasted_key\u001b[0m\u001b[0;34m)\u001b[0m\u001b[0;34m\u001b[0m\u001b[0;34m\u001b[0m\u001b[0m\n\u001b[1;32m   3362\u001b[0m             \u001b[0;32mexcept\u001b[0m \u001b[0mKeyError\u001b[0m \u001b[0;32mas\u001b[0m \u001b[0merr\u001b[0m\u001b[0;34m:\u001b[0m\u001b[0;34m\u001b[0m\u001b[0;34m\u001b[0m\u001b[0m\n\u001b[0;32m-> 3363\u001b[0;31m                 \u001b[0;32mraise\u001b[0m \u001b[0mKeyError\u001b[0m\u001b[0;34m(\u001b[0m\u001b[0mkey\u001b[0m\u001b[0;34m)\u001b[0m \u001b[0;32mfrom\u001b[0m \u001b[0merr\u001b[0m\u001b[0;34m\u001b[0m\u001b[0;34m\u001b[0m\u001b[0m\n\u001b[0m\u001b[1;32m   3364\u001b[0m \u001b[0;34m\u001b[0m\u001b[0m\n\u001b[1;32m   3365\u001b[0m         \u001b[0;32mif\u001b[0m \u001b[0mis_scalar\u001b[0m\u001b[0;34m(\u001b[0m\u001b[0mkey\u001b[0m\u001b[0;34m)\u001b[0m \u001b[0;32mand\u001b[0m \u001b[0misna\u001b[0m\u001b[0;34m(\u001b[0m\u001b[0mkey\u001b[0m\u001b[0;34m)\u001b[0m \u001b[0;32mand\u001b[0m \u001b[0;32mnot\u001b[0m \u001b[0mself\u001b[0m\u001b[0;34m.\u001b[0m\u001b[0mhasnans\u001b[0m\u001b[0;34m:\u001b[0m\u001b[0;34m\u001b[0m\u001b[0;34m\u001b[0m\u001b[0m\n",
            "\u001b[0;31mKeyError\u001b[0m: 'churn_flag'"
          ]
        }
      ],
      "source": [
        "df['churn_flag'].value_counts()"
      ]
    },
    {
      "cell_type": "markdown",
      "metadata": {
        "id": "uG1SAnbbNgNB"
      },
      "source": [
        "The flags 0 & 1 are Non-churn and churn respectively. We can clearly see that the churn customers are ~11% only. So, we can infer that the dataset is an imbalanced one.\n",
        "\n",
        "What is an Imbalanced data?\n",
        "\n",
        "Imbalance means that the number of data points available for the classes is different. Let's say if there are two classes, then balanced data would mean 50% points for each of the class. For most machine learning techniques, little imbalance is not a problem. So, if there are 60% points for one class and 40% for the other class, it should not cause any significant performance degradation. Only when the class imbalance is high, e.g. 85%-90% points for one class and 10%-15% for the other, standard optimization criteria or performance measures may not be as effective and would need modification."
      ]
    },
    {
      "cell_type": "code",
      "execution_count": null,
      "metadata": {
        "id": "pAO1ZRjNNgNB"
      },
      "outputs": [],
      "source": [
        "plt.figure(figsize=(8,4))\n",
        "df['churn_flag'].value_counts().plot(kind = 'bar')\n",
        "plt.ylabel('Count')\n",
        "plt.xlabel('Churn status')\n",
        "plt.title('Churn status Distribution',fontsize=14)"
      ]
    },
    {
      "cell_type": "markdown",
      "metadata": {
        "id": "8JKVGvQjNgNB"
      },
      "source": [
        "## mobile_number"
      ]
    },
    {
      "cell_type": "code",
      "execution_count": null,
      "metadata": {
        "id": "aJj9Qzm9NgNB"
      },
      "outputs": [],
      "source": [
        "df['mobile_number'].value_counts().sort_values(ascending = False).head()"
      ]
    },
    {
      "cell_type": "markdown",
      "metadata": {
        "id": "QZ3gGRv6NgNC"
      },
      "source": [
        "We can infer that the mobile_number is an unique column, means it's repeated multiple times. So we can safely ignore as it's not going to add any value for our analysis"
      ]
    },
    {
      "cell_type": "markdown",
      "metadata": {
        "id": "NPp1euzCNgNC"
      },
      "source": [
        "## arpu (Average Revenue per user)"
      ]
    },
    {
      "cell_type": "code",
      "execution_count": null,
      "metadata": {
        "id": "sD0pXNXfNgNC"
      },
      "outputs": [],
      "source": [
        "sns.pairplot(data=df[['arpu_6','arpu_7','arpu_8','churn_flag']],hue='churn_flag')"
      ]
    },
    {
      "cell_type": "code",
      "execution_count": null,
      "metadata": {
        "id": "6dmFuUhpNgNC"
      },
      "outputs": [],
      "source": [
        "fig, axes = plt.subplots(nrows=1, ncols=2,figsize=(12, 4))\n",
        "ax = sns.distplot(df[df['churn_flag']==1].arpu_6, bins = 30, ax = axes[0], kde = False)\n",
        "ax.set_title('Churn')\n",
        "ax = sns.distplot(df[df['churn_flag']==0].arpu_6, bins = 30, ax = axes[1], kde = False)\n",
        "ax.set_title('Non-Churn')\n",
        "\n",
        "fig, axes = plt.subplots(nrows=1, ncols=1,figsize=(12, 4))\n",
        "sns.boxplot(x='churn_flag', y='arpu_6', data=df)\n",
        "sns.stripplot(x='churn_flag', y='arpu_6', data=df, jitter=True, edgecolor=\"gray\")"
      ]
    },
    {
      "cell_type": "markdown",
      "metadata": {
        "id": "4c8PQakpNgNC"
      },
      "source": [
        "## onnet_mou (On network/ within the same network usage)"
      ]
    },
    {
      "cell_type": "code",
      "execution_count": null,
      "metadata": {
        "id": "wiEXJPaENgNC"
      },
      "outputs": [],
      "source": [
        "sns.pairplot(data=df[['onnet_mou_6','onnet_mou_7','onnet_mou_8','churn_flag']],hue='churn_flag')"
      ]
    },
    {
      "cell_type": "code",
      "execution_count": null,
      "metadata": {
        "id": "8jtA1-3YNgNC"
      },
      "outputs": [],
      "source": [
        "fig, axes = plt.subplots(nrows=1, ncols=2,figsize=(12, 4))\n",
        "ax = sns.distplot(df[df['churn_flag']==1].onnet_mou_6, bins = 30, ax = axes[0], kde = False)\n",
        "ax.set_title('Churn')\n",
        "ax = sns.distplot(df[df['churn_flag']==0].onnet_mou_6, bins = 30, ax = axes[1], kde = False)\n",
        "ax.set_title('Non-Churn')\n",
        "\n",
        "fig, axes = plt.subplots(nrows=1, ncols=1,figsize=(12, 4))\n",
        "sns.boxplot(x='churn_flag', y='onnet_mou_6', data=df)\n",
        "sns.stripplot(x='churn_flag', y='onnet_mou_6', data=df, jitter=True, edgecolor=\"gray\")"
      ]
    },
    {
      "cell_type": "markdown",
      "metadata": {
        "id": "qKqw9X9HNgND"
      },
      "source": [
        "## Offnet_mou (Calls outside of the operator network)"
      ]
    },
    {
      "cell_type": "code",
      "execution_count": null,
      "metadata": {
        "id": "Y2hATLBANgND"
      },
      "outputs": [],
      "source": [
        "Offnet_mou (Calls outside of the operator network)\n",
        "sns.pairplot(data=df[['offnet_mou_6','offnet_mou_7','offnet_mou_8','churn_flag']],hue='churn_flag')"
      ]
    },
    {
      "cell_type": "code",
      "execution_count": null,
      "metadata": {
        "id": "cUoy1mDdNgND"
      },
      "outputs": [],
      "source": [
        "fig, axes = plt.subplots(nrows=1, ncols=2,figsize=(12, 4))\n",
        "ax = sns.distplot(df[df['churn_flag']==1].offnet_mou_6, bins = 30, ax = axes[0], kde = False)\n",
        "ax.set_title('Churn')\n",
        "ax = sns.distplot(df[df['churn_flag']==0].offnet_mou_6, bins = 30, ax = axes[1], kde = False)\n",
        "ax.set_title('Non-Churn')\n",
        "\n",
        "fig, axes = plt.subplots(nrows=1, ncols=1,figsize=(12, 4))\n",
        "sns.boxplot(x='churn_flag', y='offnet_mou_6', data=df)\n",
        "sns.stripplot(x='churn_flag', y='offnet_mou_6', data=df, jitter=True, edgecolor=\"gray\")\n"
      ]
    },
    {
      "cell_type": "markdown",
      "metadata": {
        "id": "Lm-ARwZINgND"
      },
      "source": [
        "## roam_ic_mou (Customer in roaming zone)"
      ]
    },
    {
      "cell_type": "code",
      "execution_count": null,
      "metadata": {
        "id": "7YJ6_3caNgND"
      },
      "outputs": [],
      "source": [
        "roam_ic_mou (Customer in roaming zone)\n",
        "sns.pairplot(data=df[['roam_ic_mou_6','roam_ic_mou_7','roam_ic_mou_8','churn_flag']],hue='churn_flag')"
      ]
    },
    {
      "cell_type": "code",
      "execution_count": null,
      "metadata": {
        "id": "FXRzTTRoNgND"
      },
      "outputs": [],
      "source": [
        "fig, axes = plt.subplots(nrows=1, ncols=2,figsize=(12, 4))\n",
        "ax = sns.distplot(df[df['churn_flag']==1].roam_ic_mou_6, bins = 30, ax = axes[0], kde = False)\n",
        "ax.set_title('Churn')\n",
        "ax = sns.distplot(df[df['churn_flag']==0].roam_ic_mou_6, bins = 30, ax = axes[1], kde = False)\n",
        "ax.set_title('Non-Churn')\n",
        "\n",
        "fig, axes = plt.subplots(nrows=1, ncols=1,figsize=(12, 4))\n",
        "sns.boxplot(x='churn_flag', y='roam_ic_mou_6', data=df)\n",
        "sns.stripplot(x='churn_flag', y='roam_ic_mou_6', data=df, jitter=True, edgecolor=\"gray\")"
      ]
    },
    {
      "cell_type": "markdown",
      "metadata": {
        "id": "aEpPz8Q0NgND"
      },
      "source": [
        "## loc_og_mou (within the circle outgoing calls)"
      ]
    },
    {
      "cell_type": "code",
      "execution_count": null,
      "metadata": {
        "id": "AYAzilIYNgND"
      },
      "outputs": [],
      "source": [
        "loc_og_mou (within the circle outgoing calls)\n",
        "sns.pairplot(data=df[['loc_og_mou_6','loc_og_mou_7','loc_og_mou_8','churn_flag']],hue='churn_flag')"
      ]
    },
    {
      "cell_type": "code",
      "execution_count": null,
      "metadata": {
        "id": "2PExsY4zNgNE"
      },
      "outputs": [],
      "source": [
        "fig, axes = plt.subplots(nrows=1, ncols=2,figsize=(12, 4))\n",
        "ax = sns.distplot(df[df['churn_flag']==1].loc_og_mou_6, bins = 30, ax = axes[0], kde = False)\n",
        "ax.set_title('Churn')\n",
        "ax = sns.distplot(df[df['churn_flag']==0].loc_og_mou_6, bins = 30, ax = axes[1], kde = False)\n",
        "ax.set_title('Non-Churn')\n",
        "\n",
        "fig, axes = plt.subplots(nrows=1, ncols=1,figsize=(12, 4))\n",
        "sns.boxplot(x='churn_flag', y='loc_og_mou_6', data=df)\n",
        "sns.stripplot(x='churn_flag', y='loc_og_mou_6', data=df, jitter=True, edgecolor=\"gray\")"
      ]
    },
    {
      "cell_type": "markdown",
      "metadata": {
        "id": "9M4vPPljNgNE"
      },
      "source": [
        "## std_og_mou (Outside calling circle/zone calls)"
      ]
    },
    {
      "cell_type": "code",
      "execution_count": null,
      "metadata": {
        "id": "lIcpQtF5NgNE"
      },
      "outputs": [],
      "source": [
        "std_og_mou (Outside calling circle/zone calls)\n",
        "sns.pairplot(data=df[['std_og_mou_6','std_og_mou_7','std_og_mou_8','churn_flag']],hue='churn_flag')"
      ]
    },
    {
      "cell_type": "code",
      "execution_count": null,
      "metadata": {
        "id": "yQF5KO82NgNE"
      },
      "outputs": [],
      "source": [
        "fig, axes = plt.subplots(nrows=1, ncols=2,figsize=(12, 4))\n",
        "ax = sns.distplot(df[df['churn_flag']==1].std_og_mou_6, bins = 30, ax = axes[0], kde = False)\n",
        "ax.set_title('Churn')\n",
        "ax = sns.distplot(df[df['churn_flag']==0].std_og_mou_6, bins = 30, ax = axes[1], kde = False)\n",
        "ax.set_title('Non-Churn')\n",
        "\n",
        "fig, axes = plt.subplots(nrows=1, ncols=1,figsize=(12, 4))\n",
        "sns.boxplot(x='churn_flag', y='std_og_mou_6', data=df)\n",
        "sns.stripplot(x='churn_flag', y='std_og_mou_6', data=df, jitter=True, edgecolor=\"gray\")"
      ]
    },
    {
      "cell_type": "markdown",
      "metadata": {
        "id": "DmQalcnZNgNE"
      },
      "source": [
        "## isd_og (international calling)"
      ]
    },
    {
      "cell_type": "code",
      "execution_count": null,
      "metadata": {
        "id": "NUztpgFmNgNE"
      },
      "outputs": [],
      "source": [
        "isd_og (international calling)\n",
        "sns.pairplot(data=df[['isd_og_mou_6','isd_og_mou_7','isd_og_mou_8','churn_flag']],hue='churn_flag')"
      ]
    },
    {
      "cell_type": "code",
      "execution_count": null,
      "metadata": {
        "id": "CeE1zSwGNgNE"
      },
      "outputs": [],
      "source": [
        "fig, axes = plt.subplots(nrows=1, ncols=2,figsize=(12, 4))\n",
        "ax = sns.distplot(df[df['churn_flag']==1].isd_og_mou_6, bins = 30, ax = axes[0], kde = False)\n",
        "ax.set_title('Churn')\n",
        "ax = sns.distplot(df[df['churn_flag']==0].isd_og_mou_6, bins = 30, ax = axes[1], kde = False)\n",
        "ax.set_title('Non-Churn')\n",
        "\n",
        "fig, axes = plt.subplots(nrows=1, ncols=1,figsize=(12, 4))\n",
        "sns.boxplot(x='churn_flag', y='isd_og_mou_6', data=df)\n",
        "sns.stripplot(x='churn_flag', y='isd_og_mou_6', data=df, jitter=True, edgecolor=\"gray\")"
      ]
    },
    {
      "cell_type": "markdown",
      "metadata": {
        "id": "HtMZyveeNgNE"
      },
      "source": [
        "## total_og_ (All outgoing calls by the customer)"
      ]
    },
    {
      "cell_type": "code",
      "execution_count": null,
      "metadata": {
        "id": "l2Pn2EtgNgNF"
      },
      "outputs": [],
      "source": [
        "total_og_ (All outgoing calls by the customer)\n",
        "sns.pairplot(data=df[['total_og_mou_6','total_og_mou_7','total_og_mou_8','churn_flag']],hue='churn_flag')"
      ]
    },
    {
      "cell_type": "code",
      "execution_count": null,
      "metadata": {
        "id": "i25QjgxMNgNF"
      },
      "outputs": [],
      "source": [
        "fig, axes = plt.subplots(nrows=1, ncols=2,figsize=(12, 4))\n",
        "ax = sns.distplot(df[df['churn_flag']==1].total_og_mou_6, bins = 30, ax = axes[0], kde = False)\n",
        "ax.set_title('Churn')\n",
        "ax = sns.distplot(df[df['churn_flag']==0].total_og_mou_6, bins = 30, ax = axes[1], kde = False)\n",
        "ax.set_title('Non-Churn')\n",
        "\n",
        "fig, axes = plt.subplots(nrows=1, ncols=1,figsize=(12, 4))\n",
        "sns.boxplot(x='churn_flag', y='total_og_mou_6', data=df)\n",
        "sns.stripplot(x='churn_flag', y='total_og_mou_6', data=df, jitter=True, edgecolor=\"gray\")"
      ]
    },
    {
      "cell_type": "markdown",
      "metadata": {
        "id": "0lICZxkmNgNF"
      },
      "source": [
        "## loc_ic_ (incoming local calls)"
      ]
    },
    {
      "cell_type": "code",
      "execution_count": null,
      "metadata": {
        "id": "xkDGYVElNgNF"
      },
      "outputs": [],
      "source": [
        "loc_ic_ (incoming local calls)\n",
        "sns.pairplot(data=df[['loc_ic_mou_6','loc_ic_mou_7','loc_ic_mou_8','churn_flag']],hue='churn_flag')"
      ]
    },
    {
      "cell_type": "code",
      "execution_count": null,
      "metadata": {
        "id": "f4TBFg4CNgNF"
      },
      "outputs": [],
      "source": [
        "fig, axes = plt.subplots(nrows=1, ncols=2,figsize=(12, 4))\n",
        "ax = sns.distplot(df[df['churn_flag']==1].loc_ic_mou_6, bins = 30, ax = axes[0], kde = False)\n",
        "ax.set_title('Churn')\n",
        "ax = sns.distplot(df[df['churn_flag']==0].loc_ic_mou_6, bins = 30, ax = axes[1], kde = False)\n",
        "ax.set_title('Non-Churn')\n",
        "\n",
        "fig, axes = plt.subplots(nrows=1, ncols=1,figsize=(12, 4))\n",
        "sns.boxplot(x='churn_flag', y='loc_ic_mou_6', data=df)\n",
        "sns.stripplot(x='churn_flag', y='loc_ic_mou_6', data=df, jitter=True, edgecolor=\"gray\")"
      ]
    },
    {
      "cell_type": "markdown",
      "metadata": {
        "id": "FOhS8asaNgNG"
      },
      "source": [
        "## std_ic_ (Outside circle incoming calls)"
      ]
    },
    {
      "cell_type": "code",
      "execution_count": null,
      "metadata": {
        "id": "IDroyj9_NgNG"
      },
      "outputs": [],
      "source": [
        "std_ic_ (Outside circle incoming calls)\n",
        "sns.pairplot(data=df[['std_ic_mou_6','std_ic_mou_7','std_ic_mou_8','churn_flag']],hue='churn_flag')"
      ]
    },
    {
      "cell_type": "code",
      "execution_count": null,
      "metadata": {
        "id": "BqH47z92NgNG"
      },
      "outputs": [],
      "source": [
        "fig, axes = plt.subplots(nrows=1, ncols=2,figsize=(12, 4))\n",
        "ax = sns.distplot(df[df['churn_flag']==1].std_ic_mou_6, bins = 30, ax = axes[0], kde = False)\n",
        "ax.set_title('Churn')\n",
        "ax = sns.distplot(df[df['churn_flag']==0].std_ic_mou_6, bins = 30, ax = axes[1], kde = False)\n",
        "ax.set_title('Non-Churn')\n",
        "\n",
        "fig, axes = plt.subplots(nrows=1, ncols=1,figsize=(12, 4))\n",
        "sns.boxplot(x='churn_flag', y='std_ic_mou_6', data=df)\n",
        "sns.stripplot(x='churn_flag', y='std_ic_mou_6', data=df, jitter=True, edgecolor=\"gray\")"
      ]
    },
    {
      "cell_type": "markdown",
      "metadata": {
        "id": "RbZeG9PeNgNG"
      },
      "source": [
        "## total_ic_ (All incoming calls received by a person)"
      ]
    },
    {
      "cell_type": "code",
      "execution_count": null,
      "metadata": {
        "id": "-JR357rdNgNG"
      },
      "outputs": [],
      "source": [
        "total_ic_ (All incoming calls received by a person)\n",
        "sns.pairplot(data=df[['total_ic_mou_6','total_ic_mou_7','total_ic_mou_8','churn_flag']],hue='churn_flag')"
      ]
    },
    {
      "cell_type": "code",
      "execution_count": null,
      "metadata": {
        "id": "3xFhC5OdNgNH"
      },
      "outputs": [],
      "source": [
        "fig, axes = plt.subplots(nrows=1, ncols=2,figsize=(12, 4))\n",
        "ax = sns.distplot(df[df['churn_flag']==1].total_ic_mou_6, bins = 30, ax = axes[0], kde = False)\n",
        "ax.set_title('Churn')\n",
        "ax = sns.distplot(df[df['churn_flag']==0].total_ic_mou_6, bins = 30, ax = axes[1], kde = False)\n",
        "ax.set_title('Non-Churn')\n",
        "\n",
        "fig, axes = plt.subplots(nrows=1, ncols=1,figsize=(12, 4))\n",
        "sns.boxplot(x='churn_flag', y='total_ic_mou_6', data=df)\n",
        "sns.stripplot(x='churn_flag', y='total_ic_mou_6', data=df, jitter=True, edgecolor=\"gray\")"
      ]
    },
    {
      "cell_type": "markdown",
      "metadata": {
        "id": "b2NcWsi8NgNH"
      },
      "source": [
        "## total_rech_num_ \n",
        "#### (Number of times a subscriber recharged his mobile)"
      ]
    },
    {
      "cell_type": "code",
      "execution_count": null,
      "metadata": {
        "id": "i3WBGtFRNgNH"
      },
      "outputs": [],
      "source": [
        "total_rech_num (Number of times a subscriber recharged his mobile)\n",
        "sns.pairplot(data=df[['total_rech_num_6','total_rech_num_7','total_rech_num_8','churn_flag']],hue='churn_flag')"
      ]
    },
    {
      "cell_type": "code",
      "execution_count": null,
      "metadata": {
        "id": "y5iz9ft9NgNH"
      },
      "outputs": [],
      "source": [
        "fig, axes = plt.subplots(nrows=1, ncols=2,figsize=(12, 4))\n",
        "ax = sns.distplot(df[df['churn_flag']==1].total_rech_num_6, bins = 30, ax = axes[0], kde = False)\n",
        "ax.set_title('Churn')\n",
        "ax = sns.distplot(df[df['churn_flag']==0].total_rech_num_6, bins = 30, ax = axes[1], kde = False)\n",
        "ax.set_title('Non-Churn')\n",
        "\n",
        "fig, axes = plt.subplots(nrows=1, ncols=1,figsize=(12, 4))\n",
        "sns.boxplot(x='churn_flag', y='total_rech_num_6', data=df)\n",
        "sns.stripplot(x='churn_flag', y='total_rech_num_6', data=df, jitter=True, edgecolor=\"gray\")"
      ]
    },
    {
      "cell_type": "markdown",
      "metadata": {
        "id": "ypqDRH6FNgNH"
      },
      "source": [
        "## total_rech_amt_\n",
        "#### Total recharge amount in a particular month"
      ]
    },
    {
      "cell_type": "code",
      "execution_count": null,
      "metadata": {
        "id": "gphyBtzRNgNH"
      },
      "outputs": [],
      "source": [
        "total_rech_amt_ Total recharge amount in a particular month\n",
        "sns.pairplot(data=df[['total_rech_amt_6','total_rech_amt_7','total_rech_amt_8','churn_flag']],hue='churn_flag')"
      ]
    },
    {
      "cell_type": "code",
      "execution_count": null,
      "metadata": {
        "id": "miraitpgNgNH"
      },
      "outputs": [],
      "source": [
        "fig, axes = plt.subplots(nrows=1, ncols=2,figsize=(12, 4))\n",
        "ax = sns.distplot(df[df['churn_flag']==1].total_rech_amt_6, bins = 30, ax = axes[0], kde = False)\n",
        "ax.set_title('Churn')\n",
        "ax = sns.distplot(df[df['churn_flag']==0].total_rech_amt_6, bins = 30, ax = axes[1], kde = False)\n",
        "ax.set_title('Non-Churn')\n",
        "\n",
        "fig, axes = plt.subplots(nrows=1, ncols=1,figsize=(12, 4))\n",
        "sns.boxplot(x='churn_flag', y='total_rech_amt_6', data=df)\n",
        "sns.stripplot(x='churn_flag', y='total_rech_amt_6', data=df, jitter=True, edgecolor=\"gray\")"
      ]
    },
    {
      "cell_type": "markdown",
      "metadata": {
        "id": "S3cBIunQNgNI"
      },
      "source": [
        "## total_rech_data_\n",
        "#### Total number of times mobile data has been recharged"
      ]
    },
    {
      "cell_type": "code",
      "execution_count": null,
      "metadata": {
        "id": "9I6D-itKNgNI"
      },
      "outputs": [],
      "source": [
        "total_rech_data_ Total number of times mobile data has been recharged\n",
        "sns.pairplot(data=df[['total_rech_data_6','total_rech_data_7','total_rech_data_8','churn_flag']],hue='churn_flag')"
      ]
    },
    {
      "cell_type": "code",
      "execution_count": null,
      "metadata": {
        "id": "5WEbKi0fNgNI"
      },
      "outputs": [],
      "source": [
        "fig, axes = plt.subplots(nrows=1, ncols=2,figsize=(12, 4))\n",
        "ax = sns.distplot(df[df['churn_flag']==1].total_rech_data_6, bins = 30, ax = axes[0], kde = False)\n",
        "ax.set_title('Churn')\n",
        "ax = sns.distplot(df[df['churn_flag']==0].total_rech_data_6, bins = 30, ax = axes[1], kde = False)\n",
        "ax.set_title('Non-Churn')\n",
        "\n",
        "fig, axes = plt.subplots(nrows=1, ncols=1,figsize=(12, 4))\n",
        "sns.boxplot(x='churn_flag', y='total_rech_data_6', data=df)\n",
        "sns.stripplot(x='churn_flag', y='total_rech_data_6', data=df, jitter=True, edgecolor=\"gray\")"
      ]
    },
    {
      "cell_type": "markdown",
      "metadata": {
        "id": "zvtUKAvcNgNI"
      },
      "source": [
        "## vol_2g_mb_\n",
        "#### Internet usage in MB"
      ]
    },
    {
      "cell_type": "code",
      "execution_count": null,
      "metadata": {
        "id": "AJKX6r4mNgNI"
      },
      "outputs": [],
      "source": [
        "sns.pairplot(data=df[['vol_2g_mb_6','vol_2g_mb_7','vol_2g_mb_8','churn_flag']],hue='churn_flag')"
      ]
    },
    {
      "cell_type": "code",
      "execution_count": null,
      "metadata": {
        "id": "dy2r277TNgNI"
      },
      "outputs": [],
      "source": [
        "fig, axes = plt.subplots(nrows=1, ncols=2,figsize=(12, 4))\n",
        "ax = sns.distplot(df[df['churn_flag']==1].vol_2g_mb_6, bins = 30, ax = axes[0], kde = False)\n",
        "ax.set_title('Churn')\n",
        "ax = sns.distplot(df[df['churn_flag']==0].vol_2g_mb_6, bins = 30, ax = axes[1], kde = False)\n",
        "ax.set_title('Non-Churn')\n",
        "\n",
        "fig, axes = plt.subplots(nrows=1, ncols=1,figsize=(12, 4))\n",
        "sns.boxplot(x='churn_flag', y='vol_2g_mb_6', data=df)\n",
        "sns.stripplot(x='churn_flag', y='vol_2g_mb_6', data=df, jitter=True, edgecolor=\"gray\")"
      ]
    },
    {
      "cell_type": "markdown",
      "metadata": {
        "id": "F-LxydMbNgNI"
      },
      "source": [
        "## vol_3g_mb_\n",
        "#### Internet usage in MB"
      ]
    },
    {
      "cell_type": "code",
      "execution_count": null,
      "metadata": {
        "id": "P3KskSToNgNI"
      },
      "outputs": [],
      "source": [
        "sns.pairplot(data=df[['vol_3g_mb_6','vol_3g_mb_7','vol_3g_mb_8','churn_flag']],hue='churn_flag')"
      ]
    },
    {
      "cell_type": "code",
      "execution_count": null,
      "metadata": {
        "id": "4VGSUqE6NgNJ"
      },
      "outputs": [],
      "source": [
        "fig, axes = plt.subplots(nrows=1, ncols=2,figsize=(12, 4))\n",
        "ax = sns.distplot(df[df['churn_flag']==1].vol_3g_mb_6, bins = 30, ax = axes[0], kde = False)\n",
        "ax.set_title('Churn')\n",
        "ax = sns.distplot(df[df['churn_flag']==0].vol_3g_mb_6, bins = 30, ax = axes[1], kde = False)\n",
        "ax.set_title('Non-Churn')\n",
        "\n",
        "fig, axes = plt.subplots(nrows=1, ncols=1,figsize=(12, 4))\n",
        "sns.boxplot(x='churn_flag', y='vol_3g_mb_6', data=df)\n",
        "sns.stripplot(x='churn_flag', y='vol_3g_mb_6', data=df, jitter=True, edgecolor=\"gray\")"
      ]
    },
    {
      "cell_type": "markdown",
      "metadata": {
        "id": "L4XcIu4YNgNJ"
      },
      "source": [
        "## vbc_3g_\n",
        "#### Volume based cost - paid as per usage"
      ]
    },
    {
      "cell_type": "code",
      "execution_count": null,
      "metadata": {
        "id": "RPuM44zgNgNJ"
      },
      "outputs": [],
      "source": [
        "sns.pairplot(data=df[['jun_vbc_3g','jul_vbc_3g','aug_vbc_3g','churn_flag']],hue='churn_flag')"
      ]
    },
    {
      "cell_type": "code",
      "execution_count": null,
      "metadata": {
        "id": "S53_yFgaNgNJ"
      },
      "outputs": [],
      "source": [
        "fig, axes = plt.subplots(nrows=1, ncols=2,figsize=(12, 4))\n",
        "ax = sns.distplot(df[df['churn_flag']==1].jun_vbc_3g, bins = 30, ax = axes[0], kde = False)\n",
        "ax.set_title('Churn')\n",
        "ax = sns.distplot(df[df['churn_flag']==0].jun_vbc_3g, bins = 30, ax = axes[1], kde = False)\n",
        "ax.set_title('Non-Churn')\n",
        "\n",
        "fig, axes = plt.subplots(nrows=1, ncols=1,figsize=(12, 4))\n",
        "sns.boxplot(x='churn_flag', y='jun_vbc_3g', data=df)\n",
        "sns.stripplot(x='churn_flag', y='jun_vbc_3g', data=df, jitter=True, edgecolor=\"gray\")"
      ]
    },
    {
      "cell_type": "markdown",
      "metadata": {
        "id": "fU7m79Y-NgNJ"
      },
      "source": [
        "We can see few observations across the features, which have a different behavior. Can we consider them as outliers? Nearly 2% to 10% are tagged as outliers based on the feature. If we check the pattern between churn vs non-churn it's same across them and also it's same across the features as well. Therefore we can't exclude them from the model point of view."
      ]
    },
    {
      "cell_type": "markdown",
      "metadata": {
        "id": "Am69w-R2NgNJ"
      },
      "source": [
        "## Derived features\n",
        "\n",
        "Let's first start formating date features"
      ]
    },
    {
      "cell_type": "code",
      "execution_count": null,
      "metadata": {
        "id": "tU6afByjNgNJ"
      },
      "outputs": [],
      "source": [
        "df['date_of_last_rech_6'] = pd.to_datetime(df['date_of_last_rech_6'])\n",
        "df['date_of_last_rech_7'] = pd.to_datetime(df['date_of_last_rech_7'])\n",
        "df['date_of_last_rech_8'] = pd.to_datetime(df['date_of_last_rech_8'])\n",
        "\n",
        "df['date_of_last_rech_data_6'] = pd.to_datetime(df['date_of_last_rech_data_6'])\n",
        "df['date_of_last_rech_data_7'] = pd.to_datetime(df['date_of_last_rech_data_7'])\n",
        "df['date_of_last_rech_data_8'] = pd.to_datetime(df['date_of_last_rech_data_8'])\n",
        "\n",
        "df['mobile_number'] = df['mobile_number'].astype(str)"
      ]
    },
    {
      "cell_type": "markdown",
      "metadata": {
        "id": "IVxWPU_2NgNJ"
      },
      "source": [
        "Create new features from the date columns <br>\n",
        "This may help us identifying if a particular day in a month or a week causing any issue"
      ]
    },
    {
      "cell_type": "code",
      "execution_count": null,
      "metadata": {
        "id": "9z2POhDHNgNK"
      },
      "outputs": [],
      "source": [
        "# Now let's create new features from date column\n",
        "df['date_of_last_rech_day_6'] = df['date_of_last_rech_6'].dt.day\n",
        "df['date_of_last_rech_dayofwk_6'] = df['date_of_last_rech_6'].dt.dayofweek.astype(str)\n",
        "\n",
        "df['date_of_last_rech_day_7'] = df['date_of_last_rech_7'].dt.day\n",
        "df['date_of_last_rech_dayofwk_7'] = df['date_of_last_rech_7'].dt.dayofweek.astype(str)\n",
        "\n",
        "df['date_of_last_rech_day_8'] = df['date_of_last_rech_8'].dt.day\n",
        "df['date_of_last_rech_dayofwk_8'] = df['date_of_last_rech_8'].dt.dayofweek.astype(str)\n",
        "\n",
        "df['date_of_last_rech_data_day_6'] = df['date_of_last_rech_data_6'].dt.day\n",
        "df['date_of_last_rech_data_dayofwk_6'] = df['date_of_last_rech_data_6'].dt.dayofweek.astype(str)\n",
        "\n",
        "df['date_of_last_rech_data_day_7'] = df['date_of_last_rech_data_7'].dt.day\n",
        "df['date_of_last_rech_data_dayofwk_7'] = df['date_of_last_rech_data_7'].dt.dayofweek.astype(str)\n",
        "\n",
        "df['date_of_last_rech_data_day_8'] = df['date_of_last_rech_data_8'].dt.day\n",
        "df['date_of_last_rech_data_dayofwk_8'] = df['date_of_last_rech_data_8'].dt.dayofweek.astype(str)\n"
      ]
    },
    {
      "cell_type": "code",
      "execution_count": null,
      "metadata": {
        "id": "wc7FfK3eNgNK"
      },
      "outputs": [],
      "source": [
        "df.info(verbose=True, null_counts=True)"
      ]
    },
    {
      "cell_type": "code",
      "execution_count": null,
      "metadata": {
        "id": "POm1ibkfNgNK"
      },
      "outputs": [],
      "source": [
        "pd.options.display.float_format = '{:.2f}'.format\n",
        "df.describe()"
      ]
    },
    {
      "cell_type": "markdown",
      "metadata": {
        "id": "22VOF6QDNgNK"
      },
      "source": [
        "Let's check the correlation between features"
      ]
    },
    {
      "cell_type": "code",
      "execution_count": null,
      "metadata": {
        "id": "gadJVRnHNgNL"
      },
      "outputs": [],
      "source": [
        "joincorr= df.corr()\n",
        "df_corr = joincorr.stack().reset_index().sort_values(by = 0, ascending = False)\n",
        "df_corr[((df_corr[0] < 1) & (df_corr[0] >= 0.4)) | ((df_corr[0] <= -0.4) & (df_corr[0] > -1))]"
      ]
    },
    {
      "cell_type": "markdown",
      "metadata": {
        "id": "PJ9vcUNmNgNL"
      },
      "source": [
        "From the above we can notice high correlation between same features and only month differs. <br> How can we take care of those? <br> We can eliminate as we will lose information of eith good or action month. <br> Let's create new features from good month and compare them with action phase"
      ]
    },
    {
      "cell_type": "code",
      "execution_count": null,
      "metadata": {
        "id": "4m4c83EbNgNL"
      },
      "outputs": [],
      "source": [
        "df['AVG_arpu_6_7'] = df[['arpu_6','arpu_7']].mean(axis=1)\n",
        "df['is_arpu_flag'] = np.where((df['arpu_8'] > df['AVG_arpu_6_7']), 0, 1)\n",
        "\n",
        "df['AVG_onnet_mou_6_7'] = df[['onnet_mou_6','onnet_mou_7']].mean(axis=1)\n",
        "df['is_onnet_mou_flag'] = np.where((df['onnet_mou_8'] > df['AVG_onnet_mou_6_7']), 0, 1)\n",
        "\n",
        "df['AVG_offnet_mou_6_7'] = df[['offnet_mou_6','offnet_mou_7']].mean(axis=1)\n",
        "df['is_offnet_mou_flag'] = np.where((df['offnet_mou_8'] > df['AVG_offnet_mou_6_7']), 0, 1)\n",
        "\n",
        "df['AVG_roam_ic_mou_6_7'] = df[['roam_ic_mou_6','roam_ic_mou_7']].mean(axis=1)\n",
        "df['is_roam_ic_mou_flag'] = np.where((df['roam_ic_mou_8'] > df['AVG_roam_ic_mou_6_7']), 0, 1)\n",
        "\n",
        "df['AVG_roam_og_mou_6_7'] = df[['roam_og_mou_6','roam_og_mou_7']].mean(axis=1)\n",
        "df['is_roam_og_mou_flag'] = np.where((df['roam_og_mou_8'] > df['AVG_roam_og_mou_6_7']), 0, 1)\n",
        "\n",
        "df['AVG_loc_og_t2t_mou_6_7'] = df[['loc_og_t2t_mou_6','loc_og_t2t_mou_7']].mean(axis=1)\n",
        "df['is_loc_og_t2t_mou_flag'] = np.where((df['loc_og_t2t_mou_8'] > df['AVG_loc_og_t2t_mou_6_7']), 0, 1)\n",
        "\n",
        "df['AVG_loc_og_t2m_mou_6_7'] = df[['loc_og_t2m_mou_6','loc_og_t2m_mou_7']].mean(axis=1)\n",
        "df['is_loc_og_t2m_mou_flag'] = np.where((df['loc_og_t2m_mou_8'] > df['AVG_loc_og_t2m_mou_6_7']), 0, 1)\n",
        "\n",
        "df['AVG_loc_og_t2f_mou_6_7'] = df[['loc_og_t2f_mou_6','loc_og_t2f_mou_7']].mean(axis=1)\n",
        "df['is_loc_og_t2f_mou_flag'] = np.where((df['loc_og_t2f_mou_8'] > df['AVG_loc_og_t2f_mou_6_7']), 0, 1)\n",
        "\n",
        "df['AVG_loc_og_t2c_mou_6_7'] = df[['loc_og_t2c_mou_6','loc_og_t2c_mou_7']].mean(axis=1)\n",
        "df['is_loc_og_t2c_mou_flag'] = np.where((df['loc_og_t2c_mou_8'] > df['AVG_loc_og_t2c_mou_6_7']), 0, 1)\n",
        "\n",
        "df['AVG_std_og_t2t_mou_6_7'] = df[['std_og_t2t_mou_6','std_og_t2t_mou_7']].mean(axis=1)\n",
        "df['is_std_og_t2t_mou_flag'] = np.where((df['std_og_t2t_mou_8'] > df['AVG_std_og_t2t_mou_6_7']), 0, 1)\n",
        "\n",
        "df['AVG_std_og_t2m_mou_6_7'] = df[['std_og_t2m_mou_6','std_og_t2m_mou_7']].mean(axis=1)\n",
        "df['is_std_og_t2m_mou_flag'] = np.where((df['std_og_t2m_mou_8'] > df['AVG_std_og_t2m_mou_6_7']), 0, 1)\n",
        "\n",
        "df['AVG_std_og_t2f_mou_6_7'] = df[['std_og_t2f_mou_6','std_og_t2f_mou_7']].mean(axis=1)\n",
        "df['is_std_og_t2f_mou_flag'] = np.where((df['std_og_t2f_mou_8'] > df['AVG_std_og_t2f_mou_6_7']), 0, 1)\n",
        "\n",
        "df['AVG_isd_og_mou_6_7'] = df[['isd_og_mou_6','isd_og_mou_7']].mean(axis=1)\n",
        "df['is_isd_og_mou_flag'] = np.where((df['isd_og_mou_8'] > df['AVG_isd_og_mou_6_7']), 0, 1)\n",
        "\n",
        "df['AVG_spl_og_mou_6_7'] = df[['spl_og_mou_6','spl_og_mou_7']].mean(axis=1)\n",
        "df['is_spl_og_mou_flag'] = np.where((df['spl_og_mou_8'] > df['AVG_spl_og_mou_6_7']), 0, 1)\n",
        "\n",
        "df['AVG_og_others_6_7'] = df[['og_others_6','og_others_7']].mean(axis=1)\n",
        "df['is_og_others_flag'] = np.where((df['og_others_8'] > df['AVG_og_others_6_7']), 0, 1)\n",
        "\n",
        "\n",
        "df['AVG_loc_ic_t2t_mou_6_7'] = df[['loc_ic_t2t_mou_6','loc_ic_t2t_mou_7']].mean(axis=1)\n",
        "df['is_loc_ic_t2t_mou_flag'] = np.where((df['loc_ic_t2t_mou_8'] > df['AVG_loc_ic_t2t_mou_6_7']), 0, 1)\n",
        "\n",
        "df['AVG_loc_ic_t2m_mou_6_7'] = df[['loc_ic_t2m_mou_6','loc_ic_t2m_mou_7']].mean(axis=1)\n",
        "df['is_loc_ic_t2m_mou_flag'] = np.where((df['loc_ic_t2m_mou_8'] > df['AVG_loc_ic_t2m_mou_6_7']), 0, 1)\n",
        "\n",
        "df['AVG_loc_ic_t2f_mou_6_7'] = df[['loc_ic_t2f_mou_6','loc_ic_t2f_mou_7']].mean(axis=1)\n",
        "df['is_loc_ic_t2f_mou_flag'] = np.where((df['loc_ic_t2f_mou_8'] > df['AVG_loc_ic_t2f_mou_6_7']), 0, 1)\n",
        "\n",
        "df['AVG_std_ic_t2t_mou_6_7'] = df[['std_ic_t2t_mou_6','std_ic_t2t_mou_7']].mean(axis=1)\n",
        "df['is_std_ic_t2t_mou_flag'] = np.where((df['std_ic_t2t_mou_8'] > df['AVG_std_ic_t2t_mou_6_7']), 0, 1)\n",
        "\n",
        "df['AVG_std_ic_t2m_mou_6_7'] = df[['std_ic_t2m_mou_6','std_ic_t2m_mou_7']].mean(axis=1)\n",
        "df['is_std_ic_t2m_mou_flag'] = np.where((df['std_ic_t2m_mou_8'] > df['AVG_std_ic_t2m_mou_6_7']), 0, 1)\n",
        "\n",
        "df['AVG_std_ic_t2f_mou_6_7'] = df[['std_ic_t2f_mou_6','std_ic_t2f_mou_7']].mean(axis=1)\n",
        "df['is_std_ic_t2f_mou_flag'] = np.where((df['std_ic_t2f_mou_8'] > df['AVG_std_ic_t2f_mou_6_7']), 0, 1)\n",
        "\n",
        "df['AVG_spl_ic_mou_6_7'] = df[['spl_ic_mou_6','spl_ic_mou_7']].mean(axis=1)\n",
        "df['is_spl_ic_mou_flag'] = np.where((df['spl_ic_mou_8'] > df['AVG_spl_ic_mou_6_7']), 0, 1)\n",
        "\n",
        "df['AVG_isd_ic_mou_6_7'] = df[['isd_ic_mou_6','isd_ic_mou_7']].mean(axis=1)\n",
        "df['is_isd_ic_mou_flag'] = np.where((df['isd_ic_mou_8'] > df['AVG_isd_ic_mou_6_7']), 0, 1)\n",
        "\n",
        "df['AVG_ic_others_6_7'] = df[['ic_others_6','ic_others_7']].mean(axis=1)\n",
        "df['is_ic_others_flag'] = np.where((df['ic_others_8'] > df['AVG_ic_others_6_7']), 0, 1)\n",
        "\n",
        "df['AVG_total_rech_amt_6_7'] = df[['total_rech_amt_6','total_rech_amt_7']].mean(axis=1)\n",
        "df['is_total_rech_amt_flag'] = np.where((df['total_rech_amt_8'] > df['AVG_total_rech_amt_6_7']), 0, 1)\n",
        "\n",
        "df['AVG_vol_2g_mb_6_7'] = df[['vol_2g_mb_6','vol_2g_mb_7']].mean(axis=1)\n",
        "df['is_vol_2g_mb_flag'] = np.where((df['vol_2g_mb_8'] > df['AVG_vol_2g_mb_6_7']), 0, 1)\n",
        "\n",
        "df['AVG_vol_3g_mb_6_7'] = df[['vol_3g_mb_6','vol_3g_mb_7']].mean(axis=1)\n",
        "df['is_vol_3g_mb_flag'] = np.where((df['vol_3g_mb_8'] > df['AVG_vol_3g_mb_6_7']), 0, 1)\n",
        "\n",
        "df['AVG_arpu_3g_6_7'] = df[['arpu_3g_6','arpu_3g_7']].mean(axis=1)\n",
        "df['is_arpu_3g_flag'] = np.where((df['arpu_3g_8'] > df['AVG_arpu_3g_6_7']), 0, 1)\n",
        "\n",
        "df['AVG_arpu_2g_6_7'] = df[['arpu_2g_6','arpu_2g_7']].mean(axis=1)\n",
        "df['is_arpu_2g_flag'] = np.where((df['arpu_2g_8'] > df['AVG_arpu_2g_6_7']), 0, 1)\n",
        "\n",
        "df['AVG_vbc_3g_6_7'] = df[['jun_vbc_3g','jul_vbc_3g']].mean(axis=1)\n",
        "df['is_vbc_3g_flag'] = np.where((df['aug_vbc_3g'] > df['AVG_vbc_3g_6_7']), 0, 1)\n",
        "\n",
        "df['AVG_loc_og_mou_6_7'] = df[['loc_og_mou_6','loc_og_mou_7']].mean(axis=1)\n",
        "df['is_loc_og_mou_flag'] = np.where((df['loc_og_mou_8'] > df['AVG_loc_og_mou_6_7']), 0, 1)\n",
        "\n",
        "df['AVG_std_og_mou_6_7'] = df[['std_og_mou_6','std_og_mou_7']].mean(axis=1)\n",
        "df['is_std_og_mou_flag'] = np.where((df['std_og_mou_8'] > df['AVG_std_og_mou_6_7']), 0, 1)\n",
        "\n",
        "df['AVG_total_og_mou_6_7'] = df[['total_og_mou_6','total_og_mou_7']].mean(axis=1)\n",
        "df['is_total_og_mou_flag'] = np.where((df['total_og_mou_8'] > df['AVG_total_og_mou_6_7']), 0, 1)\n",
        "\n",
        "df['AVG_loc_ic_mou_6_7'] = df[['loc_ic_mou_6','loc_ic_mou_7']].mean(axis=1)\n",
        "df['is_loc_ic_mou_flag'] = np.where((df['loc_ic_mou_8'] > df['AVG_loc_ic_mou_6_7']), 0, 1)\n",
        "\n",
        "df['AVG_std_ic_mou_6_7'] = df[['std_ic_mou_6','std_ic_mou_7']].mean(axis=1)\n",
        "df['is_std_ic_mou_flag'] = np.where((df['std_ic_mou_8'] > df['AVG_std_ic_mou_6_7']), 0, 1)\n",
        "\n",
        "df['AVG_total_ic_mou_6_7'] = df[['total_ic_mou_6','total_ic_mou_7']].mean(axis=1)\n",
        "df['is_total_ic_mou_flag'] = np.where((df['total_ic_mou_8'] > df['AVG_total_ic_mou_6_7']), 0, 1)\n",
        "\n",
        "df['AVG_night_pck_user_6_7'] = df[['night_pck_user_6','night_pck_user_7']].mean(axis=1)\n",
        "df['is_night_pck_user_flag'] = np.where((df['night_pck_user_8'] > df['AVG_night_pck_user_6_7']), 0, 1)\n",
        "\n",
        "df['AVG_monthly_2g_6_7'] = df[['monthly_2g_6','monthly_2g_7']].mean(axis=1)\n",
        "df['is_monthly_2g_flag'] = np.where((df['monthly_2g_8'] > df['AVG_monthly_2g_6_7']), 0, 1)\n",
        "\n",
        "df['AVG_sachet_2g_6_7'] = df[['sachet_2g_6','sachet_2g_7']].mean(axis=1)\n",
        "df['is_sachet_2g_flag'] = np.where((df['sachet_2g_8'] > df['AVG_sachet_2g_6_7']), 0, 1)\n",
        "\n",
        "df['AVG_monthly_3g_6_7'] = df[['monthly_3g_6','monthly_3g_7']].mean(axis=1)\n",
        "df['is_monthly_3g_flag'] = np.where((df['monthly_3g_8'] > df['AVG_monthly_3g_6_7']), 0, 1)\n",
        "\n",
        "df['AVG_sachet_3g_6_7'] = df[['sachet_3g_6','sachet_3g_7']].mean(axis=1)\n",
        "df['is_sachet_3g_flag'] = np.where((df['sachet_3g_8'] > df['AVG_sachet_3g_6_7']), 0, 1)\n",
        "\n",
        "df['AVG_fb_user_6_7'] = df[['fb_user_6','fb_user_7']].mean(axis=1)\n",
        "df['is_fb_user_flag'] = np.where((df['fb_user_8'] > df['AVG_fb_user_6_7']), 0, 1)\n"
      ]
    },
    {
      "cell_type": "markdown",
      "metadata": {
        "id": "n3gIjSxhNgNL"
      },
      "source": [
        "Create month on month change features to undersatnd any risk associated with it"
      ]
    },
    {
      "cell_type": "code",
      "execution_count": null,
      "metadata": {
        "id": "NME1iRwbNgNL"
      },
      "outputs": [],
      "source": [
        "# Create month on month change features to understand any risk associated with the churn\n",
        "df['loc_og_t2t_mou_7diff6'] = df['loc_og_t2t_mou_7'] - df['loc_og_t2t_mou_6']\n",
        "df['loc_og_t2m_mou_7diff6'] = df['loc_og_t2m_mou_7'] - df['loc_og_t2m_mou_6']\n",
        "df['loc_og_t2f_mou_7diff6'] = df['loc_og_t2f_mou_7'] - df['loc_og_t2f_mou_6']\n",
        "df['loc_og_t2c_mou_7diff6'] = df['loc_og_t2c_mou_7'] - df['loc_og_t2c_mou_6']\n",
        "df['loc_og_mou_7diff6'] = df['loc_og_mou_7'] - df['loc_og_mou_6']\n",
        "df['std_og_t2t_mou_7diff6'] = df['std_og_t2t_mou_7'] - df['std_og_t2t_mou_6']\n",
        "df['std_og_t2m_mou_7diff6'] = df['std_og_t2m_mou_7'] - df['std_og_t2m_mou_6']\n",
        "df['std_og_t2f_mou_7diff6'] = df['std_og_t2f_mou_7'] - df['std_og_t2f_mou_6']\n",
        "df['std_og_mou_7diff6'] = df['std_og_mou_7'] - df['std_og_mou_6']\n",
        "df['loc_og_mou_7diff6'] = df['loc_og_mou_7'] - df['loc_og_mou_6']\n",
        "df['std_og_mou_7diff6'] = df['std_og_mou_7'] - df['std_og_mou_6']\n",
        "df['isd_og_mou_7diff6'] = df['isd_og_mou_7'] - df['isd_og_mou_6']\n",
        "df['spl_og_mou_7diff6'] = df['spl_og_mou_7'] - df['spl_og_mou_6']\n",
        "df['og_others_7diff6'] = df['og_others_7'] - df['og_others_6']\n",
        "df['total_og_mou_7diff6'] = df['total_og_mou_7'] - df['total_og_mou_6']\n",
        "\n",
        "df['loc_og_t2t_mou_8diff7'] = df['loc_og_t2t_mou_8'] - df['loc_og_t2t_mou_7']\n",
        "df['loc_og_t2m_mou_8diff7'] = df['loc_og_t2m_mou_8'] - df['loc_og_t2m_mou_7']\n",
        "df['loc_og_t2f_mou_8diff7'] = df['loc_og_t2f_mou_8'] - df['loc_og_t2f_mou_7']\n",
        "df['loc_og_t2c_mou_8diff7'] = df['loc_og_t2c_mou_8'] - df['loc_og_t2c_mou_7']\n",
        "df['loc_og_mou_8diff7'] = df['loc_og_mou_8'] - df['loc_og_mou_7']\n",
        "df['std_og_t2t_mou_8diff7'] = df['std_og_t2t_mou_8'] - df['std_og_t2t_mou_7']\n",
        "df['std_og_t2m_mou_8diff7'] = df['std_og_t2m_mou_8'] - df['std_og_t2m_mou_7']\n",
        "df['std_og_t2f_mou_8diff7'] = df['std_og_t2f_mou_8'] - df['std_og_t2f_mou_7']\n",
        "df['std_og_mou_8diff7'] = df['std_og_mou_8'] - df['std_og_mou_7']\n",
        "df['loc_og_mou_8diff7'] = df['loc_og_mou_8'] - df['loc_og_mou_7']\n",
        "df['std_og_mou_8diff7'] = df['std_og_mou_8'] - df['std_og_mou_7']\n",
        "df['isd_og_mou_8diff7'] = df['isd_og_mou_8'] - df['isd_og_mou_7']\n",
        "df['spl_og_mou_8diff7'] = df['spl_og_mou_8'] - df['spl_og_mou_7']\n",
        "df['og_others_8diff7'] = df['og_others_8'] - df['og_others_7']\n",
        "df['total_og_mou_8diff7'] = df['total_og_mou_8'] - df['total_og_mou_7']\n",
        "\n",
        "df['loc_ic_t2t_mou_7diff6'] = df['loc_ic_t2t_mou_7'] - df['loc_ic_t2t_mou_6']\n",
        "df['loc_ic_t2m_mou_7diff6'] = df['loc_ic_t2m_mou_7'] - df['loc_ic_t2m_mou_6']\n",
        "df['loc_ic_t2f_mou_7diff6'] = df['loc_ic_t2f_mou_7'] - df['loc_ic_t2f_mou_6']\n",
        "df['loc_ic_mou_7diff6'] = df['loc_ic_mou_7'] - df['loc_ic_mou_6']\n",
        "df['std_ic_t2t_mou_7diff6'] = df['std_ic_t2t_mou_7'] - df['std_ic_t2t_mou_6']\n",
        "df['std_ic_t2m_mou_7diff6'] = df['std_ic_t2m_mou_7'] - df['std_ic_t2m_mou_6']\n",
        "df['std_ic_t2f_mou_7diff6'] = df['std_ic_t2f_mou_7'] - df['std_ic_t2f_mou_6']\n",
        "df['std_ic_mou_7diff6'] = df['std_ic_mou_7'] - df['std_ic_mou_6']\n",
        "df['loc_ic_mou_7diff6'] = df['loc_ic_mou_7'] - df['loc_ic_mou_6']\n",
        "df['std_ic_mou_7diff6'] = df['std_ic_mou_7'] - df['std_ic_mou_6']\n",
        "df['spl_ic_mou_7diff6'] = df['spl_ic_mou_7'] - df['spl_ic_mou_6']\n",
        "df['isd_ic_mou_7diff6'] = df['isd_ic_mou_7'] - df['isd_ic_mou_6']\n",
        "df['ic_others_7diff6'] = df['ic_others_7'] - df['ic_others_6']\n",
        "df['total_ic_mou_7diff6'] = df['total_ic_mou_7'] - df['total_ic_mou_6']\n",
        "\n",
        "df['loc_ic_t2t_mou_8diff7'] = df['loc_ic_t2t_mou_8'] - df['loc_ic_t2t_mou_7']\n",
        "df['loc_ic_t2m_mou_8diff7'] = df['loc_ic_t2m_mou_8'] - df['loc_ic_t2m_mou_7']\n",
        "df['loc_ic_t2f_mou_8diff7'] = df['loc_ic_t2f_mou_8'] - df['loc_ic_t2f_mou_7']\n",
        "df['loc_ic_mou_8diff7'] = df['loc_ic_mou_8'] - df['loc_ic_mou_7']\n",
        "df['std_ic_t2t_mou_8diff7'] = df['std_ic_t2t_mou_8'] - df['std_ic_t2t_mou_7']\n",
        "df['std_ic_t2m_mou_8diff7'] = df['std_ic_t2m_mou_8'] - df['std_ic_t2m_mou_7']\n",
        "df['std_ic_t2f_mou_8diff7'] = df['std_ic_t2f_mou_8'] - df['std_ic_t2f_mou_7']\n",
        "df['std_ic_mou_8diff7'] = df['std_ic_mou_8'] - df['std_ic_mou_7']\n",
        "df['loc_ic_mou_8diff7'] = df['loc_ic_mou_8'] - df['loc_ic_mou_7']\n",
        "df['std_ic_mou_8diff7'] = df['std_ic_mou_8'] - df['std_ic_mou_7']\n",
        "df['spl_ic_mou_8diff7'] = df['spl_ic_mou_8'] - df['spl_ic_mou_7']\n",
        "df['isd_ic_mou_8diff7'] = df['isd_ic_mou_8'] - df['isd_ic_mou_7']\n",
        "df['ic_others_8diff7'] = df['ic_others_8'] - df['ic_others_7']\n",
        "df['total_ic_mou_8diff7'] = df['total_ic_mou_8'] - df['total_ic_mou_7']\n",
        "\n",
        "df['onnet_mou_7diff6'] = df['onnet_mou_7'] - df['onnet_mou_6']\n",
        "df['onnet_mou_8diff7'] = df['onnet_mou_8'] - df['onnet_mou_7']\n",
        "\n",
        "df['offnet_mou_7diff6'] = df['offnet_mou_7'] - df['offnet_mou_6']\n",
        "df['offnet_mou_8diff7'] = df['offnet_mou_8'] - df['offnet_mou_7']\n",
        "\n",
        "df['roam_ic_mou_7diff6'] = df['roam_ic_mou_7'] - df['roam_ic_mou_6']\n",
        "df['roam_ic_mou_8diff7'] = df['roam_ic_mou_8'] - df['roam_ic_mou_7']\n",
        "\n",
        "df['roam_og_mou_7diff6'] = df['roam_og_mou_7'] - df['roam_og_mou_6']\n",
        "df['roam_og_mou_8diff7'] = df['roam_og_mou_8'] - df['roam_og_mou_7']\n",
        "\n",
        "df['total_rech_amt_7diff6'] = df['total_rech_amt_7'] - df['total_rech_amt_6']\n",
        "df['total_rech_amt_8diff7'] = df['total_rech_amt_8'] - df['total_rech_amt_7']\n",
        "\n",
        "df['date_of_last_rech_7diff6'] = (df['date_of_last_rech_7'] - df['date_of_last_rech_6']).dt.days\n",
        "df['date_of_last_rech_8diff7'] = (df['date_of_last_rech_8'] - df['date_of_last_rech_7']).dt.days\n",
        "\n",
        "df['date_of_last_rech_data_7diff6'] = (df['date_of_last_rech_data_7'] - df['date_of_last_rech_data_6']).dt.days\n",
        "df['date_of_last_rech_data_8diff7'] = (df['date_of_last_rech_data_8'] - df['date_of_last_rech_data_7']).dt.days\n",
        "\n",
        "df['vol_2g_mb_7diff6'] = df['vol_2g_mb_7'] - df['vol_2g_mb_6']\n",
        "df['vol_2g_mb_8diff7'] = df['vol_2g_mb_8'] - df['vol_2g_mb_7']\n",
        "\n",
        "df['vol_3g_mb_7diff6'] = df['vol_3g_mb_7'] - df['vol_3g_mb_6']\n",
        "df['vol_3g_mb_8diff7'] = df['vol_3g_mb_8'] - df['vol_3g_mb_7']\n",
        "\n",
        "df['vbc_3g_7diff6'] = df['jul_vbc_3g'] - df['jun_vbc_3g']\n",
        "df['vbc_3g_8diff7'] = df['aug_vbc_3g'] - df['jul_vbc_3g']\n"
      ]
    },
    {
      "cell_type": "markdown",
      "metadata": {
        "id": "MO_XPsrANgNM"
      },
      "source": [
        "## Feature Selection"
      ]
    },
    {
      "cell_type": "markdown",
      "metadata": {
        "id": "Ss67D6vBNgNM"
      },
      "source": [
        "#### What feature selection techniques could be used to reduce the number of features? \n",
        "\n",
        "There are several ways for feature selection:\n",
        "To begin with all feature selection starts with some business domain knowledge. Variables that are relevant, available prior to modeling should be used. \n",
        "- Variables with no variance or single value should be eliminated. We did such an analysis of understanding the data and eliminated the variables. \n",
        "- Nominal data with no specific relevant to the modeling exercise can be removed- like mobile_number. \n",
        "- Variables like Date can be converted to numerical by extracting features like day of a week, day of a month etc.\n",
        "- Categorical variables have to be encoded as dummy variables\n",
        "\n",
        "Other more automated methods for feature selection are:\n",
        "1) Filter Methods – features are selected on the basis of their scores in various statistical tests for their relationship with the outcome variable. Eg: Correlation, Anova, Linear Discriminant analysis, Chi-square test \n",
        "2)\tWrapper Methods – Is like a search problem and is iterative.  We add/delete a subset of features, train a model iteratively until the best possible model is found. Examples are:\n",
        "    - Forward selection\n",
        "    - Backward selection\n",
        "    - Recursive feature elimination\n",
        "\n",
        "\n",
        "3)\tEmbedded Methods - Embedded methods combine the qualities of both filter and wrapper methods. These Algorithms that have their own built-in feature selection methodology implement it. Examples are:\n",
        "    - Lasso Regression\n",
        "    - Ridge Regression\n",
        "    - Random Forest with Gini coefficient\n",
        "    - Gradient boosting with feature importance\n"
      ]
    },
    {
      "cell_type": "markdown",
      "metadata": {
        "id": "xWjFwnZsNgNU"
      },
      "source": [
        "Let's drop date related features as we derived new features out of it"
      ]
    },
    {
      "cell_type": "code",
      "execution_count": null,
      "metadata": {
        "id": "aib-199oNgNU"
      },
      "outputs": [],
      "source": [
        "df.drop(list(df.select_dtypes(include=['datetime64']).columns),axis=1,inplace=True)"
      ]
    },
    {
      "cell_type": "markdown",
      "metadata": {
        "id": "tXUCjRwuNgNU"
      },
      "source": [
        "Since we have the good data for both month 6, 7 as average, we dont need the raw columns, so dropping them"
      ]
    },
    {
      "cell_type": "code",
      "execution_count": null,
      "metadata": {
        "id": "uICtmFqQNgNU"
      },
      "outputs": [],
      "source": [
        "df.drop(['arpu_6','arpu_7','onnet_mou_6','onnet_mou_7','offnet_mou_6','offnet_mou_7',\n",
        "         'roam_ic_mou_6','roam_ic_mou_7','roam_og_mou_6','roam_og_mou_7',\n",
        "         'loc_og_t2t_mou_6','loc_og_t2t_mou_7','loc_og_t2m_mou_6','loc_og_t2m_mou_7',\n",
        "         'loc_og_t2f_mou_6','loc_og_t2f_mou_7','loc_og_t2c_mou_6','loc_og_t2c_mou_7',\n",
        "         'std_og_t2t_mou_6','std_og_t2t_mou_7', 'std_og_t2m_mou_6','std_og_t2m_mou_7',\n",
        "         'std_og_t2f_mou_6','std_og_t2f_mou_7','isd_og_mou_6','isd_og_mou_7',\n",
        "         'spl_og_mou_6','spl_og_mou_7', 'og_others_6','og_others_7',\n",
        "         'loc_ic_t2t_mou_6','loc_ic_t2t_mou_7','loc_ic_t2m_mou_6','loc_ic_t2m_mou_7',\n",
        "         'loc_ic_t2f_mou_6','loc_ic_t2f_mou_7', 'std_ic_t2t_mou_6','std_ic_t2t_mou_7',\n",
        "         'std_ic_t2m_mou_6','std_ic_t2m_mou_7', 'std_ic_t2f_mou_6','std_ic_t2f_mou_7',\n",
        "         'spl_ic_mou_6','spl_ic_mou_7', 'isd_ic_mou_6','isd_ic_mou_7',\n",
        "         'ic_others_6','ic_others_7', 'total_rech_amt_6','total_rech_amt_7',\n",
        "         'vol_2g_mb_6','vol_2g_mb_7', 'vol_3g_mb_6','vol_3g_mb_7',\n",
        "         'arpu_3g_6','arpu_3g_7', 'arpu_2g_6','arpu_2g_7',\n",
        "         'jun_vbc_3g','jul_vbc_3g', 'loc_og_mou_6', 'loc_og_mou_7','std_og_mou_6', 'std_og_mou_7',\n",
        "          'total_og_mou_6', 'total_og_mou_7','loc_ic_mou_6', 'loc_ic_mou_7',\n",
        "          'std_ic_mou_6', 'std_ic_mou_7','total_ic_mou_6', 'total_ic_mou_7',\n",
        "          'total_rech_num_6', 'total_rech_num_7','night_pck_user_6', 'night_pck_user_7',\n",
        "          'monthly_2g_6', 'monthly_2g_7','sachet_2g_6', 'sachet_2g_7',\n",
        "          'monthly_3g_6', 'monthly_3g_7','sachet_3g_6', 'sachet_3g_7','fb_user_6', 'fb_user_7'\n",
        "        ], axis=1, inplace=True)"
      ]
    },
    {
      "cell_type": "code",
      "execution_count": null,
      "metadata": {
        "id": "3cGkyNQ0NgNV"
      },
      "outputs": [],
      "source": [
        "df.shape"
      ]
    },
    {
      "cell_type": "code",
      "execution_count": null,
      "metadata": {
        "id": "FmfG12CPNgNV"
      },
      "outputs": [],
      "source": [
        "correlation_matrix = df.corr()\n",
        "AbsoluteCorrelationMatrix = correlation_matrix.abs()\n",
        "AbsoluteCorrelationMatrix = AbsoluteCorrelationMatrix.where(np.triu(np.ones(AbsoluteCorrelationMatrix.shape), k=1).astype(np.bool))\n",
        "highCorrelatedIndices = np.where(AbsoluteCorrelationMatrix > 0.8)\n",
        "correlated_pairs = [(AbsoluteCorrelationMatrix.index[x], AbsoluteCorrelationMatrix.columns[y]) \n",
        "                     for x,y in zip(*highCorrelatedIndices) if x!=y and x < y]\n",
        "\n",
        "print(\"Total Number of correlated pairs: \", len(correlated_pairs))\n",
        "print(correlated_pairs)"
      ]
    },
    {
      "cell_type": "code",
      "execution_count": null,
      "metadata": {
        "id": "-2UbJpT_NgNV"
      },
      "outputs": [],
      "source": [
        "corr_matrix = df.corr().abs()\n",
        "upper = corr_matrix.where(np.triu(np.ones(corr_matrix.shape), k=1).astype(np.bool))\n",
        "to_drop = [column for column in upper.columns if any(upper[column] > 0.85)]"
      ]
    },
    {
      "cell_type": "code",
      "execution_count": null,
      "metadata": {
        "id": "vIVQrEeANgNV"
      },
      "outputs": [],
      "source": [
        "df.drop(columns=to_drop, axis=1,inplace=True)"
      ]
    },
    {
      "cell_type": "code",
      "execution_count": null,
      "metadata": {
        "id": "vmfQBbgtNgNV"
      },
      "outputs": [],
      "source": [
        "df.shape"
      ]
    },
    {
      "cell_type": "code",
      "execution_count": null,
      "metadata": {
        "id": "ezGv_ObMNgNV"
      },
      "outputs": [],
      "source": [
        "df.drop(columns = list(df.select_dtypes(include=['category']).columns), axis =1, inplace = True)"
      ]
    },
    {
      "cell_type": "code",
      "execution_count": null,
      "metadata": {
        "id": "X3Isd8YwNgNW"
      },
      "outputs": [],
      "source": [
        "list(df.select_dtypes(include=[object]).columns)"
      ]
    },
    {
      "cell_type": "code",
      "execution_count": null,
      "metadata": {
        "id": "0V7DbskJNgNW"
      },
      "outputs": [],
      "source": [
        "df.drop(columns = list(df.select_dtypes(include=[object]).columns), axis = 1, inplace = True)"
      ]
    },
    {
      "cell_type": "code",
      "execution_count": null,
      "metadata": {
        "id": "g6PKTuSoNgNW"
      },
      "outputs": [],
      "source": [
        "df.info(verbose = True)"
      ]
    },
    {
      "cell_type": "markdown",
      "metadata": {
        "id": "x1x9lJpyNgNW"
      },
      "source": [
        "Replace all missing values with zero as discussed above"
      ]
    },
    {
      "cell_type": "code",
      "execution_count": null,
      "metadata": {
        "id": "1XCy2If7NgNW"
      },
      "outputs": [],
      "source": [
        "df.replace([np.inf, -np.inf], np.nan,inplace=True)\n",
        "df.fillna(0,inplace=True)"
      ]
    },
    {
      "cell_type": "code",
      "execution_count": null,
      "metadata": {
        "id": "CpPLlKi1NgNW"
      },
      "outputs": [],
      "source": [
        "df.isnull().values.any()"
      ]
    },
    {
      "cell_type": "code",
      "execution_count": null,
      "metadata": {
        "id": "nnaowt7sNgNW"
      },
      "outputs": [],
      "source": [
        "df.shape"
      ]
    },
    {
      "cell_type": "markdown",
      "metadata": {
        "id": "LWLQDwqENgNW"
      },
      "source": [
        "## Model Building"
      ]
    },
    {
      "cell_type": "code",
      "execution_count": null,
      "metadata": {
        "id": "Xw2B1SU_NgNW"
      },
      "outputs": [],
      "source": [
        "X = df[df.columns[~df.columns.isin(['churn_flag'])]]\n",
        "Y = df['churn_flag']"
      ]
    },
    {
      "cell_type": "markdown",
      "metadata": {
        "id": "v_r9nBg3NgNX"
      },
      "source": [
        "### Feature Scaling\n",
        "\n",
        "We will now train different models on this dataset.\n",
        "\n",
        "Scaling all values will reduce the distortion due to exceptionally high values and make algorithms converge faster."
      ]
    },
    {
      "cell_type": "code",
      "execution_count": null,
      "metadata": {
        "id": "hkMBnheFNgNX"
      },
      "outputs": [],
      "source": [
        "from sklearn.preprocessing import StandardScaler\n",
        "scaler = StandardScaler()\n",
        "X_std = scaler.fit_transform(X)"
      ]
    },
    {
      "cell_type": "markdown",
      "metadata": {
        "id": "dZzFC3M6NgNX"
      },
      "source": [
        "We will split the data into a training and a test part. The models will be trained on the training data set and tested on the test data set"
      ]
    },
    {
      "cell_type": "code",
      "execution_count": null,
      "metadata": {
        "id": "yLY_MZ6sNgNX"
      },
      "outputs": [],
      "source": [
        "# Splitting the data into train and test\n",
        "from sklearn.model_selection import train_test_split\n",
        "X_train, X_test, y_train, y_test = train_test_split(X_std,Y, train_size=0.8,test_size=0.2,random_state=111)"
      ]
    },
    {
      "cell_type": "code",
      "execution_count": null,
      "metadata": {
        "id": "DgWr80bbNgNX"
      },
      "outputs": [],
      "source": [
        "print(\"Training dataset size\",X_train.shape)\n",
        "print(\"Training dataset target size\",y_train.shape)\n",
        "print(\"Test dataset size\",X_test.shape)\n",
        "print(\"Test dataset target size\",y_test.shape)"
      ]
    },
    {
      "cell_type": "markdown",
      "metadata": {
        "id": "VxRN5cNbNgNX"
      },
      "source": [
        "### PCA "
      ]
    },
    {
      "cell_type": "markdown",
      "metadata": {
        "id": "lNq7-gpBNgNX"
      },
      "source": [
        "n observations with p features can be interpreted as n points in a p-dimensional space. PCA aims to project this space into a q-dimensional subspace (with q<p) with as little information loss as possible.\n",
        "\n",
        "It does so by finding the q directions in which the n points vary the most (the principal components). It then projects the original data points into the q-dimensional subspace. PCA returns a n x q dimensional matrix.\n",
        "\n",
        "Using PCA on our data will decrease the amount of operations during training and testing"
      ]
    },
    {
      "cell_type": "code",
      "execution_count": null,
      "metadata": {
        "id": "D9drxYEHNgNX"
      },
      "outputs": [],
      "source": [
        "#Improting the PCA module\n",
        "from sklearn.decomposition import PCA\n",
        "pca = PCA(svd_solver='randomized', random_state=42)"
      ]
    },
    {
      "cell_type": "code",
      "execution_count": null,
      "metadata": {
        "id": "29tK0FinNgNY"
      },
      "outputs": [],
      "source": [
        "#Doing the PCA on the train data\n",
        "pca.fit(X_train)"
      ]
    },
    {
      "cell_type": "code",
      "execution_count": null,
      "metadata": {
        "id": "o4e42BQrNgNY"
      },
      "outputs": [],
      "source": [
        "pca.components_"
      ]
    },
    {
      "cell_type": "code",
      "execution_count": null,
      "metadata": {
        "id": "JcdGwi34NgNY"
      },
      "outputs": [],
      "source": [
        "colnames = list(X.columns)\n",
        "pcs_df = pd.DataFrame({'PC1':pca.components_[0],'PC2':pca.components_[1], 'Feature':colnames})\n",
        "pcs_df.head()"
      ]
    },
    {
      "cell_type": "code",
      "execution_count": null,
      "metadata": {
        "id": "7Gh4RY3gNgNY"
      },
      "outputs": [],
      "source": [
        "%matplotlib inline\n",
        "fig = plt.figure(figsize = (8,8))\n",
        "plt.scatter(pcs_df.PC1, pcs_df.PC2)\n",
        "plt.xlabel('Principal Component 1')\n",
        "plt.ylabel('Principal Component 2')\n",
        "for i, txt in enumerate(pcs_df.Feature):\n",
        "    plt.annotate(txt, (pcs_df.PC1[i],pcs_df.PC2[i]))\n",
        "plt.tight_layout()\n",
        "plt.show()"
      ]
    },
    {
      "cell_type": "code",
      "execution_count": null,
      "metadata": {
        "id": "-6lj6NsBNgNY"
      },
      "outputs": [],
      "source": [
        "pca.explained_variance_ratio_"
      ]
    },
    {
      "cell_type": "code",
      "execution_count": null,
      "metadata": {
        "id": "BXXOjwj1NgNY"
      },
      "outputs": [],
      "source": [
        "#Making the screeplot - plotting the cumulative variance against the number of components\n",
        "%matplotlib inline\n",
        "fig = plt.figure(figsize = (12,8))\n",
        "plt.plot(np.cumsum(pca.explained_variance_ratio_))\n",
        "plt.xlabel('number of components')\n",
        "plt.ylabel('cumulative explained variance')\n",
        "plt.show()"
      ]
    },
    {
      "cell_type": "code",
      "execution_count": null,
      "metadata": {
        "id": "SosSD-4MNgNY"
      },
      "outputs": [],
      "source": [
        "print(\"pca.explained_variance_ratio_: \",pca.explained_variance_ratio_.round(3)*100)"
      ]
    },
    {
      "cell_type": "code",
      "execution_count": null,
      "metadata": {
        "id": "AuG0Q6NSNgNZ"
      },
      "outputs": [],
      "source": [
        "print (pca.explained_variance_ratio_.cumsum())"
      ]
    },
    {
      "cell_type": "code",
      "execution_count": null,
      "metadata": {
        "id": "kY3_8ZtDNgNZ"
      },
      "outputs": [],
      "source": [
        "#Using incremental PCA for efficiency - saves a lot of time on larger datasets\n",
        "from sklearn.decomposition import IncrementalPCA\n",
        "pca_final = IncrementalPCA(n_components=54)"
      ]
    },
    {
      "cell_type": "code",
      "execution_count": null,
      "metadata": {
        "id": "qKPBstNQNgNZ"
      },
      "outputs": [],
      "source": [
        "df_train_pca = pca_final.fit_transform(X_train)\n",
        "df_train_pca.shape"
      ]
    },
    {
      "cell_type": "code",
      "execution_count": null,
      "metadata": {
        "id": "CPhfwwG_NgNZ"
      },
      "outputs": [],
      "source": [
        "#creating correlation matrix for the principal components\n",
        "corrmat = np.corrcoef(df_train_pca.transpose())"
      ]
    },
    {
      "cell_type": "code",
      "execution_count": null,
      "metadata": {
        "id": "KTNCWvnZNgNZ"
      },
      "outputs": [],
      "source": [
        "#plotting the correlation matrix\n",
        "%matplotlib inline\n",
        "plt.figure(figsize = (20,10))\n",
        "sns.heatmap(corrmat,annot = True)"
      ]
    },
    {
      "cell_type": "code",
      "execution_count": null,
      "metadata": {
        "id": "ClbcLUHQNgNZ"
      },
      "outputs": [],
      "source": [
        "# 1s -> 0s in diagonals\n",
        "corrmat_nodiag = corrmat - np.diagflat(corrmat.diagonal())\n",
        "print(\"max corr:\",corrmat_nodiag.max(), \", min corr: \", corrmat_nodiag.min(),)\n",
        "# we see that correlations are indeed very close to 0"
      ]
    },
    {
      "cell_type": "code",
      "execution_count": null,
      "metadata": {
        "id": "QsZh4nrxNgNa"
      },
      "outputs": [],
      "source": [
        "#Applying selected components to the test data\n",
        "df_test_pca = pca_final.transform(X_test)\n",
        "df_test_pca.shape"
      ]
    },
    {
      "cell_type": "markdown",
      "metadata": {
        "id": "rGKmL_sVNgNa"
      },
      "source": [
        "### Logistic Regression\n",
        "<br>\n",
        "Logistic Regression is a classification algorithm. It is used to predict a binary outcome or Multi class outcome, given a set of independent variables. Logistic regression is a special case of linear regression when the outcome variable is categorical, where we are using log of odds as dependent variable. In simple words, it predicts the probability of occurrence of an event by fitting data to a logit function. <br>\n",
        "\n",
        "Let's first fit a model with default hyperparameters."
      ]
    },
    {
      "cell_type": "code",
      "execution_count": null,
      "metadata": {
        "id": "njnC5M_cNgNa"
      },
      "outputs": [],
      "source": [
        "#Training the model on the train data\n",
        "from sklearn.linear_model import LogisticRegression\n",
        "\n",
        "learner_pca = LogisticRegression()\n",
        "model_pca = learner_pca.fit(df_train_pca,y_train)"
      ]
    },
    {
      "cell_type": "code",
      "execution_count": null,
      "metadata": {
        "id": "lo4c7V2hNgNa"
      },
      "outputs": [],
      "source": [
        "#Making prediction on the test data\n",
        "pred_probs_test = model_pca.predict_proba(df_test_pca)[:,1]\n",
        "\"{:2.2}\".format(metrics.roc_auc_score(y_test, pred_probs_test))"
      ]
    },
    {
      "cell_type": "code",
      "execution_count": null,
      "metadata": {
        "id": "_CvZyjIHNgNa"
      },
      "outputs": [],
      "source": [
        "plotLiftChart(y_test.values,pred_probs_test,\"Simple Logistic Regression\")"
      ]
    },
    {
      "cell_type": "markdown",
      "metadata": {
        "id": "MQqiLCGnNgNa"
      },
      "source": [
        "- In here we used 54 components, which could nearly explain 85% variance in dataset\n",
        "- We were able to achieve 89% Area under the curve on the test set\n",
        "\n",
        "Let's build couple of more models with different number of components. Let's see if the results changes"
      ]
    },
    {
      "cell_type": "code",
      "execution_count": null,
      "metadata": {
        "id": "4bvdWC9zNgNb"
      },
      "outputs": [],
      "source": [
        "pca_last1 = PCA(n_components=48)\n",
        "df_train_pca1 = pca_last1.fit_transform(X_train)\n",
        "df_test_pca1 = pca_last1.transform(X_test)\n",
        "df_test_pca1.shape"
      ]
    },
    {
      "cell_type": "code",
      "execution_count": null,
      "metadata": {
        "id": "D5JTCErJNgNb"
      },
      "outputs": [],
      "source": [
        "#training the regression model\n",
        "learner_pca1 = LogisticRegression()\n",
        "model_pca1 = learner_pca1.fit(df_train_pca1,y_train)\n",
        "#Making prediction on the test data\n",
        "pred_probs_test1 = model_pca1.predict_proba(df_test_pca1)[:,1]\n",
        "\"{:2.2f}\".format(metrics.roc_auc_score(y_test, pred_probs_test1))"
      ]
    },
    {
      "cell_type": "code",
      "execution_count": null,
      "metadata": {
        "id": "qFMW7ZieNgNb"
      },
      "outputs": [],
      "source": [
        "pca_last2 = PCA(n_components=15)\n",
        "df_train_pca2 = pca_last2.fit_transform(X_train)\n",
        "df_test_pca2 = pca_last2.transform(X_test)\n",
        "df_test_pca2.shape"
      ]
    },
    {
      "cell_type": "code",
      "execution_count": null,
      "metadata": {
        "id": "oi5oJTVZNgNb"
      },
      "outputs": [],
      "source": [
        "#training the regression model\n",
        "learner_pca2 = LogisticRegression()\n",
        "model_pca2 = learner_pca2.fit(df_train_pca2,y_train)\n",
        "#Making prediction on the test data\n",
        "pred_probs_test2 = model_pca2.predict_proba(df_test_pca2)[:,1]\n",
        "\"{:2.2f}\".format(metrics.roc_auc_score(y_test, pred_probs_test2))"
      ]
    },
    {
      "cell_type": "markdown",
      "metadata": {
        "id": "iD53Rc_3NgNb"
      },
      "source": [
        "## Choice of Evaluation Metric\n",
        "\n",
        "Choosing a metric is one of the key criteria for our analysis, as the dataset is imbalanced one\n",
        "\n",
        "<br>\n",
        "\n",
        "![Image of Yaktocat](https://www.innoarchitech.com/assets/images/confmatriximage.png)\n",
        "\n",
        "<br>\n",
        "*Source: Wikipedia*\n",
        "\n",
        "**Accuracy = correct predictions / total predictions = (TP + TN)/ (all)**\n",
        "For a data set which is balanced, this might make a good measure. For an imbalanced dataset like the current one, where the negative class is heavier, this measure may show a high accuracy but fail to serve the purpose of the modeling exercise. We need to be able to predict non-churn i.e.; positive outcomes correctly to help business. So Accuracy may not be the best measure here.\n",
        "\n",
        "**Recall(sensitivity) = ability to identify Positives as true =  TP/(TP + FN)**\n",
        "Considering that we wish to clearly identify customers who might churn vs non-churn, recall as a metric with its ability to identify true positives might be more apt. But this does not capture models ability to mis-classify negative class as positive i.e.; False positive rate. So, if we choose a model purely based on recall, we might be blind sighted by a huge number of false positive.\n",
        "\n",
        "**Precision = TP/ (TP + FP) = Positive predictive value:**\n",
        "It is important to not only understand the rate of identifying positives as true but also identify False positives. If business is to make a decision on marketing spend to retain customers to all positive output of the model, it becomes important that the false positive rate should not be too high. So Precision as a metric - which provides the rate of true positive /total predicted positives is an apt metric to look at here.\n",
        "\n",
        "**F Score = 2 * Precision * Recall/ (Precision * Recall):**\n",
        "Fscore is the harmonic mean of Precision and Recall and provides the ability to balance the need between having a better true positive rate and not too high a false positive rate. \n",
        "\n",
        "**Area under the Curve:**\n",
        "\n",
        "AUC or in the classification world – AUC ROC – Area under the curve for  Receiver Operating Characteristic curve is generally used to compare two different models. It used two metrics from the confusion matrix the true positive rate and false positive rate.\n",
        "\n",
        "**True positive rate (TPR), recall** as described above is proportion of positive data points correctly identified as positive by the model\n",
        "**False positive rate (FPR)**, which is defined as FP/(FP+TN) is all the negative data points that are mistakenly identified as positive as a proportion of all negative data points. \n",
        "\n",
        "The TPR and FPR metrics are calculated for several threshold values and a curve is plotted with these. The resulting curve is called ROC. AUC is the computation of the area under ROC curve. For a model selection, we always look for maximizing the AUC for the classifier. As this value is comparable across models."
      ]
    },
    {
      "cell_type": "markdown",
      "metadata": {
        "id": "StqOZ8BJNgNb"
      },
      "source": [
        "### Logistic Regression - with penalty"
      ]
    },
    {
      "cell_type": "code",
      "execution_count": null,
      "metadata": {
        "id": "f91TZ6YINgNb"
      },
      "outputs": [],
      "source": [
        "from sklearn.feature_selection import RFE"
      ]
    },
    {
      "cell_type": "code",
      "execution_count": null,
      "metadata": {
        "id": "5XI-vesqNgNb"
      },
      "outputs": [],
      "source": [
        "logmodel_CW_dict = LogisticRegression(class_weight='balanced',penalty='l2',random_state=9999,solver='newton-cg',C=10000000,n_jobs=-1)"
      ]
    },
    {
      "cell_type": "code",
      "execution_count": null,
      "metadata": {
        "id": "vGeiR_GhNgNb"
      },
      "outputs": [],
      "source": [
        "logmodel_CW_dict.fit(df_train_pca,y_train)"
      ]
    },
    {
      "cell_type": "code",
      "execution_count": null,
      "metadata": {
        "id": "bPVA05M0NgNc"
      },
      "outputs": [],
      "source": [
        "predictions = logmodel_CW_dict.predict(df_test_pca)\n",
        "prediction_probs = logmodel_CW_dict.predict_proba(df_test_pca)[:,1]\n",
        "print(classification_report(y_test, predictions))\n",
        "accuracy = metrics.accuracy_score(y_test, predictions)\n",
        "print(\"Accuracy for the test dataset\",'{:.1%}'.format(accuracy) )\n",
        "\n",
        "fpr, tpr, threshold = metrics.roc_curve(y_test, predictions)\n",
        "roc_auc = metrics.auc(fpr, tpr)\n",
        "print(\"ROC for the test dataset\",'{:.1%}'.format(roc_auc))\n",
        "plt.plot(fpr,tpr,label=\"Test, auc=\"+str(roc_auc))\n",
        "plt.legend(loc=4)\n",
        "plt.show()\n"
      ]
    },
    {
      "cell_type": "code",
      "execution_count": null,
      "metadata": {
        "id": "darzZnr-NgNe"
      },
      "outputs": [],
      "source": [
        "cm = confusion_matrix(y_test, predictions)\n",
        "plt.clf()\n",
        "plt.imshow(cm, interpolation='nearest', cmap=plt.cm.Pastel1)\n",
        "classNames = ['Non-churn','Churn']\n",
        "plt.title('Confusion Matrix - Train Data')\n",
        "plt.ylabel('True label')\n",
        "plt.xlabel('Predicted label')\n",
        "tick_marks = np.arange(len(classNames))\n",
        "plt.xticks(tick_marks, classNames, rotation=45)\n",
        "plt.yticks(tick_marks, classNames)\n",
        "s = [['TN','FP'], ['FN', 'TP']]\n",
        " \n",
        "for i in range(2):\n",
        "    for j in range(2):\n",
        "        plt.text(j,i, str(s[i][j])+\" = \"+str(cm[i][j]),fontsize=12)\n",
        "plt.show()"
      ]
    },
    {
      "cell_type": "markdown",
      "metadata": {
        "id": "PmN7lcRZNgNf"
      },
      "source": [
        "### Lift Metric\n",
        "<br>\n",
        "What is Lift measure? <br>\n",
        "\n",
        "Lift measures expected benefit with the predictive model compared to a base line model – in essence a random choice. It is the ratio of proportion of the gain to the proportion of random expectation at any given decile level. The random expectation at the xth decile is x%."
      ]
    },
    {
      "cell_type": "code",
      "execution_count": null,
      "metadata": {
        "id": "nELUHZLxNgNf"
      },
      "outputs": [],
      "source": [
        "def plotLiftChart(actual, predicted,title_str):\n",
        "    df_dict = {'actual': list (actual), 'pred': list(predicted)}\n",
        "    df = pd.DataFrame(df_dict)\n",
        "    pred_ranks = pd.qcut(df['pred'].rank(method='first'), 100, labels=False)\n",
        "    actual_ranks = pd.qcut(df['actual'].rank(method='first'), 100, labels=False)\n",
        "    pred_percentiles = df.groupby(pred_ranks).mean()\n",
        "    actual_percentiles = df.groupby(actual_ranks).mean()\n",
        "    plt.title(title_str)\n",
        "    plt.plot(np.arange(.01, 1.01, .01), np.array(pred_percentiles['pred']),\n",
        "             color='darkorange', lw=2, label='Prediction')\n",
        "    plt.plot(np.arange(.01, 1.01, .01), np.array(pred_percentiles['actual']),\n",
        "             color='navy', lw=2, linestyle='--', label='Actual')\n",
        "    plt.ylabel('Target Percentile')\n",
        "    plt.xlabel('Population Percentile')\n",
        "    plt.xlim([0.0, 1.0])\n",
        "    plt.ylim([-0.05, 1.05])\n",
        "    from pylab import rcParams\n",
        "    rcParams['figure.figsize'] = 10, 4\n",
        "\n",
        "    plt.legend(loc=\"best\")\n",
        "    plt.show()"
      ]
    },
    {
      "cell_type": "code",
      "execution_count": null,
      "metadata": {
        "id": "qZa_P80MNgNf"
      },
      "outputs": [],
      "source": [
        "plotLiftChart(y_test.values,prediction_probs,\"Logistic Regression with penaly L2\")"
      ]
    },
    {
      "cell_type": "markdown",
      "metadata": {
        "id": "Uh8-PWhlNgNf"
      },
      "source": [
        "### Create Stratefied Kfold Samples"
      ]
    },
    {
      "cell_type": "markdown",
      "metadata": {
        "id": "ukKDu_lPNgNf"
      },
      "source": [
        "The regular K-Fold cross validation may not be applicable for an imbalanced dataset. As the folds created may not retain class proportions, even if they did, most classifiers need some manipulation of the dataset to balance it (oversampling of positive class or under sampling of negative class).<br>\n",
        "To Cross validate an imbalanced dataset, we might have to apply stratified cross validation. Stratification seeks to ensure that each fold is representative of all classes of the data. <br>\n",
        "- Random Sampling: The given dataset is highly imbalanced. Churn classes is only 10% of the entire dataset. With such a dataset random sampling might not be able to pick up enough data of both the classes \n",
        "- Stratified Sampling: Stratified sampling will be able to sample enough data of both the classes. But, considering that the churn class is only 10% of the entire dataset, stratified sampling might significantly reduce the number of cases, so it should ideally be coupled with a resampling technique to ensure balance in data."
      ]
    },
    {
      "cell_type": "code",
      "execution_count": null,
      "metadata": {
        "id": "5849q9gCNgNg"
      },
      "outputs": [],
      "source": [
        "from sklearn.model_selection  import StratifiedKFold\n",
        "stratefied_Kfold = StratifiedKFold(n_splits=4, shuffle=True, random_state=9999)"
      ]
    },
    {
      "cell_type": "code",
      "execution_count": null,
      "metadata": {
        "id": "N1ufWeEVNgNg"
      },
      "outputs": [],
      "source": [
        "from sklearn.linear_model import LogisticRegressionCV\n",
        "\n",
        "searchCV = LogisticRegressionCV(\n",
        "        Cs= list(np.power(10.0, np.arange(-10, 10)))\n",
        "        ,penalty='l2'\n",
        "        ,scoring='roc_auc'\n",
        "        ,cv=stratefied_Kfold\n",
        "        ,random_state=777\n",
        "        ,max_iter=100\n",
        "        ,fit_intercept=True\n",
        "        ,solver='newton-cg'\n",
        "        ,tol=1\n",
        "        ,verbose = 2\n",
        "        ,n_jobs = -1\n",
        "    \n",
        "    )"
      ]
    },
    {
      "cell_type": "code",
      "execution_count": null,
      "metadata": {
        "id": "snX38yygNgNg"
      },
      "outputs": [],
      "source": [
        "searchCV.fit(df_train_pca,y_train)"
      ]
    },
    {
      "cell_type": "code",
      "execution_count": null,
      "metadata": {
        "id": "WD6Qu1PKNgNg"
      },
      "outputs": [],
      "source": [
        "print(\"final selected 1/lambda is \", searchCV.C_)\n",
        "print(\"final selected lambda is \", 1/searchCV.C_)"
      ]
    },
    {
      "cell_type": "code",
      "execution_count": null,
      "metadata": {
        "id": "YMEZmhE_NgNg"
      },
      "outputs": [],
      "source": [
        "#train data\n",
        "preds_L2Search = searchCV.predict(df_test_pca)\n",
        "preds_L2Search_probs = searchCV.predict_proba(df_test_pca)[:,1]\n",
        "\n",
        "print(classification_report(y_test, preds_L2Search))\n",
        "accuracy = metrics.accuracy_score(y_test, preds_L2Search)\n",
        "print(\"Accuracy for the test dataset\",'{:.1%}'.format(accuracy) )\n",
        "\n",
        "fpr, tpr, threshold = metrics.roc_curve(y_test, preds_L2Search_probs)\n",
        "roc_auc = metrics.auc(fpr, tpr)\n",
        "print(\"ROC for the test dataset\",'{:.1%}'.format(roc_auc))\n",
        "plt.plot(fpr,tpr,label=\"Test, auc=\"+str(roc_auc))\n",
        "plt.legend(loc=4)\n",
        "plt.show()\n"
      ]
    },
    {
      "cell_type": "code",
      "execution_count": null,
      "metadata": {
        "id": "hJWTDcMjNgNh"
      },
      "outputs": [],
      "source": [
        "cm = confusion_matrix(y_test, preds_L2Search)\n",
        "plt.clf()\n",
        "plt.imshow(cm, interpolation='nearest', cmap=plt.cm.Pastel1)\n",
        "classNames = ['Non-churn','Churn']\n",
        "plt.title('Confusion Matrix - Test Data')\n",
        "plt.ylabel('True label')\n",
        "plt.xlabel('Predicted label')\n",
        "tick_marks = np.arange(len(classNames))\n",
        "plt.xticks(tick_marks, classNames, rotation=45)\n",
        "plt.yticks(tick_marks, classNames)\n",
        "s = [['TN','FP'], ['FN', 'TP']]\n",
        " \n",
        "for i in range(2):\n",
        "    for j in range(2):\n",
        "        plt.text(j,i, str(s[i][j])+\" = \"+str(cm[i][j]),fontsize=12)\n",
        "plt.show()"
      ]
    },
    {
      "cell_type": "code",
      "execution_count": null,
      "metadata": {
        "id": "qBDpWaLFNgNh"
      },
      "outputs": [],
      "source": [
        "plotLiftChart(y_test.values,preds_L2Search_probs,\"L2 penalty Logistic Regression with gridsearch \")"
      ]
    },
    {
      "cell_type": "markdown",
      "metadata": {
        "id": "TeUkyykFNgNh"
      },
      "source": [
        "### Random Forest \n",
        "<br>\n",
        "\n",
        "Random forest algorithm is based on a concept called bagging - bootstrap aggregating. In random forest, we build a number of decision trees on bootstrap training samples. The samples are chosen, as split candidates from all the X variables (predictors). <br>\n",
        "So, the random forest at each split is allowed to consider a subset of the predictors. If not, One or Few strong predictors, might always become the most important predictor leading to similar looking trees. Which leads to no reduction in the variance. This process can be thought of as de-correlating the trees or feature bagging. Because of this, the Random forest can also be used to rank the importance of variables. <br>\n",
        "Similarly bootstrapping of sample rows is also done. <br>\n",
        "\n",
        "\n",
        "Let's first fit a random forest model with default hyperparameters."
      ]
    },
    {
      "cell_type": "code",
      "execution_count": null,
      "metadata": {
        "id": "tMuXOjMqNgNh"
      },
      "outputs": [],
      "source": [
        "from sklearn.ensemble import RandomForestClassifier\n",
        "RFC_balanced = RandomForestClassifier(n_estimators=10, criterion='gini', max_depth=None,\n",
        "                                      min_samples_split=500, min_samples_leaf=1, \n",
        "                                      min_weight_fraction_leaf=0.0, max_features='auto', \n",
        "                                      max_leaf_nodes=None, min_impurity_split=1e-07,\n",
        "                                      bootstrap=True, oob_score=False, n_jobs=-1, \n",
        "                                      random_state=9999, verbose=0, warm_start=False, \n",
        "                                      class_weight=\"balanced_subsample\")\n"
      ]
    },
    {
      "cell_type": "code",
      "execution_count": null,
      "metadata": {
        "id": "dj0ZJwCtNgNi"
      },
      "outputs": [],
      "source": [
        "TrainedRFC= RFC_balanced.fit(df_train_pca,y_train)"
      ]
    },
    {
      "cell_type": "code",
      "execution_count": null,
      "metadata": {
        "id": "AgeMr-5pNgNi"
      },
      "outputs": [],
      "source": [
        "preds_RFC=TrainedRFC.predict(df_test_pca)\n",
        "preds_probs_RFC=TrainedRFC.predict_proba(df_test_pca)[:,1]\n",
        "\n",
        "print(classification_report(y_test, preds_RFC))\n",
        "accuracy = metrics.accuracy_score(y_test, preds_RFC)\n",
        "print(\"Accuracy for the test dataset\",'{:.1%}'.format(accuracy) )\n",
        "\n",
        "fpr, tpr, threshold = metrics.roc_curve(y_test, preds_probs_RFC)\n",
        "roc_auc = metrics.auc(fpr, tpr)\n",
        "print(\"ROC for the test dataset\",'{:.1%}'.format(roc_auc))\n",
        "plt.plot(fpr,tpr,label=\"Test, auc=\"+str(roc_auc))\n",
        "plt.legend(loc=4)\n",
        "plt.show()"
      ]
    },
    {
      "cell_type": "code",
      "execution_count": null,
      "metadata": {
        "id": "q7tz9K0nNgNi"
      },
      "outputs": [],
      "source": [
        "cm = confusion_matrix(y_test, preds_RFC)\n",
        "plt.clf()\n",
        "plt.imshow(cm, interpolation='nearest', cmap=plt.cm.Pastel1)\n",
        "classNames = ['Non-churn','Churn']\n",
        "plt.title('Confusion Matrix - Test Data')\n",
        "plt.ylabel('True label')\n",
        "plt.xlabel('Predicted label')\n",
        "tick_marks = np.arange(len(classNames))\n",
        "plt.xticks(tick_marks, classNames, rotation=45)\n",
        "plt.yticks(tick_marks, classNames)\n",
        "s = [['TN','FP'], ['FN', 'TP']]\n",
        " \n",
        "for i in range(2):\n",
        "    for j in range(2):\n",
        "        plt.text(j,i, str(s[i][j])+\" = \"+str(cm[i][j]),fontsize=12)\n",
        "plt.show()"
      ]
    },
    {
      "cell_type": "code",
      "execution_count": null,
      "metadata": {
        "id": "SIrPc29zNgNi"
      },
      "outputs": [],
      "source": [
        "plotLiftChart(y_test.values,preds_probs_RFC,\"Random Forest\")"
      ]
    },
    {
      "cell_type": "code",
      "execution_count": null,
      "metadata": {
        "id": "YfAIe5efNgNi"
      },
      "outputs": [],
      "source": [
        "importances = TrainedRFC.feature_importances_\n",
        "col_names =  X.columns\n",
        "\n",
        "sorted_feature_importance = pd.DataFrame(sorted(zip(importances, list(col_names)), reverse=True),columns={'colName','value'})\n",
        "sorted_feature_importance"
      ]
    },
    {
      "cell_type": "code",
      "execution_count": null,
      "metadata": {
        "id": "Pz4cIYTpNgNj"
      },
      "outputs": [],
      "source": [
        "plt.clf()\n",
        "from pylab import rcParams\n",
        "rcParams['figure.figsize'] = 20, 3\n",
        "sorted_feature_importance[0:50].plot(x='colName', y='value' , kind='bar', title='Random Forest Feature Importances')\n",
        "plt.ylabel('Feature Importance Score')\n",
        "plt.xlabel('Feature Name')\n",
        "\n",
        "plt.show()"
      ]
    },
    {
      "cell_type": "markdown",
      "metadata": {
        "id": "mYjsKi2sNgNj"
      },
      "source": [
        "### Gradient boosting\n",
        "<br>\n",
        "Boosting is a method of converting weak learners into strong learners. In boosting, each new tree is a fit on a modified version of the original data set. <br> \n",
        "\n",
        "Gradient boosting uses the concept of boosting. It also fits separate decision trees to the training data set but the trees are grown sequentially essentially to fix the mistakes of the previous tree. This is why, boosting is called the ensemble of weak prediction models. Suppose the gradient boosting model starts with a weak model Fm. In the next iteration it tries to add to the previous weak model, in such a way, that the prediction becomes stronger, i.e; <br>\n",
        ">                           Fm+1(x) =  Fm (x) + h(x)= y\n",
        "\n",
        "Here h is essentially a residual from the previous model, so gradient boosting is a generalization of the gradient decent algorithm that reduces the residuals."
      ]
    },
    {
      "cell_type": "code",
      "execution_count": null,
      "metadata": {
        "id": "YlgXIsa9NgNj"
      },
      "outputs": [],
      "source": [
        "from sklearn import ensemble\n",
        "\n",
        "# Fit classifier with out-of-bag estimates\n",
        "params = {'n_estimators': 200, 'max_depth': 3, 'subsample': 0.5,\n",
        "          'learning_rate': 0.01, 'min_samples_leaf': 10, 'random_state': 9999}\n",
        "GBC = ensemble.GradientBoostingClassifier(**params)"
      ]
    },
    {
      "cell_type": "code",
      "execution_count": null,
      "metadata": {
        "id": "UVTTu2cNNgNj"
      },
      "outputs": [],
      "source": [
        "GBC.fit(df_train_pca,y_train)"
      ]
    },
    {
      "cell_type": "code",
      "execution_count": null,
      "metadata": {
        "id": "Fkm6m5e5NgNk"
      },
      "outputs": [],
      "source": [
        "preds_GBC = GBC.predict(df_test_pca)\n",
        "preds_probs_GBC = GBC.predict_proba(df_test_pca)[:,1]\n",
        "\n",
        "print(classification_report(y_test, preds_GBC))\n",
        "accuracy = metrics.accuracy_score(y_test, preds_GBC)\n",
        "print(\"Accuracy for the test dataset\",'{:.1%}'.format(accuracy))\n",
        "\n",
        "fpr, tpr, threshold = metrics.roc_curve(y_test, preds_probs_GBC)\n",
        "roc_auc = metrics.auc(fpr, tpr)\n",
        "print(\"ROC for the test dataset\",'{:.1%}'.format(roc_auc))\n",
        "plt.plot(fpr,tpr,label=\"Test, auc=\"+str(roc_auc))\n",
        "plt.legend(loc=4)\n",
        "plt.show()"
      ]
    },
    {
      "cell_type": "code",
      "execution_count": null,
      "metadata": {
        "id": "NE71ZyaANgNk"
      },
      "outputs": [],
      "source": [
        "cm = confusion_matrix(y_test, preds_GBC)\n",
        "plt.clf()\n",
        "plt.imshow(cm, interpolation='nearest', cmap=plt.cm.Pastel1)\n",
        "classNames = ['Non-churn','Churn']\n",
        "plt.title('Confusion Matrix - Test Data')\n",
        "plt.ylabel('True label')\n",
        "plt.xlabel('Predicted label')\n",
        "tick_marks = np.arange(len(classNames))\n",
        "plt.xticks(tick_marks, classNames, rotation=45)\n",
        "plt.yticks(tick_marks, classNames)\n",
        "s = [['TN','FP'], ['FN', 'TP']]\n",
        " \n",
        "for i in range(2):\n",
        "    for j in range(2):\n",
        "        plt.text(j,i, str(s[i][j])+\" = \"+str(cm[i][j]),fontsize=12)\n",
        "plt.show()"
      ]
    },
    {
      "cell_type": "code",
      "execution_count": null,
      "metadata": {
        "id": "UOJky1JFNgNk"
      },
      "outputs": [],
      "source": [
        "plotLiftChart(y_test.values,preds_probs_GBC,\"Gradient Boosting\")"
      ]
    },
    {
      "cell_type": "markdown",
      "metadata": {
        "id": "KqduxrEwNgNk"
      },
      "source": [
        "#### Difference between random forest and gradient boosting\n",
        "\n",
        "| Random Forest | Gradient Boosting |\n",
        "| --- | --- |\n",
        "| Bagging  + Decision Trees | Boosting + Gradient Descent |\n",
        "| Many trees – different samples – aggregated voting for class prediction | Sequential trees – each improving on the prior tree – each tree improves classification |\n",
        "| Independent trees | Dependent trees |\n",
        "| Reduces variance, with minimal increase in bias | Minimizes bias |\n",
        "| Hyperparameters – well established, easy to apply | Hyperparameters – need care in configuration |\n"
      ]
    },
    {
      "cell_type": "markdown",
      "metadata": {
        "id": "WB-NxSJ5NgNk"
      },
      "source": [
        "### Gradient Boosting with Hyperparameter tuning\n",
        "\n",
        "Let's now try to tune hyperparameters in gradient boosting classifier. Start with with two hyperparameters - n_estimators and max_depth.\n",
        "\n",
        "- n_estimators: integer, optional (default=10): The number of trees in the forest\n",
        "- max_depth : integer or None, optional (default=None)The maximum depth of the tree. If None, then nodes are expanded until all leaves are pure or until all leaves contain less than min_samples_split samples\n",
        "\n",
        "#### Change in estimators & max_depth"
      ]
    },
    {
      "cell_type": "code",
      "execution_count": null,
      "metadata": {
        "id": "pnVKFH63NgNl"
      },
      "outputs": [],
      "source": [
        "from sklearn.model_selection import GridSearchCV   #Perforing grid search\n",
        "\n",
        "# Fit classifier with out-of-bag estimates\n",
        "param_test = {'n_estimators':range(200,500,100), 'max_depth':range(5,8,1)}\n",
        "\n",
        "gsearch1 = GridSearchCV(\n",
        "    estimator = ensemble.GradientBoostingClassifier(\n",
        "        learning_rate=0.05,\n",
        "        min_samples_split=20,\n",
        "        min_samples_leaf=10,\n",
        "        subsample=0.1,\n",
        "        random_state=9999,verbose = 2,), param_grid = param_test, scoring='roc_auc',n_jobs=-1,iid=False, cv=None,verbose=2)\n"
      ]
    },
    {
      "cell_type": "code",
      "execution_count": null,
      "metadata": {
        "id": "-vcmA13zNgNl"
      },
      "outputs": [],
      "source": [
        "gsearch1.fit(df_train_pca,y_train)"
      ]
    },
    {
      "cell_type": "code",
      "execution_count": null,
      "metadata": {
        "id": "h4v_k1vYNgNl"
      },
      "outputs": [],
      "source": [
        "gsearch1.best_params_, gsearch1.best_score_"
      ]
    },
    {
      "cell_type": "code",
      "execution_count": null,
      "metadata": {
        "id": "qLt_PHjpNgNl"
      },
      "outputs": [],
      "source": [
        "preds_GBC_HT = gsearch1.predict(df_test_pca)\n",
        "preds_GBC_probs_HT = gsearch1.predict_proba(df_test_pca)[:,1]\n",
        "\n",
        "print(classification_report(y_test, preds_GBC_HT))\n",
        "accuracy = metrics.accuracy_score(y_test, preds_GBC_HT)\n",
        "print(\"Accuracy for the test dataset\",'{:.1%}'.format(accuracy) )\n",
        "\n",
        "fpr, tpr, threshold = metrics.roc_curve(y_test, preds_GBC_probs_HT)\n",
        "roc_auc = metrics.auc(fpr, tpr)\n",
        "print(\"ROC for the test dataset\",'{:.1%}'.format(roc_auc))\n",
        "plt.plot(fpr,tpr,label=\"Test, auc=\"+str(roc_auc))\n",
        "plt.legend(loc=4)\n",
        "plt.show()"
      ]
    },
    {
      "cell_type": "code",
      "execution_count": null,
      "metadata": {
        "id": "0cPcMNUnNgNl"
      },
      "outputs": [],
      "source": [
        "cm = confusion_matrix(y_test, preds_GBC_HT)\n",
        "plt.clf()\n",
        "plt.imshow(cm, interpolation='nearest', cmap=plt.cm.Pastel1)\n",
        "classNames = ['Non-churn','Churn']\n",
        "plt.title('Confusion Matrix - Test Data')\n",
        "plt.ylabel('True label')\n",
        "plt.xlabel('Predicted label')\n",
        "tick_marks = np.arange(len(classNames))\n",
        "plt.xticks(tick_marks, classNames, rotation=45)\n",
        "plt.yticks(tick_marks, classNames)\n",
        "s = [['TN','FP'], ['FN', 'TP']]\n",
        " \n",
        "for i in range(2):\n",
        "    for j in range(2):\n",
        "        plt.text(j,i, str(s[i][j])+\" = \"+str(cm[i][j]),fontsize=12)\n",
        "plt.show()"
      ]
    },
    {
      "cell_type": "code",
      "execution_count": null,
      "metadata": {
        "id": "Ugu461gRNgNl"
      },
      "outputs": [],
      "source": [
        "plotLiftChart(y_test.values,preds_GBC_probs_HT,\"Gradient Boosting with hyper parameter tuning\")"
      ]
    },
    {
      "cell_type": "markdown",
      "metadata": {
        "id": "Uz7AWoKwNgNl"
      },
      "source": [
        "#### Change in min_samples_leaf\n",
        "\n",
        "Now let's tune min_samples_leaf\n",
        "- min_samples_leaf : (default=1)The minimum number of samples required to be at a leaf node:\n",
        "    - If int, then consider min_samples_leaf as the minimum number.\n",
        "    - If float, then min_samples_leaf is a percentage and ceil(min_samples_leaf * n_samples) are the minimum number of samples for each node."
      ]
    },
    {
      "cell_type": "code",
      "execution_count": null,
      "metadata": {
        "id": "UR39CmIJNgNl"
      },
      "outputs": [],
      "source": [
        "param_test = {'min_samples_leaf': range(10,100,20)}\n",
        "\n",
        "gsearch1 = GridSearchCV(\n",
        "    estimator = ensemble.GradientBoostingClassifier(\n",
        "        n_estimators = 100,\n",
        "        learning_rate=0.05,\n",
        "        max_depth = 5,\n",
        "        min_samples_split=100,\n",
        "        subsample=0.1,\n",
        "        random_state=9999,verbose = 2,), param_grid = param_test, scoring='roc_auc',n_jobs=-1,iid=False, cv=None,verbose=2)\n"
      ]
    },
    {
      "cell_type": "code",
      "execution_count": null,
      "metadata": {
        "id": "Hwo8xCODNgNl"
      },
      "outputs": [],
      "source": [
        "gsearch1.fit(df_train_pca,y_train)"
      ]
    },
    {
      "cell_type": "code",
      "execution_count": null,
      "metadata": {
        "id": "O_6HpzoQNgNm"
      },
      "outputs": [],
      "source": [
        "gsearch1.best_params_, gsearch1.best_score_"
      ]
    },
    {
      "cell_type": "code",
      "execution_count": null,
      "metadata": {
        "id": "1vkUSTTmNgNm"
      },
      "outputs": [],
      "source": [
        "preds_GBC_HT = gsearch1.predict(df_test_pca)\n",
        "preds_GBC_probs_HT = gsearch1.predict_proba(df_test_pca)[:,1]\n",
        "\n",
        "print(classification_report(y_test, preds_GBC_HT))\n",
        "accuracy = metrics.accuracy_score(y_test, preds_GBC_HT)\n",
        "print(\"Accuracy for the test dataset\",'{:.1%}'.format(accuracy) )\n",
        "\n",
        "fpr, tpr, threshold = metrics.roc_curve(y_test, preds_GBC_probs_HT)\n",
        "roc_auc = metrics.auc(fpr, tpr)\n",
        "print(\"ROC for the test dataset\",'{:.1%}'.format(roc_auc))\n",
        "plt.plot(fpr,tpr,label=\"Test, auc=\"+str(roc_auc))\n",
        "plt.legend(loc=4)\n",
        "plt.show()"
      ]
    },
    {
      "cell_type": "code",
      "execution_count": null,
      "metadata": {
        "id": "wIjUSvFxNgNm"
      },
      "outputs": [],
      "source": [
        "cm = confusion_matrix(y_test, preds_GBC_HT)\n",
        "plt.clf()\n",
        "plt.imshow(cm, interpolation='nearest', cmap=plt.cm.Pastel1)\n",
        "classNames = ['Non-churn','Churn']\n",
        "plt.title('Confusion Matrix - Test Data')\n",
        "plt.ylabel('True label')\n",
        "plt.xlabel('Predicted label')\n",
        "tick_marks = np.arange(len(classNames))\n",
        "plt.xticks(tick_marks, classNames, rotation=45)\n",
        "plt.yticks(tick_marks, classNames)\n",
        "s = [['TN','FP'], ['FN', 'TP']]\n",
        " \n",
        "for i in range(2):\n",
        "    for j in range(2):\n",
        "        plt.text(j,i, str(s[i][j])+\" = \"+str(cm[i][j]),fontsize=12)\n",
        "plt.show()"
      ]
    },
    {
      "cell_type": "code",
      "execution_count": null,
      "metadata": {
        "id": "cPMhB2WHNgNm"
      },
      "outputs": [],
      "source": [
        "plotLiftChart(y_test.values,preds_GBC_probs_HT,\"Gradient Boosting with hyper parameter tuning\")"
      ]
    },
    {
      "cell_type": "markdown",
      "metadata": {
        "id": "gxaFLS3MNgNm"
      },
      "source": [
        "### SVM using Non-linear kernal"
      ]
    },
    {
      "cell_type": "code",
      "execution_count": null,
      "metadata": {
        "id": "PjQ9XISNNgNm"
      },
      "outputs": [],
      "source": [
        "# rbf kernel with other hyperparameters kept to default \n",
        "svm_rbf = svm.SVC(kernel='rbf')\n",
        "svm_rbf.fit(df_train_pca, y_train)\n",
        "# predict\n",
        "predictions = svm_rbf.predict(df_test_pca)\n",
        "print(\"Classification report: \")\n",
        "print(classification_report(y_test,predictions))\n",
        "accuracy = metrics.accuracy_score(y_test, predictions)\n",
        "print(\"\\nAccuracy for the test dataset\",'{:.1%}'.format(accuracy) )\n",
        "fpr, tpr, threshold = metrics.roc_curve(y_test, predictions)\n",
        "roc_auc = metrics.auc(fpr, tpr)\n",
        "print(\"\\nROC for the test dataset\",'{:.1%}'.format(roc_auc))\n",
        "plt.plot(fpr,tpr,label=\"Test, auc=\"+str(roc_auc))\n",
        "plt.legend(loc=4)\n",
        "plt.show()"
      ]
    },
    {
      "cell_type": "markdown",
      "metadata": {
        "id": "fY1st7QUNgNm"
      },
      "source": [
        "## Model Building\n",
        "\n",
        "#### On original features (instead of principal components)"
      ]
    },
    {
      "cell_type": "markdown",
      "metadata": {
        "id": "08ZOj07GNgNm"
      },
      "source": [
        "We have tuned the hyperparameters using GPU enabled one and identified the best ones. <br> Below is the code for the same.\n",
        "<br>\n",
        "\n",
        "**Note:**\n",
        "***The time taken to complete this step is nearly 18hrs. Please make sure the availabilty of the resources for the same***\n",
        "<br>\n",
        "Currently we are making this as a markdown. Chnage them to code to get those parameters"
      ]
    },
    {
      "cell_type": "markdown",
      "metadata": {
        "id": "LoNFSb-vNgNm"
      },
      "source": [
        "### XGBoost - Finding the best hyperparameters\n",
        "\n",
        "Now it's time to look for the optimal hyperparameters - what does this mean?\n",
        "\n",
        "We will test our chosen model with different values for (almost) each of its tuning parameters and give back the parameters with which the model performed best.\n",
        "\n",
        "**The actual searching for optimal parameters is not done in this notebook since the operations can take some time and parallel editing would not be possible."
      ]
    },
    {
      "cell_type": "markdown",
      "metadata": {
        "id": "-d01P5ObNgNm"
      },
      "source": [
        "from hyperopt import fmin, tpe, hp, STATUS_OK, Trials\n",
        "\n",
        "def objective(params):\n",
        "    params = {\n",
        "        'max_depth': int(params['max_depth']),\n",
        "        'gamma': \"{:.3f}\".format(params['gamma']),\n",
        "        'colsample_bytree': '{:.3f}'.format(params['colsample_bytree']),\n",
        "    }\n",
        "    \n",
        "    clf = xgb.XGBClassifier(\n",
        "        n_estimators=250,\n",
        "        learning_rate=0.05,\n",
        "        n_jobs=4,\n",
        "        **params\n",
        "    )\n",
        "    \n",
        "    score = cross_val_score(clf, X_train, y_train, scoring='f1_weighted', cv=StratifiedKFold()).mean()\n",
        "    print(\"F1 score {:.3f} params {}\".format(score, params))\n",
        "    return score\n",
        "\n",
        "space = {\n",
        "    'max_depth': hp.quniform('max_depth', 2, 8, 1),\n",
        "    'colsample_bytree': hp.uniform('colsample_bytree', 0.3, 1.0),\n",
        "    'gamma': hp.uniform('gamma', 0.0, 0.5),\n",
        "}\n",
        "\n",
        "best = fmin(fn=objective,\n",
        "            space=space,\n",
        "            algo=tpe.suggest,\n",
        "            max_evals=10)"
      ]
    },
    {
      "cell_type": "code",
      "execution_count": null,
      "metadata": {
        "id": "ggzV2tXPNgNn"
      },
      "outputs": [],
      "source": [
        "#print(\"estimated optimum {}\".format(best))\n",
        "\n",
        "# The result we got with tuning is\n",
        "# estimated optimum {'colsample_bytree': 0.552933848345107, 'gamma': 0.22715962641133935, 'max_depth': 8.0}"
      ]
    },
    {
      "cell_type": "code",
      "execution_count": null,
      "metadata": {
        "id": "px1yuBtCNgNn"
      },
      "outputs": [],
      "source": [
        "import xgboost as xgb\n",
        "from sklearn.cross_validation import StratifiedKFold"
      ]
    },
    {
      "cell_type": "code",
      "execution_count": null,
      "metadata": {
        "id": "Camt7IfLNgNn"
      },
      "outputs": [],
      "source": [
        "cv = StratifiedKFold(y_train, n_folds=10,shuffle=True, random_state=111)\n",
        "\n",
        "xgb_model = xgb.XGBClassifier(\n",
        "    n_estimators=250,\n",
        "    learning_rate=0.05,\n",
        "    n_jobs=4,\n",
        "    max_depth=8,\n",
        "    colsample_bytree=0.55,\n",
        "    gamma=0.23,\n",
        "    cv = cv,\n",
        "    scoring='f1_weighted'\n",
        ")\n",
        "\n",
        "xgb_model.fit(X=X_train,y=y_train)"
      ]
    },
    {
      "cell_type": "code",
      "execution_count": null,
      "metadata": {
        "id": "aFoWuwlSNgNn"
      },
      "outputs": [],
      "source": [
        "from sklearn.model_selection import cross_val_score\n",
        "scores = cross_val_score(xgb_model, X_train, y_train, cv=cv, scoring = 'roc_auc')\n",
        "print(\"Scores:\", scores)\n",
        "print(\"Mean:\", scores.mean())\n",
        "print(\"Standard Deviation:\", scores.std())"
      ]
    },
    {
      "cell_type": "markdown",
      "metadata": {
        "id": "ycuL9M02NgNn"
      },
      "source": [
        "Cross validating the models showed that the accuracy values were in fact not arbitary and proofed that both models are performing very well.\n",
        "\n",
        "A high mean corresponds to a more stable performance and a low standard deviation corresponds to smaller range of results."
      ]
    },
    {
      "cell_type": "code",
      "execution_count": null,
      "metadata": {
        "id": "6QBiwgy-NgNn"
      },
      "outputs": [],
      "source": [
        "predictions_train = xgb_model.predict(X_train)\n",
        "print(classification_report(y_train, predictions_train))\n",
        "predictions = xgb_model.predict(X_test)\n",
        "print(classification_report(y_test, predictions))"
      ]
    },
    {
      "cell_type": "code",
      "execution_count": null,
      "metadata": {
        "id": "Z6NTposGNgNn"
      },
      "outputs": [],
      "source": [
        "def Performance(Model,Y,X):\n",
        "    # Perforamnce of the model\n",
        "    fpr, tpr, _ = roc_curve(Y, Model.predict_proba(X)[:,1])\n",
        "    AUC  = auc(fpr, tpr)\n",
        "    print ('the AUC is : %0.4f' %  AUC)\n",
        "    plt.figure()\n",
        "    plt.plot(fpr, tpr, label='ROC curve (area = %0.4f)' % AUC)\n",
        "    plt.plot([0, 1], [0, 1], 'k--')\n",
        "    plt.xlim([0.0, 1.0])\n",
        "    plt.ylim([0.0, 1.05])\n",
        "    plt.xlabel('False Positive Rate')\n",
        "    plt.ylabel('True Positive Rate')\n",
        "    plt.title('ROC Curve')\n",
        "    plt.legend(loc=\"lower right\")\n",
        "    plt.show()"
      ]
    },
    {
      "cell_type": "code",
      "execution_count": null,
      "metadata": {
        "id": "w9tPIWxANgNn"
      },
      "outputs": [],
      "source": [
        "Performance(Model=xgb_model,Y=y_test,X=X_test)"
      ]
    },
    {
      "cell_type": "code",
      "execution_count": null,
      "metadata": {
        "id": "RYWd_gt8NgNn"
      },
      "outputs": [],
      "source": [
        "plotLiftChart(y_test.values,xgb_model.predict_proba(X_test)[:,1],\"XGBoost with tuned parameters\")"
      ]
    },
    {
      "cell_type": "markdown",
      "metadata": {
        "id": "eSeh38RNNgNn"
      },
      "source": [
        "### Random Forest"
      ]
    },
    {
      "cell_type": "markdown",
      "metadata": {
        "id": "8A24qOEdNgNo"
      },
      "source": [
        "from sklearn.model_selection import cross_val_score\n",
        "def acc_model(params):\n",
        "    clf = RandomForestClassifier(**params)\n",
        "    return cross_val_score(clf, X_train, y_train).mean()\n",
        "\n",
        "param_space = {\n",
        "    'max_depth': hp.choice('max_depth', range(1,20)),\n",
        "    'max_features': hp.choice('max_features', range(1,100)),\n",
        "    'n_estimators': hp.choice('n_estimators', range(100,500)),\n",
        "    'criterion': hp.choice('criterion', [\"gini\", \"entropy\"])}\n",
        "\n",
        "best = 0\n",
        "def f(params):\n",
        "    global best\n",
        "    acc = acc_model(params)\n",
        "    if acc > best:\n",
        "        best = acc\n",
        "    print ('new best:', best, params)\n",
        "    return {'loss': -acc, 'status': STATUS_OK}\n",
        "\n",
        "trials = Trials()\n",
        "best = fmin(f, param_space, algo=tpe.suggest, max_evals=100, trials=trials)\n",
        "print ('best:')\n",
        "print (best)"
      ]
    },
    {
      "cell_type": "code",
      "execution_count": null,
      "metadata": {
        "id": "BeS7ymvKNgNo"
      },
      "outputs": [],
      "source": [
        "from sklearn.ensemble import RandomForestClassifier\n",
        "\n",
        "RF2=RandomForestClassifier(max_features=94, n_estimators=200, criterion= 'entropy', max_depth=15,random_state=111, class_weight='balanced')\n",
        "RF2.fit(X_train, y_train)"
      ]
    },
    {
      "cell_type": "code",
      "execution_count": null,
      "metadata": {
        "id": "oL8mvOuFNgNo"
      },
      "outputs": [],
      "source": [
        "scores = cross_val_score(RF2, X_train, y_train, cv=cv, scoring = 'roc_auc')\n",
        "print(\"Scores:\", scores)\n",
        "print(\"Mean:\", scores.mean())\n",
        "print(\"Standard Deviation:\", scores.std())"
      ]
    },
    {
      "cell_type": "code",
      "execution_count": null,
      "metadata": {
        "id": "m_b6VExaNgNo"
      },
      "outputs": [],
      "source": [
        "predictions_train = RF2.predict(X_train)\n",
        "print(classification_report(y_train, predictions_train))\n",
        "predictions = RF2.predict(X_test)\n",
        "print(classification_report(y_test, predictions))"
      ]
    },
    {
      "cell_type": "code",
      "execution_count": null,
      "metadata": {
        "id": "t8onQ04LNgNo"
      },
      "outputs": [],
      "source": [
        "preds_probs_RFC=RF2.predict_proba(X_test)[:,1]"
      ]
    },
    {
      "cell_type": "code",
      "execution_count": null,
      "metadata": {
        "id": "k7k5-s0PNgNo"
      },
      "outputs": [],
      "source": [
        "Performance(Model=RF2,Y=y_test,X=X_test)"
      ]
    },
    {
      "cell_type": "code",
      "execution_count": null,
      "metadata": {
        "id": "PaWUpOWGNgNo"
      },
      "outputs": [],
      "source": [
        "plotLiftChart(y_test.values,preds_probs_RFC,\"Random Forest with tuned parameters\")"
      ]
    },
    {
      "cell_type": "code",
      "execution_count": null,
      "metadata": {
        "id": "qN1YhSW-NgNo"
      },
      "outputs": [],
      "source": [
        "importances = RF2.feature_importances_\n",
        "col_names =  X.columns\n",
        "\n",
        "sorted_feature_importance = pd.DataFrame(sorted(zip(importances, list(col_names)), reverse=True),columns={'colName','value'})\n",
        "sorted_feature_importance"
      ]
    },
    {
      "cell_type": "code",
      "execution_count": null,
      "metadata": {
        "id": "b7khZE5fNgNo"
      },
      "outputs": [],
      "source": [
        "plt.clf()\n",
        "from pylab import rcParams\n",
        "rcParams['figure.figsize'] = 20, 3\n",
        "sorted_feature_importance[0:50].plot(x='colName', y='value' , kind='bar', title='Random Forest Feature Importances')\n",
        "plt.ylabel('Feature Importance Score')\n",
        "plt.xlabel('Feature Name')\n",
        "\n",
        "plt.show()"
      ]
    },
    {
      "cell_type": "markdown",
      "metadata": {
        "id": "w-jDDp2LNgNp"
      },
      "source": [
        "### Support Vector Machine\n",
        "\n",
        "\n",
        "Support Vector Machine (SVM) is an algorithm used for classification problems similar to Logistic Regression (LR). LR and SVM with linear Kernel generally perform comparably in practice. <br> The objective of the support vector machine algorithm is to find the hyperplane that has the maximum margin in an N-dimensional space that distinctly classifies the data points. Data points falling on either side of the hyperplane can be attributed to different classes. <br> The dimension of the hyperplane depends upon the number of features. If the number of input features is 2, then the hyperplane is just a line. If the number of input features is 3, then the hyperplane becomes a two-dimensional plane. Support vectors are data points that are closer to the hyperplane and influence the position and orientation of the hyperplane. Using these support vectors, we maximize the margin of the classifier. Deleting the support vectors will change the position of the hyperplane."
      ]
    },
    {
      "cell_type": "code",
      "execution_count": null,
      "metadata": {
        "id": "JlVUZZt7NgNp"
      },
      "outputs": [],
      "source": [
        "from sklearn import svm \n",
        "\n",
        "svm_linear = svm.SVC(kernel='linear')\n",
        "svm_linear.fit(X_train, y_train)"
      ]
    },
    {
      "cell_type": "code",
      "execution_count": null,
      "metadata": {
        "id": "nh6OeWytNgNp"
      },
      "outputs": [],
      "source": [
        "preds_SVM_lin = svm_linear.predict(X_test)\n",
        "#preds_SVM_lin_probs = svm_linear.predict_proba(X_test)[:,1]\n",
        "\n",
        "print(classification_report(y_test, preds_SVM_lin))\n",
        "accuracy = metrics.accuracy_score(y_test, preds_SVM_lin)\n",
        "print(\"Accuracy for the test dataset\",'{:.1%}'.format(accuracy) )\n",
        "\n",
        "fpr, tpr, threshold = metrics.roc_curve(y_test, preds_SVM_lin)\n",
        "roc_auc = metrics.auc(fpr, tpr)\n",
        "print(\"ROC for the test dataset\",'{:.1%}'.format(roc_auc))\n",
        "plt.plot(fpr,tpr,label=\"Test, auc=\"+str(roc_auc))\n",
        "plt.legend(loc=4)\n",
        "plt.show()"
      ]
    },
    {
      "cell_type": "code",
      "execution_count": null,
      "metadata": {
        "id": "HgP7m8_4NgNp"
      },
      "outputs": [],
      "source": [
        "cm = confusion_matrix(y_test, preds_SVM_lin)\n",
        "plt.clf()\n",
        "plt.imshow(cm, interpolation='nearest', cmap=plt.cm.Pastel1)\n",
        "classNames = ['Non-churn','Churn']\n",
        "plt.title('Confusion Matrix - Test Data')\n",
        "plt.ylabel('True label')\n",
        "plt.xlabel('Predicted label')\n",
        "tick_marks = np.arange(len(classNames))\n",
        "plt.xticks(tick_marks, classNames, rotation=45)\n",
        "plt.yticks(tick_marks, classNames)\n",
        "s = [['TN','FP'], ['FN', 'TP']]\n",
        " \n",
        "for i in range(2):\n",
        "    for j in range(2):\n",
        "        plt.text(j,i, str(s[i][j])+\" = \"+str(cm[i][j]),fontsize=12)\n",
        "plt.show()"
      ]
    },
    {
      "cell_type": "markdown",
      "metadata": {
        "id": "fZjMjGBNNgNp"
      },
      "source": [
        "### SVM with Non linear kernal\n",
        "\n",
        "Radial Basis Function (RBF)"
      ]
    },
    {
      "cell_type": "code",
      "execution_count": null,
      "metadata": {
        "id": "7ffEZktCNgNp"
      },
      "outputs": [],
      "source": [
        "svm_rbf = svm.SVC(kernel='rbf')\n",
        "svm_rbf.fit(X_train, y_train)"
      ]
    },
    {
      "cell_type": "code",
      "execution_count": null,
      "metadata": {
        "id": "zq1mmlssNgNp"
      },
      "outputs": [],
      "source": [
        "preds_SVM_rbf = svm_rbf.predict(X_test)\n",
        "#preds_SVM_rbf_probs = svm_rbf.predict_proba(X_test)[:,1]\n",
        "\n",
        "print(classification_report(y_test, preds_SVM_rbf))\n",
        "accuracy = metrics.accuracy_score(y_test, preds_SVM_rbf)\n",
        "print(\"Accuracy for the test dataset\",'{:.1%}'.format(accuracy) )\n",
        "\n",
        "fpr, tpr, threshold = metrics.roc_curve(y_test, preds_SVM_rbf)\n",
        "roc_auc = metrics.auc(fpr, tpr)\n",
        "print(\"ROC for the test dataset\",'{:.1%}'.format(roc_auc))\n",
        "plt.plot(fpr,tpr,label=\"Test, auc=\"+str(roc_auc))\n",
        "plt.legend(loc=4)\n",
        "plt.show()"
      ]
    },
    {
      "cell_type": "code",
      "execution_count": null,
      "metadata": {
        "id": "q1EDEncGNgNp"
      },
      "outputs": [],
      "source": [
        "cm = confusion_matrix(y_test, preds_SVM_rbf)\n",
        "plt.clf()\n",
        "plt.imshow(cm, interpolation='nearest', cmap=plt.cm.Pastel1)\n",
        "classNames = ['Non-churn','Churn']\n",
        "plt.title('Confusion Matrix - Test Data')\n",
        "plt.ylabel('True label')\n",
        "plt.xlabel('Predicted label')\n",
        "tick_marks = np.arange(len(classNames))\n",
        "plt.xticks(tick_marks, classNames, rotation=45)\n",
        "plt.yticks(tick_marks, classNames)\n",
        "s = [['TN','FP'], ['FN', 'TP']]\n",
        " \n",
        "for i in range(2):\n",
        "    for j in range(2):\n",
        "        plt.text(j,i, str(s[i][j])+\" = \"+str(cm[i][j]),fontsize=12)\n",
        "plt.show()"
      ]
    },
    {
      "cell_type": "markdown",
      "metadata": {
        "id": "Cj1XCtr4NgNp"
      },
      "source": [
        "### Ada Boost(Adaptive Boost)"
      ]
    },
    {
      "cell_type": "code",
      "execution_count": null,
      "metadata": {
        "id": "H6x2aMJaNgNq"
      },
      "outputs": [],
      "source": [
        "from sklearn.preprocessing import LabelEncoder\n",
        "from sklearn.tree import DecisionTreeClassifier\n",
        "from sklearn.ensemble import AdaBoostClassifier\n",
        "# base estimator: a weak learner with max_depth=2\n",
        "shallow_tree = DecisionTreeClassifier(max_depth=2, random_state = 100)\n",
        "# fit the shallow decision tree \n",
        "shallow_tree.fit(X_train, y_train)\n",
        "# test error\n",
        "y_pred = shallow_tree.predict(X_test)\n",
        "score = metrics.accuracy_score(y_test, y_pred)\n",
        "score"
      ]
    },
    {
      "cell_type": "code",
      "execution_count": null,
      "metadata": {
        "id": "uIroQYOsNgNq"
      },
      "outputs": [],
      "source": [
        "# adaboost with the tree as base estimator\n",
        "\n",
        "estimators = list(range(50, 100, 3))\n",
        "\n",
        "abc_scores = []\n",
        "for n_est in estimators:\n",
        "    ABC = AdaBoostClassifier(\n",
        "    base_estimator=shallow_tree, \n",
        "    n_estimators = n_est)\n",
        "    \n",
        "    ABC.fit(X_train, y_train)\n",
        "    y_pred = ABC.predict(X_test)\n",
        "    score = metrics.accuracy_score(y_test, y_pred)\n",
        "    abc_scores.append(score)"
      ]
    },
    {
      "cell_type": "code",
      "execution_count": null,
      "metadata": {
        "id": "Yjy4gq-uNgNq"
      },
      "outputs": [],
      "source": [
        "abc_scores"
      ]
    },
    {
      "cell_type": "code",
      "execution_count": null,
      "metadata": {
        "id": "RsDgbTnMNgNq"
      },
      "outputs": [],
      "source": [
        "#after seseing the above score we can say that adaboost is providing better results when estimate is 1\n",
        "ABC = AdaBoostClassifier(\n",
        "base_estimator=shallow_tree, \n",
        "    n_estimators = 1)\n",
        "    \n",
        "ABC.fit(X_train, y_train)\n",
        "predictions = ABC.predict(X_test)\n",
        "score = metrics.accuracy_score(y_test, predictions)\n",
        "accuracy = metrics.accuracy_score(y_test, predictions)\n",
        "print(\"Classification Report:\")\n",
        "print(classification_report(y_test,predictions))\n",
        "fpr, tpr, threshold = metrics.roc_curve(y_test, predictions)\n",
        "roc_auc = metrics.auc(fpr, tpr)\n",
        "print(\"Accuracy for the test dataset\",'{:.1%}'.format(accuracy) )\n",
        "print(\"ROC for the test dataset\",'{:.1%}'.format(roc_auc))\n",
        "plt.plot(fpr,tpr,label=\"Test, auc=\"+str(roc_auc))\n",
        "plt.legend(loc=4)\n",
        "plt.show()"
      ]
    },
    {
      "cell_type": "code",
      "execution_count": null,
      "metadata": {
        "id": "N6eO_LOPNgNq"
      },
      "outputs": [],
      "source": [
        "# Let's test on 100 trees\n",
        "ABC = AdaBoostClassifier(\n",
        "base_estimator=shallow_tree, \n",
        "    n_estimators = 100)\n",
        "    \n",
        "ABC.fit(X_train, y_train)\n",
        "predictions = ABC.predict(X_test)\n",
        "score = metrics.accuracy_score(y_test, predictions)\n",
        "accuracy = metrics.accuracy_score(y_test, predictions)\n",
        "print(\"Accuracy for the test dataset\",'{:.1%}'.format(accuracy) )\n",
        "print(classification_report(y_test,predictions))\n",
        "fpr, tpr, threshold = metrics.roc_curve(y_test, predictions)\n",
        "roc_auc = metrics.auc(fpr, tpr)\n",
        "print(\"ROC for the test dataset\",'{:.1%}'.format(roc_auc))\n",
        "plt.plot(fpr,tpr,label=\"Test, auc=\"+str(roc_auc))\n",
        "plt.legend(loc=4)\n",
        "plt.show()"
      ]
    },
    {
      "cell_type": "markdown",
      "metadata": {
        "id": "FsQ7n90cNgNq"
      },
      "source": [
        "### Naive Bayes"
      ]
    },
    {
      "cell_type": "code",
      "execution_count": null,
      "metadata": {
        "id": "h_sAEy3wNgNq"
      },
      "outputs": [],
      "source": [
        "# training the NB model and making predictions\n",
        "from sklearn.naive_bayes import MultinomialNB\n",
        "from sklearn.preprocessing import MinMaxScaler\n",
        "Minmaxscaler = MinMaxScaler()\n",
        "X_scaled = Minmaxscaler.fit_transform(X)\n",
        "\n",
        "X_train_NB, X_test_NB, y_train_NB, y_test_NB = train_test_split(X_scaled,Y, train_size=0.8,test_size=0.2,random_state=111)\n",
        "\n",
        "mnb = MultinomialNB()\n",
        "\n",
        "# fit\n",
        "mnb.fit(X_train_NB,y_train_NB)\n",
        "\n",
        "# predict class\n",
        "predictions = mnb.predict(X_test_NB)\n",
        "\n",
        "# predict probabilities\n",
        "y_pred_proba = mnb.predict_proba(X_test_NB)\n",
        "accuracy = metrics.accuracy_score(y_test_NB, predictions)\n",
        "print(\"Classification Report:\")\n",
        "print(classification_report(y_test_NB,predictions))\n",
        "fpr, tpr, threshold = metrics.roc_curve(y_test_NB, predictions)\n",
        "roc_auc = metrics.auc(fpr, tpr)\n",
        "print(\"Accuracy for the test dataset\",'{:.1%}'.format(accuracy) )\n",
        "print(\"ROC for the test dataset\",'{:.1%}'.format(roc_auc))\n",
        "plt.plot(fpr,tpr,label=\"Test, auc=\"+str(roc_auc))\n",
        "plt.legend(loc=4)\n",
        "plt.show()"
      ]
    },
    {
      "cell_type": "markdown",
      "metadata": {
        "id": "5wRLQFb6NgNq"
      },
      "source": [
        "### Imbalanced Data sets\n",
        "- Machine Learning algorithms tend to produce unsatisfactory classifiers when faced with imbalanced datasets.\n",
        "    For any imbalanced data set, if the event to be predicted belongs to the minority class and the event rate is less than 5%,\n",
        "    it is usually referred to as a rare event.\n",
        "- Standard classifier algorithms like Decision Tree and Logistic Regression have a bias towards classes which have number of instances. They tend to only predict the majority class data. The features of the minority class are treated as noise and are often ignored. Thus, there is a high probability of misclassification of the minority class as compared to the majority class\n",
        "### Approaches to handle Imbalanced data sets\n",
        "- Resampling Technique\n",
        "- Algorithmic Ensemble techinique\n"
      ]
    },
    {
      "cell_type": "markdown",
      "metadata": {
        "id": "1RY1iJ4cNgNq"
      },
      "source": [
        "### Resampling techniques for Balancing the data set"
      ]
    },
    {
      "cell_type": "markdown",
      "metadata": {
        "id": "OlroWUDzNgNq"
      },
      "source": [
        "### Resampling Techniques:\n",
        "- Random under sampling\n",
        "    - Balance class distribution by randomly eliminating majority class examples.  This is done until the majority and minority class instances are balanced out.\n",
        "    \n",
        "- Random Over sampling\n",
        "    - Increase the number of instances in the minority class by randomly replicating them in order to present a higher representation of the minority class in the sample.\n",
        "    \n",
        "- Cluster based over sampling\n",
        "    - the K-means clustering algorithm is independently applied to minority and majority class instances. This is to identify clusters in the dataset. Subsequently, each cluster is oversampled such that all clusters of the same class have an equal number of instances and all classes have the same size.\n",
        "    \n",
        "- Synthetic Minority Over sampling Technique (SMOTE)\n",
        "    - This technique is followed to avoid overfitting which occurs when exact replicas of minority instances are added to the main dataset. A subset of data is taken from the minority class as an example and then new synthetic similar instances are created. These synthetic instances are then added to the original dataset. The new dataset is used as a sample to train the classification models.\n",
        "    \n",
        "- Modified Synthetic Minority Oversampling Technique (MSMOTE)\n",
        "    - While the basic flow of MSOMTE is the same as that of SMOTE (discussed in the previous section).  In MSMOTE the strategy of selecting nearest neighbors is different from SMOTE. The algorithm randomly selects a data point from the k nearest neighbors for the security sample, selects the nearest neighbor from the border samples and does nothing for latent noise.\n",
        "\n",
        "### Algorithmic Ensemble Technique:\n",
        "- Bagging Based\n",
        "    - Bagging is an abbreviation of Bootstrap Aggregating. The conventional bagging algorithm involves generating ‘n’ different bootstrap training samples with replacement. And training the algorithm on each bootstrapped algorithm separately and then aggregating the predictions at the end\n",
        "    - Bagging is used for reducing Overfitting in order to create strong learners for generating accurate predictions. Unlike boosting, bagging allows replacement in the bootstrapped sample.\n",
        "    \n",
        "- Boosting Based\n",
        "     - Boosting is an ensemble technique to combine weak learners to create a strong learner that can make accurate predictions. \n",
        "      - Boosting starts out with a base classifier / weak classifier that is prepared on the training data.\n",
        "- Different Boosting Methods:\n",
        "      - Ada Boost\n",
        "      - Gradient Tree Boosting\n",
        "      - XG Boost"
      ]
    },
    {
      "cell_type": "markdown",
      "metadata": {
        "id": "6KJz_53FNgNr"
      },
      "source": [
        "### Random Over Sampling"
      ]
    },
    {
      "cell_type": "code",
      "execution_count": null,
      "metadata": {
        "id": "lOFJxQFUNgNr"
      },
      "outputs": [],
      "source": [
        "from imblearn.over_sampling import SMOTE\n",
        "\n",
        "print(\"Number transactions X_train dataset: \", X_train.shape)\n",
        "print(\"Number transactions y_train dataset: \", y_train.shape)\n",
        "print(\"Number transactions X_test dataset: \", X_test.shape)\n",
        "print(\"Number transactions y_test dataset: \", y_test.shape)"
      ]
    },
    {
      "cell_type": "code",
      "execution_count": null,
      "metadata": {
        "id": "oDozgfaANgNr"
      },
      "outputs": [],
      "source": [
        "print(\"Before OverSampling, counts of label '1': {}\".format(sum(y_train==1)))\n",
        "print(\"Before OverSampling, counts of label '0': {} \\n\".format(sum(y_train==0)))\n",
        "\n",
        "sm = SMOTE(random_state=2)\n",
        "X_train_res, y_train_res = sm.fit_sample(X_train, y_train.ravel())\n",
        "\n",
        "print('After OverSampling, the shape of train_X: {}'.format(X_train_res.shape))\n",
        "print('After OverSampling, the shape of train_y: {} \\n'.format(y_train_res.shape))\n",
        "\n",
        "print(\"After OverSampling, counts of label '1': {}\".format(sum(y_train_res==1)))\n",
        "print(\"After OverSampling, counts of label '0': {}\".format(sum(y_train_res==0)))"
      ]
    },
    {
      "cell_type": "markdown",
      "metadata": {
        "id": "mNtjYWakNgNr"
      },
      "source": [
        "## Logistic Regression with penalty\n",
        "\n",
        "On resampled dataset"
      ]
    },
    {
      "cell_type": "code",
      "execution_count": null,
      "metadata": {
        "id": "0GKy1ODQNgNr"
      },
      "outputs": [],
      "source": [
        "from sklearn.linear_model import LogisticRegressionCV\n",
        "\n",
        "searchCV = LogisticRegressionCV(\n",
        "        Cs= list(np.power(10.0, np.arange(-10, 10)))\n",
        "        ,penalty='l2'\n",
        "        ,scoring='roc_auc'\n",
        "        ,cv=stratefied_Kfold\n",
        "        ,random_state=777\n",
        "        ,max_iter=100\n",
        "        ,fit_intercept=True\n",
        "        ,solver='newton-cg'\n",
        "        ,tol=1\n",
        "        ,verbose = 2\n",
        "        ,n_jobs = -1\n",
        "    \n",
        "    )"
      ]
    },
    {
      "cell_type": "code",
      "execution_count": null,
      "metadata": {
        "id": "SqYXn46KNgNr"
      },
      "outputs": [],
      "source": [
        "searchCV.fit(X_train_res,y_train_res)"
      ]
    },
    {
      "cell_type": "code",
      "execution_count": null,
      "metadata": {
        "id": "eosCmJlHNgNu"
      },
      "outputs": [],
      "source": [
        "#train data\n",
        "preds_L2Search = searchCV.predict(X_test)\n",
        "preds_L2Search_probs = searchCV.predict_proba(X_test)[:,1]\n",
        "\n",
        "print(classification_report(y_test, preds_L2Search))\n",
        "accuracy = metrics.accuracy_score(y_test, preds_L2Search)\n",
        "print(\"Accuracy for the test dataset\",'{:.1%}'.format(accuracy) )\n",
        "\n",
        "fpr, tpr, threshold = metrics.roc_curve(y_test, preds_L2Search_probs)\n",
        "roc_auc = metrics.auc(fpr, tpr)\n",
        "print(\"ROC for the test dataset\",'{:.1%}'.format(roc_auc))\n",
        "plt.plot(fpr,tpr,label=\"Test, auc=\"+str(roc_auc))\n",
        "plt.legend(loc=4)\n",
        "plt.show()\n"
      ]
    },
    {
      "cell_type": "code",
      "execution_count": null,
      "metadata": {
        "id": "162viFI1NgNv"
      },
      "outputs": [],
      "source": [
        "cm = confusion_matrix(y_test, preds_L2Search)\n",
        "plt.clf()\n",
        "plt.imshow(cm, interpolation='nearest', cmap=plt.cm.Pastel1)\n",
        "classNames = ['Non-churn','Churn']\n",
        "plt.title('Confusion Matrix - Train Data')\n",
        "plt.ylabel('True label')\n",
        "plt.xlabel('Predicted label')\n",
        "tick_marks = np.arange(len(classNames))\n",
        "plt.xticks(tick_marks, classNames, rotation=45)\n",
        "plt.yticks(tick_marks, classNames)\n",
        "s = [['TN','FP'], ['FN', 'TP']]\n",
        " \n",
        "for i in range(2):\n",
        "    for j in range(2):\n",
        "        plt.text(j,i, str(s[i][j])+\" = \"+str(cm[i][j]),fontsize=12)\n",
        "plt.show()"
      ]
    },
    {
      "cell_type": "code",
      "execution_count": null,
      "metadata": {
        "id": "2uLXHEU2NgNv"
      },
      "outputs": [],
      "source": [
        "plotLiftChart(y_test.values,preds_L2Search_probs,\"Logistic Regression with penaly L2\")"
      ]
    },
    {
      "cell_type": "markdown",
      "metadata": {
        "id": "eX1i2u_VNgNv"
      },
      "source": [
        "### Random Forest\n",
        "\n",
        "On resampled dataset"
      ]
    },
    {
      "cell_type": "code",
      "execution_count": null,
      "metadata": {
        "id": "PGC9PhZGNgNv"
      },
      "outputs": [],
      "source": [
        "TrainedRFC= RFC_balanced.fit(X_train_res,y_train_res)"
      ]
    },
    {
      "cell_type": "code",
      "execution_count": null,
      "metadata": {
        "id": "sS4jHjaYNgNv"
      },
      "outputs": [],
      "source": [
        "preds_RFC=TrainedRFC.predict(X_test)\n",
        "preds_probs_RFC=TrainedRFC.predict_proba(X_test)[:,1]\n",
        "\n",
        "print(classification_report(y_test, preds_RFC))\n",
        "accuracy = metrics.accuracy_score(y_test, preds_RFC)\n",
        "print(\"Accuracy for the test dataset\",'{:.1%}'.format(accuracy) )\n",
        "\n",
        "fpr, tpr, threshold = metrics.roc_curve(y_test, preds_probs_RFC)\n",
        "roc_auc = metrics.auc(fpr, tpr)\n",
        "print(\"ROC for the test dataset\",'{:.1%}'.format(roc_auc))\n",
        "plt.plot(fpr,tpr,label=\"Test, auc=\"+str(roc_auc))\n",
        "plt.legend(loc=4)\n",
        "plt.show()"
      ]
    },
    {
      "cell_type": "code",
      "execution_count": null,
      "metadata": {
        "id": "BPfcm91xNgNw"
      },
      "outputs": [],
      "source": [
        "cm = confusion_matrix(y_test, preds_RFC)\n",
        "plt.clf()\n",
        "plt.imshow(cm, interpolation='nearest', cmap=plt.cm.Pastel1)\n",
        "classNames = ['Non-churn','Churn']\n",
        "plt.title('Confusion Matrix - Test Data')\n",
        "plt.ylabel('True label')\n",
        "plt.xlabel('Predicted label')\n",
        "tick_marks = np.arange(len(classNames))\n",
        "plt.xticks(tick_marks, classNames, rotation=45)\n",
        "plt.yticks(tick_marks, classNames)\n",
        "s = [['TN','FP'], ['FN', 'TP']]\n",
        " \n",
        "for i in range(2):\n",
        "    for j in range(2):\n",
        "        plt.text(j,i, str(s[i][j])+\" = \"+str(cm[i][j]),fontsize=12)\n",
        "plt.show()"
      ]
    },
    {
      "cell_type": "code",
      "execution_count": null,
      "metadata": {
        "id": "DiuXJU0lNgNw"
      },
      "outputs": [],
      "source": [
        "plotLiftChart(y_test.values,preds_probs_RFC,\"Random Forest with SMOTE\")"
      ]
    },
    {
      "cell_type": "code",
      "execution_count": null,
      "metadata": {
        "id": "bd9-XuQsNgNw"
      },
      "outputs": [],
      "source": [
        "importances = TrainedRFC.feature_importances_\n",
        "col_names =  X.columns\n",
        "\n",
        "sorted_feature_importance = pd.DataFrame(sorted(zip(importances, list(col_names)), reverse=True),columns={'colName','value'})\n",
        "sorted_feature_importance"
      ]
    },
    {
      "cell_type": "code",
      "execution_count": null,
      "metadata": {
        "id": "GD4XZyDBNgNw"
      },
      "outputs": [],
      "source": [
        "plt.clf()\n",
        "from pylab import rcParams\n",
        "rcParams['figure.figsize'] = 20, 3\n",
        "sorted_feature_importance[0:50].plot(x='colName', y='value' , kind='bar', title='Random Forest Feature Importances')\n",
        "plt.ylabel('Feature Importance Score')\n",
        "plt.xlabel('Feature Name')\n",
        "\n",
        "plt.show()"
      ]
    },
    {
      "cell_type": "markdown",
      "metadata": {
        "id": "DxFdrepTNgNw"
      },
      "source": [
        "### XG Boost\n",
        "\n",
        "On resampled data"
      ]
    },
    {
      "cell_type": "code",
      "execution_count": null,
      "metadata": {
        "id": "aeO5nU7XNgNw"
      },
      "outputs": [],
      "source": [
        "\n",
        "xgb_model = xgb.XGBClassifier(\n",
        "    n_estimators=250,\n",
        "    learning_rate=0.05,\n",
        "    n_jobs=4,\n",
        "    max_depth=8,\n",
        "    colsample_bytree=0.55,\n",
        "    gamma=0.23,\n",
        "    cv = None,\n",
        "    scoring='f1_weighted'\n",
        ")\n",
        "\n",
        "xgb_model1 = xgb_model.fit(X_train_res,y_train_res)"
      ]
    },
    {
      "cell_type": "code",
      "execution_count": null,
      "metadata": {
        "id": "RYhstoSnNgNw"
      },
      "outputs": [],
      "source": [
        "predictions_train = xgb_model1.predict(X_train_res)\n",
        "print(classification_report(y_train_res, predictions_train))\n",
        "predictions = xgb_model1.predict(X_test)\n",
        "print(classification_report(y_test, predictions))"
      ]
    },
    {
      "cell_type": "code",
      "execution_count": null,
      "metadata": {
        "id": "aPotLaZuNgNx"
      },
      "outputs": [],
      "source": [
        "from sklearn.metrics import accuracy_score,precision_recall_fscore_support,fbeta_score\n",
        "accuracy = accuracy_score(y_test, predictions)\n",
        "precision_recall_fscore_support(y_test, predictions, average='macro')\n",
        "precision, recall, f1score,blah  = precision_recall_fscore_support(y_test, predictions, average='macro')\n",
        "fbetascore = fbeta_score(y_test, predictions, average='weighted', beta=0.8)\n",
        "tn, fp, fn, tp = confusion_matrix(y_test, predictions).ravel()\n",
        "specificity = tn / (tn+fp)\n",
        "sensitivity = tp / (tp+fn)\n",
        "print(\"Accuracy: %.2f%%\" % (accuracy * 100.0))\n",
        "print(\"Precision: %.2f%%\" % (precision*100))\n",
        "print(\"Recall: %.2f%%\" % (recall*100))\n",
        "print(\"F1 Score: %.2f%%\" % (f1score*100))\n",
        "print(\"F Beta score: %.2f%%\" % (fbetascore*100))\n",
        "print(\"Specificity: %.2f%%\" % (specificity*100))\n",
        "print(\"Sensitivty: %.2f%%\" % (sensitivity*100))"
      ]
    },
    {
      "cell_type": "code",
      "execution_count": null,
      "metadata": {
        "id": "VHJZX6YDNgNx"
      },
      "outputs": [],
      "source": [
        "Performance(Model=xgb_model1,Y=y_test,X=X_test)"
      ]
    },
    {
      "cell_type": "code",
      "execution_count": null,
      "metadata": {
        "id": "cGrTfkZkNgNx"
      },
      "outputs": [],
      "source": [
        "plotLiftChart(y_test.values,xgb_model1.predict_proba(X_test)[:,1],\"XGBoost on SMOTE\")"
      ]
    },
    {
      "cell_type": "code",
      "execution_count": null,
      "metadata": {
        "id": "slu4V7RANgNx"
      },
      "outputs": [],
      "source": [
        "importances = pd.DataFrame({\n",
        "    'Feature': X.columns,\n",
        "    'Importance': xgb_model1.feature_importances_\n",
        "})\n",
        "importances = importances.sort_values(by='Importance', ascending=False)\n",
        "importances = importances.set_index('Feature')\n",
        "importances"
      ]
    },
    {
      "cell_type": "code",
      "execution_count": null,
      "metadata": {
        "id": "Ov9EQjl1NgNx"
      },
      "outputs": [],
      "source": [
        "importances[0:50].plot.bar()"
      ]
    },
    {
      "cell_type": "markdown",
      "metadata": {
        "id": "TVfiRdILNgNx"
      },
      "source": [
        "### SVM Linear\n",
        "\n",
        "On a resampled data"
      ]
    },
    {
      "cell_type": "code",
      "execution_count": null,
      "metadata": {
        "id": "Dw7W_X95NgNx"
      },
      "outputs": [],
      "source": [
        "svm_linear = svm.SVC(kernel='linear')\n",
        "svm_linear.fit(X_train_res, y_train_res)"
      ]
    },
    {
      "cell_type": "code",
      "execution_count": null,
      "metadata": {
        "id": "uGTRUl8ZNgNx"
      },
      "outputs": [],
      "source": [
        "preds_SVM_li_RS = svm_linear.predict(X_test)\n",
        "#preds_SVM_li_probs_RS = svm_linear.predict_proba(X_test)[:,1]\n",
        "\n",
        "print(classification_report(y_test, preds_SVM_li_RS))\n",
        "accuracy = metrics.accuracy_score(y_test, preds_SVM_li_RS)\n",
        "print(\"Accuracy for the test dataset\",'{:.1%}'.format(accuracy) )\n",
        "\n",
        "fpr, tpr, threshold = metrics.roc_curve(y_test, preds_SVM_li_RS)\n",
        "roc_auc = metrics.auc(fpr, tpr)\n",
        "print(\"ROC for the test dataset\",'{:.1%}'.format(roc_auc))\n",
        "plt.plot(fpr,tpr,label=\"Test, auc=\"+str(roc_auc))\n",
        "plt.legend(loc=4)\n",
        "plt.show()"
      ]
    },
    {
      "cell_type": "code",
      "execution_count": null,
      "metadata": {
        "id": "DdQHehKZNgNx"
      },
      "outputs": [],
      "source": [
        "cm = confusion_matrix(y_test, preds_SVM_li_RS)\n",
        "plt.clf()\n",
        "plt.imshow(cm, interpolation='nearest', cmap=plt.cm.Pastel1)\n",
        "classNames = ['Non-churn','Churn']\n",
        "plt.title('Confusion Matrix - Test Data')\n",
        "plt.ylabel('True label')\n",
        "plt.xlabel('Predicted label')\n",
        "tick_marks = np.arange(len(classNames))\n",
        "plt.xticks(tick_marks, classNames, rotation=45)\n",
        "plt.yticks(tick_marks, classNames)\n",
        "s = [['TN','FP'], ['FN', 'TP']]\n",
        " \n",
        "for i in range(2):\n",
        "    for j in range(2):\n",
        "        plt.text(j,i, str(s[i][j])+\" = \"+str(cm[i][j]),fontsize=12)\n",
        "plt.show()"
      ]
    },
    {
      "cell_type": "markdown",
      "metadata": {
        "id": "ZeynqL8xNgNx"
      },
      "source": [
        "### SVM Non-linear (RBF)\n",
        "\n",
        "On resampled data"
      ]
    },
    {
      "cell_type": "code",
      "execution_count": null,
      "metadata": {
        "id": "uBJHwfLiNgNy"
      },
      "outputs": [],
      "source": [
        "svm_rbf = svm.SVC(kernel='rbf')\n",
        "svm_rbf.fit(X_train_res, y_train_res)"
      ]
    },
    {
      "cell_type": "code",
      "execution_count": null,
      "metadata": {
        "id": "agEPF-4FNgNy"
      },
      "outputs": [],
      "source": [
        "preds_SVM_RBF_RS = svm_rbf.predict(X_test)\n",
        "#preds_SVM_RBF_probs_RS = svm_rbf.predict_proba(X_test)[:,1]\n",
        "\n",
        "print(classification_report(y_test, preds_SVM_RBF_RS))\n",
        "accuracy = metrics.accuracy_score(y_test, preds_SVM_RBF_RS)\n",
        "print(\"Accuracy for the test dataset\",'{:.1%}'.format(accuracy) )\n",
        "\n",
        "fpr, tpr, threshold = metrics.roc_curve(y_test, preds_SVM_RBF_RS)\n",
        "roc_auc = metrics.auc(fpr, tpr)\n",
        "print(\"ROC for the test dataset\",'{:.1%}'.format(roc_auc))\n",
        "plt.plot(fpr,tpr,label=\"Test, auc=\"+str(roc_auc))\n",
        "plt.legend(loc=4)\n",
        "plt.show()"
      ]
    },
    {
      "cell_type": "code",
      "execution_count": null,
      "metadata": {
        "id": "bFmn2WCwNgNy"
      },
      "outputs": [],
      "source": [
        "cm = confusion_matrix(y_test, preds_SVM_RBF_RS)\n",
        "plt.clf()\n",
        "plt.imshow(cm, interpolation='nearest', cmap=plt.cm.Pastel1)\n",
        "classNames = ['Non-churn','Churn']\n",
        "plt.title('Confusion Matrix - Test Data')\n",
        "plt.ylabel('True label')\n",
        "plt.xlabel('Predicted label')\n",
        "tick_marks = np.arange(len(classNames))\n",
        "plt.xticks(tick_marks, classNames, rotation=45)\n",
        "plt.yticks(tick_marks, classNames)\n",
        "s = [['TN','FP'], ['FN', 'TP']]\n",
        " \n",
        "for i in range(2):\n",
        "    for j in range(2):\n",
        "        plt.text(j,i, str(s[i][j])+\" = \"+str(cm[i][j]),fontsize=12)\n",
        "plt.show()"
      ]
    },
    {
      "cell_type": "markdown",
      "metadata": {
        "id": "NxwFXO8vNgNy"
      },
      "source": [
        "## Summary about the models"
      ]
    },
    {
      "cell_type": "markdown",
      "metadata": {
        "id": "8geX8p-YNgNy"
      },
      "source": [
        "- We trained different machine learning models to solve this classification problems. \n",
        "- Both XGBoost and Random Forest Classifier performed the best when compared with other models.\n",
        "- The **Algorithmic Ensemble Techniques** was able to provide the same performance of the models using the resampling techniques data (the performance is almost the same). So, with balanced class option & stratified K-fold we can still get the same scores without increasing the dataset size\n",
        "- We considered F1-score and Area under the curve as the primary metrics for the evaluation "
      ]
    },
    {
      "cell_type": "markdown",
      "metadata": {
        "id": "GzcCvCCINgNy"
      },
      "source": [
        "#### Important features or indicators"
      ]
    },
    {
      "cell_type": "code",
      "execution_count": null,
      "metadata": {
        "id": "71SlYy2YNgNy"
      },
      "outputs": [],
      "source": [
        "importances = RF2.feature_importances_\n",
        "col_names =  X.columns\n",
        "\n",
        "RF_feature_importance = pd.DataFrame(sorted(zip(importances, list(col_names)), reverse=True),columns={'colName','value'})\n",
        "RF_feature_importance.head()"
      ]
    },
    {
      "cell_type": "code",
      "execution_count": null,
      "metadata": {
        "id": "fAtyxu_lNgNy"
      },
      "outputs": [],
      "source": [
        "imp_features = RF_feature_importance.head(20)"
      ]
    },
    {
      "cell_type": "code",
      "execution_count": null,
      "metadata": {
        "id": "dXUsn7l7NgNy"
      },
      "outputs": [],
      "source": [
        "X_imp = df[list(imp_features .colName.unique())]\n",
        "Y_imp = df['churn_flag']"
      ]
    },
    {
      "cell_type": "code",
      "execution_count": null,
      "metadata": {
        "id": "jWrYW-9xNgNy"
      },
      "outputs": [],
      "source": [
        "X_imp_std = scaler.fit_transform(X_imp)\n",
        "X_imp_train, X_imp_test, y_imp_train, y_imp_test = train_test_split(X_imp_std,Y_imp, train_size=0.8,test_size=0.2,random_state=111)"
      ]
    },
    {
      "cell_type": "code",
      "execution_count": null,
      "metadata": {
        "id": "ichgqQmXNgNy"
      },
      "outputs": [],
      "source": [
        "RF_imp=RandomForestClassifier(n_estimators=200, criterion= 'entropy', max_depth=15,random_state=111, class_weight='balanced')\n",
        "RF_imp.fit(X_imp_train, y_imp_train)"
      ]
    },
    {
      "cell_type": "code",
      "execution_count": null,
      "metadata": {
        "id": "CmbzZW3uNgNz"
      },
      "outputs": [],
      "source": [
        "RF_imp_pred_test = RF_imp.predict(X_imp_test)\n",
        "print(classification_report(y_imp_test, RF_imp_pred_test))"
      ]
    },
    {
      "cell_type": "code",
      "execution_count": null,
      "metadata": {
        "id": "vWCQ0oGbNgNz"
      },
      "outputs": [],
      "source": [
        "Performance(Model=RF_imp,Y=y_imp_test,X=X_imp_test)"
      ]
    },
    {
      "cell_type": "markdown",
      "metadata": {
        "id": "EWV3Dzr6NgNz"
      },
      "source": [
        "We train our random forest algorithm on the top 20 features that we selected above and then we evaluated the performance of our algorithm on the training and testing sets. We can see the AUC & F1-score are pretty similar on training & test datasets which means our model is not overfitting."
      ]
    },
    {
      "cell_type": "code",
      "execution_count": null,
      "metadata": {
        "id": "opKnutvGNgNz"
      },
      "outputs": [],
      "source": [
        "imp_features"
      ]
    },
    {
      "cell_type": "markdown",
      "metadata": {
        "id": "Z6h_Iz9NNgNz"
      },
      "source": [
        "We can observe the top features selected by the XG Boost & Random Forest is similar. So, we can conclude that these are the important indicators of churn"
      ]
    },
    {
      "cell_type": "markdown",
      "metadata": {
        "id": "lwoPVYRXNgNz"
      },
      "source": [
        "## Recommendations to Business "
      ]
    },
    {
      "cell_type": "markdown",
      "metadata": {
        "id": "_ZDKCWXKNgNz"
      },
      "source": [
        "- From the above we can clearly infer that calls related incoming & outgoing within a circle is key for identifying churn customers\n",
        "- Especially the usage during the action pahse when compared to good month (7th month) has reduced\n",
        "- The other key factor is if the recharge amount shows a dip in the action phase is sign of churn\n",
        "- Age on network is also a key indicator for identifying the churn, if aon is less than 500 days and their usage is reduce then the customer is going to be churned\n",
        "- The usage of mobile data has also reduced when compared with 7th month. So, data usage & amount can also be the other features for understanding the churn behavior"
      ]
    }
  ],
  "metadata": {
    "kernelspec": {
      "display_name": "Python 3",
      "language": "python",
      "name": "python3"
    },
    "language_info": {
      "codemirror_mode": {
        "name": "ipython",
        "version": 3
      },
      "file_extension": ".py",
      "mimetype": "text/x-python",
      "name": "python",
      "nbconvert_exporter": "python",
      "pygments_lexer": "ipython3",
      "version": "3.7.6"
    },
    "colab": {
      "name": "TelcomChurnPrediction.ipynb",
      "provenance": [],
      "include_colab_link": true
    }
  },
  "nbformat": 4,
  "nbformat_minor": 0
}