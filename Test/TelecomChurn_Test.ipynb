{
  "nbformat": 4,
  "nbformat_minor": 0,
  "metadata": {
    "colab": {
      "name": "TelecomChurn_Test.ipynb",
      "provenance": [],
      "include_colab_link": true
    },
    "kernelspec": {
      "name": "python3",
      "display_name": "Python 3"
    },
    "language_info": {
      "name": "python"
    }
  },
  "cells": [
    {
      "cell_type": "markdown",
      "metadata": {
        "id": "view-in-github",
        "colab_type": "text"
      },
      "source": [
        "<a href=\"https://colab.research.google.com/github/ramrajv/Ramraj_Prayag_Kaggle/blob/main/Test/TelecomChurn_Test.ipynb\" target=\"_parent\"><img src=\"https://colab.research.google.com/assets/colab-badge.svg\" alt=\"Open In Colab\"/></a>"
      ]
    },
    {
      "cell_type": "code",
      "execution_count": 3,
      "metadata": {
        "id": "ZN7opxu6TCGO"
      },
      "outputs": [],
      "source": [
        "# Load libraries\n",
        "import numpy as np\n",
        "import pandas as pd\n",
        "\n",
        "import datetime as dt\n",
        "\n",
        "import matplotlib.pyplot as plt\n",
        "from matplotlib.gridspec import GridSpec\n",
        "import seaborn as sns\n",
        "sns.set(style=\"ticks\")\n",
        "%matplotlib inline\n",
        "\n",
        "from scipy.stats import norm\n",
        "from scipy import stats\n",
        "\n",
        "import sklearn\n",
        "from sklearn import metrics\n",
        "from sklearn.metrics import classification_report\n",
        "from sklearn.metrics import confusion_matrix\n",
        "from sklearn.metrics import roc_curve, auc\n",
        "\n",
        "pd.set_option('display.max_rows', None)\n",
        "pd.set_option('display.max_columns', None)\n",
        "\n",
        "import warnings\n",
        "warnings.filterwarnings(\"ignore\")"
      ]
    },
    {
      "cell_type": "code",
      "source": [
        "train = pd.read_csv('train.csv')\n",
        "test = pd.read_csv('test.csv')"
      ],
      "metadata": {
        "id": "znZLQGT3TEtF"
      },
      "execution_count": 4,
      "outputs": []
    },
    {
      "cell_type": "code",
      "source": [
        "drop_cols = train.columns[train.isna().sum()/train.shape[0]>0.5]"
      ],
      "metadata": {
        "id": "4DXTdrAWBHFQ"
      },
      "execution_count": 7,
      "outputs": []
    },
    {
      "cell_type": "code",
      "source": [
        "drop_cols"
      ],
      "metadata": {
        "id": "2G45n3pUBZf_",
        "outputId": "e5d26300-128c-4cea-c422-71e625ad639f",
        "colab": {
          "base_uri": "https://localhost:8080/"
        }
      },
      "execution_count": 8,
      "outputs": [
        {
          "output_type": "execute_result",
          "data": {
            "text/plain": [
              "Index(['date_of_last_rech_data_6', 'date_of_last_rech_data_7',\n",
              "       'date_of_last_rech_data_8', 'total_rech_data_6', 'total_rech_data_7',\n",
              "       'total_rech_data_8', 'max_rech_data_6', 'max_rech_data_7',\n",
              "       'max_rech_data_8', 'count_rech_2g_6', 'count_rech_2g_7',\n",
              "       'count_rech_2g_8', 'count_rech_3g_6', 'count_rech_3g_7',\n",
              "       'count_rech_3g_8', 'av_rech_amt_data_6', 'av_rech_amt_data_7',\n",
              "       'av_rech_amt_data_8', 'arpu_3g_6', 'arpu_3g_7', 'arpu_3g_8',\n",
              "       'arpu_2g_6', 'arpu_2g_7', 'arpu_2g_8', 'night_pck_user_6',\n",
              "       'night_pck_user_7', 'night_pck_user_8', 'fb_user_6', 'fb_user_7',\n",
              "       'fb_user_8'],\n",
              "      dtype='object')"
            ]
          },
          "metadata": {},
          "execution_count": 8
        }
      ]
    },
    {
      "cell_type": "code",
      "source": [
        "train.drop(drop_cols, axis = 1, inplace = True)"
      ],
      "metadata": {
        "id": "BQLOsrZjBhdU"
      },
      "execution_count": 9,
      "outputs": []
    },
    {
      "cell_type": "code",
      "source": [
        "train.shape"
      ],
      "metadata": {
        "id": "DkAryOXvByxa",
        "outputId": "0119da4d-ade5-42c7-c2ba-adf811e4a77e",
        "colab": {
          "base_uri": "https://localhost:8080/"
        }
      },
      "execution_count": 10,
      "outputs": [
        {
          "output_type": "execute_result",
          "data": {
            "text/plain": [
              "(69999, 142)"
            ]
          },
          "metadata": {},
          "execution_count": 10
        }
      ]
    },
    {
      "cell_type": "code",
      "source": [
        "train.columns[train.nunique()<10]"
      ],
      "metadata": {
        "id": "n5CXgkRHB2UI",
        "outputId": "00e80593-15b7-4d9c-955a-9f4636fe420f",
        "colab": {
          "base_uri": "https://localhost:8080/"
        }
      },
      "execution_count": 13,
      "outputs": [
        {
          "output_type": "execute_result",
          "data": {
            "text/plain": [
              "Index(['circle_id', 'loc_og_t2o_mou', 'std_og_t2o_mou', 'loc_ic_t2o_mou',\n",
              "       'last_date_of_month_6', 'last_date_of_month_7', 'last_date_of_month_8',\n",
              "       'std_og_t2c_mou_6', 'std_og_t2c_mou_7', 'std_og_t2c_mou_8',\n",
              "       'std_ic_t2o_mou_6', 'std_ic_t2o_mou_7', 'std_ic_t2o_mou_8',\n",
              "       'monthly_2g_6', 'monthly_2g_7', 'monthly_2g_8', 'churn_probability'],\n",
              "      dtype='object')"
            ]
          },
          "metadata": {},
          "execution_count": 13
        }
      ]
    },
    {
      "cell_type": "code",
      "source": [
        "train.columns[\n",
        "              (train.nunique()>=10)&\n",
        "              (train.nunique()<20)\n",
        "              ]"
      ],
      "metadata": {
        "id": "H-XItDJgB-N5",
        "outputId": "4fec41e6-9e42-4ee8-cc8d-9e4379028ddf",
        "colab": {
          "base_uri": "https://localhost:8080/"
        }
      },
      "execution_count": 14,
      "outputs": [
        {
          "output_type": "execute_result",
          "data": {
            "text/plain": [
              "Index(['monthly_3g_6', 'monthly_3g_7', 'monthly_3g_8'], dtype='object')"
            ]
          },
          "metadata": {},
          "execution_count": 14
        }
      ]
    },
    {
      "cell_type": "code",
      "source": [
        "train.columns[\n",
        "              (train.nunique()>=20)&\n",
        "              (train.nunique()<32)\n",
        "              ]"
      ],
      "metadata": {
        "id": "01pv_txFCWjY",
        "outputId": "112ce2a0-c7fd-4976-9684-5cf517ede2dd",
        "colab": {
          "base_uri": "https://localhost:8080/"
        }
      },
      "execution_count": 16,
      "outputs": [
        {
          "output_type": "execute_result",
          "data": {
            "text/plain": [
              "Index(['date_of_last_rech_6', 'date_of_last_rech_7', 'date_of_last_rech_8',\n",
              "       'sachet_2g_6', 'sachet_3g_6', 'sachet_3g_7', 'sachet_3g_8'],\n",
              "      dtype='object')"
            ]
          },
          "metadata": {},
          "execution_count": 16
        }
      ]
    },
    {
      "cell_type": "code",
      "source": [
        "train.columns[\n",
        "              (train.nunique()>=32)&\n",
        "              (train.nunique()<100)\n",
        "              ]"
      ],
      "metadata": {
        "id": "l5wQziLpCdNt",
        "outputId": "d0303044-1c06-4f8e-c925-e8eadb3aa071",
        "colab": {
          "base_uri": "https://localhost:8080/"
        }
      },
      "execution_count": 17,
      "outputs": [
        {
          "output_type": "execute_result",
          "data": {
            "text/plain": [
              "Index(['spl_ic_mou_6', 'spl_ic_mou_8', 'total_rech_num_6', 'total_rech_num_7',\n",
              "       'total_rech_num_8', 'sachet_2g_7', 'sachet_2g_8'],\n",
              "      dtype='object')"
            ]
          },
          "metadata": {},
          "execution_count": 17
        }
      ]
    },
    {
      "cell_type": "code",
      "source": [
        "drop_cols = train.columns[train.nunique()==1]"
      ],
      "metadata": {
        "id": "CtOtbVucCnAC"
      },
      "execution_count": 18,
      "outputs": []
    },
    {
      "cell_type": "code",
      "source": [
        "train.drop(drop_cols, axis = 1, inplace = True)"
      ],
      "metadata": {
        "id": "INauHSQkCvCC"
      },
      "execution_count": 19,
      "outputs": []
    },
    {
      "cell_type": "code",
      "source": [
        "train.columns[train.nunique()<20]"
      ],
      "metadata": {
        "id": "VVh-JgYlCzQ2",
        "outputId": "099830ca-f40c-46e7-dd2f-4e7ebdea979b",
        "colab": {
          "base_uri": "https://localhost:8080/"
        }
      },
      "execution_count": 21,
      "outputs": [
        {
          "output_type": "execute_result",
          "data": {
            "text/plain": [
              "Index(['monthly_2g_6', 'monthly_2g_7', 'monthly_2g_8', 'monthly_3g_6',\n",
              "       'monthly_3g_7', 'monthly_3g_8', 'churn_probability'],\n",
              "      dtype='object')"
            ]
          },
          "metadata": {},
          "execution_count": 21
        }
      ]
    },
    {
      "cell_type": "code",
      "source": [
        "X = train.drop('churn_probability',axis = 1)"
      ],
      "metadata": {
        "id": "wSO6jijvC7RS"
      },
      "execution_count": 22,
      "outputs": []
    },
    {
      "cell_type": "code",
      "source": [
        "X.columns[X.nunique()<20]"
      ],
      "metadata": {
        "id": "6yUq_nxXDHX9",
        "outputId": "1e255458-37e2-4f8c-a37b-76cf64364b30",
        "colab": {
          "base_uri": "https://localhost:8080/"
        }
      },
      "execution_count": 23,
      "outputs": [
        {
          "output_type": "execute_result",
          "data": {
            "text/plain": [
              "Index(['monthly_2g_6', 'monthly_2g_7', 'monthly_2g_8', 'monthly_3g_6',\n",
              "       'monthly_3g_7', 'monthly_3g_8'],\n",
              "      dtype='object')"
            ]
          },
          "metadata": {},
          "execution_count": 23
        }
      ]
    },
    {
      "cell_type": "code",
      "source": [
        "X.columns[\n",
        "              (X.nunique()>=20)&\n",
        "              (X.nunique()<32)\n",
        "              ]"
      ],
      "metadata": {
        "id": "SjheAk9LDKNG",
        "outputId": "29bed744-8a7f-4fb9-8d22-c8058b87fed9",
        "colab": {
          "base_uri": "https://localhost:8080/"
        }
      },
      "execution_count": 24,
      "outputs": [
        {
          "output_type": "execute_result",
          "data": {
            "text/plain": [
              "Index(['date_of_last_rech_6', 'date_of_last_rech_7', 'date_of_last_rech_8',\n",
              "       'sachet_2g_6', 'sachet_3g_6', 'sachet_3g_7', 'sachet_3g_8'],\n",
              "      dtype='object')"
            ]
          },
          "metadata": {},
          "execution_count": 24
        }
      ]
    },
    {
      "cell_type": "code",
      "source": [
        "X['monthly_2g_6'].unique()"
      ],
      "metadata": {
        "id": "pgIbZxg1DSLc",
        "outputId": "92797536-96fc-4ba1-81ca-4f8dbdeec90f",
        "colab": {
          "base_uri": "https://localhost:8080/"
        }
      },
      "execution_count": 25,
      "outputs": [
        {
          "output_type": "execute_result",
          "data": {
            "text/plain": [
              "array([0, 1, 2, 3, 4])"
            ]
          },
          "metadata": {},
          "execution_count": 25
        }
      ]
    },
    {
      "cell_type": "code",
      "source": [
        "X['monthly_2g_7'].unique()"
      ],
      "metadata": {
        "id": "bt1W2Y2JEDfp",
        "outputId": "54ddf6b5-3a32-4d03-94c2-7a86fb21d126",
        "colab": {
          "base_uri": "https://localhost:8080/"
        }
      },
      "execution_count": 26,
      "outputs": [
        {
          "output_type": "execute_result",
          "data": {
            "text/plain": [
              "array([0, 1, 2, 4, 3, 5])"
            ]
          },
          "metadata": {},
          "execution_count": 26
        }
      ]
    },
    {
      "cell_type": "code",
      "source": [
        "X['monthly_2g_8'].unique()"
      ],
      "metadata": {
        "id": "uny1sUYEEHtZ",
        "outputId": "43c43307-2b07-43da-a20c-55df1da53275",
        "colab": {
          "base_uri": "https://localhost:8080/"
        }
      },
      "execution_count": 27,
      "outputs": [
        {
          "output_type": "execute_result",
          "data": {
            "text/plain": [
              "array([0, 1, 2, 4, 3, 5])"
            ]
          },
          "metadata": {},
          "execution_count": 27
        }
      ]
    },
    {
      "cell_type": "code",
      "source": [
        "X['monthly_3g_6'].unique()"
      ],
      "metadata": {
        "id": "Fw6fOvUbEJ25",
        "outputId": "fa1d71e6-c5f8-4e14-9b8b-c0d6865dd590",
        "colab": {
          "base_uri": "https://localhost:8080/"
        }
      },
      "execution_count": 28,
      "outputs": [
        {
          "output_type": "execute_result",
          "data": {
            "text/plain": [
              "array([0, 1, 2, 4, 3, 5, 6, 8, 7, 9])"
            ]
          },
          "metadata": {},
          "execution_count": 28
        }
      ]
    },
    {
      "cell_type": "code",
      "source": [
        "X['monthly_3g_7'].unique()"
      ],
      "metadata": {
        "id": "_Bcef6gpENgp",
        "outputId": "cffb601e-b097-4823-9500-2e2b88c138aa",
        "colab": {
          "base_uri": "https://localhost:8080/"
        }
      },
      "execution_count": 29,
      "outputs": [
        {
          "output_type": "execute_result",
          "data": {
            "text/plain": [
              "array([ 0,  1,  2,  3,  5,  4,  8,  6,  7, 16, 14,  9, 10])"
            ]
          },
          "metadata": {},
          "execution_count": 29
        }
      ]
    },
    {
      "cell_type": "code",
      "source": [
        "X['monthly_3g_8'].unique()"
      ],
      "metadata": {
        "id": "-aZu2jyqEQJz",
        "outputId": "2f79e40a-9ec5-47aa-9642-5da9f09b7086",
        "colab": {
          "base_uri": "https://localhost:8080/"
        }
      },
      "execution_count": 30,
      "outputs": [
        {
          "output_type": "execute_result",
          "data": {
            "text/plain": [
              "array([ 0,  1,  2,  3,  4,  8,  5,  6,  9,  7, 16, 10])"
            ]
          },
          "metadata": {},
          "execution_count": 30
        }
      ]
    },
    {
      "cell_type": "code",
      "source": [
        "cols = ['date_of_last_rech_6', 'date_of_last_rech_7', 'date_of_last_rech_8',\n",
        "       'sachet_2g_6', 'sachet_3g_6', 'sachet_3g_7', 'sachet_3g_8']\n",
        "for col in cols:\n",
        "  print(col,':',X[col].unique())"
      ],
      "metadata": {
        "id": "zHyzl2tWER6t",
        "outputId": "15e771ef-355e-4873-9d45-97197fe5ca97",
        "colab": {
          "base_uri": "https://localhost:8080/"
        }
      },
      "execution_count": 31,
      "outputs": [
        {
          "output_type": "stream",
          "name": "stdout",
          "text": [
            "date_of_last_rech_6 : ['6/22/2014' '6/12/2014' '6/11/2014' '6/15/2014' '6/25/2014' '6/30/2014'\n",
            " '6/29/2014' '6/20/2014' '6/28/2014' '6/27/2014' '6/26/2014' '6/19/2014'\n",
            " '6/23/2014' '6/24/2014' '6/14/2014' nan '6/5/2014' '6/8/2014' '6/6/2014'\n",
            " '6/16/2014' '6/13/2014' '6/18/2014' '6/21/2014' '6/17/2014' '6/10/2014'\n",
            " '6/7/2014' '6/2/2014' '6/1/2014' '6/3/2014' '6/9/2014' '6/4/2014']\n",
            "date_of_last_rech_7 : ['7/10/2014' '7/22/2014' '7/21/2014' '7/26/2014' '7/27/2014' '7/19/2014'\n",
            " '7/30/2014' '7/16/2014' '7/31/2014' '7/20/2014' '7/25/2014' '7/29/2014'\n",
            " '7/28/2014' nan '7/7/2014' '7/18/2014' '7/13/2014' '7/17/2014'\n",
            " '7/12/2014' '7/24/2014' '7/15/2014' '7/1/2014' '7/23/2014' '7/9/2014'\n",
            " '7/8/2014' '7/14/2014' '7/5/2014' '7/4/2014' '7/11/2014' '7/6/2014'\n",
            " '7/2/2014' '7/3/2014']\n",
            "date_of_last_rech_8 : ['8/24/2014' '8/26/2014' '8/25/2014' '8/30/2014' '8/28/2014' '8/19/2014'\n",
            " '8/5/2014' '8/27/2014' '8/16/2014' '8/21/2014' '8/22/2014' '8/23/2014'\n",
            " nan '8/15/2014' '8/31/2014' '8/12/2014' '8/10/2014' '8/29/2014'\n",
            " '8/20/2014' '8/13/2014' '8/18/2014' '8/11/2014' '8/14/2014' '8/6/2014'\n",
            " '8/9/2014' '8/8/2014' '8/17/2014' '8/7/2014' '8/1/2014' '8/4/2014'\n",
            " '8/2/2014' '8/3/2014']\n",
            "sachet_2g_6 : [ 0  7  1  3 10  2  4 11  6  8  5  9 12 13 15 20 21 42 14 16 22 25 19 18\n",
            " 30 28 17 24 32 34]\n",
            "sachet_3g_6 : [ 0  3  1  2  4  7  6 16  5 11  9 10 13 17 14  8 19 18 23 22 15 29 12]\n",
            "sachet_3g_7 : [ 0  1  4  2  7  5  6  3  9 15 11  8 12 13 24 18 10 17 20 14 33 22 31 19\n",
            " 16 21]\n",
            "sachet_3g_8 : [ 0  1  6  5  2  8  3  7  4 41  9 10 11 16 29 15 13 18 12 20 23 19 14 21\n",
            " 17 30 25 38]\n"
          ]
        }
      ]
    },
    {
      "cell_type": "code",
      "source": [
        ""
      ],
      "metadata": {
        "id": "PpJFMGzyEkWL"
      },
      "execution_count": null,
      "outputs": []
    }
  ]
}